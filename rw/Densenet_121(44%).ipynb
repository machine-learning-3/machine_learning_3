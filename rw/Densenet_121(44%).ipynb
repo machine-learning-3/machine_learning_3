{
 "cells": [
  {
   "cell_type": "code",
   "execution_count": 1,
   "id": "a0752bdc",
   "metadata": {},
   "outputs": [],
   "source": [
    "import torch\n",
    "import torch.nn as nn\n",
    "import torch.nn.functional as F\n",
    "import torch.optim as optim\n",
    "from torch.utils.data import Dataset, DataLoader\n",
    "\n",
    "import torchvision\n",
    "import torchvision.datasets\n",
    "import torchvision.transforms as transforms\n",
    "\n",
    "import numpy as np\n",
    "import matplotlib.pyplot as plt\n",
    "plt.style.use('seaborn-white')\n",
    "from torchsummary import summary\n",
    "import time\n",
    "import copy\n",
    "\n",
    "import random\n",
    "\n",
    "import os"
   ]
  },
  {
   "cell_type": "code",
   "execution_count": 2,
   "id": "32b810d8",
   "metadata": {},
   "outputs": [],
   "source": [
    "from torchvision import datasets as ds\n",
    "from torch.utils.data import DataLoader\n",
    "from torchvision import transforms as ts\n",
    "import torchvision as tv\n",
    "import torch\n",
    "import torch.nn as nn\n",
    "import math\n",
    "import numpy as np\n",
    "from torch.autograd import Variable\n",
    "from torch import optim\n",
    "from matplotlib import pyplot as plt\n",
    "import torch.backends.cudnn as cudnn\n",
    "import timm\n",
    "from PIL import Image\n",
    "from tqdm import tqdm\n",
    "import random\n",
    "import os\n",
    "\n",
    "%config Completer.use_jedi = False"
   ]
  },
  {
   "cell_type": "code",
   "execution_count": 3,
   "id": "53862e22",
   "metadata": {},
   "outputs": [],
   "source": [
    "class config:\n",
    "    seed = 42\n",
    "    device = \"cuda:0\"    \n",
    "        \n",
    "    lr = 1e-3\n",
    "    epochs = 25\n",
    "    batch_size = 32\n",
    "    num_workers = 4\n",
    "    train_5_folds = True\n",
    "\n",
    "def seed_everything(seed: int = 42):\n",
    "    random.seed(seed)\n",
    "    np.random.seed(seed)\n",
    "    os.environ[\"PYTHONHASHSEED\"] = str(seed)\n",
    "    torch.manual_seed(seed)\n",
    "    torch.cuda.manual_seed(seed)  # type: ignore\n",
    "    torch.backends.cudnn.deterministic = True  # type: ignore\n",
    "    torch.backends.cudnn.benchmark = True  # type: ignore\n",
    "\n",
    "seed_everything(config.seed)"
   ]
  },
  {
   "cell_type": "code",
   "execution_count": 4,
   "id": "5cb2ba92",
   "metadata": {},
   "outputs": [
    {
     "data": {
      "text/plain": [
       "device(type='cpu')"
      ]
     },
     "execution_count": 4,
     "metadata": {},
     "output_type": "execute_result"
    }
   ],
   "source": [
    "use_cuda = torch.cuda.is_available()\n",
    "\n",
    "device = torch.device(\"cuda\" if use_cuda else \"cpu\")\n",
    "\n",
    "device"
   ]
  },
  {
   "cell_type": "code",
   "execution_count": 5,
   "id": "fd6e1f70",
   "metadata": {},
   "outputs": [],
   "source": [
    "transform  = transforms.Compose([transforms.ToTensor(),\n",
    "                                 transforms.Normalize((0.5,0.5,0.5),(0.5,0.5,0.5))])"
   ]
  },
  {
   "cell_type": "code",
   "execution_count": 6,
   "id": "6b1abfb6",
   "metadata": {},
   "outputs": [
    {
     "name": "stdout",
     "output_type": "stream",
     "text": [
      "Files already downloaded and verified\n",
      "Files already downloaded and verified\n"
     ]
    }
   ],
   "source": [
    "trainset = torchvision.datasets.CIFAR10(root='/data',\n",
    "                                        train=True,\n",
    "                                        download=True,\n",
    "                                        transform=transform)\n",
    "\n",
    "vaildset = torchvision.datasets.CIFAR10(root='/data',\n",
    "                                        train=False,\n",
    "                                        download=True,\n",
    "                                        transform=transform)"
   ]
  },
  {
   "cell_type": "code",
   "execution_count": 26,
   "id": "8acdfa8d",
   "metadata": {},
   "outputs": [],
   "source": [
    "classes = trainset.classes"
   ]
  },
  {
   "cell_type": "code",
   "execution_count": 7,
   "id": "390a3b56",
   "metadata": {},
   "outputs": [],
   "source": [
    "testset = torchvision.datasets.ImageFolder(root = \"C:/Users/fkrdn/Desktop/Statistical_Deep_Image\",\n",
    "                                           transform = transform)"
   ]
  },
  {
   "cell_type": "code",
   "execution_count": 8,
   "id": "1d6370a1",
   "metadata": {},
   "outputs": [],
   "source": [
    "train_loader = DataLoader(trainset,\n",
    "                          batch_size = 32,\n",
    "                          shuffle=True,\n",
    "                          num_workers=2)\n",
    "\n",
    "vaild_loader = DataLoader(vaildset,\n",
    "                          batch_size = 32,\n",
    "                          shuffle=True,\n",
    "                          num_workers=2)\n",
    "\n",
    "\n",
    "test_loader = DataLoader(testset,\n",
    "                          batch_size=32,\n",
    "                          shuffle=False,\n",
    "                          num_workers=2)"
   ]
  },
  {
   "cell_type": "code",
   "execution_count": 9,
   "id": "375d917a",
   "metadata": {},
   "outputs": [],
   "source": [
    "class BottleNeck(nn.Module):\n",
    "    def __init__(self, in_channels, growth_rate):\n",
    "        super().__init__()\n",
    "        inner_channels = 4 * growth_rate\n",
    "\n",
    "        self.residual = nn.Sequential(\n",
    "            nn.BatchNorm2d(in_channels),\n",
    "            nn.ReLU(),\n",
    "            nn.Conv2d(in_channels, inner_channels, 1, stride=1, padding=0, bias=False),\n",
    "            nn.BatchNorm2d(inner_channels),\n",
    "            nn.ReLU(),\n",
    "            nn.Conv2d(inner_channels, growth_rate, 3, stride=1, padding=1, bias=False)\n",
    "        )\n",
    "\n",
    "        self.shortcut = nn.Sequential()\n",
    "\n",
    "    def forward(self, x):\n",
    "        return torch.cat([self.shortcut(x), self.residual(x)], 1)"
   ]
  },
  {
   "cell_type": "code",
   "execution_count": 10,
   "id": "bb4357be",
   "metadata": {},
   "outputs": [],
   "source": [
    "class Transition(nn.Module):\n",
    "    def __init__(self, in_channels, out_channels):\n",
    "        super().__init__()\n",
    "\n",
    "        self.down_sample = nn.Sequential(\n",
    "            nn.BatchNorm2d(in_channels),\n",
    "            nn.ReLU(),\n",
    "            nn.Conv2d(in_channels, out_channels, 1, stride=1, padding=0, bias=False),\n",
    "            nn.AvgPool2d(2, stride=2)\n",
    "        )\n",
    "\n",
    "    def forward(self, x):\n",
    "        return self.down_sample(x)"
   ]
  },
  {
   "cell_type": "code",
   "execution_count": 11,
   "id": "0bcdb69b",
   "metadata": {},
   "outputs": [],
   "source": [
    "class DenseNet(nn.Module):\n",
    "    def __init__(self, nblocks, growth_rate=12, reduction=0.5, num_classes=10, init_weights=True):\n",
    "        super().__init__()\n",
    "\n",
    "        self.growth_rate = growth_rate\n",
    "        inner_channels = 2 * growth_rate # output channels of conv1 before entering Dense Block\n",
    "\n",
    "        self.conv1 = nn.Sequential(\n",
    "            nn.Conv2d(3, inner_channels, 7, stride=2, padding=3),\n",
    "            nn.MaxPool2d(3, 2, padding=1)\n",
    "        )\n",
    "\n",
    "        self.features = nn.Sequential()\n",
    "\n",
    "        for i in range(len(nblocks)-1):\n",
    "            self.features.add_module('dense_block_{}'.format(i), self._make_dense_block(nblocks[i], inner_channels))\n",
    "            inner_channels += growth_rate * nblocks[i]\n",
    "            out_channels = int(reduction * inner_channels)\n",
    "            self.features.add_module('transition_layer_{}'.format(i), Transition(inner_channels, out_channels))\n",
    "            inner_channels = out_channels \n",
    "        \n",
    "        self.features.add_module('dense_block_{}'.format(len(nblocks)-1), self._make_dense_block(nblocks[len(nblocks)-1], inner_channels))\n",
    "        inner_channels += growth_rate * nblocks[len(nblocks)-1]\n",
    "        self.features.add_module('bn', nn.BatchNorm2d(inner_channels))\n",
    "        self.features.add_module('relu', nn.ReLU())\n",
    "\n",
    "        self.avg_pool = nn.AdaptiveAvgPool2d((1,1))\n",
    "        self.linear = nn.Linear(inner_channels, num_classes)\n",
    "\n",
    "        # weight initialization\n",
    "        if init_weights:\n",
    "            self._initialize_weights()\n",
    "    \n",
    "    def forward(self, x):\n",
    "        x = self.conv1(x)\n",
    "        x = self.features(x)\n",
    "        x = self.avg_pool(x)\n",
    "        x = x.view(x.size(0), -1)\n",
    "        x = self.linear(x)\n",
    "        return x\n",
    "\n",
    "    def _make_dense_block(self, nblock, inner_channels):\n",
    "        dense_block = nn.Sequential()\n",
    "        for i in range(nblock):\n",
    "            dense_block.add_module('bottle_neck_layer_{}'.format(i), BottleNeck(inner_channels, self.growth_rate))\n",
    "            inner_channels += self.growth_rate\n",
    "        return dense_block\n",
    "\n",
    "    def _initialize_weights(self):\n",
    "        for m in self.modules():\n",
    "            if isinstance(m, nn.Conv2d):\n",
    "                nn.init.kaiming_normal_(m.weight, mode='fan_out', nonlinearity='relu')\n",
    "                if m.bias is not None:\n",
    "                    nn.init.constant_(m.bias, 0)\n",
    "            elif isinstance(m, nn.BatchNorm2d):\n",
    "                nn.init.constant_(m.weight, 1)\n",
    "                nn.init.constant_(m.bias, 0)\n",
    "            elif isinstance(m, nn.Linear):\n",
    "                nn.init.normal_(m.weight, 0, 0.01)\n",
    "                nn.init.constant_(m.bias, 0)\n",
    "\n",
    "def DenseNet_121():\n",
    "    return DenseNet([6, 12, 24, 6])"
   ]
  },
  {
   "cell_type": "code",
   "execution_count": 12,
   "id": "2b8fd7e7",
   "metadata": {},
   "outputs": [],
   "source": [
    "model = DenseNet_121()"
   ]
  },
  {
   "cell_type": "code",
   "execution_count": 13,
   "id": "f278c7cd",
   "metadata": {},
   "outputs": [
    {
     "name": "stdout",
     "output_type": "stream",
     "text": [
      "----------------------------------------------------------------\n",
      "        Layer (type)               Output Shape         Param #\n",
      "================================================================\n",
      "            Conv2d-1           [-1, 24, 16, 16]           3,552\n",
      "         MaxPool2d-2             [-1, 24, 8, 8]               0\n",
      "       BatchNorm2d-3             [-1, 24, 8, 8]              48\n",
      "              ReLU-4             [-1, 24, 8, 8]               0\n",
      "            Conv2d-5             [-1, 48, 8, 8]           1,152\n",
      "       BatchNorm2d-6             [-1, 48, 8, 8]              96\n",
      "              ReLU-7             [-1, 48, 8, 8]               0\n",
      "            Conv2d-8             [-1, 12, 8, 8]           5,184\n",
      "        BottleNeck-9             [-1, 36, 8, 8]               0\n",
      "      BatchNorm2d-10             [-1, 36, 8, 8]              72\n",
      "             ReLU-11             [-1, 36, 8, 8]               0\n",
      "           Conv2d-12             [-1, 48, 8, 8]           1,728\n",
      "      BatchNorm2d-13             [-1, 48, 8, 8]              96\n",
      "             ReLU-14             [-1, 48, 8, 8]               0\n",
      "           Conv2d-15             [-1, 12, 8, 8]           5,184\n",
      "       BottleNeck-16             [-1, 48, 8, 8]               0\n",
      "      BatchNorm2d-17             [-1, 48, 8, 8]              96\n",
      "             ReLU-18             [-1, 48, 8, 8]               0\n",
      "           Conv2d-19             [-1, 48, 8, 8]           2,304\n",
      "      BatchNorm2d-20             [-1, 48, 8, 8]              96\n",
      "             ReLU-21             [-1, 48, 8, 8]               0\n",
      "           Conv2d-22             [-1, 12, 8, 8]           5,184\n",
      "       BottleNeck-23             [-1, 60, 8, 8]               0\n",
      "      BatchNorm2d-24             [-1, 60, 8, 8]             120\n",
      "             ReLU-25             [-1, 60, 8, 8]               0\n",
      "           Conv2d-26             [-1, 48, 8, 8]           2,880\n",
      "      BatchNorm2d-27             [-1, 48, 8, 8]              96\n",
      "             ReLU-28             [-1, 48, 8, 8]               0\n",
      "           Conv2d-29             [-1, 12, 8, 8]           5,184\n",
      "       BottleNeck-30             [-1, 72, 8, 8]               0\n",
      "      BatchNorm2d-31             [-1, 72, 8, 8]             144\n",
      "             ReLU-32             [-1, 72, 8, 8]               0\n",
      "           Conv2d-33             [-1, 48, 8, 8]           3,456\n",
      "      BatchNorm2d-34             [-1, 48, 8, 8]              96\n",
      "             ReLU-35             [-1, 48, 8, 8]               0\n",
      "           Conv2d-36             [-1, 12, 8, 8]           5,184\n",
      "       BottleNeck-37             [-1, 84, 8, 8]               0\n",
      "      BatchNorm2d-38             [-1, 84, 8, 8]             168\n",
      "             ReLU-39             [-1, 84, 8, 8]               0\n",
      "           Conv2d-40             [-1, 48, 8, 8]           4,032\n",
      "      BatchNorm2d-41             [-1, 48, 8, 8]              96\n",
      "             ReLU-42             [-1, 48, 8, 8]               0\n",
      "           Conv2d-43             [-1, 12, 8, 8]           5,184\n",
      "       BottleNeck-44             [-1, 96, 8, 8]               0\n",
      "      BatchNorm2d-45             [-1, 96, 8, 8]             192\n",
      "             ReLU-46             [-1, 96, 8, 8]               0\n",
      "           Conv2d-47             [-1, 48, 8, 8]           4,608\n",
      "        AvgPool2d-48             [-1, 48, 4, 4]               0\n",
      "       Transition-49             [-1, 48, 4, 4]               0\n",
      "      BatchNorm2d-50             [-1, 48, 4, 4]              96\n",
      "             ReLU-51             [-1, 48, 4, 4]               0\n",
      "           Conv2d-52             [-1, 48, 4, 4]           2,304\n",
      "      BatchNorm2d-53             [-1, 48, 4, 4]              96\n",
      "             ReLU-54             [-1, 48, 4, 4]               0\n",
      "           Conv2d-55             [-1, 12, 4, 4]           5,184\n",
      "       BottleNeck-56             [-1, 60, 4, 4]               0\n",
      "      BatchNorm2d-57             [-1, 60, 4, 4]             120\n",
      "             ReLU-58             [-1, 60, 4, 4]               0\n",
      "           Conv2d-59             [-1, 48, 4, 4]           2,880\n",
      "      BatchNorm2d-60             [-1, 48, 4, 4]              96\n",
      "             ReLU-61             [-1, 48, 4, 4]               0\n",
      "           Conv2d-62             [-1, 12, 4, 4]           5,184\n",
      "       BottleNeck-63             [-1, 72, 4, 4]               0\n",
      "      BatchNorm2d-64             [-1, 72, 4, 4]             144\n",
      "             ReLU-65             [-1, 72, 4, 4]               0\n",
      "           Conv2d-66             [-1, 48, 4, 4]           3,456\n",
      "      BatchNorm2d-67             [-1, 48, 4, 4]              96\n",
      "             ReLU-68             [-1, 48, 4, 4]               0\n",
      "           Conv2d-69             [-1, 12, 4, 4]           5,184\n",
      "       BottleNeck-70             [-1, 84, 4, 4]               0\n",
      "      BatchNorm2d-71             [-1, 84, 4, 4]             168\n",
      "             ReLU-72             [-1, 84, 4, 4]               0\n",
      "           Conv2d-73             [-1, 48, 4, 4]           4,032\n",
      "      BatchNorm2d-74             [-1, 48, 4, 4]              96\n",
      "             ReLU-75             [-1, 48, 4, 4]               0\n",
      "           Conv2d-76             [-1, 12, 4, 4]           5,184\n",
      "       BottleNeck-77             [-1, 96, 4, 4]               0\n",
      "      BatchNorm2d-78             [-1, 96, 4, 4]             192\n",
      "             ReLU-79             [-1, 96, 4, 4]               0\n",
      "           Conv2d-80             [-1, 48, 4, 4]           4,608\n",
      "      BatchNorm2d-81             [-1, 48, 4, 4]              96\n",
      "             ReLU-82             [-1, 48, 4, 4]               0\n",
      "           Conv2d-83             [-1, 12, 4, 4]           5,184\n",
      "       BottleNeck-84            [-1, 108, 4, 4]               0\n",
      "      BatchNorm2d-85            [-1, 108, 4, 4]             216\n",
      "             ReLU-86            [-1, 108, 4, 4]               0\n",
      "           Conv2d-87             [-1, 48, 4, 4]           5,184\n",
      "      BatchNorm2d-88             [-1, 48, 4, 4]              96\n",
      "             ReLU-89             [-1, 48, 4, 4]               0\n",
      "           Conv2d-90             [-1, 12, 4, 4]           5,184\n",
      "       BottleNeck-91            [-1, 120, 4, 4]               0\n",
      "      BatchNorm2d-92            [-1, 120, 4, 4]             240\n",
      "             ReLU-93            [-1, 120, 4, 4]               0\n",
      "           Conv2d-94             [-1, 48, 4, 4]           5,760\n",
      "      BatchNorm2d-95             [-1, 48, 4, 4]              96\n",
      "             ReLU-96             [-1, 48, 4, 4]               0\n",
      "           Conv2d-97             [-1, 12, 4, 4]           5,184\n",
      "       BottleNeck-98            [-1, 132, 4, 4]               0\n",
      "      BatchNorm2d-99            [-1, 132, 4, 4]             264\n",
      "            ReLU-100            [-1, 132, 4, 4]               0\n",
      "          Conv2d-101             [-1, 48, 4, 4]           6,336\n",
      "     BatchNorm2d-102             [-1, 48, 4, 4]              96\n",
      "            ReLU-103             [-1, 48, 4, 4]               0\n",
      "          Conv2d-104             [-1, 12, 4, 4]           5,184\n",
      "      BottleNeck-105            [-1, 144, 4, 4]               0\n",
      "     BatchNorm2d-106            [-1, 144, 4, 4]             288\n",
      "            ReLU-107            [-1, 144, 4, 4]               0\n",
      "          Conv2d-108             [-1, 48, 4, 4]           6,912\n",
      "     BatchNorm2d-109             [-1, 48, 4, 4]              96\n",
      "            ReLU-110             [-1, 48, 4, 4]               0\n",
      "          Conv2d-111             [-1, 12, 4, 4]           5,184\n",
      "      BottleNeck-112            [-1, 156, 4, 4]               0\n",
      "     BatchNorm2d-113            [-1, 156, 4, 4]             312\n",
      "            ReLU-114            [-1, 156, 4, 4]               0\n",
      "          Conv2d-115             [-1, 48, 4, 4]           7,488\n",
      "     BatchNorm2d-116             [-1, 48, 4, 4]              96\n",
      "            ReLU-117             [-1, 48, 4, 4]               0\n",
      "          Conv2d-118             [-1, 12, 4, 4]           5,184\n",
      "      BottleNeck-119            [-1, 168, 4, 4]               0\n",
      "     BatchNorm2d-120            [-1, 168, 4, 4]             336\n",
      "            ReLU-121            [-1, 168, 4, 4]               0\n",
      "          Conv2d-122             [-1, 48, 4, 4]           8,064\n",
      "     BatchNorm2d-123             [-1, 48, 4, 4]              96\n",
      "            ReLU-124             [-1, 48, 4, 4]               0\n",
      "          Conv2d-125             [-1, 12, 4, 4]           5,184\n",
      "      BottleNeck-126            [-1, 180, 4, 4]               0\n",
      "     BatchNorm2d-127            [-1, 180, 4, 4]             360\n",
      "            ReLU-128            [-1, 180, 4, 4]               0\n",
      "          Conv2d-129             [-1, 48, 4, 4]           8,640\n",
      "     BatchNorm2d-130             [-1, 48, 4, 4]              96\n",
      "            ReLU-131             [-1, 48, 4, 4]               0\n",
      "          Conv2d-132             [-1, 12, 4, 4]           5,184\n",
      "      BottleNeck-133            [-1, 192, 4, 4]               0\n",
      "     BatchNorm2d-134            [-1, 192, 4, 4]             384\n",
      "            ReLU-135            [-1, 192, 4, 4]               0\n",
      "          Conv2d-136             [-1, 96, 4, 4]          18,432\n",
      "       AvgPool2d-137             [-1, 96, 2, 2]               0\n",
      "      Transition-138             [-1, 96, 2, 2]               0\n",
      "     BatchNorm2d-139             [-1, 96, 2, 2]             192\n",
      "            ReLU-140             [-1, 96, 2, 2]               0\n",
      "          Conv2d-141             [-1, 48, 2, 2]           4,608\n",
      "     BatchNorm2d-142             [-1, 48, 2, 2]              96\n",
      "            ReLU-143             [-1, 48, 2, 2]               0\n",
      "          Conv2d-144             [-1, 12, 2, 2]           5,184\n",
      "      BottleNeck-145            [-1, 108, 2, 2]               0\n",
      "     BatchNorm2d-146            [-1, 108, 2, 2]             216\n",
      "            ReLU-147            [-1, 108, 2, 2]               0\n",
      "          Conv2d-148             [-1, 48, 2, 2]           5,184\n",
      "     BatchNorm2d-149             [-1, 48, 2, 2]              96\n",
      "            ReLU-150             [-1, 48, 2, 2]               0\n",
      "          Conv2d-151             [-1, 12, 2, 2]           5,184\n",
      "      BottleNeck-152            [-1, 120, 2, 2]               0\n",
      "     BatchNorm2d-153            [-1, 120, 2, 2]             240\n",
      "            ReLU-154            [-1, 120, 2, 2]               0\n",
      "          Conv2d-155             [-1, 48, 2, 2]           5,760\n",
      "     BatchNorm2d-156             [-1, 48, 2, 2]              96\n",
      "            ReLU-157             [-1, 48, 2, 2]               0\n",
      "          Conv2d-158             [-1, 12, 2, 2]           5,184\n",
      "      BottleNeck-159            [-1, 132, 2, 2]               0\n",
      "     BatchNorm2d-160            [-1, 132, 2, 2]             264\n",
      "            ReLU-161            [-1, 132, 2, 2]               0\n",
      "          Conv2d-162             [-1, 48, 2, 2]           6,336\n",
      "     BatchNorm2d-163             [-1, 48, 2, 2]              96\n",
      "            ReLU-164             [-1, 48, 2, 2]               0\n",
      "          Conv2d-165             [-1, 12, 2, 2]           5,184\n",
      "      BottleNeck-166            [-1, 144, 2, 2]               0\n",
      "     BatchNorm2d-167            [-1, 144, 2, 2]             288\n",
      "            ReLU-168            [-1, 144, 2, 2]               0\n",
      "          Conv2d-169             [-1, 48, 2, 2]           6,912\n",
      "     BatchNorm2d-170             [-1, 48, 2, 2]              96\n",
      "            ReLU-171             [-1, 48, 2, 2]               0\n",
      "          Conv2d-172             [-1, 12, 2, 2]           5,184\n",
      "      BottleNeck-173            [-1, 156, 2, 2]               0\n",
      "     BatchNorm2d-174            [-1, 156, 2, 2]             312\n",
      "            ReLU-175            [-1, 156, 2, 2]               0\n",
      "          Conv2d-176             [-1, 48, 2, 2]           7,488\n",
      "     BatchNorm2d-177             [-1, 48, 2, 2]              96\n",
      "            ReLU-178             [-1, 48, 2, 2]               0\n",
      "          Conv2d-179             [-1, 12, 2, 2]           5,184\n",
      "      BottleNeck-180            [-1, 168, 2, 2]               0\n",
      "     BatchNorm2d-181            [-1, 168, 2, 2]             336\n",
      "            ReLU-182            [-1, 168, 2, 2]               0\n",
      "          Conv2d-183             [-1, 48, 2, 2]           8,064\n",
      "     BatchNorm2d-184             [-1, 48, 2, 2]              96\n",
      "            ReLU-185             [-1, 48, 2, 2]               0\n",
      "          Conv2d-186             [-1, 12, 2, 2]           5,184\n",
      "      BottleNeck-187            [-1, 180, 2, 2]               0\n",
      "     BatchNorm2d-188            [-1, 180, 2, 2]             360\n",
      "            ReLU-189            [-1, 180, 2, 2]               0\n",
      "          Conv2d-190             [-1, 48, 2, 2]           8,640\n",
      "     BatchNorm2d-191             [-1, 48, 2, 2]              96\n",
      "            ReLU-192             [-1, 48, 2, 2]               0\n",
      "          Conv2d-193             [-1, 12, 2, 2]           5,184\n",
      "      BottleNeck-194            [-1, 192, 2, 2]               0\n",
      "     BatchNorm2d-195            [-1, 192, 2, 2]             384\n",
      "            ReLU-196            [-1, 192, 2, 2]               0\n",
      "          Conv2d-197             [-1, 48, 2, 2]           9,216\n",
      "     BatchNorm2d-198             [-1, 48, 2, 2]              96\n",
      "            ReLU-199             [-1, 48, 2, 2]               0\n",
      "          Conv2d-200             [-1, 12, 2, 2]           5,184\n",
      "      BottleNeck-201            [-1, 204, 2, 2]               0\n",
      "     BatchNorm2d-202            [-1, 204, 2, 2]             408\n",
      "            ReLU-203            [-1, 204, 2, 2]               0\n",
      "          Conv2d-204             [-1, 48, 2, 2]           9,792\n",
      "     BatchNorm2d-205             [-1, 48, 2, 2]              96\n",
      "            ReLU-206             [-1, 48, 2, 2]               0\n",
      "          Conv2d-207             [-1, 12, 2, 2]           5,184\n",
      "      BottleNeck-208            [-1, 216, 2, 2]               0\n",
      "     BatchNorm2d-209            [-1, 216, 2, 2]             432\n",
      "            ReLU-210            [-1, 216, 2, 2]               0\n",
      "          Conv2d-211             [-1, 48, 2, 2]          10,368\n",
      "     BatchNorm2d-212             [-1, 48, 2, 2]              96\n",
      "            ReLU-213             [-1, 48, 2, 2]               0\n",
      "          Conv2d-214             [-1, 12, 2, 2]           5,184\n",
      "      BottleNeck-215            [-1, 228, 2, 2]               0\n",
      "     BatchNorm2d-216            [-1, 228, 2, 2]             456\n",
      "            ReLU-217            [-1, 228, 2, 2]               0\n",
      "          Conv2d-218             [-1, 48, 2, 2]          10,944\n",
      "     BatchNorm2d-219             [-1, 48, 2, 2]              96\n",
      "            ReLU-220             [-1, 48, 2, 2]               0\n",
      "          Conv2d-221             [-1, 12, 2, 2]           5,184\n",
      "      BottleNeck-222            [-1, 240, 2, 2]               0\n",
      "     BatchNorm2d-223            [-1, 240, 2, 2]             480\n",
      "            ReLU-224            [-1, 240, 2, 2]               0\n",
      "          Conv2d-225             [-1, 48, 2, 2]          11,520\n",
      "     BatchNorm2d-226             [-1, 48, 2, 2]              96\n",
      "            ReLU-227             [-1, 48, 2, 2]               0\n",
      "          Conv2d-228             [-1, 12, 2, 2]           5,184\n",
      "      BottleNeck-229            [-1, 252, 2, 2]               0\n",
      "     BatchNorm2d-230            [-1, 252, 2, 2]             504\n",
      "            ReLU-231            [-1, 252, 2, 2]               0\n",
      "          Conv2d-232             [-1, 48, 2, 2]          12,096\n",
      "     BatchNorm2d-233             [-1, 48, 2, 2]              96\n",
      "            ReLU-234             [-1, 48, 2, 2]               0\n",
      "          Conv2d-235             [-1, 12, 2, 2]           5,184\n",
      "      BottleNeck-236            [-1, 264, 2, 2]               0\n",
      "     BatchNorm2d-237            [-1, 264, 2, 2]             528\n",
      "            ReLU-238            [-1, 264, 2, 2]               0\n",
      "          Conv2d-239             [-1, 48, 2, 2]          12,672\n",
      "     BatchNorm2d-240             [-1, 48, 2, 2]              96\n",
      "            ReLU-241             [-1, 48, 2, 2]               0\n",
      "          Conv2d-242             [-1, 12, 2, 2]           5,184\n",
      "      BottleNeck-243            [-1, 276, 2, 2]               0\n",
      "     BatchNorm2d-244            [-1, 276, 2, 2]             552\n",
      "            ReLU-245            [-1, 276, 2, 2]               0\n",
      "          Conv2d-246             [-1, 48, 2, 2]          13,248\n",
      "     BatchNorm2d-247             [-1, 48, 2, 2]              96\n",
      "            ReLU-248             [-1, 48, 2, 2]               0\n",
      "          Conv2d-249             [-1, 12, 2, 2]           5,184\n",
      "      BottleNeck-250            [-1, 288, 2, 2]               0\n",
      "     BatchNorm2d-251            [-1, 288, 2, 2]             576\n",
      "            ReLU-252            [-1, 288, 2, 2]               0\n",
      "          Conv2d-253             [-1, 48, 2, 2]          13,824\n",
      "     BatchNorm2d-254             [-1, 48, 2, 2]              96\n",
      "            ReLU-255             [-1, 48, 2, 2]               0\n",
      "          Conv2d-256             [-1, 12, 2, 2]           5,184\n",
      "      BottleNeck-257            [-1, 300, 2, 2]               0\n",
      "     BatchNorm2d-258            [-1, 300, 2, 2]             600\n",
      "            ReLU-259            [-1, 300, 2, 2]               0\n",
      "          Conv2d-260             [-1, 48, 2, 2]          14,400\n",
      "     BatchNorm2d-261             [-1, 48, 2, 2]              96\n",
      "            ReLU-262             [-1, 48, 2, 2]               0\n",
      "          Conv2d-263             [-1, 12, 2, 2]           5,184\n",
      "      BottleNeck-264            [-1, 312, 2, 2]               0\n",
      "     BatchNorm2d-265            [-1, 312, 2, 2]             624\n",
      "            ReLU-266            [-1, 312, 2, 2]               0\n",
      "          Conv2d-267             [-1, 48, 2, 2]          14,976\n",
      "     BatchNorm2d-268             [-1, 48, 2, 2]              96\n",
      "            ReLU-269             [-1, 48, 2, 2]               0\n",
      "          Conv2d-270             [-1, 12, 2, 2]           5,184\n",
      "      BottleNeck-271            [-1, 324, 2, 2]               0\n",
      "     BatchNorm2d-272            [-1, 324, 2, 2]             648\n",
      "            ReLU-273            [-1, 324, 2, 2]               0\n",
      "          Conv2d-274             [-1, 48, 2, 2]          15,552\n",
      "     BatchNorm2d-275             [-1, 48, 2, 2]              96\n",
      "            ReLU-276             [-1, 48, 2, 2]               0\n",
      "          Conv2d-277             [-1, 12, 2, 2]           5,184\n",
      "      BottleNeck-278            [-1, 336, 2, 2]               0\n",
      "     BatchNorm2d-279            [-1, 336, 2, 2]             672\n",
      "            ReLU-280            [-1, 336, 2, 2]               0\n",
      "          Conv2d-281             [-1, 48, 2, 2]          16,128\n",
      "     BatchNorm2d-282             [-1, 48, 2, 2]              96\n",
      "            ReLU-283             [-1, 48, 2, 2]               0\n",
      "          Conv2d-284             [-1, 12, 2, 2]           5,184\n",
      "      BottleNeck-285            [-1, 348, 2, 2]               0\n",
      "     BatchNorm2d-286            [-1, 348, 2, 2]             696\n",
      "            ReLU-287            [-1, 348, 2, 2]               0\n",
      "          Conv2d-288             [-1, 48, 2, 2]          16,704\n",
      "     BatchNorm2d-289             [-1, 48, 2, 2]              96\n",
      "            ReLU-290             [-1, 48, 2, 2]               0\n",
      "          Conv2d-291             [-1, 12, 2, 2]           5,184\n",
      "      BottleNeck-292            [-1, 360, 2, 2]               0\n",
      "     BatchNorm2d-293            [-1, 360, 2, 2]             720\n",
      "            ReLU-294            [-1, 360, 2, 2]               0\n",
      "          Conv2d-295             [-1, 48, 2, 2]          17,280\n",
      "     BatchNorm2d-296             [-1, 48, 2, 2]              96\n",
      "            ReLU-297             [-1, 48, 2, 2]               0\n",
      "          Conv2d-298             [-1, 12, 2, 2]           5,184\n",
      "      BottleNeck-299            [-1, 372, 2, 2]               0\n",
      "     BatchNorm2d-300            [-1, 372, 2, 2]             744\n",
      "            ReLU-301            [-1, 372, 2, 2]               0\n",
      "          Conv2d-302             [-1, 48, 2, 2]          17,856\n",
      "     BatchNorm2d-303             [-1, 48, 2, 2]              96\n",
      "            ReLU-304             [-1, 48, 2, 2]               0\n",
      "          Conv2d-305             [-1, 12, 2, 2]           5,184\n",
      "      BottleNeck-306            [-1, 384, 2, 2]               0\n",
      "     BatchNorm2d-307            [-1, 384, 2, 2]             768\n",
      "            ReLU-308            [-1, 384, 2, 2]               0\n",
      "          Conv2d-309            [-1, 192, 2, 2]          73,728\n",
      "       AvgPool2d-310            [-1, 192, 1, 1]               0\n",
      "      Transition-311            [-1, 192, 1, 1]               0\n",
      "     BatchNorm2d-312            [-1, 192, 1, 1]             384\n",
      "            ReLU-313            [-1, 192, 1, 1]               0\n",
      "          Conv2d-314             [-1, 48, 1, 1]           9,216\n",
      "     BatchNorm2d-315             [-1, 48, 1, 1]              96\n",
      "            ReLU-316             [-1, 48, 1, 1]               0\n",
      "          Conv2d-317             [-1, 12, 1, 1]           5,184\n",
      "      BottleNeck-318            [-1, 204, 1, 1]               0\n",
      "     BatchNorm2d-319            [-1, 204, 1, 1]             408\n",
      "            ReLU-320            [-1, 204, 1, 1]               0\n",
      "          Conv2d-321             [-1, 48, 1, 1]           9,792\n",
      "     BatchNorm2d-322             [-1, 48, 1, 1]              96\n",
      "            ReLU-323             [-1, 48, 1, 1]               0\n",
      "          Conv2d-324             [-1, 12, 1, 1]           5,184\n",
      "      BottleNeck-325            [-1, 216, 1, 1]               0\n",
      "     BatchNorm2d-326            [-1, 216, 1, 1]             432\n",
      "            ReLU-327            [-1, 216, 1, 1]               0\n",
      "          Conv2d-328             [-1, 48, 1, 1]          10,368\n",
      "     BatchNorm2d-329             [-1, 48, 1, 1]              96\n",
      "            ReLU-330             [-1, 48, 1, 1]               0\n",
      "          Conv2d-331             [-1, 12, 1, 1]           5,184\n",
      "      BottleNeck-332            [-1, 228, 1, 1]               0\n",
      "     BatchNorm2d-333            [-1, 228, 1, 1]             456\n",
      "            ReLU-334            [-1, 228, 1, 1]               0\n",
      "          Conv2d-335             [-1, 48, 1, 1]          10,944\n",
      "     BatchNorm2d-336             [-1, 48, 1, 1]              96\n",
      "            ReLU-337             [-1, 48, 1, 1]               0\n",
      "          Conv2d-338             [-1, 12, 1, 1]           5,184\n",
      "      BottleNeck-339            [-1, 240, 1, 1]               0\n",
      "     BatchNorm2d-340            [-1, 240, 1, 1]             480\n",
      "            ReLU-341            [-1, 240, 1, 1]               0\n",
      "          Conv2d-342             [-1, 48, 1, 1]          11,520\n",
      "     BatchNorm2d-343             [-1, 48, 1, 1]              96\n",
      "            ReLU-344             [-1, 48, 1, 1]               0\n",
      "          Conv2d-345             [-1, 12, 1, 1]           5,184\n",
      "      BottleNeck-346            [-1, 252, 1, 1]               0\n",
      "     BatchNorm2d-347            [-1, 252, 1, 1]             504\n",
      "            ReLU-348            [-1, 252, 1, 1]               0\n",
      "          Conv2d-349             [-1, 48, 1, 1]          12,096\n",
      "     BatchNorm2d-350             [-1, 48, 1, 1]              96\n",
      "            ReLU-351             [-1, 48, 1, 1]               0\n",
      "          Conv2d-352             [-1, 12, 1, 1]           5,184\n",
      "      BottleNeck-353            [-1, 264, 1, 1]               0\n",
      "     BatchNorm2d-354            [-1, 264, 1, 1]             528\n",
      "            ReLU-355            [-1, 264, 1, 1]               0\n",
      "AdaptiveAvgPool2d-356            [-1, 264, 1, 1]               0\n",
      "          Linear-357                   [-1, 10]           2,650\n",
      "================================================================\n",
      "Total params: 790,282\n",
      "Trainable params: 790,282\n",
      "Non-trainable params: 0\n",
      "----------------------------------------------------------------\n",
      "Input size (MB): 0.01\n",
      "Forward/backward pass size (MB): 2.68\n",
      "Params size (MB): 3.01\n",
      "Estimated Total Size (MB): 5.71\n",
      "----------------------------------------------------------------\n"
     ]
    }
   ],
   "source": [
    "device = torch.device('cuda' if torch.cuda.is_available() else 'cpu')\n",
    "summary(model, (3, 32, 32), device=device.type)"
   ]
  },
  {
   "cell_type": "code",
   "execution_count": 14,
   "id": "4daec7e8",
   "metadata": {},
   "outputs": [],
   "source": [
    "loss_func = nn.CrossEntropyLoss(reduction='sum')\n",
    "opt = optim.Adam(model.parameters(), lr=0.01)\n",
    "\n",
    "from torch.optim.lr_scheduler import ReduceLROnPlateau\n",
    "lr_scheduler = ReduceLROnPlateau(opt, mode='min', factor=0.1, patience=8)\n",
    "\n",
    "\n",
    "# get current lr\n",
    "def get_lr(opt):\n",
    "    for param_group in opt.param_groups:\n",
    "        return param_group['lr']\n",
    "\n",
    "\n",
    "# calculate the metric per mini-batch\n",
    "def metric_batch(output, target):\n",
    "    pred = output.argmax(1, keepdim=True)\n",
    "    corrects = pred.eq(target.view_as(pred)).sum().item()\n",
    "    return corrects\n",
    "\n",
    "\n",
    "# calculate the loss per mini-batch\n",
    "def loss_batch(loss_func, output, target, opt=None):\n",
    "    loss_b = loss_func(output, target)\n",
    "    metric_b = metric_batch(output, target)\n",
    "\n",
    "    if opt is not None:\n",
    "        opt.zero_grad()\n",
    "        loss_b.backward()\n",
    "        opt.step()\n",
    "    \n",
    "    return loss_b.item(), metric_b\n",
    "\n",
    "\n",
    "# calculate the loss per epochs\n",
    "def loss_epoch(model, loss_func, dataset_dl, sanity_check=False, opt=None):\n",
    "    running_loss = 0.0\n",
    "    running_metric = 0.0\n",
    "    len_data = len(dataset_dl.dataset)\n",
    "\n",
    "    for xb, yb in dataset_dl:\n",
    "        xb = xb.to(device)\n",
    "        yb = yb.to(device)\n",
    "        output = model(xb)\n",
    "\n",
    "        loss_b, metric_b = loss_batch(loss_func, output, yb, opt)\n",
    "\n",
    "        running_loss += loss_b\n",
    "        \n",
    "        if metric_b is not None:\n",
    "            running_metric += metric_b\n",
    "\n",
    "        if sanity_check is True:\n",
    "            break\n",
    "\n",
    "    loss = running_loss / len_data\n",
    "    metric = running_metric / len_data\n",
    "    return loss, metric\n",
    "\n",
    "\n",
    "# function to start training\n",
    "def train_val(model, params):\n",
    "    num_epochs=params['num_epochs']\n",
    "    loss_func=params['loss_func']\n",
    "    opt=params['optimizer']\n",
    "    train_dl=params['train_dl']\n",
    "    val_dl=params['val_dl']\n",
    "    sanity_check=params['sanity_check']\n",
    "    lr_scheduler=params['lr_scheduler']\n",
    "    path2weights=params['path2weights']\n",
    "\n",
    "    loss_history = {'train': [], 'val': []}\n",
    "    metric_history = {'train': [], 'val': []}\n",
    "\n",
    "    best_loss = float('inf')\n",
    "    best_model_wts = copy.deepcopy(model.state_dict())\n",
    "    start_time = time.time()\n",
    "\n",
    "    for epoch in range(num_epochs):\n",
    "        current_lr = get_lr(opt)\n",
    "        print('Epoch {}/{}, current lr= {}'.format(epoch, num_epochs-1, current_lr))\n",
    "\n",
    "        model.train()\n",
    "        train_loss, train_metric = loss_epoch(model, loss_func, train_dl, sanity_check, opt)\n",
    "        loss_history['train'].append(train_loss)\n",
    "        metric_history['train'].append(train_metric)\n",
    "\n",
    "        model.eval()\n",
    "        with torch.no_grad():\n",
    "            val_loss, val_metric = loss_epoch(model, loss_func, val_dl, sanity_check)\n",
    "        loss_history['val'].append(val_loss)\n",
    "        metric_history['val'].append(val_metric)\n",
    "\n",
    "        if val_loss < best_loss:\n",
    "            best_loss = val_loss\n",
    "            best_model_wts = copy.deepcopy(model.state_dict())\n",
    "            torch.save(model.state_dict(), path2weights)\n",
    "            print('Copied best model weights!')\n",
    "\n",
    "        lr_scheduler.step(val_loss)\n",
    "        if current_lr != get_lr(opt):\n",
    "            print('Loading best model weights!')\n",
    "            model.load_state_dict(best_model_wts)\n",
    "\n",
    "        print('train loss: %.6f, val loss: %.6f, accuracy: %.2f, time: %.4f min' %(train_loss, val_loss, 100*val_metric, (time.time()-start_time)/60))\n",
    "        print('-'*10)\n",
    "\n",
    "    model.load_state_dict(best_model_wts)\n",
    "    return model, loss_history, metric_history"
   ]
  },
  {
   "cell_type": "code",
   "execution_count": 42,
   "id": "52e28a1f",
   "metadata": {},
   "outputs": [],
   "source": [
    "params_train = {\n",
    "    'num_epochs':50,\n",
    "    'optimizer':opt,\n",
    "    'loss_func':loss_func,\n",
    "    'train_dl':train_loader,\n",
    "    'val_dl':vaild_loader,\n",
    "    'sanity_check':False,\n",
    "    'lr_scheduler':lr_scheduler,\n",
    "    'path2weights':'./models_densenet/weights.pt',\n",
    "}\n",
    "\n",
    "# check the directory to save weights.pt\n",
    "def createFolder(directory):\n",
    "    try:\n",
    "        if not os.path.exists(directory):\n",
    "            os.makedirs(directory)\n",
    "    except OSerror:\n",
    "        print('Error')\n",
    "createFolder('./models_densenet')"
   ]
  },
  {
   "cell_type": "code",
   "execution_count": 43,
   "id": "6eded65a",
   "metadata": {},
   "outputs": [
    {
     "name": "stdout",
     "output_type": "stream",
     "text": [
      "Epoch 0/49, current lr= 0.01\n",
      "Copied best model weights!\n",
      "train loss: 0.453383, val loss: 0.750662, accuracy: 75.70, time: 3.1644 min\n",
      "----------\n",
      "Epoch 1/49, current lr= 0.01\n",
      "train loss: 0.432919, val loss: 0.780257, accuracy: 75.32, time: 6.3606 min\n",
      "----------\n",
      "Epoch 2/49, current lr= 0.01\n",
      "train loss: 0.409731, val loss: 0.796973, accuracy: 75.08, time: 9.5615 min\n",
      "----------\n",
      "Epoch 3/49, current lr= 0.01\n",
      "train loss: 0.389730, val loss: 0.758841, accuracy: 76.19, time: 12.8552 min\n",
      "----------\n",
      "Epoch 4/49, current lr= 0.01\n",
      "train loss: 0.368250, val loss: 0.803091, accuracy: 75.79, time: 16.1926 min\n",
      "----------\n",
      "Epoch 5/49, current lr= 0.01\n",
      "train loss: 0.344235, val loss: 0.825808, accuracy: 74.88, time: 19.5780 min\n",
      "----------\n",
      "Epoch 6/49, current lr= 0.01\n",
      "train loss: 0.326554, val loss: 0.826921, accuracy: 75.51, time: 23.0053 min\n",
      "----------\n",
      "Epoch 7/49, current lr= 0.01\n",
      "train loss: 0.312851, val loss: 0.830108, accuracy: 75.79, time: 26.4422 min\n",
      "----------\n",
      "Epoch 8/49, current lr= 0.01\n",
      "train loss: 0.295555, val loss: 0.838689, accuracy: 75.82, time: 29.8737 min\n",
      "----------\n",
      "Epoch 9/49, current lr= 0.01\n",
      "Loading best model weights!\n",
      "train loss: 0.280264, val loss: 0.797654, accuracy: 76.66, time: 33.2944 min\n",
      "----------\n",
      "Epoch 10/49, current lr= 0.001\n",
      "Copied best model weights!\n",
      "train loss: 0.293853, val loss: 0.735870, accuracy: 77.98, time: 36.7318 min\n",
      "----------\n",
      "Epoch 11/49, current lr= 0.001\n",
      "train loss: 0.236556, val loss: 0.772797, accuracy: 77.88, time: 40.1647 min\n",
      "----------\n",
      "Epoch 12/49, current lr= 0.001\n",
      "train loss: 0.202835, val loss: 0.807385, accuracy: 77.87, time: 43.5697 min\n",
      "----------\n",
      "Epoch 13/49, current lr= 0.001\n",
      "train loss: 0.179011, val loss: 0.860915, accuracy: 77.86, time: 46.9768 min\n",
      "----------\n",
      "Epoch 14/49, current lr= 0.001\n",
      "train loss: 0.163648, val loss: 0.905724, accuracy: 77.51, time: 50.4004 min\n",
      "----------\n",
      "Epoch 15/49, current lr= 0.001\n",
      "train loss: 0.147098, val loss: 0.950521, accuracy: 77.29, time: 53.8250 min\n",
      "----------\n",
      "Epoch 16/49, current lr= 0.001\n",
      "train loss: 0.135161, val loss: 0.990433, accuracy: 77.23, time: 57.2329 min\n",
      "----------\n",
      "Epoch 17/49, current lr= 0.001\n",
      "train loss: 0.122596, val loss: 1.026429, accuracy: 76.88, time: 60.6768 min\n",
      "----------\n",
      "Epoch 18/49, current lr= 0.001\n",
      "train loss: 0.110522, val loss: 1.096836, accuracy: 77.04, time: 64.0983 min\n",
      "----------\n",
      "Epoch 19/49, current lr= 0.001\n",
      "Loading best model weights!\n",
      "train loss: 0.106281, val loss: 1.123760, accuracy: 77.23, time: 67.5166 min\n",
      "----------\n",
      "Epoch 20/49, current lr= 0.0001\n",
      "train loss: 0.230134, val loss: 0.741005, accuracy: 78.13, time: 70.9205 min\n",
      "----------\n",
      "Epoch 21/49, current lr= 0.0001\n",
      "train loss: 0.222793, val loss: 0.749075, accuracy: 78.16, time: 74.3247 min\n",
      "----------\n",
      "Epoch 22/49, current lr= 0.0001\n",
      "train loss: 0.219335, val loss: 0.756677, accuracy: 78.00, time: 77.7498 min\n",
      "----------\n",
      "Epoch 23/49, current lr= 0.0001\n",
      "train loss: 0.213362, val loss: 0.772441, accuracy: 77.74, time: 81.1499 min\n",
      "----------\n",
      "Epoch 24/49, current lr= 0.0001\n",
      "train loss: 0.209125, val loss: 0.765631, accuracy: 78.24, time: 84.5543 min\n",
      "----------\n",
      "Epoch 25/49, current lr= 0.0001\n",
      "train loss: 0.205474, val loss: 0.775397, accuracy: 77.99, time: 87.9823 min\n",
      "----------\n",
      "Epoch 26/49, current lr= 0.0001\n",
      "train loss: 0.201931, val loss: 0.785059, accuracy: 78.10, time: 91.3735 min\n",
      "----------\n",
      "Epoch 27/49, current lr= 0.0001\n",
      "train loss: 0.199491, val loss: 0.781372, accuracy: 78.01, time: 94.7710 min\n",
      "----------\n",
      "Epoch 28/49, current lr= 0.0001\n",
      "Loading best model weights!\n",
      "train loss: 0.194808, val loss: 0.794671, accuracy: 77.91, time: 98.1786 min\n",
      "----------\n",
      "Epoch 29/49, current lr= 1e-05\n",
      "Copied best model weights!\n",
      "train loss: 0.233340, val loss: 0.735039, accuracy: 78.04, time: 101.5650 min\n",
      "----------\n",
      "Epoch 30/49, current lr= 1e-05\n",
      "Copied best model weights!\n",
      "train loss: 0.236539, val loss: 0.732115, accuracy: 77.92, time: 104.9493 min\n",
      "----------\n",
      "Epoch 31/49, current lr= 1e-05\n",
      "Copied best model weights!\n",
      "train loss: 0.231874, val loss: 0.730802, accuracy: 78.27, time: 108.3584 min\n",
      "----------\n",
      "Epoch 32/49, current lr= 1e-05\n",
      "Copied best model weights!\n",
      "train loss: 0.230762, val loss: 0.729215, accuracy: 78.12, time: 111.7640 min\n",
      "----------\n",
      "Epoch 33/49, current lr= 1e-05\n",
      "train loss: 0.230224, val loss: 0.735765, accuracy: 78.20, time: 115.1641 min\n",
      "----------\n",
      "Epoch 34/49, current lr= 1e-05\n",
      "Copied best model weights!\n",
      "train loss: 0.225776, val loss: 0.723504, accuracy: 78.23, time: 118.5716 min\n",
      "----------\n",
      "Epoch 35/49, current lr= 1e-05\n",
      "train loss: 0.226659, val loss: 0.727324, accuracy: 78.15, time: 121.9839 min\n",
      "----------\n",
      "Epoch 36/49, current lr= 1e-05\n",
      "train loss: 0.227210, val loss: 0.736528, accuracy: 78.16, time: 125.4085 min\n",
      "----------\n",
      "Epoch 37/49, current lr= 1e-05\n",
      "train loss: 0.224337, val loss: 0.729578, accuracy: 78.23, time: 128.8418 min\n",
      "----------\n",
      "Epoch 38/49, current lr= 1e-05\n",
      "train loss: 0.224475, val loss: 0.747729, accuracy: 78.01, time: 132.2642 min\n",
      "----------\n",
      "Epoch 39/49, current lr= 1e-05\n",
      "train loss: 0.225722, val loss: 0.736847, accuracy: 78.10, time: 135.6955 min\n",
      "----------\n",
      "Epoch 40/49, current lr= 1e-05\n",
      "train loss: 0.225285, val loss: 0.738241, accuracy: 78.19, time: 139.1379 min\n",
      "----------\n",
      "Epoch 41/49, current lr= 1e-05\n",
      "train loss: 0.223606, val loss: 0.738988, accuracy: 78.16, time: 142.5840 min\n",
      "----------\n",
      "Epoch 42/49, current lr= 1e-05\n",
      "train loss: 0.223393, val loss: 0.732683, accuracy: 78.22, time: 146.0660 min\n",
      "----------\n",
      "Epoch 43/49, current lr= 1e-05\n",
      "Loading best model weights!\n",
      "train loss: 0.222077, val loss: 0.737109, accuracy: 78.25, time: 149.5325 min\n",
      "----------\n",
      "Epoch 44/49, current lr= 1.0000000000000002e-06\n",
      "train loss: 0.229894, val loss: 0.725844, accuracy: 78.29, time: 153.0173 min\n",
      "----------\n",
      "Epoch 45/49, current lr= 1.0000000000000002e-06\n",
      "train loss: 0.226538, val loss: 0.736892, accuracy: 77.98, time: 156.4834 min\n",
      "----------\n",
      "Epoch 46/49, current lr= 1.0000000000000002e-06\n",
      "train loss: 0.227519, val loss: 0.740002, accuracy: 77.94, time: 159.9625 min\n",
      "----------\n",
      "Epoch 47/49, current lr= 1.0000000000000002e-06\n",
      "train loss: 0.227021, val loss: 0.730722, accuracy: 78.10, time: 163.4221 min\n",
      "----------\n",
      "Epoch 48/49, current lr= 1.0000000000000002e-06\n",
      "train loss: 0.225744, val loss: 0.737131, accuracy: 78.17, time: 166.8858 min\n",
      "----------\n",
      "Epoch 49/49, current lr= 1.0000000000000002e-06\n",
      "train loss: 0.225287, val loss: 0.730692, accuracy: 78.07, time: 170.3593 min\n",
      "----------\n"
     ]
    }
   ],
   "source": [
    "model, loss_hist, metric_hist = train_val(model, params_train)"
   ]
  },
  {
   "cell_type": "code",
   "execution_count": 26,
   "id": "02537001",
   "metadata": {},
   "outputs": [
    {
     "data": {
      "image/png": "[encoded data removed]",
      "text/plain": [
       "<Figure size 432x288 with 1 Axes>"
      ]
     },
     "metadata": {},
     "output_type": "display_data"
    },
    {
     "data": {
      "image/png": "[encoded data removed]",
      "text/plain": [
       "<Figure size 432x288 with 1 Axes>"
      ]
     },
     "metadata": {},
     "output_type": "display_data"
    }
   ],
   "source": [
    "# Train-Validation progress\n",
    "num_epochs = params_train['num_epochs']\n",
    "\n",
    "# plot loss progress\n",
    "plt.title('Train-Val Loss')\n",
    "plt.plot(range(1, num_epochs+1), loss_hist['train'], label='train')\n",
    "plt.plot(range(1, num_epochs+1), loss_hist['val'], label='val')\n",
    "plt.ylabel('Loss')\n",
    "plt.xlabel('Training Epochs')\n",
    "plt.legend()\n",
    "plt.show()\n",
    "\n",
    "# plot accuracy progress\n",
    "plt.title('Train-Val Accuracy')\n",
    "plt.plot(range(1, num_epochs+1), metric_hist['train'], label='train')\n",
    "plt.plot(range(1, num_epochs+1), metric_hist['val'], label='val')\n",
    "plt.ylabel('Accuracy')\n",
    "plt.xlabel('Training Epochs')\n",
    "plt.legend()\n",
    "plt.show()"
   ]
  },
  {
   "cell_type": "code",
   "execution_count": 20,
   "id": "29365d38",
   "metadata": {},
   "outputs": [
    {
     "data": {
      "text/plain": [
       "<All keys matched successfully>"
      ]
     },
     "execution_count": 20,
     "metadata": {},
     "output_type": "execute_result"
    }
   ],
   "source": [
    "model.load_state_dict(torch.load('weights.pt'))"
   ]
  },
  {
   "cell_type": "code",
   "execution_count": 44,
   "id": "5485a871",
   "metadata": {},
   "outputs": [
    {
     "data": {
      "text/plain": [
       "DenseNet(\n",
       "  (conv1): Sequential(\n",
       "    (0): Conv2d(3, 24, kernel_size=(7, 7), stride=(2, 2), padding=(3, 3))\n",
       "    (1): MaxPool2d(kernel_size=3, stride=2, padding=1, dilation=1, ceil_mode=False)\n",
       "  )\n",
       "  (features): Sequential(\n",
       "    (dense_block_0): Sequential(\n",
       "      (bottle_neck_layer_0): BottleNeck(\n",
       "        (residual): Sequential(\n",
       "          (0): BatchNorm2d(24, eps=1e-05, momentum=0.1, affine=True, track_running_stats=True)\n",
       "          (1): ReLU()\n",
       "          (2): Conv2d(24, 48, kernel_size=(1, 1), stride=(1, 1), bias=False)\n",
       "          (3): BatchNorm2d(48, eps=1e-05, momentum=0.1, affine=True, track_running_stats=True)\n",
       "          (4): ReLU()\n",
       "          (5): Conv2d(48, 12, kernel_size=(3, 3), stride=(1, 1), padding=(1, 1), bias=False)\n",
       "        )\n",
       "        (shortcut): Sequential()\n",
       "      )\n",
       "      (bottle_neck_layer_1): BottleNeck(\n",
       "        (residual): Sequential(\n",
       "          (0): BatchNorm2d(36, eps=1e-05, momentum=0.1, affine=True, track_running_stats=True)\n",
       "          (1): ReLU()\n",
       "          (2): Conv2d(36, 48, kernel_size=(1, 1), stride=(1, 1), bias=False)\n",
       "          (3): BatchNorm2d(48, eps=1e-05, momentum=0.1, affine=True, track_running_stats=True)\n",
       "          (4): ReLU()\n",
       "          (5): Conv2d(48, 12, kernel_size=(3, 3), stride=(1, 1), padding=(1, 1), bias=False)\n",
       "        )\n",
       "        (shortcut): Sequential()\n",
       "      )\n",
       "      (bottle_neck_layer_2): BottleNeck(\n",
       "        (residual): Sequential(\n",
       "          (0): BatchNorm2d(48, eps=1e-05, momentum=0.1, affine=True, track_running_stats=True)\n",
       "          (1): ReLU()\n",
       "          (2): Conv2d(48, 48, kernel_size=(1, 1), stride=(1, 1), bias=False)\n",
       "          (3): BatchNorm2d(48, eps=1e-05, momentum=0.1, affine=True, track_running_stats=True)\n",
       "          (4): ReLU()\n",
       "          (5): Conv2d(48, 12, kernel_size=(3, 3), stride=(1, 1), padding=(1, 1), bias=False)\n",
       "        )\n",
       "        (shortcut): Sequential()\n",
       "      )\n",
       "      (bottle_neck_layer_3): BottleNeck(\n",
       "        (residual): Sequential(\n",
       "          (0): BatchNorm2d(60, eps=1e-05, momentum=0.1, affine=True, track_running_stats=True)\n",
       "          (1): ReLU()\n",
       "          (2): Conv2d(60, 48, kernel_size=(1, 1), stride=(1, 1), bias=False)\n",
       "          (3): BatchNorm2d(48, eps=1e-05, momentum=0.1, affine=True, track_running_stats=True)\n",
       "          (4): ReLU()\n",
       "          (5): Conv2d(48, 12, kernel_size=(3, 3), stride=(1, 1), padding=(1, 1), bias=False)\n",
       "        )\n",
       "        (shortcut): Sequential()\n",
       "      )\n",
       "      (bottle_neck_layer_4): BottleNeck(\n",
       "        (residual): Sequential(\n",
       "          (0): BatchNorm2d(72, eps=1e-05, momentum=0.1, affine=True, track_running_stats=True)\n",
       "          (1): ReLU()\n",
       "          (2): Conv2d(72, 48, kernel_size=(1, 1), stride=(1, 1), bias=False)\n",
       "          (3): BatchNorm2d(48, eps=1e-05, momentum=0.1, affine=True, track_running_stats=True)\n",
       "          (4): ReLU()\n",
       "          (5): Conv2d(48, 12, kernel_size=(3, 3), stride=(1, 1), padding=(1, 1), bias=False)\n",
       "        )\n",
       "        (shortcut): Sequential()\n",
       "      )\n",
       "      (bottle_neck_layer_5): BottleNeck(\n",
       "        (residual): Sequential(\n",
       "          (0): BatchNorm2d(84, eps=1e-05, momentum=0.1, affine=True, track_running_stats=True)\n",
       "          (1): ReLU()\n",
       "          (2): Conv2d(84, 48, kernel_size=(1, 1), stride=(1, 1), bias=False)\n",
       "          (3): BatchNorm2d(48, eps=1e-05, momentum=0.1, affine=True, track_running_stats=True)\n",
       "          (4): ReLU()\n",
       "          (5): Conv2d(48, 12, kernel_size=(3, 3), stride=(1, 1), padding=(1, 1), bias=False)\n",
       "        )\n",
       "        (shortcut): Sequential()\n",
       "      )\n",
       "    )\n",
       "    (transition_layer_0): Transition(\n",
       "      (down_sample): Sequential(\n",
       "        (0): BatchNorm2d(96, eps=1e-05, momentum=0.1, affine=True, track_running_stats=True)\n",
       "        (1): ReLU()\n",
       "        (2): Conv2d(96, 48, kernel_size=(1, 1), stride=(1, 1), bias=False)\n",
       "        (3): AvgPool2d(kernel_size=2, stride=2, padding=0)\n",
       "      )\n",
       "    )\n",
       "    (dense_block_1): Sequential(\n",
       "      (bottle_neck_layer_0): BottleNeck(\n",
       "        (residual): Sequential(\n",
       "          (0): BatchNorm2d(48, eps=1e-05, momentum=0.1, affine=True, track_running_stats=True)\n",
       "          (1): ReLU()\n",
       "          (2): Conv2d(48, 48, kernel_size=(1, 1), stride=(1, 1), bias=False)\n",
       "          (3): BatchNorm2d(48, eps=1e-05, momentum=0.1, affine=True, track_running_stats=True)\n",
       "          (4): ReLU()\n",
       "          (5): Conv2d(48, 12, kernel_size=(3, 3), stride=(1, 1), padding=(1, 1), bias=False)\n",
       "        )\n",
       "        (shortcut): Sequential()\n",
       "      )\n",
       "      (bottle_neck_layer_1): BottleNeck(\n",
       "        (residual): Sequential(\n",
       "          (0): BatchNorm2d(60, eps=1e-05, momentum=0.1, affine=True, track_running_stats=True)\n",
       "          (1): ReLU()\n",
       "          (2): Conv2d(60, 48, kernel_size=(1, 1), stride=(1, 1), bias=False)\n",
       "          (3): BatchNorm2d(48, eps=1e-05, momentum=0.1, affine=True, track_running_stats=True)\n",
       "          (4): ReLU()\n",
       "          (5): Conv2d(48, 12, kernel_size=(3, 3), stride=(1, 1), padding=(1, 1), bias=False)\n",
       "        )\n",
       "        (shortcut): Sequential()\n",
       "      )\n",
       "      (bottle_neck_layer_2): BottleNeck(\n",
       "        (residual): Sequential(\n",
       "          (0): BatchNorm2d(72, eps=1e-05, momentum=0.1, affine=True, track_running_stats=True)\n",
       "          (1): ReLU()\n",
       "          (2): Conv2d(72, 48, kernel_size=(1, 1), stride=(1, 1), bias=False)\n",
       "          (3): BatchNorm2d(48, eps=1e-05, momentum=0.1, affine=True, track_running_stats=True)\n",
       "          (4): ReLU()\n",
       "          (5): Conv2d(48, 12, kernel_size=(3, 3), stride=(1, 1), padding=(1, 1), bias=False)\n",
       "        )\n",
       "        (shortcut): Sequential()\n",
       "      )\n",
       "      (bottle_neck_layer_3): BottleNeck(\n",
       "        (residual): Sequential(\n",
       "          (0): BatchNorm2d(84, eps=1e-05, momentum=0.1, affine=True, track_running_stats=True)\n",
       "          (1): ReLU()\n",
       "          (2): Conv2d(84, 48, kernel_size=(1, 1), stride=(1, 1), bias=False)\n",
       "          (3): BatchNorm2d(48, eps=1e-05, momentum=0.1, affine=True, track_running_stats=True)\n",
       "          (4): ReLU()\n",
       "          (5): Conv2d(48, 12, kernel_size=(3, 3), stride=(1, 1), padding=(1, 1), bias=False)\n",
       "        )\n",
       "        (shortcut): Sequential()\n",
       "      )\n",
       "      (bottle_neck_layer_4): BottleNeck(\n",
       "        (residual): Sequential(\n",
       "          (0): BatchNorm2d(96, eps=1e-05, momentum=0.1, affine=True, track_running_stats=True)\n",
       "          (1): ReLU()\n",
       "          (2): Conv2d(96, 48, kernel_size=(1, 1), stride=(1, 1), bias=False)\n",
       "          (3): BatchNorm2d(48, eps=1e-05, momentum=0.1, affine=True, track_running_stats=True)\n",
       "          (4): ReLU()\n",
       "          (5): Conv2d(48, 12, kernel_size=(3, 3), stride=(1, 1), padding=(1, 1), bias=False)\n",
       "        )\n",
       "        (shortcut): Sequential()\n",
       "      )\n",
       "      (bottle_neck_layer_5): BottleNeck(\n",
       "        (residual): Sequential(\n",
       "          (0): BatchNorm2d(108, eps=1e-05, momentum=0.1, affine=True, track_running_stats=True)\n",
       "          (1): ReLU()\n",
       "          (2): Conv2d(108, 48, kernel_size=(1, 1), stride=(1, 1), bias=False)\n",
       "          (3): BatchNorm2d(48, eps=1e-05, momentum=0.1, affine=True, track_running_stats=True)\n",
       "          (4): ReLU()\n",
       "          (5): Conv2d(48, 12, kernel_size=(3, 3), stride=(1, 1), padding=(1, 1), bias=False)\n",
       "        )\n",
       "        (shortcut): Sequential()\n",
       "      )\n",
       "      (bottle_neck_layer_6): BottleNeck(\n",
       "        (residual): Sequential(\n",
       "          (0): BatchNorm2d(120, eps=1e-05, momentum=0.1, affine=True, track_running_stats=True)\n",
       "          (1): ReLU()\n",
       "          (2): Conv2d(120, 48, kernel_size=(1, 1), stride=(1, 1), bias=False)\n",
       "          (3): BatchNorm2d(48, eps=1e-05, momentum=0.1, affine=True, track_running_stats=True)\n",
       "          (4): ReLU()\n",
       "          (5): Conv2d(48, 12, kernel_size=(3, 3), stride=(1, 1), padding=(1, 1), bias=False)\n",
       "        )\n",
       "        (shortcut): Sequential()\n",
       "      )\n",
       "      (bottle_neck_layer_7): BottleNeck(\n",
       "        (residual): Sequential(\n",
       "          (0): BatchNorm2d(132, eps=1e-05, momentum=0.1, affine=True, track_running_stats=True)\n",
       "          (1): ReLU()\n",
       "          (2): Conv2d(132, 48, kernel_size=(1, 1), stride=(1, 1), bias=False)\n",
       "          (3): BatchNorm2d(48, eps=1e-05, momentum=0.1, affine=True, track_running_stats=True)\n",
       "          (4): ReLU()\n",
       "          (5): Conv2d(48, 12, kernel_size=(3, 3), stride=(1, 1), padding=(1, 1), bias=False)\n",
       "        )\n",
       "        (shortcut): Sequential()\n",
       "      )\n",
       "      (bottle_neck_layer_8): BottleNeck(\n",
       "        (residual): Sequential(\n",
       "          (0): BatchNorm2d(144, eps=1e-05, momentum=0.1, affine=True, track_running_stats=True)\n",
       "          (1): ReLU()\n",
       "          (2): Conv2d(144, 48, kernel_size=(1, 1), stride=(1, 1), bias=False)\n",
       "          (3): BatchNorm2d(48, eps=1e-05, momentum=0.1, affine=True, track_running_stats=True)\n",
       "          (4): ReLU()\n",
       "          (5): Conv2d(48, 12, kernel_size=(3, 3), stride=(1, 1), padding=(1, 1), bias=False)\n",
       "        )\n",
       "        (shortcut): Sequential()\n",
       "      )\n",
       "      (bottle_neck_layer_9): BottleNeck(\n",
       "        (residual): Sequential(\n",
       "          (0): BatchNorm2d(156, eps=1e-05, momentum=0.1, affine=True, track_running_stats=True)\n",
       "          (1): ReLU()\n",
       "          (2): Conv2d(156, 48, kernel_size=(1, 1), stride=(1, 1), bias=False)\n",
       "          (3): BatchNorm2d(48, eps=1e-05, momentum=0.1, affine=True, track_running_stats=True)\n",
       "          (4): ReLU()\n",
       "          (5): Conv2d(48, 12, kernel_size=(3, 3), stride=(1, 1), padding=(1, 1), bias=False)\n",
       "        )\n",
       "        (shortcut): Sequential()\n",
       "      )\n",
       "      (bottle_neck_layer_10): BottleNeck(\n",
       "        (residual): Sequential(\n",
       "          (0): BatchNorm2d(168, eps=1e-05, momentum=0.1, affine=True, track_running_stats=True)\n",
       "          (1): ReLU()\n",
       "          (2): Conv2d(168, 48, kernel_size=(1, 1), stride=(1, 1), bias=False)\n",
       "          (3): BatchNorm2d(48, eps=1e-05, momentum=0.1, affine=True, track_running_stats=True)\n",
       "          (4): ReLU()\n",
       "          (5): Conv2d(48, 12, kernel_size=(3, 3), stride=(1, 1), padding=(1, 1), bias=False)\n",
       "        )\n",
       "        (shortcut): Sequential()\n",
       "      )\n",
       "      (bottle_neck_layer_11): BottleNeck(\n",
       "        (residual): Sequential(\n",
       "          (0): BatchNorm2d(180, eps=1e-05, momentum=0.1, affine=True, track_running_stats=True)\n",
       "          (1): ReLU()\n",
       "          (2): Conv2d(180, 48, kernel_size=(1, 1), stride=(1, 1), bias=False)\n",
       "          (3): BatchNorm2d(48, eps=1e-05, momentum=0.1, affine=True, track_running_stats=True)\n",
       "          (4): ReLU()\n",
       "          (5): Conv2d(48, 12, kernel_size=(3, 3), stride=(1, 1), padding=(1, 1), bias=False)\n",
       "        )\n",
       "        (shortcut): Sequential()\n",
       "      )\n",
       "    )\n",
       "    (transition_layer_1): Transition(\n",
       "      (down_sample): Sequential(\n",
       "        (0): BatchNorm2d(192, eps=1e-05, momentum=0.1, affine=True, track_running_stats=True)\n",
       "        (1): ReLU()\n",
       "        (2): Conv2d(192, 96, kernel_size=(1, 1), stride=(1, 1), bias=False)\n",
       "        (3): AvgPool2d(kernel_size=2, stride=2, padding=0)\n",
       "      )\n",
       "    )\n",
       "    (dense_block_2): Sequential(\n",
       "      (bottle_neck_layer_0): BottleNeck(\n",
       "        (residual): Sequential(\n",
       "          (0): BatchNorm2d(96, eps=1e-05, momentum=0.1, affine=True, track_running_stats=True)\n",
       "          (1): ReLU()\n",
       "          (2): Conv2d(96, 48, kernel_size=(1, 1), stride=(1, 1), bias=False)\n",
       "          (3): BatchNorm2d(48, eps=1e-05, momentum=0.1, affine=True, track_running_stats=True)\n",
       "          (4): ReLU()\n",
       "          (5): Conv2d(48, 12, kernel_size=(3, 3), stride=(1, 1), padding=(1, 1), bias=False)\n",
       "        )\n",
       "        (shortcut): Sequential()\n",
       "      )\n",
       "      (bottle_neck_layer_1): BottleNeck(\n",
       "        (residual): Sequential(\n",
       "          (0): BatchNorm2d(108, eps=1e-05, momentum=0.1, affine=True, track_running_stats=True)\n",
       "          (1): ReLU()\n",
       "          (2): Conv2d(108, 48, kernel_size=(1, 1), stride=(1, 1), bias=False)\n",
       "          (3): BatchNorm2d(48, eps=1e-05, momentum=0.1, affine=True, track_running_stats=True)\n",
       "          (4): ReLU()\n",
       "          (5): Conv2d(48, 12, kernel_size=(3, 3), stride=(1, 1), padding=(1, 1), bias=False)\n",
       "        )\n",
       "        (shortcut): Sequential()\n",
       "      )\n",
       "      (bottle_neck_layer_2): BottleNeck(\n",
       "        (residual): Sequential(\n",
       "          (0): BatchNorm2d(120, eps=1e-05, momentum=0.1, affine=True, track_running_stats=True)\n",
       "          (1): ReLU()\n",
       "          (2): Conv2d(120, 48, kernel_size=(1, 1), stride=(1, 1), bias=False)\n",
       "          (3): BatchNorm2d(48, eps=1e-05, momentum=0.1, affine=True, track_running_stats=True)\n",
       "          (4): ReLU()\n",
       "          (5): Conv2d(48, 12, kernel_size=(3, 3), stride=(1, 1), padding=(1, 1), bias=False)\n",
       "        )\n",
       "        (shortcut): Sequential()\n",
       "      )\n",
       "      (bottle_neck_layer_3): BottleNeck(\n",
       "        (residual): Sequential(\n",
       "          (0): BatchNorm2d(132, eps=1e-05, momentum=0.1, affine=True, track_running_stats=True)\n",
       "          (1): ReLU()\n",
       "          (2): Conv2d(132, 48, kernel_size=(1, 1), stride=(1, 1), bias=False)\n",
       "          (3): BatchNorm2d(48, eps=1e-05, momentum=0.1, affine=True, track_running_stats=True)\n",
       "          (4): ReLU()\n",
       "          (5): Conv2d(48, 12, kernel_size=(3, 3), stride=(1, 1), padding=(1, 1), bias=False)\n",
       "        )\n",
       "        (shortcut): Sequential()\n",
       "      )\n",
       "      (bottle_neck_layer_4): BottleNeck(\n",
       "        (residual): Sequential(\n",
       "          (0): BatchNorm2d(144, eps=1e-05, momentum=0.1, affine=True, track_running_stats=True)\n",
       "          (1): ReLU()\n",
       "          (2): Conv2d(144, 48, kernel_size=(1, 1), stride=(1, 1), bias=False)\n",
       "          (3): BatchNorm2d(48, eps=1e-05, momentum=0.1, affine=True, track_running_stats=True)\n",
       "          (4): ReLU()\n",
       "          (5): Conv2d(48, 12, kernel_size=(3, 3), stride=(1, 1), padding=(1, 1), bias=False)\n",
       "        )\n",
       "        (shortcut): Sequential()\n",
       "      )\n",
       "      (bottle_neck_layer_5): BottleNeck(\n",
       "        (residual): Sequential(\n",
       "          (0): BatchNorm2d(156, eps=1e-05, momentum=0.1, affine=True, track_running_stats=True)\n",
       "          (1): ReLU()\n",
       "          (2): Conv2d(156, 48, kernel_size=(1, 1), stride=(1, 1), bias=False)\n",
       "          (3): BatchNorm2d(48, eps=1e-05, momentum=0.1, affine=True, track_running_stats=True)\n",
       "          (4): ReLU()\n",
       "          (5): Conv2d(48, 12, kernel_size=(3, 3), stride=(1, 1), padding=(1, 1), bias=False)\n",
       "        )\n",
       "        (shortcut): Sequential()\n",
       "      )\n",
       "      (bottle_neck_layer_6): BottleNeck(\n",
       "        (residual): Sequential(\n",
       "          (0): BatchNorm2d(168, eps=1e-05, momentum=0.1, affine=True, track_running_stats=True)\n",
       "          (1): ReLU()\n",
       "          (2): Conv2d(168, 48, kernel_size=(1, 1), stride=(1, 1), bias=False)\n",
       "          (3): BatchNorm2d(48, eps=1e-05, momentum=0.1, affine=True, track_running_stats=True)\n",
       "          (4): ReLU()\n",
       "          (5): Conv2d(48, 12, kernel_size=(3, 3), stride=(1, 1), padding=(1, 1), bias=False)\n",
       "        )\n",
       "        (shortcut): Sequential()\n",
       "      )\n",
       "      (bottle_neck_layer_7): BottleNeck(\n",
       "        (residual): Sequential(\n",
       "          (0): BatchNorm2d(180, eps=1e-05, momentum=0.1, affine=True, track_running_stats=True)\n",
       "          (1): ReLU()\n",
       "          (2): Conv2d(180, 48, kernel_size=(1, 1), stride=(1, 1), bias=False)\n",
       "          (3): BatchNorm2d(48, eps=1e-05, momentum=0.1, affine=True, track_running_stats=True)\n",
       "          (4): ReLU()\n",
       "          (5): Conv2d(48, 12, kernel_size=(3, 3), stride=(1, 1), padding=(1, 1), bias=False)\n",
       "        )\n",
       "        (shortcut): Sequential()\n",
       "      )\n",
       "      (bottle_neck_layer_8): BottleNeck(\n",
       "        (residual): Sequential(\n",
       "          (0): BatchNorm2d(192, eps=1e-05, momentum=0.1, affine=True, track_running_stats=True)\n",
       "          (1): ReLU()\n",
       "          (2): Conv2d(192, 48, kernel_size=(1, 1), stride=(1, 1), bias=False)\n",
       "          (3): BatchNorm2d(48, eps=1e-05, momentum=0.1, affine=True, track_running_stats=True)\n",
       "          (4): ReLU()\n",
       "          (5): Conv2d(48, 12, kernel_size=(3, 3), stride=(1, 1), padding=(1, 1), bias=False)\n",
       "        )\n",
       "        (shortcut): Sequential()\n",
       "      )\n",
       "      (bottle_neck_layer_9): BottleNeck(\n",
       "        (residual): Sequential(\n",
       "          (0): BatchNorm2d(204, eps=1e-05, momentum=0.1, affine=True, track_running_stats=True)\n",
       "          (1): ReLU()\n",
       "          (2): Conv2d(204, 48, kernel_size=(1, 1), stride=(1, 1), bias=False)\n",
       "          (3): BatchNorm2d(48, eps=1e-05, momentum=0.1, affine=True, track_running_stats=True)\n",
       "          (4): ReLU()\n",
       "          (5): Conv2d(48, 12, kernel_size=(3, 3), stride=(1, 1), padding=(1, 1), bias=False)\n",
       "        )\n",
       "        (shortcut): Sequential()\n",
       "      )\n",
       "      (bottle_neck_layer_10): BottleNeck(\n",
       "        (residual): Sequential(\n",
       "          (0): BatchNorm2d(216, eps=1e-05, momentum=0.1, affine=True, track_running_stats=True)\n",
       "          (1): ReLU()\n",
       "          (2): Conv2d(216, 48, kernel_size=(1, 1), stride=(1, 1), bias=False)\n",
       "          (3): BatchNorm2d(48, eps=1e-05, momentum=0.1, affine=True, track_running_stats=True)\n",
       "          (4): ReLU()\n",
       "          (5): Conv2d(48, 12, kernel_size=(3, 3), stride=(1, 1), padding=(1, 1), bias=False)\n",
       "        )\n",
       "        (shortcut): Sequential()\n",
       "      )\n",
       "      (bottle_neck_layer_11): BottleNeck(\n",
       "        (residual): Sequential(\n",
       "          (0): BatchNorm2d(228, eps=1e-05, momentum=0.1, affine=True, track_running_stats=True)\n",
       "          (1): ReLU()\n",
       "          (2): Conv2d(228, 48, kernel_size=(1, 1), stride=(1, 1), bias=False)\n",
       "          (3): BatchNorm2d(48, eps=1e-05, momentum=0.1, affine=True, track_running_stats=True)\n",
       "          (4): ReLU()\n",
       "          (5): Conv2d(48, 12, kernel_size=(3, 3), stride=(1, 1), padding=(1, 1), bias=False)\n",
       "        )\n",
       "        (shortcut): Sequential()\n",
       "      )\n",
       "      (bottle_neck_layer_12): BottleNeck(\n",
       "        (residual): Sequential(\n",
       "          (0): BatchNorm2d(240, eps=1e-05, momentum=0.1, affine=True, track_running_stats=True)\n",
       "          (1): ReLU()\n",
       "          (2): Conv2d(240, 48, kernel_size=(1, 1), stride=(1, 1), bias=False)\n",
       "          (3): BatchNorm2d(48, eps=1e-05, momentum=0.1, affine=True, track_running_stats=True)\n",
       "          (4): ReLU()\n",
       "          (5): Conv2d(48, 12, kernel_size=(3, 3), stride=(1, 1), padding=(1, 1), bias=False)\n",
       "        )\n",
       "        (shortcut): Sequential()\n",
       "      )\n",
       "      (bottle_neck_layer_13): BottleNeck(\n",
       "        (residual): Sequential(\n",
       "          (0): BatchNorm2d(252, eps=1e-05, momentum=0.1, affine=True, track_running_stats=True)\n",
       "          (1): ReLU()\n",
       "          (2): Conv2d(252, 48, kernel_size=(1, 1), stride=(1, 1), bias=False)\n",
       "          (3): BatchNorm2d(48, eps=1e-05, momentum=0.1, affine=True, track_running_stats=True)\n",
       "          (4): ReLU()\n",
       "          (5): Conv2d(48, 12, kernel_size=(3, 3), stride=(1, 1), padding=(1, 1), bias=False)\n",
       "        )\n",
       "        (shortcut): Sequential()\n",
       "      )\n",
       "      (bottle_neck_layer_14): BottleNeck(\n",
       "        (residual): Sequential(\n",
       "          (0): BatchNorm2d(264, eps=1e-05, momentum=0.1, affine=True, track_running_stats=True)\n",
       "          (1): ReLU()\n",
       "          (2): Conv2d(264, 48, kernel_size=(1, 1), stride=(1, 1), bias=False)\n",
       "          (3): BatchNorm2d(48, eps=1e-05, momentum=0.1, affine=True, track_running_stats=True)\n",
       "          (4): ReLU()\n",
       "          (5): Conv2d(48, 12, kernel_size=(3, 3), stride=(1, 1), padding=(1, 1), bias=False)\n",
       "        )\n",
       "        (shortcut): Sequential()\n",
       "      )\n",
       "      (bottle_neck_layer_15): BottleNeck(\n",
       "        (residual): Sequential(\n",
       "          (0): BatchNorm2d(276, eps=1e-05, momentum=0.1, affine=True, track_running_stats=True)\n",
       "          (1): ReLU()\n",
       "          (2): Conv2d(276, 48, kernel_size=(1, 1), stride=(1, 1), bias=False)\n",
       "          (3): BatchNorm2d(48, eps=1e-05, momentum=0.1, affine=True, track_running_stats=True)\n",
       "          (4): ReLU()\n",
       "          (5): Conv2d(48, 12, kernel_size=(3, 3), stride=(1, 1), padding=(1, 1), bias=False)\n",
       "        )\n",
       "        (shortcut): Sequential()\n",
       "      )\n",
       "      (bottle_neck_layer_16): BottleNeck(\n",
       "        (residual): Sequential(\n",
       "          (0): BatchNorm2d(288, eps=1e-05, momentum=0.1, affine=True, track_running_stats=True)\n",
       "          (1): ReLU()\n",
       "          (2): Conv2d(288, 48, kernel_size=(1, 1), stride=(1, 1), bias=False)\n",
       "          (3): BatchNorm2d(48, eps=1e-05, momentum=0.1, affine=True, track_running_stats=True)\n",
       "          (4): ReLU()\n",
       "          (5): Conv2d(48, 12, kernel_size=(3, 3), stride=(1, 1), padding=(1, 1), bias=False)\n",
       "        )\n",
       "        (shortcut): Sequential()\n",
       "      )\n",
       "      (bottle_neck_layer_17): BottleNeck(\n",
       "        (residual): Sequential(\n",
       "          (0): BatchNorm2d(300, eps=1e-05, momentum=0.1, affine=True, track_running_stats=True)\n",
       "          (1): ReLU()\n",
       "          (2): Conv2d(300, 48, kernel_size=(1, 1), stride=(1, 1), bias=False)\n",
       "          (3): BatchNorm2d(48, eps=1e-05, momentum=0.1, affine=True, track_running_stats=True)\n",
       "          (4): ReLU()\n",
       "          (5): Conv2d(48, 12, kernel_size=(3, 3), stride=(1, 1), padding=(1, 1), bias=False)\n",
       "        )\n",
       "        (shortcut): Sequential()\n",
       "      )\n",
       "      (bottle_neck_layer_18): BottleNeck(\n",
       "        (residual): Sequential(\n",
       "          (0): BatchNorm2d(312, eps=1e-05, momentum=0.1, affine=True, track_running_stats=True)\n",
       "          (1): ReLU()\n",
       "          (2): Conv2d(312, 48, kernel_size=(1, 1), stride=(1, 1), bias=False)\n",
       "          (3): BatchNorm2d(48, eps=1e-05, momentum=0.1, affine=True, track_running_stats=True)\n",
       "          (4): ReLU()\n",
       "          (5): Conv2d(48, 12, kernel_size=(3, 3), stride=(1, 1), padding=(1, 1), bias=False)\n",
       "        )\n",
       "        (shortcut): Sequential()\n",
       "      )\n",
       "      (bottle_neck_layer_19): BottleNeck(\n",
       "        (residual): Sequential(\n",
       "          (0): BatchNorm2d(324, eps=1e-05, momentum=0.1, affine=True, track_running_stats=True)\n",
       "          (1): ReLU()\n",
       "          (2): Conv2d(324, 48, kernel_size=(1, 1), stride=(1, 1), bias=False)\n",
       "          (3): BatchNorm2d(48, eps=1e-05, momentum=0.1, affine=True, track_running_stats=True)\n",
       "          (4): ReLU()\n",
       "          (5): Conv2d(48, 12, kernel_size=(3, 3), stride=(1, 1), padding=(1, 1), bias=False)\n",
       "        )\n",
       "        (shortcut): Sequential()\n",
       "      )\n",
       "      (bottle_neck_layer_20): BottleNeck(\n",
       "        (residual): Sequential(\n",
       "          (0): BatchNorm2d(336, eps=1e-05, momentum=0.1, affine=True, track_running_stats=True)\n",
       "          (1): ReLU()\n",
       "          (2): Conv2d(336, 48, kernel_size=(1, 1), stride=(1, 1), bias=False)\n",
       "          (3): BatchNorm2d(48, eps=1e-05, momentum=0.1, affine=True, track_running_stats=True)\n",
       "          (4): ReLU()\n",
       "          (5): Conv2d(48, 12, kernel_size=(3, 3), stride=(1, 1), padding=(1, 1), bias=False)\n",
       "        )\n",
       "        (shortcut): Sequential()\n",
       "      )\n",
       "      (bottle_neck_layer_21): BottleNeck(\n",
       "        (residual): Sequential(\n",
       "          (0): BatchNorm2d(348, eps=1e-05, momentum=0.1, affine=True, track_running_stats=True)\n",
       "          (1): ReLU()\n",
       "          (2): Conv2d(348, 48, kernel_size=(1, 1), stride=(1, 1), bias=False)\n",
       "          (3): BatchNorm2d(48, eps=1e-05, momentum=0.1, affine=True, track_running_stats=True)\n",
       "          (4): ReLU()\n",
       "          (5): Conv2d(48, 12, kernel_size=(3, 3), stride=(1, 1), padding=(1, 1), bias=False)\n",
       "        )\n",
       "        (shortcut): Sequential()\n",
       "      )\n",
       "      (bottle_neck_layer_22): BottleNeck(\n",
       "        (residual): Sequential(\n",
       "          (0): BatchNorm2d(360, eps=1e-05, momentum=0.1, affine=True, track_running_stats=True)\n",
       "          (1): ReLU()\n",
       "          (2): Conv2d(360, 48, kernel_size=(1, 1), stride=(1, 1), bias=False)\n",
       "          (3): BatchNorm2d(48, eps=1e-05, momentum=0.1, affine=True, track_running_stats=True)\n",
       "          (4): ReLU()\n",
       "          (5): Conv2d(48, 12, kernel_size=(3, 3), stride=(1, 1), padding=(1, 1), bias=False)\n",
       "        )\n",
       "        (shortcut): Sequential()\n",
       "      )\n",
       "      (bottle_neck_layer_23): BottleNeck(\n",
       "        (residual): Sequential(\n",
       "          (0): BatchNorm2d(372, eps=1e-05, momentum=0.1, affine=True, track_running_stats=True)\n",
       "          (1): ReLU()\n",
       "          (2): Conv2d(372, 48, kernel_size=(1, 1), stride=(1, 1), bias=False)\n",
       "          (3): BatchNorm2d(48, eps=1e-05, momentum=0.1, affine=True, track_running_stats=True)\n",
       "          (4): ReLU()\n",
       "          (5): Conv2d(48, 12, kernel_size=(3, 3), stride=(1, 1), padding=(1, 1), bias=False)\n",
       "        )\n",
       "        (shortcut): Sequential()\n",
       "      )\n",
       "    )\n",
       "    (transition_layer_2): Transition(\n",
       "      (down_sample): Sequential(\n",
       "        (0): BatchNorm2d(384, eps=1e-05, momentum=0.1, affine=True, track_running_stats=True)\n",
       "        (1): ReLU()\n",
       "        (2): Conv2d(384, 192, kernel_size=(1, 1), stride=(1, 1), bias=False)\n",
       "        (3): AvgPool2d(kernel_size=2, stride=2, padding=0)\n",
       "      )\n",
       "    )\n",
       "    (dense_block_3): Sequential(\n",
       "      (bottle_neck_layer_0): BottleNeck(\n",
       "        (residual): Sequential(\n",
       "          (0): BatchNorm2d(192, eps=1e-05, momentum=0.1, affine=True, track_running_stats=True)\n",
       "          (1): ReLU()\n",
       "          (2): Conv2d(192, 48, kernel_size=(1, 1), stride=(1, 1), bias=False)\n",
       "          (3): BatchNorm2d(48, eps=1e-05, momentum=0.1, affine=True, track_running_stats=True)\n",
       "          (4): ReLU()\n",
       "          (5): Conv2d(48, 12, kernel_size=(3, 3), stride=(1, 1), padding=(1, 1), bias=False)\n",
       "        )\n",
       "        (shortcut): Sequential()\n",
       "      )\n",
       "      (bottle_neck_layer_1): BottleNeck(\n",
       "        (residual): Sequential(\n",
       "          (0): BatchNorm2d(204, eps=1e-05, momentum=0.1, affine=True, track_running_stats=True)\n",
       "          (1): ReLU()\n",
       "          (2): Conv2d(204, 48, kernel_size=(1, 1), stride=(1, 1), bias=False)\n",
       "          (3): BatchNorm2d(48, eps=1e-05, momentum=0.1, affine=True, track_running_stats=True)\n",
       "          (4): ReLU()\n",
       "          (5): Conv2d(48, 12, kernel_size=(3, 3), stride=(1, 1), padding=(1, 1), bias=False)\n",
       "        )\n",
       "        (shortcut): Sequential()\n",
       "      )\n",
       "      (bottle_neck_layer_2): BottleNeck(\n",
       "        (residual): Sequential(\n",
       "          (0): BatchNorm2d(216, eps=1e-05, momentum=0.1, affine=True, track_running_stats=True)\n",
       "          (1): ReLU()\n",
       "          (2): Conv2d(216, 48, kernel_size=(1, 1), stride=(1, 1), bias=False)\n",
       "          (3): BatchNorm2d(48, eps=1e-05, momentum=0.1, affine=True, track_running_stats=True)\n",
       "          (4): ReLU()\n",
       "          (5): Conv2d(48, 12, kernel_size=(3, 3), stride=(1, 1), padding=(1, 1), bias=False)\n",
       "        )\n",
       "        (shortcut): Sequential()\n",
       "      )\n",
       "      (bottle_neck_layer_3): BottleNeck(\n",
       "        (residual): Sequential(\n",
       "          (0): BatchNorm2d(228, eps=1e-05, momentum=0.1, affine=True, track_running_stats=True)\n",
       "          (1): ReLU()\n",
       "          (2): Conv2d(228, 48, kernel_size=(1, 1), stride=(1, 1), bias=False)\n",
       "          (3): BatchNorm2d(48, eps=1e-05, momentum=0.1, affine=True, track_running_stats=True)\n",
       "          (4): ReLU()\n",
       "          (5): Conv2d(48, 12, kernel_size=(3, 3), stride=(1, 1), padding=(1, 1), bias=False)\n",
       "        )\n",
       "        (shortcut): Sequential()\n",
       "      )\n",
       "      (bottle_neck_layer_4): BottleNeck(\n",
       "        (residual): Sequential(\n",
       "          (0): BatchNorm2d(240, eps=1e-05, momentum=0.1, affine=True, track_running_stats=True)\n",
       "          (1): ReLU()\n",
       "          (2): Conv2d(240, 48, kernel_size=(1, 1), stride=(1, 1), bias=False)\n",
       "          (3): BatchNorm2d(48, eps=1e-05, momentum=0.1, affine=True, track_running_stats=True)\n",
       "          (4): ReLU()\n",
       "          (5): Conv2d(48, 12, kernel_size=(3, 3), stride=(1, 1), padding=(1, 1), bias=False)\n",
       "        )\n",
       "        (shortcut): Sequential()\n",
       "      )\n",
       "      (bottle_neck_layer_5): BottleNeck(\n",
       "        (residual): Sequential(\n",
       "          (0): BatchNorm2d(252, eps=1e-05, momentum=0.1, affine=True, track_running_stats=True)\n",
       "          (1): ReLU()\n",
       "          (2): Conv2d(252, 48, kernel_size=(1, 1), stride=(1, 1), bias=False)\n",
       "          (3): BatchNorm2d(48, eps=1e-05, momentum=0.1, affine=True, track_running_stats=True)\n",
       "          (4): ReLU()\n",
       "          (5): Conv2d(48, 12, kernel_size=(3, 3), stride=(1, 1), padding=(1, 1), bias=False)\n",
       "        )\n",
       "        (shortcut): Sequential()\n",
       "      )\n",
       "    )\n",
       "    (bn): BatchNorm2d(264, eps=1e-05, momentum=0.1, affine=True, track_running_stats=True)\n",
       "    (relu): ReLU()\n",
       "  )\n",
       "  (avg_pool): AdaptiveAvgPool2d(output_size=(1, 1))\n",
       "  (linear): Linear(in_features=264, out_features=10, bias=True)\n",
       ")"
      ]
     },
     "execution_count": 44,
     "metadata": {},
     "output_type": "execute_result"
    }
   ],
   "source": [
    "model.eval()"
   ]
  },
  {
   "cell_type": "code",
   "execution_count": 27,
   "id": "5bdb3da3",
   "metadata": {},
   "outputs": [
    {
     "data": {
      "text/plain": [
       "DenseNet(\n",
       "  (conv1): Sequential(\n",
       "    (0): Conv2d(3, 24, kernel_size=(7, 7), stride=(2, 2), padding=(3, 3))\n",
       "    (1): MaxPool2d(kernel_size=3, stride=2, padding=1, dilation=1, ceil_mode=False)\n",
       "  )\n",
       "  (features): Sequential(\n",
       "    (dense_block_0): Sequential(\n",
       "      (bottle_neck_layer_0): BottleNeck(\n",
       "        (residual): Sequential(\n",
       "          (0): BatchNorm2d(24, eps=1e-05, momentum=0.1, affine=True, track_running_stats=True)\n",
       "          (1): ReLU()\n",
       "          (2): Conv2d(24, 48, kernel_size=(1, 1), stride=(1, 1), bias=False)\n",
       "          (3): BatchNorm2d(48, eps=1e-05, momentum=0.1, affine=True, track_running_stats=True)\n",
       "          (4): ReLU()\n",
       "          (5): Conv2d(48, 12, kernel_size=(3, 3), stride=(1, 1), padding=(1, 1), bias=False)\n",
       "        )\n",
       "        (shortcut): Sequential()\n",
       "      )\n",
       "      (bottle_neck_layer_1): BottleNeck(\n",
       "        (residual): Sequential(\n",
       "          (0): BatchNorm2d(36, eps=1e-05, momentum=0.1, affine=True, track_running_stats=True)\n",
       "          (1): ReLU()\n",
       "          (2): Conv2d(36, 48, kernel_size=(1, 1), stride=(1, 1), bias=False)\n",
       "          (3): BatchNorm2d(48, eps=1e-05, momentum=0.1, affine=True, track_running_stats=True)\n",
       "          (4): ReLU()\n",
       "          (5): Conv2d(48, 12, kernel_size=(3, 3), stride=(1, 1), padding=(1, 1), bias=False)\n",
       "        )\n",
       "        (shortcut): Sequential()\n",
       "      )\n",
       "      (bottle_neck_layer_2): BottleNeck(\n",
       "        (residual): Sequential(\n",
       "          (0): BatchNorm2d(48, eps=1e-05, momentum=0.1, affine=True, track_running_stats=True)\n",
       "          (1): ReLU()\n",
       "          (2): Conv2d(48, 48, kernel_size=(1, 1), stride=(1, 1), bias=False)\n",
       "          (3): BatchNorm2d(48, eps=1e-05, momentum=0.1, affine=True, track_running_stats=True)\n",
       "          (4): ReLU()\n",
       "          (5): Conv2d(48, 12, kernel_size=(3, 3), stride=(1, 1), padding=(1, 1), bias=False)\n",
       "        )\n",
       "        (shortcut): Sequential()\n",
       "      )\n",
       "      (bottle_neck_layer_3): BottleNeck(\n",
       "        (residual): Sequential(\n",
       "          (0): BatchNorm2d(60, eps=1e-05, momentum=0.1, affine=True, track_running_stats=True)\n",
       "          (1): ReLU()\n",
       "          (2): Conv2d(60, 48, kernel_size=(1, 1), stride=(1, 1), bias=False)\n",
       "          (3): BatchNorm2d(48, eps=1e-05, momentum=0.1, affine=True, track_running_stats=True)\n",
       "          (4): ReLU()\n",
       "          (5): Conv2d(48, 12, kernel_size=(3, 3), stride=(1, 1), padding=(1, 1), bias=False)\n",
       "        )\n",
       "        (shortcut): Sequential()\n",
       "      )\n",
       "      (bottle_neck_layer_4): BottleNeck(\n",
       "        (residual): Sequential(\n",
       "          (0): BatchNorm2d(72, eps=1e-05, momentum=0.1, affine=True, track_running_stats=True)\n",
       "          (1): ReLU()\n",
       "          (2): Conv2d(72, 48, kernel_size=(1, 1), stride=(1, 1), bias=False)\n",
       "          (3): BatchNorm2d(48, eps=1e-05, momentum=0.1, affine=True, track_running_stats=True)\n",
       "          (4): ReLU()\n",
       "          (5): Conv2d(48, 12, kernel_size=(3, 3), stride=(1, 1), padding=(1, 1), bias=False)\n",
       "        )\n",
       "        (shortcut): Sequential()\n",
       "      )\n",
       "      (bottle_neck_layer_5): BottleNeck(\n",
       "        (residual): Sequential(\n",
       "          (0): BatchNorm2d(84, eps=1e-05, momentum=0.1, affine=True, track_running_stats=True)\n",
       "          (1): ReLU()\n",
       "          (2): Conv2d(84, 48, kernel_size=(1, 1), stride=(1, 1), bias=False)\n",
       "          (3): BatchNorm2d(48, eps=1e-05, momentum=0.1, affine=True, track_running_stats=True)\n",
       "          (4): ReLU()\n",
       "          (5): Conv2d(48, 12, kernel_size=(3, 3), stride=(1, 1), padding=(1, 1), bias=False)\n",
       "        )\n",
       "        (shortcut): Sequential()\n",
       "      )\n",
       "    )\n",
       "    (transition_layer_0): Transition(\n",
       "      (down_sample): Sequential(\n",
       "        (0): BatchNorm2d(96, eps=1e-05, momentum=0.1, affine=True, track_running_stats=True)\n",
       "        (1): ReLU()\n",
       "        (2): Conv2d(96, 48, kernel_size=(1, 1), stride=(1, 1), bias=False)\n",
       "        (3): AvgPool2d(kernel_size=2, stride=2, padding=0)\n",
       "      )\n",
       "    )\n",
       "    (dense_block_1): Sequential(\n",
       "      (bottle_neck_layer_0): BottleNeck(\n",
       "        (residual): Sequential(\n",
       "          (0): BatchNorm2d(48, eps=1e-05, momentum=0.1, affine=True, track_running_stats=True)\n",
       "          (1): ReLU()\n",
       "          (2): Conv2d(48, 48, kernel_size=(1, 1), stride=(1, 1), bias=False)\n",
       "          (3): BatchNorm2d(48, eps=1e-05, momentum=0.1, affine=True, track_running_stats=True)\n",
       "          (4): ReLU()\n",
       "          (5): Conv2d(48, 12, kernel_size=(3, 3), stride=(1, 1), padding=(1, 1), bias=False)\n",
       "        )\n",
       "        (shortcut): Sequential()\n",
       "      )\n",
       "      (bottle_neck_layer_1): BottleNeck(\n",
       "        (residual): Sequential(\n",
       "          (0): BatchNorm2d(60, eps=1e-05, momentum=0.1, affine=True, track_running_stats=True)\n",
       "          (1): ReLU()\n",
       "          (2): Conv2d(60, 48, kernel_size=(1, 1), stride=(1, 1), bias=False)\n",
       "          (3): BatchNorm2d(48, eps=1e-05, momentum=0.1, affine=True, track_running_stats=True)\n",
       "          (4): ReLU()\n",
       "          (5): Conv2d(48, 12, kernel_size=(3, 3), stride=(1, 1), padding=(1, 1), bias=False)\n",
       "        )\n",
       "        (shortcut): Sequential()\n",
       "      )\n",
       "      (bottle_neck_layer_2): BottleNeck(\n",
       "        (residual): Sequential(\n",
       "          (0): BatchNorm2d(72, eps=1e-05, momentum=0.1, affine=True, track_running_stats=True)\n",
       "          (1): ReLU()\n",
       "          (2): Conv2d(72, 48, kernel_size=(1, 1), stride=(1, 1), bias=False)\n",
       "          (3): BatchNorm2d(48, eps=1e-05, momentum=0.1, affine=True, track_running_stats=True)\n",
       "          (4): ReLU()\n",
       "          (5): Conv2d(48, 12, kernel_size=(3, 3), stride=(1, 1), padding=(1, 1), bias=False)\n",
       "        )\n",
       "        (shortcut): Sequential()\n",
       "      )\n",
       "      (bottle_neck_layer_3): BottleNeck(\n",
       "        (residual): Sequential(\n",
       "          (0): BatchNorm2d(84, eps=1e-05, momentum=0.1, affine=True, track_running_stats=True)\n",
       "          (1): ReLU()\n",
       "          (2): Conv2d(84, 48, kernel_size=(1, 1), stride=(1, 1), bias=False)\n",
       "          (3): BatchNorm2d(48, eps=1e-05, momentum=0.1, affine=True, track_running_stats=True)\n",
       "          (4): ReLU()\n",
       "          (5): Conv2d(48, 12, kernel_size=(3, 3), stride=(1, 1), padding=(1, 1), bias=False)\n",
       "        )\n",
       "        (shortcut): Sequential()\n",
       "      )\n",
       "      (bottle_neck_layer_4): BottleNeck(\n",
       "        (residual): Sequential(\n",
       "          (0): BatchNorm2d(96, eps=1e-05, momentum=0.1, affine=True, track_running_stats=True)\n",
       "          (1): ReLU()\n",
       "          (2): Conv2d(96, 48, kernel_size=(1, 1), stride=(1, 1), bias=False)\n",
       "          (3): BatchNorm2d(48, eps=1e-05, momentum=0.1, affine=True, track_running_stats=True)\n",
       "          (4): ReLU()\n",
       "          (5): Conv2d(48, 12, kernel_size=(3, 3), stride=(1, 1), padding=(1, 1), bias=False)\n",
       "        )\n",
       "        (shortcut): Sequential()\n",
       "      )\n",
       "      (bottle_neck_layer_5): BottleNeck(\n",
       "        (residual): Sequential(\n",
       "          (0): BatchNorm2d(108, eps=1e-05, momentum=0.1, affine=True, track_running_stats=True)\n",
       "          (1): ReLU()\n",
       "          (2): Conv2d(108, 48, kernel_size=(1, 1), stride=(1, 1), bias=False)\n",
       "          (3): BatchNorm2d(48, eps=1e-05, momentum=0.1, affine=True, track_running_stats=True)\n",
       "          (4): ReLU()\n",
       "          (5): Conv2d(48, 12, kernel_size=(3, 3), stride=(1, 1), padding=(1, 1), bias=False)\n",
       "        )\n",
       "        (shortcut): Sequential()\n",
       "      )\n",
       "      (bottle_neck_layer_6): BottleNeck(\n",
       "        (residual): Sequential(\n",
       "          (0): BatchNorm2d(120, eps=1e-05, momentum=0.1, affine=True, track_running_stats=True)\n",
       "          (1): ReLU()\n",
       "          (2): Conv2d(120, 48, kernel_size=(1, 1), stride=(1, 1), bias=False)\n",
       "          (3): BatchNorm2d(48, eps=1e-05, momentum=0.1, affine=True, track_running_stats=True)\n",
       "          (4): ReLU()\n",
       "          (5): Conv2d(48, 12, kernel_size=(3, 3), stride=(1, 1), padding=(1, 1), bias=False)\n",
       "        )\n",
       "        (shortcut): Sequential()\n",
       "      )\n",
       "      (bottle_neck_layer_7): BottleNeck(\n",
       "        (residual): Sequential(\n",
       "          (0): BatchNorm2d(132, eps=1e-05, momentum=0.1, affine=True, track_running_stats=True)\n",
       "          (1): ReLU()\n",
       "          (2): Conv2d(132, 48, kernel_size=(1, 1), stride=(1, 1), bias=False)\n",
       "          (3): BatchNorm2d(48, eps=1e-05, momentum=0.1, affine=True, track_running_stats=True)\n",
       "          (4): ReLU()\n",
       "          (5): Conv2d(48, 12, kernel_size=(3, 3), stride=(1, 1), padding=(1, 1), bias=False)\n",
       "        )\n",
       "        (shortcut): Sequential()\n",
       "      )\n",
       "      (bottle_neck_layer_8): BottleNeck(\n",
       "        (residual): Sequential(\n",
       "          (0): BatchNorm2d(144, eps=1e-05, momentum=0.1, affine=True, track_running_stats=True)\n",
       "          (1): ReLU()\n",
       "          (2): Conv2d(144, 48, kernel_size=(1, 1), stride=(1, 1), bias=False)\n",
       "          (3): BatchNorm2d(48, eps=1e-05, momentum=0.1, affine=True, track_running_stats=True)\n",
       "          (4): ReLU()\n",
       "          (5): Conv2d(48, 12, kernel_size=(3, 3), stride=(1, 1), padding=(1, 1), bias=False)\n",
       "        )\n",
       "        (shortcut): Sequential()\n",
       "      )\n",
       "      (bottle_neck_layer_9): BottleNeck(\n",
       "        (residual): Sequential(\n",
       "          (0): BatchNorm2d(156, eps=1e-05, momentum=0.1, affine=True, track_running_stats=True)\n",
       "          (1): ReLU()\n",
       "          (2): Conv2d(156, 48, kernel_size=(1, 1), stride=(1, 1), bias=False)\n",
       "          (3): BatchNorm2d(48, eps=1e-05, momentum=0.1, affine=True, track_running_stats=True)\n",
       "          (4): ReLU()\n",
       "          (5): Conv2d(48, 12, kernel_size=(3, 3), stride=(1, 1), padding=(1, 1), bias=False)\n",
       "        )\n",
       "        (shortcut): Sequential()\n",
       "      )\n",
       "      (bottle_neck_layer_10): BottleNeck(\n",
       "        (residual): Sequential(\n",
       "          (0): BatchNorm2d(168, eps=1e-05, momentum=0.1, affine=True, track_running_stats=True)\n",
       "          (1): ReLU()\n",
       "          (2): Conv2d(168, 48, kernel_size=(1, 1), stride=(1, 1), bias=False)\n",
       "          (3): BatchNorm2d(48, eps=1e-05, momentum=0.1, affine=True, track_running_stats=True)\n",
       "          (4): ReLU()\n",
       "          (5): Conv2d(48, 12, kernel_size=(3, 3), stride=(1, 1), padding=(1, 1), bias=False)\n",
       "        )\n",
       "        (shortcut): Sequential()\n",
       "      )\n",
       "      (bottle_neck_layer_11): BottleNeck(\n",
       "        (residual): Sequential(\n",
       "          (0): BatchNorm2d(180, eps=1e-05, momentum=0.1, affine=True, track_running_stats=True)\n",
       "          (1): ReLU()\n",
       "          (2): Conv2d(180, 48, kernel_size=(1, 1), stride=(1, 1), bias=False)\n",
       "          (3): BatchNorm2d(48, eps=1e-05, momentum=0.1, affine=True, track_running_stats=True)\n",
       "          (4): ReLU()\n",
       "          (5): Conv2d(48, 12, kernel_size=(3, 3), stride=(1, 1), padding=(1, 1), bias=False)\n",
       "        )\n",
       "        (shortcut): Sequential()\n",
       "      )\n",
       "    )\n",
       "    (transition_layer_1): Transition(\n",
       "      (down_sample): Sequential(\n",
       "        (0): BatchNorm2d(192, eps=1e-05, momentum=0.1, affine=True, track_running_stats=True)\n",
       "        (1): ReLU()\n",
       "        (2): Conv2d(192, 96, kernel_size=(1, 1), stride=(1, 1), bias=False)\n",
       "        (3): AvgPool2d(kernel_size=2, stride=2, padding=0)\n",
       "      )\n",
       "    )\n",
       "    (dense_block_2): Sequential(\n",
       "      (bottle_neck_layer_0): BottleNeck(\n",
       "        (residual): Sequential(\n",
       "          (0): BatchNorm2d(96, eps=1e-05, momentum=0.1, affine=True, track_running_stats=True)\n",
       "          (1): ReLU()\n",
       "          (2): Conv2d(96, 48, kernel_size=(1, 1), stride=(1, 1), bias=False)\n",
       "          (3): BatchNorm2d(48, eps=1e-05, momentum=0.1, affine=True, track_running_stats=True)\n",
       "          (4): ReLU()\n",
       "          (5): Conv2d(48, 12, kernel_size=(3, 3), stride=(1, 1), padding=(1, 1), bias=False)\n",
       "        )\n",
       "        (shortcut): Sequential()\n",
       "      )\n",
       "      (bottle_neck_layer_1): BottleNeck(\n",
       "        (residual): Sequential(\n",
       "          (0): BatchNorm2d(108, eps=1e-05, momentum=0.1, affine=True, track_running_stats=True)\n",
       "          (1): ReLU()\n",
       "          (2): Conv2d(108, 48, kernel_size=(1, 1), stride=(1, 1), bias=False)\n",
       "          (3): BatchNorm2d(48, eps=1e-05, momentum=0.1, affine=True, track_running_stats=True)\n",
       "          (4): ReLU()\n",
       "          (5): Conv2d(48, 12, kernel_size=(3, 3), stride=(1, 1), padding=(1, 1), bias=False)\n",
       "        )\n",
       "        (shortcut): Sequential()\n",
       "      )\n",
       "      (bottle_neck_layer_2): BottleNeck(\n",
       "        (residual): Sequential(\n",
       "          (0): BatchNorm2d(120, eps=1e-05, momentum=0.1, affine=True, track_running_stats=True)\n",
       "          (1): ReLU()\n",
       "          (2): Conv2d(120, 48, kernel_size=(1, 1), stride=(1, 1), bias=False)\n",
       "          (3): BatchNorm2d(48, eps=1e-05, momentum=0.1, affine=True, track_running_stats=True)\n",
       "          (4): ReLU()\n",
       "          (5): Conv2d(48, 12, kernel_size=(3, 3), stride=(1, 1), padding=(1, 1), bias=False)\n",
       "        )\n",
       "        (shortcut): Sequential()\n",
       "      )\n",
       "      (bottle_neck_layer_3): BottleNeck(\n",
       "        (residual): Sequential(\n",
       "          (0): BatchNorm2d(132, eps=1e-05, momentum=0.1, affine=True, track_running_stats=True)\n",
       "          (1): ReLU()\n",
       "          (2): Conv2d(132, 48, kernel_size=(1, 1), stride=(1, 1), bias=False)\n",
       "          (3): BatchNorm2d(48, eps=1e-05, momentum=0.1, affine=True, track_running_stats=True)\n",
       "          (4): ReLU()\n",
       "          (5): Conv2d(48, 12, kernel_size=(3, 3), stride=(1, 1), padding=(1, 1), bias=False)\n",
       "        )\n",
       "        (shortcut): Sequential()\n",
       "      )\n",
       "      (bottle_neck_layer_4): BottleNeck(\n",
       "        (residual): Sequential(\n",
       "          (0): BatchNorm2d(144, eps=1e-05, momentum=0.1, affine=True, track_running_stats=True)\n",
       "          (1): ReLU()\n",
       "          (2): Conv2d(144, 48, kernel_size=(1, 1), stride=(1, 1), bias=False)\n",
       "          (3): BatchNorm2d(48, eps=1e-05, momentum=0.1, affine=True, track_running_stats=True)\n",
       "          (4): ReLU()\n",
       "          (5): Conv2d(48, 12, kernel_size=(3, 3), stride=(1, 1), padding=(1, 1), bias=False)\n",
       "        )\n",
       "        (shortcut): Sequential()\n",
       "      )\n",
       "      (bottle_neck_layer_5): BottleNeck(\n",
       "        (residual): Sequential(\n",
       "          (0): BatchNorm2d(156, eps=1e-05, momentum=0.1, affine=True, track_running_stats=True)\n",
       "          (1): ReLU()\n",
       "          (2): Conv2d(156, 48, kernel_size=(1, 1), stride=(1, 1), bias=False)\n",
       "          (3): BatchNorm2d(48, eps=1e-05, momentum=0.1, affine=True, track_running_stats=True)\n",
       "          (4): ReLU()\n",
       "          (5): Conv2d(48, 12, kernel_size=(3, 3), stride=(1, 1), padding=(1, 1), bias=False)\n",
       "        )\n",
       "        (shortcut): Sequential()\n",
       "      )\n",
       "      (bottle_neck_layer_6): BottleNeck(\n",
       "        (residual): Sequential(\n",
       "          (0): BatchNorm2d(168, eps=1e-05, momentum=0.1, affine=True, track_running_stats=True)\n",
       "          (1): ReLU()\n",
       "          (2): Conv2d(168, 48, kernel_size=(1, 1), stride=(1, 1), bias=False)\n",
       "          (3): BatchNorm2d(48, eps=1e-05, momentum=0.1, affine=True, track_running_stats=True)\n",
       "          (4): ReLU()\n",
       "          (5): Conv2d(48, 12, kernel_size=(3, 3), stride=(1, 1), padding=(1, 1), bias=False)\n",
       "        )\n",
       "        (shortcut): Sequential()\n",
       "      )\n",
       "      (bottle_neck_layer_7): BottleNeck(\n",
       "        (residual): Sequential(\n",
       "          (0): BatchNorm2d(180, eps=1e-05, momentum=0.1, affine=True, track_running_stats=True)\n",
       "          (1): ReLU()\n",
       "          (2): Conv2d(180, 48, kernel_size=(1, 1), stride=(1, 1), bias=False)\n",
       "          (3): BatchNorm2d(48, eps=1e-05, momentum=0.1, affine=True, track_running_stats=True)\n",
       "          (4): ReLU()\n",
       "          (5): Conv2d(48, 12, kernel_size=(3, 3), stride=(1, 1), padding=(1, 1), bias=False)\n",
       "        )\n",
       "        (shortcut): Sequential()\n",
       "      )\n",
       "      (bottle_neck_layer_8): BottleNeck(\n",
       "        (residual): Sequential(\n",
       "          (0): BatchNorm2d(192, eps=1e-05, momentum=0.1, affine=True, track_running_stats=True)\n",
       "          (1): ReLU()\n",
       "          (2): Conv2d(192, 48, kernel_size=(1, 1), stride=(1, 1), bias=False)\n",
       "          (3): BatchNorm2d(48, eps=1e-05, momentum=0.1, affine=True, track_running_stats=True)\n",
       "          (4): ReLU()\n",
       "          (5): Conv2d(48, 12, kernel_size=(3, 3), stride=(1, 1), padding=(1, 1), bias=False)\n",
       "        )\n",
       "        (shortcut): Sequential()\n",
       "      )\n",
       "      (bottle_neck_layer_9): BottleNeck(\n",
       "        (residual): Sequential(\n",
       "          (0): BatchNorm2d(204, eps=1e-05, momentum=0.1, affine=True, track_running_stats=True)\n",
       "          (1): ReLU()\n",
       "          (2): Conv2d(204, 48, kernel_size=(1, 1), stride=(1, 1), bias=False)\n",
       "          (3): BatchNorm2d(48, eps=1e-05, momentum=0.1, affine=True, track_running_stats=True)\n",
       "          (4): ReLU()\n",
       "          (5): Conv2d(48, 12, kernel_size=(3, 3), stride=(1, 1), padding=(1, 1), bias=False)\n",
       "        )\n",
       "        (shortcut): Sequential()\n",
       "      )\n",
       "      (bottle_neck_layer_10): BottleNeck(\n",
       "        (residual): Sequential(\n",
       "          (0): BatchNorm2d(216, eps=1e-05, momentum=0.1, affine=True, track_running_stats=True)\n",
       "          (1): ReLU()\n",
       "          (2): Conv2d(216, 48, kernel_size=(1, 1), stride=(1, 1), bias=False)\n",
       "          (3): BatchNorm2d(48, eps=1e-05, momentum=0.1, affine=True, track_running_stats=True)\n",
       "          (4): ReLU()\n",
       "          (5): Conv2d(48, 12, kernel_size=(3, 3), stride=(1, 1), padding=(1, 1), bias=False)\n",
       "        )\n",
       "        (shortcut): Sequential()\n",
       "      )\n",
       "      (bottle_neck_layer_11): BottleNeck(\n",
       "        (residual): Sequential(\n",
       "          (0): BatchNorm2d(228, eps=1e-05, momentum=0.1, affine=True, track_running_stats=True)\n",
       "          (1): ReLU()\n",
       "          (2): Conv2d(228, 48, kernel_size=(1, 1), stride=(1, 1), bias=False)\n",
       "          (3): BatchNorm2d(48, eps=1e-05, momentum=0.1, affine=True, track_running_stats=True)\n",
       "          (4): ReLU()\n",
       "          (5): Conv2d(48, 12, kernel_size=(3, 3), stride=(1, 1), padding=(1, 1), bias=False)\n",
       "        )\n",
       "        (shortcut): Sequential()\n",
       "      )\n",
       "      (bottle_neck_layer_12): BottleNeck(\n",
       "        (residual): Sequential(\n",
       "          (0): BatchNorm2d(240, eps=1e-05, momentum=0.1, affine=True, track_running_stats=True)\n",
       "          (1): ReLU()\n",
       "          (2): Conv2d(240, 48, kernel_size=(1, 1), stride=(1, 1), bias=False)\n",
       "          (3): BatchNorm2d(48, eps=1e-05, momentum=0.1, affine=True, track_running_stats=True)\n",
       "          (4): ReLU()\n",
       "          (5): Conv2d(48, 12, kernel_size=(3, 3), stride=(1, 1), padding=(1, 1), bias=False)\n",
       "        )\n",
       "        (shortcut): Sequential()\n",
       "      )\n",
       "      (bottle_neck_layer_13): BottleNeck(\n",
       "        (residual): Sequential(\n",
       "          (0): BatchNorm2d(252, eps=1e-05, momentum=0.1, affine=True, track_running_stats=True)\n",
       "          (1): ReLU()\n",
       "          (2): Conv2d(252, 48, kernel_size=(1, 1), stride=(1, 1), bias=False)\n",
       "          (3): BatchNorm2d(48, eps=1e-05, momentum=0.1, affine=True, track_running_stats=True)\n",
       "          (4): ReLU()\n",
       "          (5): Conv2d(48, 12, kernel_size=(3, 3), stride=(1, 1), padding=(1, 1), bias=False)\n",
       "        )\n",
       "        (shortcut): Sequential()\n",
       "      )\n",
       "      (bottle_neck_layer_14): BottleNeck(\n",
       "        (residual): Sequential(\n",
       "          (0): BatchNorm2d(264, eps=1e-05, momentum=0.1, affine=True, track_running_stats=True)\n",
       "          (1): ReLU()\n",
       "          (2): Conv2d(264, 48, kernel_size=(1, 1), stride=(1, 1), bias=False)\n",
       "          (3): BatchNorm2d(48, eps=1e-05, momentum=0.1, affine=True, track_running_stats=True)\n",
       "          (4): ReLU()\n",
       "          (5): Conv2d(48, 12, kernel_size=(3, 3), stride=(1, 1), padding=(1, 1), bias=False)\n",
       "        )\n",
       "        (shortcut): Sequential()\n",
       "      )\n",
       "      (bottle_neck_layer_15): BottleNeck(\n",
       "        (residual): Sequential(\n",
       "          (0): BatchNorm2d(276, eps=1e-05, momentum=0.1, affine=True, track_running_stats=True)\n",
       "          (1): ReLU()\n",
       "          (2): Conv2d(276, 48, kernel_size=(1, 1), stride=(1, 1), bias=False)\n",
       "          (3): BatchNorm2d(48, eps=1e-05, momentum=0.1, affine=True, track_running_stats=True)\n",
       "          (4): ReLU()\n",
       "          (5): Conv2d(48, 12, kernel_size=(3, 3), stride=(1, 1), padding=(1, 1), bias=False)\n",
       "        )\n",
       "        (shortcut): Sequential()\n",
       "      )\n",
       "      (bottle_neck_layer_16): BottleNeck(\n",
       "        (residual): Sequential(\n",
       "          (0): BatchNorm2d(288, eps=1e-05, momentum=0.1, affine=True, track_running_stats=True)\n",
       "          (1): ReLU()\n",
       "          (2): Conv2d(288, 48, kernel_size=(1, 1), stride=(1, 1), bias=False)\n",
       "          (3): BatchNorm2d(48, eps=1e-05, momentum=0.1, affine=True, track_running_stats=True)\n",
       "          (4): ReLU()\n",
       "          (5): Conv2d(48, 12, kernel_size=(3, 3), stride=(1, 1), padding=(1, 1), bias=False)\n",
       "        )\n",
       "        (shortcut): Sequential()\n",
       "      )\n",
       "      (bottle_neck_layer_17): BottleNeck(\n",
       "        (residual): Sequential(\n",
       "          (0): BatchNorm2d(300, eps=1e-05, momentum=0.1, affine=True, track_running_stats=True)\n",
       "          (1): ReLU()\n",
       "          (2): Conv2d(300, 48, kernel_size=(1, 1), stride=(1, 1), bias=False)\n",
       "          (3): BatchNorm2d(48, eps=1e-05, momentum=0.1, affine=True, track_running_stats=True)\n",
       "          (4): ReLU()\n",
       "          (5): Conv2d(48, 12, kernel_size=(3, 3), stride=(1, 1), padding=(1, 1), bias=False)\n",
       "        )\n",
       "        (shortcut): Sequential()\n",
       "      )\n",
       "      (bottle_neck_layer_18): BottleNeck(\n",
       "        (residual): Sequential(\n",
       "          (0): BatchNorm2d(312, eps=1e-05, momentum=0.1, affine=True, track_running_stats=True)\n",
       "          (1): ReLU()\n",
       "          (2): Conv2d(312, 48, kernel_size=(1, 1), stride=(1, 1), bias=False)\n",
       "          (3): BatchNorm2d(48, eps=1e-05, momentum=0.1, affine=True, track_running_stats=True)\n",
       "          (4): ReLU()\n",
       "          (5): Conv2d(48, 12, kernel_size=(3, 3), stride=(1, 1), padding=(1, 1), bias=False)\n",
       "        )\n",
       "        (shortcut): Sequential()\n",
       "      )\n",
       "      (bottle_neck_layer_19): BottleNeck(\n",
       "        (residual): Sequential(\n",
       "          (0): BatchNorm2d(324, eps=1e-05, momentum=0.1, affine=True, track_running_stats=True)\n",
       "          (1): ReLU()\n",
       "          (2): Conv2d(324, 48, kernel_size=(1, 1), stride=(1, 1), bias=False)\n",
       "          (3): BatchNorm2d(48, eps=1e-05, momentum=0.1, affine=True, track_running_stats=True)\n",
       "          (4): ReLU()\n",
       "          (5): Conv2d(48, 12, kernel_size=(3, 3), stride=(1, 1), padding=(1, 1), bias=False)\n",
       "        )\n",
       "        (shortcut): Sequential()\n",
       "      )\n",
       "      (bottle_neck_layer_20): BottleNeck(\n",
       "        (residual): Sequential(\n",
       "          (0): BatchNorm2d(336, eps=1e-05, momentum=0.1, affine=True, track_running_stats=True)\n",
       "          (1): ReLU()\n",
       "          (2): Conv2d(336, 48, kernel_size=(1, 1), stride=(1, 1), bias=False)\n",
       "          (3): BatchNorm2d(48, eps=1e-05, momentum=0.1, affine=True, track_running_stats=True)\n",
       "          (4): ReLU()\n",
       "          (5): Conv2d(48, 12, kernel_size=(3, 3), stride=(1, 1), padding=(1, 1), bias=False)\n",
       "        )\n",
       "        (shortcut): Sequential()\n",
       "      )\n",
       "      (bottle_neck_layer_21): BottleNeck(\n",
       "        (residual): Sequential(\n",
       "          (0): BatchNorm2d(348, eps=1e-05, momentum=0.1, affine=True, track_running_stats=True)\n",
       "          (1): ReLU()\n",
       "          (2): Conv2d(348, 48, kernel_size=(1, 1), stride=(1, 1), bias=False)\n",
       "          (3): BatchNorm2d(48, eps=1e-05, momentum=0.1, affine=True, track_running_stats=True)\n",
       "          (4): ReLU()\n",
       "          (5): Conv2d(48, 12, kernel_size=(3, 3), stride=(1, 1), padding=(1, 1), bias=False)\n",
       "        )\n",
       "        (shortcut): Sequential()\n",
       "      )\n",
       "      (bottle_neck_layer_22): BottleNeck(\n",
       "        (residual): Sequential(\n",
       "          (0): BatchNorm2d(360, eps=1e-05, momentum=0.1, affine=True, track_running_stats=True)\n",
       "          (1): ReLU()\n",
       "          (2): Conv2d(360, 48, kernel_size=(1, 1), stride=(1, 1), bias=False)\n",
       "          (3): BatchNorm2d(48, eps=1e-05, momentum=0.1, affine=True, track_running_stats=True)\n",
       "          (4): ReLU()\n",
       "          (5): Conv2d(48, 12, kernel_size=(3, 3), stride=(1, 1), padding=(1, 1), bias=False)\n",
       "        )\n",
       "        (shortcut): Sequential()\n",
       "      )\n",
       "      (bottle_neck_layer_23): BottleNeck(\n",
       "        (residual): Sequential(\n",
       "          (0): BatchNorm2d(372, eps=1e-05, momentum=0.1, affine=True, track_running_stats=True)\n",
       "          (1): ReLU()\n",
       "          (2): Conv2d(372, 48, kernel_size=(1, 1), stride=(1, 1), bias=False)\n",
       "          (3): BatchNorm2d(48, eps=1e-05, momentum=0.1, affine=True, track_running_stats=True)\n",
       "          (4): ReLU()\n",
       "          (5): Conv2d(48, 12, kernel_size=(3, 3), stride=(1, 1), padding=(1, 1), bias=False)\n",
       "        )\n",
       "        (shortcut): Sequential()\n",
       "      )\n",
       "    )\n",
       "    (transition_layer_2): Transition(\n",
       "      (down_sample): Sequential(\n",
       "        (0): BatchNorm2d(384, eps=1e-05, momentum=0.1, affine=True, track_running_stats=True)\n",
       "        (1): ReLU()\n",
       "        (2): Conv2d(384, 192, kernel_size=(1, 1), stride=(1, 1), bias=False)\n",
       "        (3): AvgPool2d(kernel_size=2, stride=2, padding=0)\n",
       "      )\n",
       "    )\n",
       "    (dense_block_3): Sequential(\n",
       "      (bottle_neck_layer_0): BottleNeck(\n",
       "        (residual): Sequential(\n",
       "          (0): BatchNorm2d(192, eps=1e-05, momentum=0.1, affine=True, track_running_stats=True)\n",
       "          (1): ReLU()\n",
       "          (2): Conv2d(192, 48, kernel_size=(1, 1), stride=(1, 1), bias=False)\n",
       "          (3): BatchNorm2d(48, eps=1e-05, momentum=0.1, affine=True, track_running_stats=True)\n",
       "          (4): ReLU()\n",
       "          (5): Conv2d(48, 12, kernel_size=(3, 3), stride=(1, 1), padding=(1, 1), bias=False)\n",
       "        )\n",
       "        (shortcut): Sequential()\n",
       "      )\n",
       "      (bottle_neck_layer_1): BottleNeck(\n",
       "        (residual): Sequential(\n",
       "          (0): BatchNorm2d(204, eps=1e-05, momentum=0.1, affine=True, track_running_stats=True)\n",
       "          (1): ReLU()\n",
       "          (2): Conv2d(204, 48, kernel_size=(1, 1), stride=(1, 1), bias=False)\n",
       "          (3): BatchNorm2d(48, eps=1e-05, momentum=0.1, affine=True, track_running_stats=True)\n",
       "          (4): ReLU()\n",
       "          (5): Conv2d(48, 12, kernel_size=(3, 3), stride=(1, 1), padding=(1, 1), bias=False)\n",
       "        )\n",
       "        (shortcut): Sequential()\n",
       "      )\n",
       "      (bottle_neck_layer_2): BottleNeck(\n",
       "        (residual): Sequential(\n",
       "          (0): BatchNorm2d(216, eps=1e-05, momentum=0.1, affine=True, track_running_stats=True)\n",
       "          (1): ReLU()\n",
       "          (2): Conv2d(216, 48, kernel_size=(1, 1), stride=(1, 1), bias=False)\n",
       "          (3): BatchNorm2d(48, eps=1e-05, momentum=0.1, affine=True, track_running_stats=True)\n",
       "          (4): ReLU()\n",
       "          (5): Conv2d(48, 12, kernel_size=(3, 3), stride=(1, 1), padding=(1, 1), bias=False)\n",
       "        )\n",
       "        (shortcut): Sequential()\n",
       "      )\n",
       "      (bottle_neck_layer_3): BottleNeck(\n",
       "        (residual): Sequential(\n",
       "          (0): BatchNorm2d(228, eps=1e-05, momentum=0.1, affine=True, track_running_stats=True)\n",
       "          (1): ReLU()\n",
       "          (2): Conv2d(228, 48, kernel_size=(1, 1), stride=(1, 1), bias=False)\n",
       "          (3): BatchNorm2d(48, eps=1e-05, momentum=0.1, affine=True, track_running_stats=True)\n",
       "          (4): ReLU()\n",
       "          (5): Conv2d(48, 12, kernel_size=(3, 3), stride=(1, 1), padding=(1, 1), bias=False)\n",
       "        )\n",
       "        (shortcut): Sequential()\n",
       "      )\n",
       "      (bottle_neck_layer_4): BottleNeck(\n",
       "        (residual): Sequential(\n",
       "          (0): BatchNorm2d(240, eps=1e-05, momentum=0.1, affine=True, track_running_stats=True)\n",
       "          (1): ReLU()\n",
       "          (2): Conv2d(240, 48, kernel_size=(1, 1), stride=(1, 1), bias=False)\n",
       "          (3): BatchNorm2d(48, eps=1e-05, momentum=0.1, affine=True, track_running_stats=True)\n",
       "          (4): ReLU()\n",
       "          (5): Conv2d(48, 12, kernel_size=(3, 3), stride=(1, 1), padding=(1, 1), bias=False)\n",
       "        )\n",
       "        (shortcut): Sequential()\n",
       "      )\n",
       "      (bottle_neck_layer_5): BottleNeck(\n",
       "        (residual): Sequential(\n",
       "          (0): BatchNorm2d(252, eps=1e-05, momentum=0.1, affine=True, track_running_stats=True)\n",
       "          (1): ReLU()\n",
       "          (2): Conv2d(252, 48, kernel_size=(1, 1), stride=(1, 1), bias=False)\n",
       "          (3): BatchNorm2d(48, eps=1e-05, momentum=0.1, affine=True, track_running_stats=True)\n",
       "          (4): ReLU()\n",
       "          (5): Conv2d(48, 12, kernel_size=(3, 3), stride=(1, 1), padding=(1, 1), bias=False)\n",
       "        )\n",
       "        (shortcut): Sequential()\n",
       "      )\n",
       "    )\n",
       "    (bn): BatchNorm2d(264, eps=1e-05, momentum=0.1, affine=True, track_running_stats=True)\n",
       "    (relu): ReLU()\n",
       "  )\n",
       "  (avg_pool): AdaptiveAvgPool2d(output_size=(1, 1))\n",
       "  (linear): Linear(in_features=264, out_features=10, bias=True)\n",
       ")"
      ]
     },
     "execution_count": 27,
     "metadata": {},
     "output_type": "execute_result"
    }
   ],
   "source": []
  },
  {
   "cell_type": "code",
   "execution_count": 47,
   "id": "3e255943",
   "metadata": {},
   "outputs": [
    {
     "name": "stdout",
     "output_type": "stream",
     "text": [
      "44.72763618190905\n"
     ]
    }
   ],
   "source": [
    "total = 0\n",
    "correct = 0\n",
    "with torch.no_grad():\n",
    "    for data in test_loader:\n",
    "      images, labels = data[0].to(device), data[1].to(device)\n",
    "      outputs= model(images)\n",
    "      _, predicted = torch.max(outputs.data,1)\n",
    "      total +=labels.size(0)\n",
    "      correct += (predicted == labels).sum().item()\n",
    "\n",
    "print(100* correct/total)"
   ]
  },
  {
   "cell_type": "code",
   "execution_count": 46,
   "id": "9efd9a35",
   "metadata": {},
   "outputs": [
    {
     "name": "stdout",
     "output_type": "stream",
     "text": [
      "Accuracy of airplane : 67.85714285714286 %\n",
      "Accuracy of automobile : 75.0 %\n",
      "Accuracy of bird : 29.166666666666668 %\n",
      "Accuracy of cat : 25.0 %\n",
      "Accuracy of deer : 46.42857142857143 %\n",
      "Accuracy of dog : 29.166666666666668 %\n",
      "Accuracy of frog : 20.833333333333332 %\n",
      "Accuracy of horse : 40.0 %\n",
      "Accuracy of ship : 44.44444444444444 %\n",
      "Accuracy of truck : 45.833333333333336 %\n"
     ]
    }
   ],
   "source": [
    "class_correct = list(0. for i in range(10))\n",
    "class_total = list(0. for i in range(10))\n",
    "\n",
    "with torch.no_grad():\n",
    "  for data in test_loader:\n",
    "    images, labels = data[0].to(device), data[1].to(device)\n",
    "    outputs= model(images)\n",
    "    _, predicted = torch.max(outputs.data,1)\n",
    "    c= (predicted == labels).squeeze()\n",
    "    for i in range(4):\n",
    "      label= labels[i]\n",
    "      class_correct[label]+= c[i].item()\n",
    "      class_total[label]+= 1\n",
    "\n",
    "for i in range(10):\n",
    "  print(\"Accuracy of {} : {} %\".format(classes[i],100* class_correct[i]/class_total[i]))"
   ]
  },
  {
   "cell_type": "code",
   "execution_count": 34,
   "id": "7d364c0a",
   "metadata": {},
   "outputs": [],
   "source": [
    "def imshow(img):    # unnormalize\n",
    "    npimg = img.numpy()\n",
    "    plt.imshow(np.transpose(npimg, (1, 2, 0)))\n",
    "    plt.show()"
   ]
  },
  {
   "cell_type": "code",
   "execution_count": 32,
   "id": "5cfbed78",
   "metadata": {},
   "outputs": [],
   "source": [
    "def predict(input):\n",
    "    out = model(input.reshape(1, 3, 32, 32))\n",
    "    _, pred = torch.max(out, dim=1)\n",
    "    return classes[pred]\n",
    "\n",
    "def check_sample(img_label_pair):\n",
    "    imshow(img_label_pair[0])\n",
    "    print(\"Predicted: \" + predict(img_label_pair[0]))\n",
    "    print(\"Desired output: \" + classes[img_label_pair[1]])"
   ]
  },
  {
   "cell_type": "code",
   "execution_count": 48,
   "id": "72ac801c",
   "metadata": {},
   "outputs": [
    {
     "name": "stderr",
     "output_type": "stream",
     "text": [
      "Clipping input data to the valid range for imshow with RGB data ([0..1] for floats or [0..255] for integers).\n"
     ]
    },
    {
     "data": {
      "image/png": "[encoded data removed]",
      "text/plain": [
       "<Figure size 432x288 with 1 Axes>"
      ]
     },
     "metadata": {},
     "output_type": "display_data"
    },
    {
     "name": "stderr",
     "output_type": "stream",
     "text": [
      "Clipping input data to the valid range for imshow with RGB data ([0..1] for floats or [0..255] for integers).\n"
     ]
    },
    {
     "name": "stdout",
     "output_type": "stream",
     "text": [
      "Predicted: cat\n",
      "Desired output: airplane\n"
     ]
    },
    {
     "data": {
      "image/png": "[encoded data removed]",
      "text/plain": [
       "<Figure size 432x288 with 1 Axes>"
      ]
     },
     "metadata": {},
     "output_type": "display_data"
    },
    {
     "name": "stderr",
     "output_type": "stream",
     "text": [
      "Clipping input data to the valid range for imshow with RGB data ([0..1] for floats or [0..255] for integers).\n"
     ]
    },
    {
     "name": "stdout",
     "output_type": "stream",
     "text": [
      "Predicted: airplane\n",
      "Desired output: airplane\n"
     ]
    },
    {
     "data": {
      "image/png": "[encoded data removed]",
      "text/plain": [
       "<Figure size 432x288 with 1 Axes>"
      ]
     },
     "metadata": {},
     "output_type": "display_data"
    },
    {
     "name": "stdout",
     "output_type": "stream",
     "text": [
      "Predicted: bird\n",
      "Desired output: airplane\n"
     ]
    },
    {
     "name": "stderr",
     "output_type": "stream",
     "text": [
      "Clipping input data to the valid range for imshow with RGB data ([0..1] for floats or [0..255] for integers).\n"
     ]
    },
    {
     "data": {
      "image/png": "[encoded data removed]",
      "text/plain": [
       "<Figure size 432x288 with 1 Axes>"
      ]
     },
     "metadata": {},
     "output_type": "display_data"
    },
    {
     "name": "stderr",
     "output_type": "stream",
     "text": [
      "Clipping input data to the valid range for imshow with RGB data ([0..1] for floats or [0..255] for integers).\n"
     ]
    },
    {
     "name": "stdout",
     "output_type": "stream",
     "text": [
      "Predicted: airplane\n",
      "Desired output: airplane\n"
     ]
    },
    {
     "data": {
      "image/png": "[encoded data removed]",
      "text/plain": [
       "<Figure size 432x288 with 1 Axes>"
      ]
     },
     "metadata": {},
     "output_type": "display_data"
    },
    {
     "name": "stderr",
     "output_type": "stream",
     "text": [
      "Clipping input data to the valid range for imshow with RGB data ([0..1] for floats or [0..255] for integers).\n"
     ]
    },
    {
     "name": "stdout",
     "output_type": "stream",
     "text": [
      "Predicted: airplane\n",
      "Desired output: airplane\n"
     ]
    },
    {
     "data": {
      "image/png": "[encoded data removed]",
      "text/plain": [
       "<Figure size 432x288 with 1 Axes>"
      ]
     },
     "metadata": {},
     "output_type": "display_data"
    },
    {
     "name": "stdout",
     "output_type": "stream",
     "text": [
      "Predicted: airplane"
     ]
    },
    {
     "name": "stderr",
     "output_type": "stream",
     "text": [
      "Clipping input data to the valid range for imshow with RGB data ([0..1] for floats or [0..255] for integers).\n"
     ]
    },
    {
     "name": "stdout",
     "output_type": "stream",
     "text": [
      "\n",
      "Desired output: airplane\n"
     ]
    },
    {
     "data": {
      "image/png": "[encoded data removed]",
      "text/plain": [
       "<Figure size 432x288 with 1 Axes>"
      ]
     },
     "metadata": {},
     "output_type": "display_data"
    },
    {
     "name": "stdout",
     "output_type": "stream",
     "text": [
      "Predicted: automobile\n",
      "Desired output: airplane\n"
     ]
    },
    {
     "name": "stderr",
     "output_type": "stream",
     "text": [
      "Clipping input data to the valid range for imshow with RGB data ([0..1] for floats or [0..255] for integers).\n"
     ]
    },
    {
     "data": {
      "image/png": "[encoded data removed]",
      "text/plain": [
       "<Figure size 432x288 with 1 Axes>"
      ]
     },
     "metadata": {},
     "output_type": "display_data"
    },
    {
     "name": "stdout",
     "output_type": "stream",
     "text": [
      "Predicted: airplane\n",
      "Desired output: airplane\n"
     ]
    },
    {
     "name": "stderr",
     "output_type": "stream",
     "text": [
      "Clipping input data to the valid range for imshow with RGB data ([0..1] for floats or [0..255] for integers).\n"
     ]
    },
    {
     "data": {
      "image/png": "[encoded data removed]",
      "text/plain": [
       "<Figure size 432x288 with 1 Axes>"
      ]
     },
     "metadata": {},
     "output_type": "display_data"
    },
    {
     "name": "stderr",
     "output_type": "stream",
     "text": [
      "Clipping input data to the valid range for imshow with RGB data ([0..1] for floats or [0..255] for integers).\n"
     ]
    },
    {
     "name": "stdout",
     "output_type": "stream",
     "text": [
      "Predicted: airplane\n",
      "Desired output: airplane\n"
     ]
    },
    {
     "data": {
      "image/png": "[encoded data removed]",
      "text/plain": [
       "<Figure size 432x288 with 1 Axes>"
      ]
     },
     "metadata": {},
     "output_type": "display_data"
    },
    {
     "name": "stderr",
     "output_type": "stream",
     "text": [
      "Clipping input data to the valid range for imshow with RGB data ([0..1] for floats or [0..255] for integers).\n"
     ]
    },
    {
     "name": "stdout",
     "output_type": "stream",
     "text": [
      "Predicted: airplane\n",
      "Desired output: airplane\n"
     ]
    },
    {
     "data": {
      "image/png": "[encoded data removed]",
      "text/plain": [
       "<Figure size 432x288 with 1 Axes>"
      ]
     },
     "metadata": {},
     "output_type": "display_data"
    },
    {
     "name": "stdout",
     "output_type": "stream",
     "text": [
      "Predicted: airplane\n",
      "Desired output: airplane\n"
     ]
    },
    {
     "name": "stderr",
     "output_type": "stream",
     "text": [
      "Clipping input data to the valid range for imshow with RGB data ([0..1] for floats or [0..255] for integers).\n"
     ]
    },
    {
     "data": {
      "image/png": "[encoded data removed]",
      "text/plain": [
       "<Figure size 432x288 with 1 Axes>"
      ]
     },
     "metadata": {},
     "output_type": "display_data"
    },
    {
     "name": "stdout",
     "output_type": "stream",
     "text": [
      "Predicted: airplane\n",
      "Desired output: airplane\n"
     ]
    },
    {
     "name": "stderr",
     "output_type": "stream",
     "text": [
      "Clipping input data to the valid range for imshow with RGB data ([0..1] for floats or [0..255] for integers).\n"
     ]
    },
    {
     "data": {
      "image/png": "[encoded data removed]",
      "text/plain": [
       "<Figure size 432x288 with 1 Axes>"
      ]
     },
     "metadata": {},
     "output_type": "display_data"
    },
    {
     "name": "stderr",
     "output_type": "stream",
     "text": [
      "Clipping input data to the valid range for imshow with RGB data ([0..1] for floats or [0..255] for integers).\n"
     ]
    },
    {
     "name": "stdout",
     "output_type": "stream",
     "text": [
      "Predicted: airplane\n",
      "Desired output: airplane\n"
     ]
    },
    {
     "data": {
      "image/png": "[encoded data removed]",
      "text/plain": [
       "<Figure size 432x288 with 1 Axes>"
      ]
     },
     "metadata": {},
     "output_type": "display_data"
    },
    {
     "name": "stdout",
     "output_type": "stream",
     "text": [
      "Predicted: airplane\n",
      "Desired output: airplane\n"
     ]
    },
    {
     "name": "stderr",
     "output_type": "stream",
     "text": [
      "Clipping input data to the valid range for imshow with RGB data ([0..1] for floats or [0..255] for integers).\n"
     ]
    },
    {
     "data": {
      "image/png": "[encoded data removed]",
      "text/plain": [
       "<Figure size 432x288 with 1 Axes>"
      ]
     },
     "metadata": {},
     "output_type": "display_data"
    },
    {
     "name": "stdout",
     "output_type": "stream",
     "text": [
      "Predicted: airplane"
     ]
    },
    {
     "name": "stderr",
     "output_type": "stream",
     "text": [
      "Clipping input data to the valid range for imshow with RGB data ([0..1] for floats or [0..255] for integers).\n"
     ]
    },
    {
     "name": "stdout",
     "output_type": "stream",
     "text": [
      "\n",
      "Desired output: airplane\n"
     ]
    },
    {
     "data": {
      "image/png": "[encoded data removed]",
      "text/plain": [
       "<Figure size 432x288 with 1 Axes>"
      ]
     },
     "metadata": {},
     "output_type": "display_data"
    },
    {
     "name": "stdout",
     "output_type": "stream",
     "text": [
      "Predicted: airplane\n",
      "Desired output: airplane\n"
     ]
    },
    {
     "name": "stderr",
     "output_type": "stream",
     "text": [
      "Clipping input data to the valid range for imshow with RGB data ([0..1] for floats or [0..255] for integers).\n"
     ]
    },
    {
     "data": {
      "image/png": "[encoded data removed]",
      "text/plain": [
       "<Figure size 432x288 with 1 Axes>"
      ]
     },
     "metadata": {},
     "output_type": "display_data"
    },
    {
     "name": "stdout",
     "output_type": "stream",
     "text": [
      "Predicted: airplane\n",
      "Desired output: airplane\n"
     ]
    },
    {
     "name": "stderr",
     "output_type": "stream",
     "text": [
      "Clipping input data to the valid range for imshow with RGB data ([0..1] for floats or [0..255] for integers).\n"
     ]
    },
    {
     "data": {
      "image/png": "[encoded data removed]",
      "text/plain": [
       "<Figure size 432x288 with 1 Axes>"
      ]
     },
     "metadata": {},
     "output_type": "display_data"
    },
    {
     "name": "stderr",
     "output_type": "stream",
     "text": [
      "Clipping input data to the valid range for imshow with RGB data ([0..1] for floats or [0..255] for integers).\n"
     ]
    },
    {
     "name": "stdout",
     "output_type": "stream",
     "text": [
      "Predicted: airplane\n",
      "Desired output: airplane\n"
     ]
    },
    {
     "data": {
      "image/png": "[encoded data removed]",
      "text/plain": [
       "<Figure size 432x288 with 1 Axes>"
      ]
     },
     "metadata": {},
     "output_type": "display_data"
    },
    {
     "name": "stderr",
     "output_type": "stream",
     "text": [
      "Clipping input data to the valid range for imshow with RGB data ([0..1] for floats or [0..255] for integers).\n"
     ]
    },
    {
     "name": "stdout",
     "output_type": "stream",
     "text": [
      "Predicted: airplane\n",
      "Desired output: airplane\n"
     ]
    },
    {
     "data": {
      "image/png": "[encoded data removed]",
      "text/plain": [
       "<Figure size 432x288 with 1 Axes>"
      ]
     },
     "metadata": {},
     "output_type": "display_data"
    },
    {
     "name": "stderr",
     "output_type": "stream",
     "text": [
      "Clipping input data to the valid range for imshow with RGB data ([0..1] for floats or [0..255] for integers).\n"
     ]
    },
    {
     "name": "stdout",
     "output_type": "stream",
     "text": [
      "Predicted: airplane\n",
      "Desired output: airplane\n"
     ]
    },
    {
     "data": {
      "image/png": "[encoded data removed]",
      "text/plain": [
       "<Figure size 432x288 with 1 Axes>"
      ]
     },
     "metadata": {},
     "output_type": "display_data"
    },
    {
     "name": "stderr",
     "output_type": "stream",
     "text": [
      "Clipping input data to the valid range for imshow with RGB data ([0..1] for floats or [0..255] for integers).\n"
     ]
    },
    {
     "name": "stdout",
     "output_type": "stream",
     "text": [
      "Predicted: bird\n",
      "Desired output: airplane\n"
     ]
    },
    {
     "data": {
      "image/png": "[encoded data removed]",
      "text/plain": [
       "<Figure size 432x288 with 1 Axes>"
      ]
     },
     "metadata": {},
     "output_type": "display_data"
    },
    {
     "name": "stdout",
     "output_type": "stream",
     "text": [
      "Predicted: cat"
     ]
    },
    {
     "name": "stderr",
     "output_type": "stream",
     "text": [
      "Clipping input data to the valid range for imshow with RGB data ([0..1] for floats or [0..255] for integers).\n"
     ]
    },
    {
     "name": "stdout",
     "output_type": "stream",
     "text": [
      "\n",
      "Desired output: airplane\n"
     ]
    },
    {
     "data": {
      "image/png": "[encoded data removed]",
      "text/plain": [
       "<Figure size 432x288 with 1 Axes>"
      ]
     },
     "metadata": {},
     "output_type": "display_data"
    },
    {
     "name": "stderr",
     "output_type": "stream",
     "text": [
      "Clipping input data to the valid range for imshow with RGB data ([0..1] for floats or [0..255] for integers).\n"
     ]
    },
    {
     "name": "stdout",
     "output_type": "stream",
     "text": [
      "Predicted: airplane\n",
      "Desired output: airplane\n"
     ]
    },
    {
     "data": {
      "image/png": "[encoded data removed]",
      "text/plain": [
       "<Figure size 432x288 with 1 Axes>"
      ]
     },
     "metadata": {},
     "output_type": "display_data"
    },
    {
     "name": "stderr",
     "output_type": "stream",
     "text": [
      "Clipping input data to the valid range for imshow with RGB data ([0..1] for floats or [0..255] for integers).\n"
     ]
    },
    {
     "name": "stdout",
     "output_type": "stream",
     "text": [
      "Predicted: truck\n",
      "Desired output: airplane\n"
     ]
    },
    {
     "data": {
      "image/png": "[encoded data removed]",
      "text/plain": [
       "<Figure size 432x288 with 1 Axes>"
      ]
     },
     "metadata": {},
     "output_type": "display_data"
    },
    {
     "name": "stderr",
     "output_type": "stream",
     "text": [
      "Clipping input data to the valid range for imshow with RGB data ([0..1] for floats or [0..255] for integers).\n"
     ]
    },
    {
     "name": "stdout",
     "output_type": "stream",
     "text": [
      "Predicted: airplane\n",
      "Desired output: airplane\n"
     ]
    },
    {
     "data": {
      "image/png": "[encoded data removed]",
      "text/plain": [
       "<Figure size 432x288 with 1 Axes>"
      ]
     },
     "metadata": {},
     "output_type": "display_data"
    },
    {
     "name": "stderr",
     "output_type": "stream",
     "text": [
      "Clipping input data to the valid range for imshow with RGB data ([0..1] for floats or [0..255] for integers).\n"
     ]
    },
    {
     "name": "stdout",
     "output_type": "stream",
     "text": [
      "Predicted: airplane\n",
      "Desired output: airplane\n"
     ]
    },
    {
     "data": {
      "image/png": "[encoded data removed]",
      "text/plain": [
       "<Figure size 432x288 with 1 Axes>"
      ]
     },
     "metadata": {},
     "output_type": "display_data"
    },
    {
     "name": "stdout",
     "output_type": "stream",
     "text": [
      "Predicted: airplane"
     ]
    },
    {
     "name": "stderr",
     "output_type": "stream",
     "text": [
      "Clipping input data to the valid range for imshow with RGB data ([0..1] for floats or [0..255] for integers).\n"
     ]
    },
    {
     "name": "stdout",
     "output_type": "stream",
     "text": [
      "\n",
      "Desired output: airplane\n"
     ]
    },
    {
     "data": {
      "image/png": "[encoded data removed]",
      "text/plain": [
       "<Figure size 432x288 with 1 Axes>"
      ]
     },
     "metadata": {},
     "output_type": "display_data"
    },
    {
     "name": "stdout",
     "output_type": "stream",
     "text": [
      "Predicted: airplane\n",
      "Desired output: airplane\n"
     ]
    },
    {
     "name": "stderr",
     "output_type": "stream",
     "text": [
      "Clipping input data to the valid range for imshow with RGB data ([0..1] for floats or [0..255] for integers).\n"
     ]
    },
    {
     "data": {
      "image/png": "[encoded data removed]",
      "text/plain": [
       "<Figure size 432x288 with 1 Axes>"
      ]
     },
     "metadata": {},
     "output_type": "display_data"
    },
    {
     "name": "stdout",
     "output_type": "stream",
     "text": [
      "Predicted: bird\n",
      "Desired output: airplane\n"
     ]
    },
    {
     "name": "stderr",
     "output_type": "stream",
     "text": [
      "Clipping input data to the valid range for imshow with RGB data ([0..1] for floats or [0..255] for integers).\n"
     ]
    },
    {
     "data": {
      "image/png": "[encoded data removed]",
      "text/plain": [
       "<Figure size 432x288 with 1 Axes>"
      ]
     },
     "metadata": {},
     "output_type": "display_data"
    },
    {
     "name": "stdout",
     "output_type": "stream",
     "text": [
      "Predicted: bird\n",
      "Desired output: airplane\n"
     ]
    },
    {
     "name": "stderr",
     "output_type": "stream",
     "text": [
      "Clipping input data to the valid range for imshow with RGB data ([0..1] for floats or [0..255] for integers).\n"
     ]
    },
    {
     "data": {
      "image/png": "[encoded data removed]",
      "text/plain": [
       "<Figure size 432x288 with 1 Axes>"
      ]
     },
     "metadata": {},
     "output_type": "display_data"
    },
    {
     "name": "stdout",
     "output_type": "stream",
     "text": [
      "Predicted: airplane\n",
      "Desired output: airplane\n"
     ]
    },
    {
     "name": "stderr",
     "output_type": "stream",
     "text": [
      "Clipping input data to the valid range for imshow with RGB data ([0..1] for floats or [0..255] for integers).\n"
     ]
    },
    {
     "data": {
      "image/png": "[encoded data removed]",
      "text/plain": [
       "<Figure size 432x288 with 1 Axes>"
      ]
     },
     "metadata": {},
     "output_type": "display_data"
    },
    {
     "name": "stderr",
     "output_type": "stream",
     "text": [
      "Clipping input data to the valid range for imshow with RGB data ([0..1] for floats or [0..255] for integers).\n"
     ]
    },
    {
     "name": "stdout",
     "output_type": "stream",
     "text": [
      "Predicted: truck\n",
      "Desired output: airplane\n"
     ]
    },
    {
     "data": {
      "image/png": "[encoded data removed]",
      "text/plain": [
       "<Figure size 432x288 with 1 Axes>"
      ]
     },
     "metadata": {},
     "output_type": "display_data"
    },
    {
     "name": "stdout",
     "output_type": "stream",
     "text": [
      "Predicted: airplane"
     ]
    },
    {
     "name": "stderr",
     "output_type": "stream",
     "text": [
      "Clipping input data to the valid range for imshow with RGB data ([0..1] for floats or [0..255] for integers).\n"
     ]
    },
    {
     "name": "stdout",
     "output_type": "stream",
     "text": [
      "\n",
      "Desired output: airplane\n"
     ]
    },
    {
     "data": {
      "image/png": "[encoded data removed]",
      "text/plain": [
       "<Figure size 432x288 with 1 Axes>"
      ]
     },
     "metadata": {},
     "output_type": "display_data"
    },
    {
     "name": "stderr",
     "output_type": "stream",
     "text": [
      "Clipping input data to the valid range for imshow with RGB data ([0..1] for floats or [0..255] for integers).\n"
     ]
    },
    {
     "name": "stdout",
     "output_type": "stream",
     "text": [
      "Predicted: airplane\n",
      "Desired output: airplane\n"
     ]
    },
    {
     "data": {
      "image/png": "[encoded data removed]",
      "text/plain": [
       "<Figure size 432x288 with 1 Axes>"
      ]
     },
     "metadata": {},
     "output_type": "display_data"
    },
    {
     "name": "stdout",
     "output_type": "stream",
     "text": [
      "Predicted: deer\n",
      "Desired output: airplane\n"
     ]
    },
    {
     "name": "stderr",
     "output_type": "stream",
     "text": [
      "Clipping input data to the valid range for imshow with RGB data ([0..1] for floats or [0..255] for integers).\n"
     ]
    },
    {
     "data": {
      "image/png": "[encoded data removed]",
      "text/plain": [
       "<Figure size 432x288 with 1 Axes>"
      ]
     },
     "metadata": {},
     "output_type": "display_data"
    },
    {
     "name": "stdout",
     "output_type": "stream",
     "text": [
      "Predicted: airplane\n",
      "Desired output: airplane\n"
     ]
    },
    {
     "name": "stderr",
     "output_type": "stream",
     "text": [
      "Clipping input data to the valid range for imshow with RGB data ([0..1] for floats or [0..255] for integers).\n"
     ]
    },
    {
     "data": {
      "image/png": "[encoded data removed]",
      "text/plain": [
       "<Figure size 432x288 with 1 Axes>"
      ]
     },
     "metadata": {},
     "output_type": "display_data"
    },
    {
     "name": "stdout",
     "output_type": "stream",
     "text": [
      "Predicted: airplane"
     ]
    },
    {
     "name": "stderr",
     "output_type": "stream",
     "text": [
      "Clipping input data to the valid range for imshow with RGB data ([0..1] for floats or [0..255] for integers).\n"
     ]
    },
    {
     "name": "stdout",
     "output_type": "stream",
     "text": [
      "\n",
      "Desired output: airplane\n"
     ]
    },
    {
     "data": {
      "image/png": "[encoded data removed]",
      "text/plain": [
       "<Figure size 432x288 with 1 Axes>"
      ]
     },
     "metadata": {},
     "output_type": "display_data"
    },
    {
     "name": "stderr",
     "output_type": "stream",
     "text": [
      "Clipping input data to the valid range for imshow with RGB data ([0..1] for floats or [0..255] for integers).\n"
     ]
    },
    {
     "name": "stdout",
     "output_type": "stream",
     "text": [
      "Predicted: ship\n",
      "Desired output: airplane\n"
     ]
    },
    {
     "data": {
      "image/png": "[encoded data removed]",
      "text/plain": [
       "<Figure size 432x288 with 1 Axes>"
      ]
     },
     "metadata": {},
     "output_type": "display_data"
    },
    {
     "name": "stdout",
     "output_type": "stream",
     "text": [
      "Predicted: airplane\n",
      "Desired output: airplane\n"
     ]
    },
    {
     "name": "stderr",
     "output_type": "stream",
     "text": [
      "Clipping input data to the valid range for imshow with RGB data ([0..1] for floats or [0..255] for integers).\n"
     ]
    },
    {
     "data": {
      "image/png": "[encoded data removed]",
      "text/plain": [
       "<Figure size 432x288 with 1 Axes>"
      ]
     },
     "metadata": {},
     "output_type": "display_data"
    },
    {
     "name": "stdout",
     "output_type": "stream",
     "text": [
      "Predicted: airplane\n",
      "Desired output: airplane\n"
     ]
    }
   ],
   "source": [
    "for i in range(40):\n",
    "    check_sample(testset[i])"
   ]
  },
  {
   "cell_type": "code",
   "execution_count": null,
   "id": "db79b7f7",
   "metadata": {},
   "outputs": [],
   "source": []
  }
 ],
 "metadata": {
  "kernelspec": {
   "display_name": "Python 3 (ipykernel)",
   "language": "python",
   "name": "python3"
  },
  "language_info": {
   "codemirror_mode": {
    "name": "ipython",
    "version": 3
   },
   "file_extension": ".py",
   "mimetype": "text/x-python",
   "name": "python",
   "nbconvert_exporter": "python",
   "pygments_lexer": "ipython3",
   "version": "3.9.12"
  }
 },
 "nbformat": 4,
 "nbformat_minor": 5
}
