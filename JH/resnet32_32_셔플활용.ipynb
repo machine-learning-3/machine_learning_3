{
  "nbformat": 4,
  "nbformat_minor": 0,
  "metadata": {
    "colab": {
      "provenance": []
    },
    "kernelspec": {
      "name": "python3",
      "display_name": "Python 3"
    },
    "language_info": {
      "name": "python"
    },
    "accelerator": "GPU",
    "gpuClass": "standard"
  },
  "cells": [
    {
      "cell_type": "code",
      "execution_count": 16,
      "metadata": {
        "id": "EUfVuEH3IeWe"
      },
      "outputs": [],
      "source": [
        "import torch\n",
        "import torch.nn as nn\n",
        "import torch.nn.functional as F\n",
        "import torch.optim as optim\n",
        "from torch.utils.data import Dataset, DataLoader\n",
        "\n",
        "import torchvision\n",
        "import torchvision.datasets\n",
        "import torchvision.transforms as transforms\n",
        "\n",
        "import numpy as np\n",
        "import matplotlib.pyplot as plt\n",
        "plt.style.use('seaborn-white')\n",
        "\n",
        "import random\n",
        "\n",
        "import os"
      ]
    },
    {
      "cell_type": "code",
      "source": [
        "class config:\n",
        "    seed = 42\n",
        "    device = \"cuda:0\"    \n",
        "        \n",
        "    lr = 1e-3\n",
        "    epochs = 25\n",
        "    batch_size = 32\n",
        "    num_workers = 4\n",
        "    train_5_folds = True\n",
        "\n",
        "def seed_everything(seed: int = 42):\n",
        "    random.seed(seed)\n",
        "    np.random.seed(seed)\n",
        "    os.environ[\"PYTHONHASHSEED\"] = str(seed)\n",
        "    torch.manual_seed(seed)\n",
        "    torch.cuda.manual_seed(seed)  # type: ignore\n",
        "    torch.backends.cudnn.deterministic = True  # type: ignore\n",
        "    torch.backends.cudnn.benchmark = True  # type: ignore\n",
        "\n",
        "seed_everything(config.seed)"
      ],
      "metadata": {
        "id": "Sgly2Jh-I35B"
      },
      "execution_count": 17,
      "outputs": []
    },
    {
      "cell_type": "code",
      "source": [
        "use_cuda = torch.cuda.is_available()\n",
        "\n",
        "device = torch.device(\"cuda\" if use_cuda else \"cpu\")\n",
        "\n",
        "device"
      ],
      "metadata": {
        "colab": {
          "base_uri": "https://localhost:8080/"
        },
        "id": "AnZf8_DlJRxC",
        "outputId": "3eb1fc24-1516-4c1b-be44-ce4711acf207"
      },
      "execution_count": 18,
      "outputs": [
        {
          "output_type": "execute_result",
          "data": {
            "text/plain": [
              "device(type='cuda')"
            ]
          },
          "metadata": {},
          "execution_count": 18
        }
      ]
    },
    {
      "cell_type": "code",
      "source": [
        "transform_train = transforms.Compose([\n",
        "        transforms.RandomHorizontalFlip(),\n",
        "        transforms.ToTensor(),\n",
        "        transforms.Normalize((0.4914, 0.4822, 0.4465), (0.2470, 0.2435, 0.2616))])\n",
        "\n",
        "transform_validation = transforms.Compose([\n",
        "        transforms.ToTensor(),\n",
        "        transforms.Normalize((0.4914, 0.4822, 0.4465), (0.2470, 0.2435, 0.2616))])\n",
        "\n",
        "transform  = transforms.Compose([\n",
        "        transforms.ToTensor(),\n",
        "        transforms.Normalize((0.4914, 0.4822, 0.4465), (0.2470, 0.2435, 0.2616))])"
      ],
      "metadata": {
        "id": "X3YUvobnJimS"
      },
      "execution_count": 19,
      "outputs": []
    },
    {
      "cell_type": "code",
      "source": [
        "trainset = torchvision.datasets.CIFAR10(root='/data',\n",
        "                                        train=True,\n",
        "                                        download=True,\n",
        "                                        transform=transform_train)\n",
        "\n",
        "vaildset = torchvision.datasets.CIFAR10(root='/data',\n",
        "                                        train=False,\n",
        "                                        download=True,\n",
        "                                        transform=transform_validation)\n",
        "testset = torchvision.datasets.ImageFolder(root = \"/content/drive/MyDrive/share/images/Statistical_Deep_Image\",\n",
        "                                           transform = transform)"
      ],
      "metadata": {
        "colab": {
          "base_uri": "https://localhost:8080/"
        },
        "id": "JRxWLJjnKUIt",
        "outputId": "215abccf-75f0-438d-ba41-797bef2e8d0d"
      },
      "execution_count": 20,
      "outputs": [
        {
          "output_type": "stream",
          "name": "stdout",
          "text": [
            "Files already downloaded and verified\n",
            "Files already downloaded and verified\n"
          ]
        }
      ]
    },
    {
      "cell_type": "code",
      "source": [
        "train_loader = DataLoader(trainset,\n",
        "                          batch_size = 32,\n",
        "                          shuffle=True,\n",
        "                          num_workers=2)\n",
        "\n",
        "vaild_loader = DataLoader(vaildset,\n",
        "                          batch_size = 64,\n",
        "                          shuffle=True,\n",
        "                          num_workers=2)\n",
        "\n",
        "\n",
        "test_loader = DataLoader(testset,\n",
        "                          batch_size=32,\n",
        "                          shuffle=False,\n",
        "                          num_workers=2)"
      ],
      "metadata": {
        "id": "fGukws-JLEuy"
      },
      "execution_count": 21,
      "outputs": []
    },
    {
      "cell_type": "code",
      "source": [
        "classes = ('plane','automobile','bird','cat','deer',\n",
        "           'dog','frog','horse','ship','truck')"
      ],
      "metadata": {
        "id": "rOyW4BVpLD-J"
      },
      "execution_count": 22,
      "outputs": []
    },
    {
      "cell_type": "markdown",
      "source": [
        "모델 넣기 "
      ],
      "metadata": {
        "id": "1hTgHG91xbSq"
      }
    },
    {
      "cell_type": "code",
      "source": [
        "class BasicBlock(nn.Module):\n",
        "   def __init__(self, in_channels, out_channels, kernel_size=3):\n",
        "       super(BasicBlock, self).__init__()\n",
        "\n",
        "\n",
        "       # ❶ 합성곱층 정의\n",
        "       self.c1 = nn.Conv2d(in_channels, out_channels, \n",
        "                           kernel_size=kernel_size, padding=1)\n",
        "       self.c2 = nn.Conv2d(out_channels, out_channels, \n",
        "                           kernel_size=kernel_size, padding=1)\n",
        "\n",
        "       self.downsample = nn.Conv2d(in_channels, out_channels, \n",
        "                                   kernel_size=1)\n",
        "       \n",
        "       # ❷ 배치 정규화층 정의\n",
        "       self.bn1 = nn.BatchNorm2d(num_features=out_channels)\n",
        "       self.bn2 = nn.BatchNorm2d(num_features=out_channels)\n",
        "\n",
        "       self.relu = nn.ReLU()\n",
        "   def forward(self, x):\n",
        "       # ❸스킵 커넥션을 위해 초기 입력을 저장\n",
        "       x_ = x\n",
        "\n",
        "       x = self.c1(x)\n",
        "       x = self.bn1(x)\n",
        "       x = self.relu(x)\n",
        "       x = self.c2(x)\n",
        "       x = self.bn2(x)\n",
        "\n",
        "       # ➍합성곱의 결과와 입력의 채널 수를 맞춤\n",
        "       x_ = self.downsample(x_)\n",
        "\n",
        "       # ➎합성곱층의 결과와 저장해놨던 입력값을 더해줌\n",
        "       x += x_\n",
        "       x = self.relu(x)\n",
        "\n",
        "       return x\n",
        "\n",
        "\n",
        "class ResNet(nn.Module):\n",
        "   def __init__(self, num_classes=10):\n",
        "       super(ResNet, self).__init__()\n",
        "\n",
        "\n",
        "       # ❶ 기본 블록\n",
        "       self.b1 = BasicBlock(in_channels=3, out_channels=64)\n",
        "       self.b2 = BasicBlock(in_channels=64, out_channels=128)\n",
        "       self.b3 = BasicBlock(in_channels=128, out_channels=256)\n",
        "\n",
        "\n",
        "       # ❷ 풀링을 최댓값이 아닌 평균값으로\n",
        "       self.pool = nn.AvgPool2d(kernel_size=2, stride=2) \n",
        "\n",
        "       # ❸ 분류기\n",
        "       self.fc1 = nn.Linear(in_features=4096, out_features=2048)\n",
        "       self.fc2 = nn.Linear(in_features=2048, out_features=512)\n",
        "       self.fc3 = nn.Linear(in_features=512, out_features=num_classes)\n",
        "\n",
        "       self.relu = nn.ReLU()\n",
        "   def forward(self, x):\n",
        "       # ❶ 기본 블록과 풀링층을 통과\n",
        "       x = self.b1(x)\n",
        "       x = self.pool(x)\n",
        "       x = self.b2(x)\n",
        "       x = self.pool(x)\n",
        "       x = self.b3(x)\n",
        "       x = self.pool(x)\n",
        "\n",
        "\n",
        "       # ❷ 분류기의 입력으로 사용하기 위해 flatten\n",
        "       x = torch.flatten(x, start_dim=1)\n",
        "\n",
        "       # ❸ 분류기로 예측값 출력\n",
        "       x = self.fc1(x)\n",
        "       x = self.relu(x)\n",
        "       x = self.fc2(x)\n",
        "       x = self.relu(x)\n",
        "       x = self.fc3(x)\n",
        "\n",
        "       return x\n",
        "\n"
      ],
      "metadata": {
        "id": "fkk2lQlaM4vI"
      },
      "execution_count": 23,
      "outputs": []
    },
    {
      "cell_type": "code",
      "source": [
        "\n",
        "net = ResNet(num_classes=10).to(device)\n",
        "\n",
        "criterion = nn.CrossEntropyLoss()\n",
        "\n",
        "optimizer = optim.SGD(net.parameters(), lr=0.001, momentum=0.9)\n",
        "\n",
        "total=0 \n",
        "correct = 0"
      ],
      "metadata": {
        "id": "Os2IBshCP2bO"
      },
      "execution_count": 24,
      "outputs": []
    },
    {
      "cell_type": "code",
      "source": [
        "for epoch in range(50):\n",
        "  running_loss = 0.0\n",
        "\n",
        "  for i, data in enumerate(train_loader, 0):\n",
        "    inputs, labels = data[0].to(device), data[1].to(device)\n",
        "\n",
        "    optimizer.zero_grad()\n",
        "    outputs= net(inputs)\n",
        "    loss = criterion(outputs, labels)\n",
        "    loss.backward()\n",
        "    optimizer.step()\n",
        "\n",
        "    running_loss += loss.item()\n",
        "    if i % 750 ==749:\n",
        "      print(\"Epoch: {},Batch : {}, Loss:{}\".format(epoch+1, i+1, running_loss/2000))\n",
        "      running_loss = 0.0\n",
        "\n",
        "  with torch.no_grad():\n",
        "    val_loss = 0.0\n",
        "    for k, data1 in enumerate(vaild_loader, 0):\n",
        "      val_inputs, val_label = data1[0].to(device), data1[1].to(device)\n",
        "      val_output = net(val_inputs)\n",
        "      v_loss = criterion(val_output, val_label)\n",
        "      val_loss += v_loss\n",
        "  print(\"validation loss : {}\".format(val_loss))\n",
        "\n",
        "  with torch.no_grad():\n",
        "    for data in test_loader:\n",
        "      images, labels = data[0].to(device), data[1].to(device)\n",
        "      outputs= net(images)\n",
        "      _, predicted = torch.max(outputs.data,1)\n",
        "      total += labels.size(0)\n",
        "      correct += (predicted == labels).sum().item()\n",
        "\n",
        "  print(\"testset Accuracy  : {}\".format(100* correct/total))\n",
        "  total=0\n",
        "  correct=0\n"
      ],
      "metadata": {
        "colab": {
          "base_uri": "https://localhost:8080/"
        },
        "id": "q8IufYT0P4Zx",
        "outputId": "8db2b749-4c90-46dc-fc74-f04d22574f38"
      },
      "execution_count": 25,
      "outputs": [
        {
          "output_type": "stream",
          "name": "stdout",
          "text": [
            "Epoch: 1,Batch : 750, Loss:0.609159421980381\n",
            "Epoch: 1,Batch : 1500, Loss:0.4280039099752903\n",
            "validation loss 153.9091033935547\n",
            "24.35\n",
            "Epoch: 2,Batch : 750, Loss:0.3406668953448534\n",
            "Epoch: 2,Batch : 1500, Loss:0.3030681117922068\n",
            "validation loss 116.82099151611328\n",
            "29.7\n",
            "Epoch: 3,Batch : 750, Loss:0.26363074673712256\n",
            "Epoch: 3,Batch : 1500, Loss:0.2471133171617985\n",
            "validation loss 106.47334289550781\n",
            "31.45\n",
            "Epoch: 4,Batch : 750, Loss:0.21894020695984365\n",
            "Epoch: 4,Batch : 1500, Loss:0.21415723170340062\n",
            "validation loss 96.43048858642578\n",
            "35.75\n",
            "Epoch: 5,Batch : 750, Loss:0.1870575524494052\n",
            "Epoch: 5,Batch : 1500, Loss:0.18651565035432577\n",
            "validation loss 86.54078674316406\n",
            "35.9\n",
            "Epoch: 6,Batch : 750, Loss:0.1660231494344771\n",
            "Epoch: 6,Batch : 1500, Loss:0.16449183114618063\n",
            "validation loss 78.4665756225586\n",
            "37.65\n",
            "Epoch: 7,Batch : 750, Loss:0.14786352048069237\n",
            "Epoch: 7,Batch : 1500, Loss:0.1444020591787994\n",
            "validation loss 77.96278381347656\n",
            "38.95\n",
            "Epoch: 8,Batch : 750, Loss:0.1273982113339007\n",
            "Epoch: 8,Batch : 1500, Loss:0.12960120744630693\n",
            "validation loss 75.56427764892578\n",
            "38.1\n",
            "Epoch: 9,Batch : 750, Loss:0.11357781866751611\n",
            "Epoch: 9,Batch : 1500, Loss:0.11679340437427163\n",
            "validation loss 73.27733612060547\n",
            "39.85\n",
            "Epoch: 10,Batch : 750, Loss:0.1004545075967908\n",
            "Epoch: 10,Batch : 1500, Loss:0.10526148283667862\n",
            "validation loss 71.32717895507812\n",
            "40.25\n",
            "Epoch: 11,Batch : 750, Loss:0.08672336674388498\n",
            "Epoch: 11,Batch : 1500, Loss:0.094689153265208\n",
            "validation loss 67.519287109375\n",
            "43.65\n",
            "Epoch: 12,Batch : 750, Loss:0.0749106188993901\n",
            "Epoch: 12,Batch : 1500, Loss:0.08209093303233385\n",
            "validation loss 70.65129852294922\n",
            "41.9\n",
            "Epoch: 13,Batch : 750, Loss:0.06637189008109272\n",
            "Epoch: 13,Batch : 1500, Loss:0.0738165672486648\n",
            "validation loss 72.54541015625\n",
            "39.45\n",
            "Epoch: 14,Batch : 750, Loss:0.06121645124303177\n",
            "Epoch: 14,Batch : 1500, Loss:0.06468215674022212\n",
            "validation loss 68.87489318847656\n",
            "42.9\n",
            "Epoch: 15,Batch : 750, Loss:0.0511426229570061\n",
            "Epoch: 15,Batch : 1500, Loss:0.05720879015652463\n",
            "validation loss 72.22634887695312\n",
            "44.2\n",
            "Epoch: 16,Batch : 750, Loss:0.044437217296566814\n",
            "Epoch: 16,Batch : 1500, Loss:0.05063023599330336\n",
            "validation loss 71.25878143310547\n",
            "42.5\n",
            "Epoch: 17,Batch : 750, Loss:0.04079717396013439\n",
            "Epoch: 17,Batch : 1500, Loss:0.04510027500591241\n",
            "validation loss 72.43012237548828\n",
            "42.8\n",
            "Epoch: 18,Batch : 750, Loss:0.03176569813443348\n",
            "Epoch: 18,Batch : 1500, Loss:0.0401089500724338\n",
            "validation loss 74.88338470458984\n",
            "43.25\n",
            "Epoch: 19,Batch : 750, Loss:0.028806540963007138\n",
            "Epoch: 19,Batch : 1500, Loss:0.03500032776151784\n",
            "validation loss 71.83966064453125\n",
            "44.3\n",
            "Epoch: 20,Batch : 750, Loss:0.025353251825727056\n",
            "Epoch: 20,Batch : 1500, Loss:0.029397263142163864\n",
            "validation loss 76.46867370605469\n",
            "44.15\n",
            "Epoch: 21,Batch : 750, Loss:0.023031388783827423\n",
            "Epoch: 21,Batch : 1500, Loss:0.026609004009049385\n",
            "validation loss 76.51309204101562\n",
            "44.05\n",
            "Epoch: 22,Batch : 750, Loss:0.01784014117292827\n",
            "Epoch: 22,Batch : 1500, Loss:0.02333246168430196\n",
            "validation loss 78.39867401123047\n",
            "43.5\n",
            "Epoch: 23,Batch : 750, Loss:0.016540961349382998\n",
            "Epoch: 23,Batch : 1500, Loss:0.019464820399094605\n",
            "validation loss 84.7618637084961\n",
            "43.1\n",
            "Epoch: 24,Batch : 750, Loss:0.01564044523166376\n",
            "Epoch: 24,Batch : 1500, Loss:0.017357688957999926\n",
            "validation loss 80.06114196777344\n",
            "43.6\n",
            "Epoch: 25,Batch : 750, Loss:0.013572343327046838\n",
            "Epoch: 25,Batch : 1500, Loss:0.01605643227107066\n",
            "validation loss 86.95320892333984\n",
            "43.15\n",
            "Epoch: 26,Batch : 750, Loss:0.011703308183612534\n",
            "Epoch: 26,Batch : 1500, Loss:0.015581768344214651\n",
            "validation loss 85.22982788085938\n",
            "43.5\n",
            "Epoch: 27,Batch : 750, Loss:0.009887763573409756\n",
            "Epoch: 27,Batch : 1500, Loss:0.011561415273186867\n",
            "validation loss 82.22682189941406\n",
            "44.95\n",
            "Epoch: 28,Batch : 750, Loss:0.008005951448652923\n",
            "Epoch: 28,Batch : 1500, Loss:0.010245394380355719\n",
            "validation loss 85.83271026611328\n",
            "44.1\n",
            "Epoch: 29,Batch : 750, Loss:0.009722656328034646\n",
            "Epoch: 29,Batch : 1500, Loss:0.011044869815057609\n",
            "validation loss 86.86134338378906\n",
            "42.7\n",
            "Epoch: 30,Batch : 750, Loss:0.007640538106272288\n",
            "Epoch: 30,Batch : 1500, Loss:0.011093300216278294\n",
            "validation loss 86.12617492675781\n",
            "42.35\n",
            "Epoch: 31,Batch : 750, Loss:0.008498876313846267\n",
            "Epoch: 31,Batch : 1500, Loss:0.009182674618154123\n",
            "validation loss 87.33705139160156\n",
            "45.3\n",
            "Epoch: 32,Batch : 750, Loss:0.008297915245158946\n",
            "Epoch: 32,Batch : 1500, Loss:0.008070569983588939\n",
            "validation loss 85.62950134277344\n",
            "45.8\n",
            "Epoch: 33,Batch : 750, Loss:0.004362473026354565\n",
            "Epoch: 33,Batch : 1500, Loss:0.006150672369458334\n",
            "validation loss 90.54395294189453\n",
            "45.7\n",
            "Epoch: 34,Batch : 750, Loss:0.006104524994043459\n",
            "Epoch: 34,Batch : 1500, Loss:0.007189578027795506\n",
            "validation loss 92.4056167602539\n",
            "43.15\n",
            "Epoch: 35,Batch : 750, Loss:0.004825702356723923\n",
            "Epoch: 35,Batch : 1500, Loss:0.004410986081471492\n",
            "validation loss 90.39791870117188\n",
            "44.9\n",
            "Epoch: 36,Batch : 750, Loss:0.005262249760071427\n",
            "Epoch: 36,Batch : 1500, Loss:0.0037935020491822796\n",
            "validation loss 90.23530578613281\n",
            "45.5\n",
            "Epoch: 37,Batch : 750, Loss:0.0034543957524147116\n",
            "Epoch: 37,Batch : 1500, Loss:0.005663512750670634\n",
            "validation loss 98.32670593261719\n",
            "44.0\n",
            "Epoch: 38,Batch : 750, Loss:0.004952689152456514\n",
            "Epoch: 38,Batch : 1500, Loss:0.003786339911468531\n",
            "validation loss 95.69353485107422\n",
            "44.25\n",
            "Epoch: 39,Batch : 750, Loss:0.0038359353668292896\n",
            "Epoch: 39,Batch : 1500, Loss:0.004027458360171295\n",
            "validation loss 96.09622955322266\n",
            "45.1\n",
            "Epoch: 40,Batch : 750, Loss:0.0024407538752548134\n",
            "Epoch: 40,Batch : 1500, Loss:0.002034524532749856\n",
            "validation loss 92.76524353027344\n",
            "46.05\n",
            "Epoch: 41,Batch : 750, Loss:0.0011955665650675656\n",
            "Epoch: 41,Batch : 1500, Loss:0.0017071653439597867\n",
            "validation loss 103.49314880371094\n",
            "45.75\n",
            "Epoch: 42,Batch : 750, Loss:0.0017854014632666803\n",
            "Epoch: 42,Batch : 1500, Loss:0.0023592698370050584\n",
            "validation loss 106.82013702392578\n",
            "44.1\n",
            "Epoch: 43,Batch : 750, Loss:0.002006937844069853\n",
            "Epoch: 43,Batch : 1500, Loss:0.00200118922866568\n",
            "validation loss 99.90382385253906\n",
            "46.2\n",
            "Epoch: 44,Batch : 750, Loss:0.0014086195284862698\n",
            "Epoch: 44,Batch : 1500, Loss:0.0027205042024406796\n",
            "validation loss 103.2148666381836\n",
            "45.55\n",
            "Epoch: 45,Batch : 750, Loss:0.0038486715254039154\n",
            "Epoch: 45,Batch : 1500, Loss:0.004508209230925786\n",
            "validation loss 102.08038330078125\n",
            "47.25\n",
            "Epoch: 46,Batch : 750, Loss:0.005058957338387699\n",
            "Epoch: 46,Batch : 1500, Loss:0.008438583941846446\n",
            "validation loss 103.67826080322266\n",
            "44.5\n",
            "Epoch: 47,Batch : 750, Loss:0.004214332879171707\n",
            "Epoch: 47,Batch : 1500, Loss:0.0037758308218931234\n",
            "validation loss 100.84935760498047\n",
            "46.65\n",
            "Epoch: 48,Batch : 750, Loss:0.004298487913181816\n",
            "Epoch: 48,Batch : 1500, Loss:0.0036116776932940413\n",
            "validation loss 101.34715270996094\n",
            "45.95\n",
            "Epoch: 49,Batch : 750, Loss:0.0024627226894508567\n",
            "Epoch: 49,Batch : 1500, Loss:0.0017093485990603767\n",
            "validation loss 99.76005554199219\n",
            "45.3\n",
            "Epoch: 50,Batch : 750, Loss:0.0015512310314252317\n",
            "Epoch: 50,Batch : 1500, Loss:0.0012668469088921483\n",
            "validation loss 99.5449447631836\n",
            "45.95\n"
          ]
        }
      ]
    },
    {
      "cell_type": "markdown",
      "source": [
        "pretrained 넣기\n"
      ],
      "metadata": {
        "id": "KqDJoCltxkKf"
      }
    },
    {
      "cell_type": "code",
      "source": [
        "PATH = '/content/drive/MyDrive/share/trained_model/cifar_resnet.pth'"
      ],
      "metadata": {
        "id": "S0fKwJo7P4iQ"
      },
      "execution_count": 26,
      "outputs": []
    },
    {
      "cell_type": "code",
      "source": [
        "#net = ResNet(num_classes=10).to(device)\n",
        "#net.load_state_dict(torch.load(PATH))"
      ],
      "metadata": {
        "id": "O8NlBkmgX5a4"
      },
      "execution_count": 27,
      "outputs": []
    },
    {
      "cell_type": "code",
      "source": [
        "class_correct = list(0. for i in range(10))\n",
        "class_total = list(0. for i in range(10))\n",
        "\n",
        "with torch.no_grad():\n",
        "  for data in test_loader:\n",
        "    images, labels = data[0].to(device), data[1].to(device)\n",
        "    outputs= net(images)\n",
        "    _, predicted = torch.max(outputs.data,1)\n",
        "    c= (predicted == labels).squeeze()\n",
        "    for i in range(4):\n",
        "      label= labels[i]\n",
        "      class_correct[label]+= c[i].item()\n",
        "      class_total[label]+= 1\n",
        "\n",
        "for i in range(10):\n",
        "  print(\"Accuracy of {} : {} %\".format(classes[i],100* class_correct[i]/class_total[i]))"
      ],
      "metadata": {
        "colab": {
          "base_uri": "https://localhost:8080/"
        },
        "id": "QOaHVH52X5kA",
        "outputId": "5f7644a0-65e4-4d2f-d8b8-2dfd8caa75f8"
      },
      "execution_count": 28,
      "outputs": [
        {
          "output_type": "stream",
          "name": "stdout",
          "text": [
            "Accuracy of plane : 82.14285714285714 %\n",
            "Accuracy of automobile : 33.333333333333336 %\n",
            "Accuracy of bird : 29.166666666666668 %\n",
            "Accuracy of cat : 37.5 %\n",
            "Accuracy of deer : 71.42857142857143 %\n",
            "Accuracy of dog : 25.0 %\n",
            "Accuracy of frog : 20.833333333333332 %\n",
            "Accuracy of horse : 33.333333333333336 %\n",
            "Accuracy of ship : 35.714285714285715 %\n",
            "Accuracy of truck : 41.666666666666664 %\n"
          ]
        }
      ]
    },
    {
      "cell_type": "markdown",
      "source": [],
      "metadata": {
        "id": "Dlh1d9yZA67l"
      }
    },
    {
      "cell_type": "code",
      "source": [
        "correct = 0\n",
        "total = 0\n",
        "with torch.no_grad():\n",
        "  for data in train_loader:\n",
        "    images, labels = data[0].to(device), data[1].to(device)\n",
        "    outputs= net(images)\n",
        "    _, predicted = torch.max(outputs.data,1)\n",
        "    total +=labels.size(0)\n",
        "    correct += (predicted == labels).sum().item()\n",
        "\n",
        "\n",
        "print(\"trainset Accuracy  : {}\".format(100* correct/total))"
      ],
      "metadata": {
        "colab": {
          "base_uri": "https://localhost:8080/"
        },
        "id": "44HdYYfb5Eja",
        "outputId": "c619bb69-197c-4f70-f578-3a31888768f9"
      },
      "execution_count": 33,
      "outputs": [
        {
          "output_type": "stream",
          "name": "stdout",
          "text": [
            "trainset 100* correct/total\n"
          ]
        }
      ]
    },
    {
      "cell_type": "code",
      "source": [
        "correct = 0\n",
        "total = 0\n",
        "with torch.no_grad():\n",
        "  for data in vaild_loader:\n",
        "    images, labels = data[0].to(device), data[1].to(device)\n",
        "    outputs= net(images)\n",
        "    _, predicted = torch.max(outputs.data,1)\n",
        "    total +=labels.size(0)\n",
        "    correct += (predicted == labels).sum().item()\n",
        "\n",
        "\n",
        "print(\"vaildset Accuracy  : {}\".format(100* correct/total))"
      ],
      "metadata": {
        "id": "xKUJChxdX5Wn",
        "colab": {
          "base_uri": "https://localhost:8080/"
        },
        "outputId": "1c401dea-449a-46dc-a018-bd59ae71f592"
      },
      "execution_count": 36,
      "outputs": [
        {
          "output_type": "stream",
          "name": "stdout",
          "text": [
            "vaildset Accuracy  : 88.15\n"
          ]
        }
      ]
    },
    {
      "cell_type": "code",
      "source": [
        "correct = 0\n",
        "total = 0\n",
        "with torch.no_grad():\n",
        "  for data in test_loader:\n",
        "    images, labels = data[0].to(device), data[1].to(device)\n",
        "    outputs= net(images)\n",
        "    _, predicted = torch.max(outputs.data,1)\n",
        "    total +=labels.size(0)\n",
        "    correct += (predicted == labels).sum().item()\n",
        "\n",
        "\n",
        "print(\"testset Accuracy  : {}\".format(100* correct/total))"
      ],
      "metadata": {
        "colab": {
          "base_uri": "https://localhost:8080/"
        },
        "outputId": "8f60c38b-ac08-4f46-c501-37004e763a61",
        "id": "9W22iDhT6UpU"
      },
      "execution_count": 37,
      "outputs": [
        {
          "output_type": "stream",
          "name": "stdout",
          "text": [
            "testset Accuracy  : 45.95\n"
          ]
        }
      ]
    }
  ]
}