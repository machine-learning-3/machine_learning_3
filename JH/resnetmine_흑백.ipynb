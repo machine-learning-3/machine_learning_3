{
  "nbformat": 4,
  "nbformat_minor": 0,
  "metadata": {
    "colab": {
      "provenance": []
    },
    "kernelspec": {
      "name": "python3",
      "display_name": "Python 3"
    },
    "language_info": {
      "name": "python"
    },
    "accelerator": "GPU",
    "gpuClass": "standard",
    "widgets": {
      "application/vnd.jupyter.widget-state+json": {
        "0b55104e42054916a4c134050b7dee96": {
          "model_module": "@jupyter-widgets/controls",
          "model_name": "HBoxModel",
          "model_module_version": "1.5.0",
          "state": {
            "_dom_classes": [],
            "_model_module": "@jupyter-widgets/controls",
            "_model_module_version": "1.5.0",
            "_model_name": "HBoxModel",
            "_view_count": null,
            "_view_module": "@jupyter-widgets/controls",
            "_view_module_version": "1.5.0",
            "_view_name": "HBoxView",
            "box_style": "",
            "children": [
              "IPY_MODEL_358e3bcb3fa44965a153fa4071d73f6c",
              "IPY_MODEL_645826b8c31d4f6e90a7ab222426569b",
              "IPY_MODEL_685a6a6d42cb41e7b3bf0dbe3d3466a5"
            ],
            "layout": "IPY_MODEL_24e16d90569f4cfea5bcb773b024c62d"
          }
        },
        "358e3bcb3fa44965a153fa4071d73f6c": {
          "model_module": "@jupyter-widgets/controls",
          "model_name": "HTMLModel",
          "model_module_version": "1.5.0",
          "state": {
            "_dom_classes": [],
            "_model_module": "@jupyter-widgets/controls",
            "_model_module_version": "1.5.0",
            "_model_name": "HTMLModel",
            "_view_count": null,
            "_view_module": "@jupyter-widgets/controls",
            "_view_module_version": "1.5.0",
            "_view_name": "HTMLView",
            "description": "",
            "description_tooltip": null,
            "layout": "IPY_MODEL_5d4eae284f3b41fbae7b60ed06594227",
            "placeholder": "​",
            "style": "IPY_MODEL_21e84f46dd244ddfbbdcd0349b8d0657",
            "value": "100%"
          }
        },
        "645826b8c31d4f6e90a7ab222426569b": {
          "model_module": "@jupyter-widgets/controls",
          "model_name": "FloatProgressModel",
          "model_module_version": "1.5.0",
          "state": {
            "_dom_classes": [],
            "_model_module": "@jupyter-widgets/controls",
            "_model_module_version": "1.5.0",
            "_model_name": "FloatProgressModel",
            "_view_count": null,
            "_view_module": "@jupyter-widgets/controls",
            "_view_module_version": "1.5.0",
            "_view_name": "ProgressView",
            "bar_style": "success",
            "description": "",
            "description_tooltip": null,
            "layout": "IPY_MODEL_387a0e69a16d42539e7f4d038947feea",
            "max": 170498071,
            "min": 0,
            "orientation": "horizontal",
            "style": "IPY_MODEL_afe628d3e14a4da699ba627589027125",
            "value": 170498071
          }
        },
        "685a6a6d42cb41e7b3bf0dbe3d3466a5": {
          "model_module": "@jupyter-widgets/controls",
          "model_name": "HTMLModel",
          "model_module_version": "1.5.0",
          "state": {
            "_dom_classes": [],
            "_model_module": "@jupyter-widgets/controls",
            "_model_module_version": "1.5.0",
            "_model_name": "HTMLModel",
            "_view_count": null,
            "_view_module": "@jupyter-widgets/controls",
            "_view_module_version": "1.5.0",
            "_view_name": "HTMLView",
            "description": "",
            "description_tooltip": null,
            "layout": "IPY_MODEL_ca9ef1b08d154f0795a308fa7222c079",
            "placeholder": "​",
            "style": "IPY_MODEL_c90603c9e6d74c568c84b778575d6881",
            "value": " 170498071/170498071 [00:13&lt;00:00, 13867649.03it/s]"
          }
        },
        "24e16d90569f4cfea5bcb773b024c62d": {
          "model_module": "@jupyter-widgets/base",
          "model_name": "LayoutModel",
          "model_module_version": "1.2.0",
          "state": {
            "_model_module": "@jupyter-widgets/base",
            "_model_module_version": "1.2.0",
            "_model_name": "LayoutModel",
            "_view_count": null,
            "_view_module": "@jupyter-widgets/base",
            "_view_module_version": "1.2.0",
            "_view_name": "LayoutView",
            "align_content": null,
            "align_items": null,
            "align_self": null,
            "border": null,
            "bottom": null,
            "display": null,
            "flex": null,
            "flex_flow": null,
            "grid_area": null,
            "grid_auto_columns": null,
            "grid_auto_flow": null,
            "grid_auto_rows": null,
            "grid_column": null,
            "grid_gap": null,
            "grid_row": null,
            "grid_template_areas": null,
            "grid_template_columns": null,
            "grid_template_rows": null,
            "height": null,
            "justify_content": null,
            "justify_items": null,
            "left": null,
            "margin": null,
            "max_height": null,
            "max_width": null,
            "min_height": null,
            "min_width": null,
            "object_fit": null,
            "object_position": null,
            "order": null,
            "overflow": null,
            "overflow_x": null,
            "overflow_y": null,
            "padding": null,
            "right": null,
            "top": null,
            "visibility": null,
            "width": null
          }
        },
        "5d4eae284f3b41fbae7b60ed06594227": {
          "model_module": "@jupyter-widgets/base",
          "model_name": "LayoutModel",
          "model_module_version": "1.2.0",
          "state": {
            "_model_module": "@jupyter-widgets/base",
            "_model_module_version": "1.2.0",
            "_model_name": "LayoutModel",
            "_view_count": null,
            "_view_module": "@jupyter-widgets/base",
            "_view_module_version": "1.2.0",
            "_view_name": "LayoutView",
            "align_content": null,
            "align_items": null,
            "align_self": null,
            "border": null,
            "bottom": null,
            "display": null,
            "flex": null,
            "flex_flow": null,
            "grid_area": null,
            "grid_auto_columns": null,
            "grid_auto_flow": null,
            "grid_auto_rows": null,
            "grid_column": null,
            "grid_gap": null,
            "grid_row": null,
            "grid_template_areas": null,
            "grid_template_columns": null,
            "grid_template_rows": null,
            "height": null,
            "justify_content": null,
            "justify_items": null,
            "left": null,
            "margin": null,
            "max_height": null,
            "max_width": null,
            "min_height": null,
            "min_width": null,
            "object_fit": null,
            "object_position": null,
            "order": null,
            "overflow": null,
            "overflow_x": null,
            "overflow_y": null,
            "padding": null,
            "right": null,
            "top": null,
            "visibility": null,
            "width": null
          }
        },
        "21e84f46dd244ddfbbdcd0349b8d0657": {
          "model_module": "@jupyter-widgets/controls",
          "model_name": "DescriptionStyleModel",
          "model_module_version": "1.5.0",
          "state": {
            "_model_module": "@jupyter-widgets/controls",
            "_model_module_version": "1.5.0",
            "_model_name": "DescriptionStyleModel",
            "_view_count": null,
            "_view_module": "@jupyter-widgets/base",
            "_view_module_version": "1.2.0",
            "_view_name": "StyleView",
            "description_width": ""
          }
        },
        "387a0e69a16d42539e7f4d038947feea": {
          "model_module": "@jupyter-widgets/base",
          "model_name": "LayoutModel",
          "model_module_version": "1.2.0",
          "state": {
            "_model_module": "@jupyter-widgets/base",
            "_model_module_version": "1.2.0",
            "_model_name": "LayoutModel",
            "_view_count": null,
            "_view_module": "@jupyter-widgets/base",
            "_view_module_version": "1.2.0",
            "_view_name": "LayoutView",
            "align_content": null,
            "align_items": null,
            "align_self": null,
            "border": null,
            "bottom": null,
            "display": null,
            "flex": null,
            "flex_flow": null,
            "grid_area": null,
            "grid_auto_columns": null,
            "grid_auto_flow": null,
            "grid_auto_rows": null,
            "grid_column": null,
            "grid_gap": null,
            "grid_row": null,
            "grid_template_areas": null,
            "grid_template_columns": null,
            "grid_template_rows": null,
            "height": null,
            "justify_content": null,
            "justify_items": null,
            "left": null,
            "margin": null,
            "max_height": null,
            "max_width": null,
            "min_height": null,
            "min_width": null,
            "object_fit": null,
            "object_position": null,
            "order": null,
            "overflow": null,
            "overflow_x": null,
            "overflow_y": null,
            "padding": null,
            "right": null,
            "top": null,
            "visibility": null,
            "width": null
          }
        },
        "afe628d3e14a4da699ba627589027125": {
          "model_module": "@jupyter-widgets/controls",
          "model_name": "ProgressStyleModel",
          "model_module_version": "1.5.0",
          "state": {
            "_model_module": "@jupyter-widgets/controls",
            "_model_module_version": "1.5.0",
            "_model_name": "ProgressStyleModel",
            "_view_count": null,
            "_view_module": "@jupyter-widgets/base",
            "_view_module_version": "1.2.0",
            "_view_name": "StyleView",
            "bar_color": null,
            "description_width": ""
          }
        },
        "ca9ef1b08d154f0795a308fa7222c079": {
          "model_module": "@jupyter-widgets/base",
          "model_name": "LayoutModel",
          "model_module_version": "1.2.0",
          "state": {
            "_model_module": "@jupyter-widgets/base",
            "_model_module_version": "1.2.0",
            "_model_name": "LayoutModel",
            "_view_count": null,
            "_view_module": "@jupyter-widgets/base",
            "_view_module_version": "1.2.0",
            "_view_name": "LayoutView",
            "align_content": null,
            "align_items": null,
            "align_self": null,
            "border": null,
            "bottom": null,
            "display": null,
            "flex": null,
            "flex_flow": null,
            "grid_area": null,
            "grid_auto_columns": null,
            "grid_auto_flow": null,
            "grid_auto_rows": null,
            "grid_column": null,
            "grid_gap": null,
            "grid_row": null,
            "grid_template_areas": null,
            "grid_template_columns": null,
            "grid_template_rows": null,
            "height": null,
            "justify_content": null,
            "justify_items": null,
            "left": null,
            "margin": null,
            "max_height": null,
            "max_width": null,
            "min_height": null,
            "min_width": null,
            "object_fit": null,
            "object_position": null,
            "order": null,
            "overflow": null,
            "overflow_x": null,
            "overflow_y": null,
            "padding": null,
            "right": null,
            "top": null,
            "visibility": null,
            "width": null
          }
        },
        "c90603c9e6d74c568c84b778575d6881": {
          "model_module": "@jupyter-widgets/controls",
          "model_name": "DescriptionStyleModel",
          "model_module_version": "1.5.0",
          "state": {
            "_model_module": "@jupyter-widgets/controls",
            "_model_module_version": "1.5.0",
            "_model_name": "DescriptionStyleModel",
            "_view_count": null,
            "_view_module": "@jupyter-widgets/base",
            "_view_module_version": "1.2.0",
            "_view_name": "StyleView",
            "description_width": ""
          }
        }
      }
    }
  },
  "cells": [
    {
      "cell_type": "code",
      "source": [
        "import torch\n",
        "import torch.nn as nn\n",
        "import torch.nn.functional as F\n",
        "import torch.optim as optim\n",
        "from torch.utils.data import Dataset, DataLoader\n",
        "\n",
        "import torchvision\n",
        "import torchvision.datasets\n",
        "import torchvision.transforms as transforms\n",
        "\n",
        "import numpy as np\n",
        "import matplotlib.pyplot as plt\n",
        "plt.style.use('seaborn-white')\n",
        "\n",
        "\n",
        "\n",
        "import random\n",
        "import math\n",
        "import os"
      ],
      "metadata": {
        "id": "RJqq2BV4Uhk2"
      },
      "execution_count": 11,
      "outputs": []
    },
    {
      "cell_type": "code",
      "source": [
        "from google.colab import drive\n",
        "drive.mount('/content/drive')"
      ],
      "metadata": {
        "colab": {
          "base_uri": "https://localhost:8080/"
        },
        "id": "Ac2gOdaA3qyd",
        "outputId": "4ea18a38-5afc-46aa-f4c1-4e933acfa1b1"
      },
      "execution_count": 3,
      "outputs": [
        {
          "output_type": "stream",
          "name": "stdout",
          "text": [
            "Drive already mounted at /content/drive; to attempt to forcibly remount, call drive.mount(\"/content/drive\", force_remount=True).\n"
          ]
        }
      ]
    },
    {
      "cell_type": "code",
      "source": [
        "class config:\n",
        "    seed = 42\n",
        "    device = \"cuda:0\"    \n",
        "        \n",
        "    lr = 1e-3\n",
        "    epochs = 25\n",
        "    batch_size = 32\n",
        "    num_workers = 4\n",
        "    train_5_folds = True\n",
        "\n",
        "def seed_everything(seed: int = 42):\n",
        "    random.seed(seed)\n",
        "    np.random.seed(seed)\n",
        "    os.environ[\"PYTHONHASHSEED\"] = str(seed)\n",
        "    torch.manual_seed(seed)\n",
        "    torch.cuda.manual_seed(seed)  # type: ignore\n",
        "    torch.backends.cudnn.deterministic = True  # type: ignore\n",
        "    torch.backends.cudnn.benchmark = True  # type: ignore\n",
        "\n",
        "seed_everything(config.seed)"
      ],
      "metadata": {
        "id": "3vyQQ0rYqwp9"
      },
      "execution_count": 12,
      "outputs": []
    },
    {
      "cell_type": "code",
      "source": [
        "use_cuda = torch.cuda.is_available()\n",
        "\n",
        "device = torch.device(\"cuda\" if use_cuda else \"cpu\")\n",
        "\n",
        "device"
      ],
      "metadata": {
        "colab": {
          "base_uri": "https://localhost:8080/"
        },
        "id": "AnZf8_DlJRxC",
        "outputId": "66fc3196-e093-460c-fd93-9c1c9c9068be"
      },
      "execution_count": 13,
      "outputs": [
        {
          "output_type": "execute_result",
          "data": {
            "text/plain": [
              "device(type='cuda')"
            ]
          },
          "metadata": {},
          "execution_count": 13
        }
      ]
    },
    {
      "cell_type": "code",
      "source": [
        "\n",
        "transform_train = transforms.Compose([transforms.ToTensor(),\n",
        "                                      transforms.RandomHorizontalFlip(p=0.5),\n",
        "                                      transforms.RandomVerticalFlip(p=0.5),\n",
        "                                      transforms.RandomGrayscale(p=1)])\n",
        "\n",
        "transform_validation = transforms.Compose([\n",
        "        transforms.ToTensor(),\n",
        "        transforms.RandomGrayscale(p=1)])\n",
        "\n",
        "transform  = transforms.Compose([\n",
        "        transforms.ToTensor(),\n",
        "        transforms.RandomGrayscale(p=1)])"
      ],
      "metadata": {
        "id": "X3YUvobnJimS"
      },
      "execution_count": 19,
      "outputs": []
    },
    {
      "cell_type": "code",
      "source": [
        "trainset = torchvision.datasets.CIFAR10(root='/content/drive/MyDrive/share/cafir_10',\n",
        "                                        train=True,\n",
        "                                        download=True,\n",
        "                                        transform=transform_train)\n",
        "\n",
        "vaildset = torchvision.datasets.CIFAR10(root='/content/drive/MyDrive/share/cafir_10',\n",
        "                                        train=False,\n",
        "                                        download=True,\n",
        "                                        transform=transform_validation)"
      ],
      "metadata": {
        "id": "hz66n6zuOikG",
        "colab": {
          "base_uri": "https://localhost:8080/",
          "height": 153,
          "referenced_widgets": [
            "0b55104e42054916a4c134050b7dee96",
            "358e3bcb3fa44965a153fa4071d73f6c",
            "645826b8c31d4f6e90a7ab222426569b",
            "685a6a6d42cb41e7b3bf0dbe3d3466a5",
            "24e16d90569f4cfea5bcb773b024c62d",
            "5d4eae284f3b41fbae7b60ed06594227",
            "21e84f46dd244ddfbbdcd0349b8d0657",
            "387a0e69a16d42539e7f4d038947feea",
            "afe628d3e14a4da699ba627589027125",
            "ca9ef1b08d154f0795a308fa7222c079",
            "c90603c9e6d74c568c84b778575d6881"
          ]
        },
        "outputId": "24f8964f-d7bf-4be7-e58f-6e91bc2982b0"
      },
      "execution_count": 21,
      "outputs": [
        {
          "output_type": "stream",
          "name": "stdout",
          "text": [
            "Downloading https://www.cs.toronto.edu/~kriz/cifar-10-python.tar.gz to /content/drive/MyDrive/share/cafir_10/cifar-10-python.tar.gz\n"
          ]
        },
        {
          "output_type": "display_data",
          "data": {
            "text/plain": [
              "  0%|          | 0/170498071 [00:00<?, ?it/s]"
            ],
            "application/vnd.jupyter.widget-view+json": {
              "version_major": 2,
              "version_minor": 0,
              "model_id": "0b55104e42054916a4c134050b7dee96"
            }
          },
          "metadata": {}
        },
        {
          "output_type": "stream",
          "name": "stdout",
          "text": [
            "Extracting /content/drive/MyDrive/share/cafir_10/cifar-10-python.tar.gz to /content/drive/MyDrive/share/cafir_10\n",
            "Files already downloaded and verified\n"
          ]
        }
      ]
    },
    {
      "cell_type": "code",
      "source": [
        "testset = torchvision.datasets.ImageFolder(root = \"/content/drive/MyDrive/share/images/Statistical_Deep_Image\",\n",
        "                                           transform = transform)"
      ],
      "metadata": {
        "id": "Zd8-9_oDSQK_"
      },
      "execution_count": 22,
      "outputs": []
    },
    {
      "cell_type": "code",
      "source": [
        "train_loader = DataLoader(trainset,\n",
        "                          batch_size = 16,\n",
        "                          shuffle=True,\n",
        "                          num_workers=2)\n",
        "\n",
        "vaild_loader = DataLoader(vaildset,\n",
        "                          batch_size = 64,\n",
        "                          shuffle=True,\n",
        "                          num_workers=2)\n",
        "\n",
        "\n",
        "test_loader = DataLoader(testset,\n",
        "                          batch_size=64,\n",
        "                          shuffle=False,\n",
        "                          num_workers=2)"
      ],
      "metadata": {
        "id": "JRxWLJjnKUIt"
      },
      "execution_count": 23,
      "outputs": []
    },
    {
      "cell_type": "markdown",
      "source": [
        "모델 넣기 "
      ],
      "metadata": {
        "id": "1hTgHG91xbSq"
      }
    },
    {
      "cell_type": "code",
      "source": [
        "class BasicBlock(nn.Module):\n",
        "   def __init__(self, in_channels, out_channels, kernel_size=3):\n",
        "       super(BasicBlock, self).__init__()\n",
        "\n",
        "\n",
        "       # ❶ 합성곱층 정의\n",
        "       self.c1 = nn.Conv2d(in_channels, out_channels, \n",
        "                           kernel_size=kernel_size, padding=1)\n",
        "       self.c2 = nn.Conv2d(out_channels, out_channels, \n",
        "                           kernel_size=kernel_size, padding=1)\n",
        "\n",
        "       self.downsample = nn.Conv2d(in_channels, out_channels, \n",
        "                                   kernel_size=1)\n",
        "       \n",
        "       # ❷ 배치 정규화층 정의\n",
        "       self.bn1 = nn.BatchNorm2d(num_features=out_channels)\n",
        "       self.bn2 = nn.BatchNorm2d(num_features=out_channels)\n",
        "\n",
        "       self.relu = nn.ReLU()\n",
        "   def forward(self, x):\n",
        "       # ❸스킵 커넥션을 위해 초기 입력을 저장\n",
        "       x_ = x\n",
        "\n",
        "       x = self.c1(x)\n",
        "       x = self.bn1(x)\n",
        "       x = self.relu(x)\n",
        "       x = self.c2(x)\n",
        "       x = self.bn2(x)\n",
        "\n",
        "       # ➍합성곱의 결과와 입력의 채널 수를 맞춤\n",
        "       x_ = self.downsample(x_)\n",
        "\n",
        "       # ➎합성곱층의 결과와 저장해놨던 입력값을 더해줌\n",
        "       x += x_\n",
        "       x = self.relu(x)\n",
        "\n",
        "       return x\n",
        "\n",
        "\n",
        "class ResNet(nn.Module):\n",
        "   def __init__(self, num_classes=10):\n",
        "       super(ResNet, self).__init__()\n",
        "\n",
        "\n",
        "       # ❶ 기본 블록\n",
        "       self.b1 = BasicBlock(in_channels=3, out_channels=64)\n",
        "       self.b2 = BasicBlock(in_channels=64, out_channels=128)\n",
        "       self.b3 = BasicBlock(in_channels=128, out_channels=256)\n",
        "\n",
        "\n",
        "       # ❷ 풀링을 최댓값이 아닌 평균값으로\n",
        "       self.pool = nn.AvgPool2d(kernel_size=2, stride=2) \n",
        "\n",
        "       # ❸ 분류기\n",
        "       self.fc1 = nn.Linear(in_features=4096, out_features=2048)\n",
        "       self.fc2 = nn.Linear(in_features=2048, out_features=512)\n",
        "       self.fc3 = nn.Linear(in_features=512, out_features=num_classes)\n",
        "\n",
        "       self.relu = nn.ReLU()\n",
        "   def forward(self, x):\n",
        "       # ❶ 기본 블록과 풀링층을 통과\n",
        "       x = self.b1(x)\n",
        "       x = self.pool(x)\n",
        "       x = self.b2(x)\n",
        "       x = self.pool(x)\n",
        "       x = self.b3(x)\n",
        "       x = self.pool(x)\n",
        "\n",
        "\n",
        "       # ❷ 분류기의 입력으로 사용하기 위해 flatten\n",
        "       x = torch.flatten(x, start_dim=1)\n",
        "\n",
        "       # ❸ 분류기로 예측값 출력\n",
        "       x = self.fc1(x)\n",
        "       x = self.relu(x)\n",
        "       x = self.fc2(x)\n",
        "       x = self.relu(x)\n",
        "       x = self.fc3(x)\n",
        "\n",
        "       return x"
      ],
      "metadata": {
        "id": "NkV4EfO4VplZ"
      },
      "execution_count": 24,
      "outputs": []
    },
    {
      "cell_type": "code",
      "source": [
        "net = ResNet(num_classes=10).to(device)\n",
        "\n",
        "criterion = nn.CrossEntropyLoss()\n",
        "\n",
        "optimizer = optim.SGD(net.parameters(), lr=0.001, momentum=0.9)\n",
        "\n",
        "total=0 \n",
        "correct = 0"
      ],
      "metadata": {
        "id": "Os2IBshCP2bO"
      },
      "execution_count": 25,
      "outputs": []
    },
    {
      "cell_type": "code",
      "source": [
        "for epoch in range(50):\n",
        "  running_loss = 0.0\n",
        "\n",
        "  for i, data in enumerate(train_loader, 0):\n",
        "    inputs, labels = data[0].to(device), data[1].to(device)\n",
        "\n",
        "    optimizer.zero_grad()\n",
        "    outputs= net(inputs)\n",
        "    loss = criterion(outputs, labels)\n",
        "    loss.backward()\n",
        "    optimizer.step()\n",
        "\n",
        "    running_loss += loss.item()\n",
        "    if i % 750 ==749:\n",
        "      print(\"Epoch: {},Batch : {}, Loss:{}\".format(epoch+1, i+1, running_loss/2000))\n",
        "      running_loss = 0.0\n",
        "\n",
        "  with torch.no_grad():\n",
        "    val_loss = 0.0\n",
        "    for k, data1 in enumerate(vaild_loader, 0):\n",
        "      val_inputs, val_label = data1[0].to(device), data1[1].to(device)\n",
        "      val_output = net(val_inputs)\n",
        "      v_loss = criterion(val_output, val_label)\n",
        "      val_loss += v_loss\n",
        "  print(\"validation loss : {}\".format(val_loss))\n",
        "\n",
        "  with torch.no_grad():\n",
        "    for data in test_loader:\n",
        "      images, labels = data[0].to(device), data[1].to(device)\n",
        "      outputs= net(images)\n",
        "      _, predicted = torch.max(outputs.data,1)\n",
        "      total += labels.size(0)\n",
        "      correct += (predicted == labels).sum().item()\n",
        "\n",
        "  print(\"testset Accuracy  : {}\".format(100* correct/total))\n",
        "  total=0\n",
        "  correct=0\n"
      ],
      "metadata": {
        "colab": {
          "base_uri": "https://localhost:8080/"
        },
        "id": "q8IufYT0P4Zx",
        "outputId": "71b691e4-05d8-471b-8d55-4fc54cda8e4c"
      },
      "execution_count": 26,
      "outputs": [
        {
          "output_type": "stream",
          "name": "stdout",
          "text": [
            "Epoch: 1,Batch : 750, Loss:0.7182109168171883\n",
            "Epoch: 1,Batch : 1500, Loss:0.5901603190600873\n",
            "Epoch: 1,Batch : 2250, Loss:0.5226958302855491\n",
            "Epoch: 1,Batch : 3000, Loss:0.47628156313300135\n",
            "validation loss : 187.165283203125\n",
            "testset Accuracy  : 25.95\n",
            "Epoch: 2,Batch : 750, Loss:0.427973975777626\n",
            "Epoch: 2,Batch : 1500, Loss:0.40455195139348504\n",
            "Epoch: 2,Batch : 2250, Loss:0.38498475368320945\n",
            "Epoch: 2,Batch : 3000, Loss:0.37454055368900296\n",
            "validation loss : 144.13790893554688\n",
            "testset Accuracy  : 34.45\n",
            "Epoch: 3,Batch : 750, Loss:0.3491512185484171\n",
            "Epoch: 3,Batch : 1500, Loss:0.34035866405069826\n",
            "Epoch: 3,Batch : 2250, Loss:0.32761656823009255\n",
            "Epoch: 3,Batch : 3000, Loss:0.3150489287227392\n",
            "validation loss : 128.82473754882812\n",
            "testset Accuracy  : 36.4\n",
            "Epoch: 4,Batch : 750, Loss:0.3011775277033448\n",
            "Epoch: 4,Batch : 1500, Loss:0.29133774831891057\n",
            "Epoch: 4,Batch : 2250, Loss:0.2919255008995533\n",
            "Epoch: 4,Batch : 3000, Loss:0.2833919126689434\n",
            "validation loss : 118.74002838134766\n",
            "testset Accuracy  : 40.2\n",
            "Epoch: 5,Batch : 750, Loss:0.261598024725914\n",
            "Epoch: 5,Batch : 1500, Loss:0.26359219349175694\n",
            "Epoch: 5,Batch : 2250, Loss:0.2620320082306862\n",
            "Epoch: 5,Batch : 3000, Loss:0.2564469872154295\n",
            "validation loss : 107.66207885742188\n",
            "testset Accuracy  : 42.05\n",
            "Epoch: 6,Batch : 750, Loss:0.24262259506434203\n",
            "Epoch: 6,Batch : 1500, Loss:0.2396629390642047\n",
            "Epoch: 6,Batch : 2250, Loss:0.2345480738747865\n",
            "Epoch: 6,Batch : 3000, Loss:0.23455639911815523\n",
            "validation loss : 101.25298309326172\n",
            "testset Accuracy  : 44.15\n",
            "Epoch: 7,Batch : 750, Loss:0.22173851181194187\n",
            "Epoch: 7,Batch : 1500, Loss:0.22049093144387008\n",
            "Epoch: 7,Batch : 2250, Loss:0.21752586002647878\n",
            "Epoch: 7,Batch : 3000, Loss:0.21029713010042905\n",
            "validation loss : 104.56910705566406\n",
            "testset Accuracy  : 44.45\n",
            "Epoch: 8,Batch : 750, Loss:0.20292256896942854\n",
            "Epoch: 8,Batch : 1500, Loss:0.20451709716022015\n",
            "Epoch: 8,Batch : 2250, Loss:0.19854730790108444\n",
            "Epoch: 8,Batch : 3000, Loss:0.19885353606939316\n",
            "validation loss : 96.1900863647461\n",
            "testset Accuracy  : 47.3\n",
            "Epoch: 9,Batch : 750, Loss:0.18402913950383662\n",
            "Epoch: 9,Batch : 1500, Loss:0.18248759694863112\n",
            "Epoch: 9,Batch : 2250, Loss:0.18337299498543144\n",
            "Epoch: 9,Batch : 3000, Loss:0.18803994716331363\n",
            "validation loss : 88.99432373046875\n",
            "testset Accuracy  : 46.65\n",
            "Epoch: 10,Batch : 750, Loss:0.17107838466390968\n",
            "Epoch: 10,Batch : 1500, Loss:0.16984872537199408\n",
            "Epoch: 10,Batch : 2250, Loss:0.1754372185766697\n",
            "Epoch: 10,Batch : 3000, Loss:0.1713321909364313\n",
            "validation loss : 87.38709259033203\n",
            "testset Accuracy  : 48.85\n",
            "Epoch: 11,Batch : 750, Loss:0.15359608363546431\n",
            "Epoch: 11,Batch : 1500, Loss:0.16077476566657423\n",
            "Epoch: 11,Batch : 2250, Loss:0.1604872963912785\n",
            "Epoch: 11,Batch : 3000, Loss:0.16394592494517565\n",
            "validation loss : 85.52024841308594\n",
            "testset Accuracy  : 50.0\n",
            "Epoch: 12,Batch : 750, Loss:0.14415633221156895\n",
            "Epoch: 12,Batch : 1500, Loss:0.1475635799728334\n",
            "Epoch: 12,Batch : 2250, Loss:0.15029756189882756\n",
            "Epoch: 12,Batch : 3000, Loss:0.14963192939572037\n",
            "validation loss : 80.48322296142578\n",
            "testset Accuracy  : 52.05\n",
            "Epoch: 13,Batch : 750, Loss:0.13674774287454783\n",
            "Epoch: 13,Batch : 1500, Loss:0.13981501357257367\n",
            "Epoch: 13,Batch : 2250, Loss:0.14116565678268672\n",
            "Epoch: 13,Batch : 3000, Loss:0.14077947988919914\n",
            "validation loss : 87.11620330810547\n",
            "testset Accuracy  : 47.8\n",
            "Epoch: 14,Batch : 750, Loss:0.1252282698340714\n",
            "Epoch: 14,Batch : 1500, Loss:0.1293927156124264\n",
            "Epoch: 14,Batch : 2250, Loss:0.13112760931812226\n",
            "Epoch: 14,Batch : 3000, Loss:0.1326372753828764\n",
            "validation loss : 77.86474609375\n",
            "testset Accuracy  : 51.4\n",
            "Epoch: 15,Batch : 750, Loss:0.1188145694010891\n",
            "Epoch: 15,Batch : 1500, Loss:0.12202153342450038\n",
            "Epoch: 15,Batch : 2250, Loss:0.11833944708667696\n",
            "Epoch: 15,Batch : 3000, Loss:0.12282397899217903\n",
            "validation loss : 82.15819549560547\n",
            "testset Accuracy  : 51.2\n",
            "Epoch: 16,Batch : 750, Loss:0.11053896640520543\n",
            "Epoch: 16,Batch : 1500, Loss:0.11104793653055094\n",
            "Epoch: 16,Batch : 2250, Loss:0.11108412678865716\n",
            "Epoch: 16,Batch : 3000, Loss:0.11304633469320834\n",
            "validation loss : 79.20121002197266\n",
            "testset Accuracy  : 51.15\n",
            "Epoch: 17,Batch : 750, Loss:0.10195128142088651\n",
            "Epoch: 17,Batch : 1500, Loss:0.1037685550218448\n",
            "Epoch: 17,Batch : 2250, Loss:0.10630042198393494\n",
            "Epoch: 17,Batch : 3000, Loss:0.1026610100385733\n",
            "validation loss : 81.59228515625\n",
            "testset Accuracy  : 51.65\n",
            "Epoch: 18,Batch : 750, Loss:0.09701257888413965\n",
            "Epoch: 18,Batch : 1500, Loss:0.09271886990056373\n",
            "Epoch: 18,Batch : 2250, Loss:0.09873143452918157\n",
            "Epoch: 18,Batch : 3000, Loss:0.10068094282457606\n",
            "validation loss : 78.7691879272461\n",
            "testset Accuracy  : 52.6\n",
            "Epoch: 19,Batch : 750, Loss:0.08882675350224599\n",
            "Epoch: 19,Batch : 1500, Loss:0.09015583192138002\n",
            "Epoch: 19,Batch : 2250, Loss:0.09266073938412592\n",
            "Epoch: 19,Batch : 3000, Loss:0.09239604651578702\n",
            "validation loss : 78.2109375\n",
            "testset Accuracy  : 52.35\n",
            "Epoch: 20,Batch : 750, Loss:0.07604141780361533\n",
            "Epoch: 20,Batch : 1500, Loss:0.08320733886677772\n",
            "Epoch: 20,Batch : 2250, Loss:0.08299131545308046\n",
            "Epoch: 20,Batch : 3000, Loss:0.08992016472760588\n",
            "validation loss : 82.75602722167969\n",
            "testset Accuracy  : 53.75\n",
            "Epoch: 21,Batch : 750, Loss:0.07545649317069911\n",
            "Epoch: 21,Batch : 1500, Loss:0.07882444928027689\n",
            "Epoch: 21,Batch : 2250, Loss:0.08117789281345904\n",
            "Epoch: 21,Batch : 3000, Loss:0.07837381076777819\n",
            "validation loss : 80.8558120727539\n",
            "testset Accuracy  : 51.75\n",
            "Epoch: 22,Batch : 750, Loss:0.07047746468381956\n",
            "Epoch: 22,Batch : 1500, Loss:0.07154956024489366\n",
            "Epoch: 22,Batch : 2250, Loss:0.0732756191380322\n",
            "Epoch: 22,Batch : 3000, Loss:0.07376651754695922\n",
            "validation loss : 85.0134048461914\n",
            "testset Accuracy  : 53.2\n",
            "Epoch: 23,Batch : 750, Loss:0.06276121963793412\n",
            "Epoch: 23,Batch : 1500, Loss:0.06881070475839078\n",
            "Epoch: 23,Batch : 2250, Loss:0.06463272002292797\n",
            "Epoch: 23,Batch : 3000, Loss:0.06784840298048221\n",
            "validation loss : 80.8067855834961\n",
            "testset Accuracy  : 54.2\n",
            "Epoch: 24,Batch : 750, Loss:0.0578706664085621\n",
            "Epoch: 24,Batch : 1500, Loss:0.058344756790203976\n",
            "Epoch: 24,Batch : 2250, Loss:0.06220680557156447\n",
            "Epoch: 24,Batch : 3000, Loss:0.06273363909334875\n",
            "validation loss : 84.52240753173828\n",
            "testset Accuracy  : 54.0\n",
            "Epoch: 25,Batch : 750, Loss:0.05457476342451992\n",
            "Epoch: 25,Batch : 1500, Loss:0.05493572853889782\n",
            "Epoch: 25,Batch : 2250, Loss:0.0581574630845571\n",
            "Epoch: 25,Batch : 3000, Loss:0.05856963243638165\n",
            "validation loss : 83.62410736083984\n",
            "testset Accuracy  : 52.8\n",
            "Epoch: 26,Batch : 750, Loss:0.05086187974479981\n",
            "Epoch: 26,Batch : 1500, Loss:0.052188405526569115\n",
            "Epoch: 26,Batch : 2250, Loss:0.05419156314316206\n",
            "Epoch: 26,Batch : 3000, Loss:0.055648267159587705\n",
            "validation loss : 84.49102783203125\n",
            "testset Accuracy  : 54.65\n",
            "Epoch: 27,Batch : 750, Loss:0.04518849206203595\n",
            "Epoch: 27,Batch : 1500, Loss:0.04782571540673962\n",
            "Epoch: 27,Batch : 2250, Loss:0.0479462466709374\n",
            "Epoch: 27,Batch : 3000, Loss:0.05111682028113864\n",
            "validation loss : 89.22832489013672\n",
            "testset Accuracy  : 55.25\n",
            "Epoch: 28,Batch : 750, Loss:0.04253094036618131\n",
            "Epoch: 28,Batch : 1500, Loss:0.04469269267574418\n",
            "Epoch: 28,Batch : 2250, Loss:0.04570146584149916\n",
            "Epoch: 28,Batch : 3000, Loss:0.04412840781430714\n",
            "validation loss : 89.4306640625\n",
            "testset Accuracy  : 54.45\n",
            "Epoch: 29,Batch : 750, Loss:0.03903732903441414\n",
            "Epoch: 29,Batch : 1500, Loss:0.03959171949489974\n",
            "Epoch: 29,Batch : 2250, Loss:0.03979322062002029\n",
            "Epoch: 29,Batch : 3000, Loss:0.04217684660485247\n",
            "validation loss : 87.08780670166016\n",
            "testset Accuracy  : 54.95\n",
            "Epoch: 30,Batch : 750, Loss:0.037072994228976315\n",
            "Epoch: 30,Batch : 1500, Loss:0.034306571628025265\n",
            "Epoch: 30,Batch : 2250, Loss:0.040699638886901084\n",
            "Epoch: 30,Batch : 3000, Loss:0.04009320658075739\n",
            "validation loss : 88.8484878540039\n",
            "testset Accuracy  : 55.9\n",
            "Epoch: 31,Batch : 750, Loss:0.03211436274833977\n",
            "Epoch: 31,Batch : 1500, Loss:0.03351337849764968\n",
            "Epoch: 31,Batch : 2250, Loss:0.0377211871559557\n",
            "Epoch: 31,Batch : 3000, Loss:0.03832210934691829\n",
            "validation loss : 88.83053588867188\n",
            "testset Accuracy  : 55.0\n",
            "Epoch: 32,Batch : 750, Loss:0.03125703276271816\n",
            "Epoch: 32,Batch : 1500, Loss:0.03569215066026663\n",
            "Epoch: 32,Batch : 2250, Loss:0.03234460918199329\n",
            "Epoch: 32,Batch : 3000, Loss:0.032462268690142085\n",
            "validation loss : 91.78855895996094\n",
            "testset Accuracy  : 56.2\n",
            "Epoch: 33,Batch : 750, Loss:0.029487741325094248\n",
            "Epoch: 33,Batch : 1500, Loss:0.028542414640149217\n",
            "Epoch: 33,Batch : 2250, Loss:0.029989164461090696\n",
            "Epoch: 33,Batch : 3000, Loss:0.03227374333012267\n",
            "validation loss : 89.6994400024414\n",
            "testset Accuracy  : 56.1\n",
            "Epoch: 34,Batch : 750, Loss:0.025612631600160966\n",
            "Epoch: 34,Batch : 1500, Loss:0.02668564841199259\n",
            "Epoch: 34,Batch : 2250, Loss:0.025855465988825016\n",
            "Epoch: 34,Batch : 3000, Loss:0.027769465332259644\n",
            "validation loss : 94.36022186279297\n",
            "testset Accuracy  : 54.75\n",
            "Epoch: 35,Batch : 750, Loss:0.02605420138234331\n",
            "Epoch: 35,Batch : 1500, Loss:0.02410797248908784\n",
            "Epoch: 35,Batch : 2250, Loss:0.028888262282678625\n",
            "Epoch: 35,Batch : 3000, Loss:0.027017409747146302\n",
            "validation loss : 93.78233337402344\n",
            "testset Accuracy  : 55.8\n",
            "Epoch: 36,Batch : 750, Loss:0.02219701574886858\n",
            "Epoch: 36,Batch : 1500, Loss:0.021748726113240992\n",
            "Epoch: 36,Batch : 2250, Loss:0.02179944083468581\n",
            "Epoch: 36,Batch : 3000, Loss:0.024335122142838374\n",
            "validation loss : 96.27015686035156\n",
            "testset Accuracy  : 56.85\n",
            "Epoch: 37,Batch : 750, Loss:0.021104300680643066\n",
            "Epoch: 37,Batch : 1500, Loss:0.02283389358990826\n",
            "Epoch: 37,Batch : 2250, Loss:0.023851713834854307\n",
            "Epoch: 37,Batch : 3000, Loss:0.025317743833824354\n",
            "validation loss : 93.83393859863281\n",
            "testset Accuracy  : 55.25\n",
            "Epoch: 38,Batch : 750, Loss:0.019632491286414734\n",
            "Epoch: 38,Batch : 1500, Loss:0.019522530879301486\n",
            "Epoch: 38,Batch : 2250, Loss:0.023006540256668814\n",
            "Epoch: 38,Batch : 3000, Loss:0.021984923304524274\n",
            "validation loss : 98.10795593261719\n",
            "testset Accuracy  : 56.35\n",
            "Epoch: 39,Batch : 750, Loss:0.018836802749181515\n",
            "Epoch: 39,Batch : 1500, Loss:0.019731352008177053\n",
            "Epoch: 39,Batch : 2250, Loss:0.019848558139387025\n",
            "Epoch: 39,Batch : 3000, Loss:0.0220554315069312\n",
            "validation loss : 98.09703063964844\n",
            "testset Accuracy  : 56.7\n",
            "Epoch: 40,Batch : 750, Loss:0.015769058531324844\n",
            "Epoch: 40,Batch : 1500, Loss:0.015414825027881307\n",
            "Epoch: 40,Batch : 2250, Loss:0.019687005455554754\n",
            "Epoch: 40,Batch : 3000, Loss:0.019735902640801214\n",
            "validation loss : 98.7693862915039\n",
            "testset Accuracy  : 55.1\n",
            "Epoch: 41,Batch : 750, Loss:0.017719666539807805\n",
            "Epoch: 41,Batch : 1500, Loss:0.015406564139608236\n",
            "Epoch: 41,Batch : 2250, Loss:0.016510587096039673\n",
            "Epoch: 41,Batch : 3000, Loss:0.018354401279819285\n",
            "validation loss : 97.90555572509766\n",
            "testset Accuracy  : 55.8\n",
            "Epoch: 42,Batch : 750, Loss:0.01602029154865886\n",
            "Epoch: 42,Batch : 1500, Loss:0.01554465507358691\n",
            "Epoch: 42,Batch : 2250, Loss:0.015237298484975327\n",
            "Epoch: 42,Batch : 3000, Loss:0.016075518040786847\n",
            "validation loss : 102.31360626220703\n",
            "testset Accuracy  : 55.8\n",
            "Epoch: 43,Batch : 750, Loss:0.014407120411437062\n",
            "Epoch: 43,Batch : 1500, Loss:0.014610242082286277\n",
            "Epoch: 43,Batch : 2250, Loss:0.013801442721596686\n",
            "Epoch: 43,Batch : 3000, Loss:0.014918977900393657\n",
            "validation loss : 107.19393157958984\n",
            "testset Accuracy  : 54.65\n",
            "Epoch: 44,Batch : 750, Loss:0.014295547106066807\n",
            "Epoch: 44,Batch : 1500, Loss:0.015144790707128777\n",
            "Epoch: 44,Batch : 2250, Loss:0.015246781977264617\n",
            "Epoch: 44,Batch : 3000, Loss:0.014636090448860158\n",
            "validation loss : 103.30850219726562\n",
            "testset Accuracy  : 55.95\n",
            "Epoch: 45,Batch : 750, Loss:0.013353396970789617\n",
            "Epoch: 45,Batch : 1500, Loss:0.014006587711633984\n",
            "Epoch: 45,Batch : 2250, Loss:0.014011958269926253\n",
            "Epoch: 45,Batch : 3000, Loss:0.012135061728091387\n",
            "validation loss : 107.8382339477539\n",
            "testset Accuracy  : 58.05\n",
            "Epoch: 46,Batch : 750, Loss:0.012565282808835036\n",
            "Epoch: 46,Batch : 1500, Loss:0.011361315547372214\n",
            "Epoch: 46,Batch : 2250, Loss:0.011085105248259425\n",
            "Epoch: 46,Batch : 3000, Loss:0.013384170291235932\n",
            "validation loss : 103.31920623779297\n",
            "testset Accuracy  : 54.6\n",
            "Epoch: 47,Batch : 750, Loss:0.011449271660751947\n",
            "Epoch: 47,Batch : 1500, Loss:0.011926396475768342\n",
            "Epoch: 47,Batch : 2250, Loss:0.012541760213718589\n",
            "Epoch: 47,Batch : 3000, Loss:0.010809769962255814\n",
            "validation loss : 108.92765808105469\n",
            "testset Accuracy  : 57.45\n",
            "Epoch: 48,Batch : 750, Loss:0.010270603395543731\n",
            "Epoch: 48,Batch : 1500, Loss:0.01115751050734434\n",
            "Epoch: 48,Batch : 2250, Loss:0.008778797726499761\n",
            "Epoch: 48,Batch : 3000, Loss:0.010098945620357881\n",
            "validation loss : 104.09527587890625\n",
            "testset Accuracy  : 58.25\n",
            "Epoch: 49,Batch : 750, Loss:0.007695548842605603\n",
            "Epoch: 49,Batch : 1500, Loss:0.008060295389716884\n",
            "Epoch: 49,Batch : 2250, Loss:0.010848417156872528\n",
            "Epoch: 49,Batch : 3000, Loss:0.009889204229919414\n",
            "validation loss : 104.19223022460938\n",
            "testset Accuracy  : 57.15\n",
            "Epoch: 50,Batch : 750, Loss:0.007992031230467546\n",
            "Epoch: 50,Batch : 1500, Loss:0.009225792509572785\n",
            "Epoch: 50,Batch : 2250, Loss:0.012026843270477912\n",
            "Epoch: 50,Batch : 3000, Loss:0.010456189394430111\n",
            "validation loss : 108.66671752929688\n",
            "testset Accuracy  : 57.35\n"
          ]
        }
      ]
    },
    {
      "cell_type": "markdown",
      "source": [
        "pretrained 넣기\n"
      ],
      "metadata": {
        "id": "KqDJoCltxkKf"
      }
    },
    {
      "cell_type": "code",
      "source": [
        "PATH = '/content/drive/MyDrive/share/trained_model/cifar_resnetmine_black.pth'\n",
        "\n"
      ],
      "metadata": {
        "id": "S0fKwJo7P4iQ"
      },
      "execution_count": 35,
      "outputs": []
    },
    {
      "cell_type": "code",
      "source": [
        "torch.save(net.state_dict(), PATH)"
      ],
      "metadata": {
        "id": "9VJnnqHYI-Bm"
      },
      "execution_count": 36,
      "outputs": []
    },
    {
      "cell_type": "code",
      "source": [
        "classes = ('plane','automobile','bird','cat','deer',\n",
        "           'dog','frog','horse','ship','truck')"
      ],
      "metadata": {
        "id": "47ZGkY0NX5if"
      },
      "execution_count": 28,
      "outputs": []
    },
    {
      "cell_type": "code",
      "source": [
        "class_correct = list(0. for i in range(10))\n",
        "class_total = list(0. for i in range(10))\n",
        "\n",
        "with torch.no_grad():\n",
        "  for data in test_loader:\n",
        "    images, labels = data[0].to(device), data[1].to(device)\n",
        "    outputs= net(images)\n",
        "    _, predicted = torch.max(outputs.data,1)\n",
        "    c= (predicted == labels).squeeze()\n",
        "    for i in range(4):\n",
        "      label= labels[i]\n",
        "      class_correct[label]+= c[i].item()\n",
        "      class_total[label]+= 1\n",
        "\n",
        "for i in range(10):\n",
        "  print(\"Accuracy of {} : {} %\".format(classes[i],100* class_correct[i]/class_total[i]))"
      ],
      "metadata": {
        "id": "QOaHVH52X5kA",
        "colab": {
          "base_uri": "https://localhost:8080/"
        },
        "outputId": "ec6ee437-7a72-4e57-cbe2-fb4ab82f1afd"
      },
      "execution_count": 29,
      "outputs": [
        {
          "output_type": "stream",
          "name": "stdout",
          "text": [
            "Accuracy of plane : 87.5 %\n",
            "Accuracy of automobile : 58.333333333333336 %\n",
            "Accuracy of bird : 41.666666666666664 %\n",
            "Accuracy of cat : 41.666666666666664 %\n",
            "Accuracy of deer : 83.33333333333333 %\n",
            "Accuracy of dog : 33.333333333333336 %\n",
            "Accuracy of frog : 33.333333333333336 %\n",
            "Accuracy of horse : 50.0 %\n",
            "Accuracy of ship : 87.5 %\n",
            "Accuracy of truck : 33.333333333333336 %\n"
          ]
        }
      ]
    },
    {
      "cell_type": "code",
      "source": [],
      "metadata": {
        "id": "CLanzQjcfLzg"
      },
      "execution_count": null,
      "outputs": []
    },
    {
      "cell_type": "code",
      "source": [
        "correct = 0\n",
        "total = 0\n",
        "with torch.no_grad():\n",
        "  for data in train_loader:\n",
        "    images, labels = data[0].to(device), data[1].to(device)\n",
        "    outputs= net(images)\n",
        "    _, predicted = torch.max(outputs.data,1)\n",
        "    total +=labels.size(0)\n",
        "    correct += (predicted == labels).sum().item()\n",
        "\n",
        "print(\"trainset Accuracy  : {}\".format(100* correct/total))"
      ],
      "metadata": {
        "colab": {
          "base_uri": "https://localhost:8080/"
        },
        "id": "44HdYYfb5Eja",
        "outputId": "116702a8-5beb-4351-e4e4-9b478c5268ff"
      },
      "execution_count": 30,
      "outputs": [
        {
          "output_type": "stream",
          "name": "stdout",
          "text": [
            "trainset Accuracy  : 99.376\n"
          ]
        }
      ]
    },
    {
      "cell_type": "code",
      "source": [
        "correct = 0\n",
        "total = 0\n",
        "with torch.no_grad():\n",
        "  for data in vaild_loader:\n",
        "    images, labels = data[0].to(device), data[1].to(device)\n",
        "    outputs= net(images)\n",
        "    _, predicted = torch.max(outputs.data,1)\n",
        "    total +=labels.size(0)\n",
        "    correct += (predicted == labels).sum().item()\n",
        "\n",
        "print(\"vaildset Accuracy  : {}\".format(100* correct/total))"
      ],
      "metadata": {
        "id": "xKUJChxdX5Wn",
        "colab": {
          "base_uri": "https://localhost:8080/"
        },
        "outputId": "c93a8cb6-9336-41fe-f5c8-4cee0c3a18d5"
      },
      "execution_count": 31,
      "outputs": [
        {
          "output_type": "stream",
          "name": "stdout",
          "text": [
            "vaildset Accuracy  : 85.65\n"
          ]
        }
      ]
    },
    {
      "cell_type": "code",
      "source": [
        "correct = 0\n",
        "total = 0\n",
        "with torch.no_grad():\n",
        "  for data in test_loader:\n",
        "    images, labels = data[0].to(device), data[1].to(device)\n",
        "    outputs= net(images)\n",
        "    _, predicted = torch.max(outputs.data,1)\n",
        "    total +=labels.size(0)\n",
        "    correct += (predicted == labels).sum().item()\n",
        "\n",
        "print(\"testset Accuracy  : {}\".format(100* correct/total))"
      ],
      "metadata": {
        "id": "O8NlBkmgX5a4",
        "colab": {
          "base_uri": "https://localhost:8080/"
        },
        "outputId": "866b794d-c8d7-4005-ace0-85146e9b02db"
      },
      "execution_count": 32,
      "outputs": [
        {
          "output_type": "stream",
          "name": "stdout",
          "text": [
            "testset Accuracy  : 57.35\n"
          ]
        }
      ]
    }
  ]
}