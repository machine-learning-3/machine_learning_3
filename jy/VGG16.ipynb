{
 "cells": [
  {
   "cell_type": "code",
   "execution_count": 108,
   "id": "fab02fff",
   "metadata": {
    "ExecuteTime": {
     "end_time": "2022-11-08T17:06:29.293226Z",
     "start_time": "2022-11-08T17:06:29.282727Z"
    }
   },
   "outputs": [],
   "source": [
    "from torchvision import datasets as ds\n",
    "from torch.utils.data import DataLoader\n",
    "from torchvision import transforms as ts\n",
    "import torchvision as tv\n",
    "import torch\n",
    "import torch.nn as nn\n",
    "import math\n",
    "import numpy as np\n",
    "from torch.autograd import Variable\n",
    "from torch import optim\n",
    "from matplotlib import pyplot as plt\n",
    "import torch.backends.cudnn as cudnn\n",
    "import timm\n",
    "from PIL import Image\n",
    "from tqdm import tqdm\n",
    "import "
   ]
  },
  {
   "cell_type": "code",
   "execution_count": null,
   "id": "fef0e15c",
   "metadata": {},
   "outputs": [],
   "source": [
    "def set_seed(self, seed):\n",
    "        random.seed(seed)\n",
    "        np.random.seed(seed)\n",
    "        torch.manual_seed(seed)\n",
    "        if torch.cuda.is_available():\n",
    "            torch.cuda.manual_seed_all(seed)"
   ]
  },
  {
   "cell_type": "markdown",
   "id": "bea2d8b3",
   "metadata": {},
   "source": [
    "## Dataset"
   ]
  },
  {
   "cell_type": "code",
   "execution_count": 2,
   "id": "d2dcf3a4",
   "metadata": {
    "ExecuteTime": {
     "end_time": "2022-11-08T07:05:10.767456Z",
     "start_time": "2022-11-08T07:05:10.760278Z"
    }
   },
   "outputs": [],
   "source": [
    "transform = ts.Compose(\n",
    "    [\n",
    "        ts.ToTensor(),\n",
    "        ts.Normalize((0.5, 0.5, 0.5), (0.5, 0.5, 0.5))\n",
    "    ]\n",
    ")"
   ]
  },
  {
   "cell_type": "code",
   "execution_count": 125,
   "id": "3a1be153",
   "metadata": {
    "ExecuteTime": {
     "end_time": "2022-11-08T19:47:52.680611Z",
     "start_time": "2022-11-08T19:47:52.674962Z"
    }
   },
   "outputs": [],
   "source": [
    "target_transform = ts.Compose([ts.ToTensor()])"
   ]
  },
  {
   "cell_type": "code",
   "execution_count": 3,
   "id": "b8edf44d",
   "metadata": {
    "ExecuteTime": {
     "end_time": "2022-11-08T07:07:05.367271Z",
     "start_time": "2022-11-08T07:06:50.408344Z"
    }
   },
   "outputs": [
    {
     "name": "stdout",
     "output_type": "stream",
     "text": [
      "Downloading https://www.cs.toronto.edu/~kriz/cifar-10-python.tar.gz to ../data/cifar-10-python.tar.gz\n"
     ]
    },
    {
     "data": {
      "application/vnd.jupyter.widget-view+json": {
       "model_id": "a655453f61fb4c9da0ce9a484948c2ca",
       "version_major": 2,
       "version_minor": 0
      },
      "text/plain": [
       "  0%|          | 0/170498071 [00:00<?, ?it/s]"
      ]
     },
     "metadata": {},
     "output_type": "display_data"
    },
    {
     "name": "stdout",
     "output_type": "stream",
     "text": [
      "Extracting ../data/cifar-10-python.tar.gz to ../data/\n"
     ]
    }
   ],
   "source": [
    "train_set = ds.CIFAR10(root='../data/', train=True, transform=transform, download=True)"
   ]
  },
  {
   "cell_type": "code",
   "execution_count": 111,
   "id": "9576644e",
   "metadata": {
    "ExecuteTime": {
     "end_time": "2022-11-08T17:37:07.368802Z",
     "start_time": "2022-11-08T17:37:07.362463Z"
    }
   },
   "outputs": [],
   "source": [
    "train_loader = torch.utils.data.DataLoader(train_set, batch_size=200, shuffle=True, num_workers=0)"
   ]
  },
  {
   "cell_type": "code",
   "execution_count": 97,
   "id": "59eec875",
   "metadata": {
    "ExecuteTime": {
     "end_time": "2022-11-08T15:55:29.352362Z",
     "start_time": "2022-11-08T15:55:28.417325Z"
    }
   },
   "outputs": [
    {
     "name": "stdout",
     "output_type": "stream",
     "text": [
      "Files already downloaded and verified\n"
     ]
    }
   ],
   "source": [
    "val_set = tv.datasets.CIFAR10(root='../data/',train=False, download=True, transform=transform)"
   ]
  },
  {
   "cell_type": "code",
   "execution_count": 112,
   "id": "0cb0e798",
   "metadata": {
    "ExecuteTime": {
     "end_time": "2022-11-08T17:37:25.200141Z",
     "start_time": "2022-11-08T17:37:25.193874Z"
    }
   },
   "outputs": [],
   "source": [
    "val_loader = torch.utils.data.DataLoader(val_set, batch_size=200, shuffle=True, num_workers=0)"
   ]
  },
  {
   "cell_type": "code",
   "execution_count": 42,
   "id": "41c35941",
   "metadata": {
    "ExecuteTime": {
     "end_time": "2022-11-08T12:56:24.815968Z",
     "start_time": "2022-11-08T12:56:24.806381Z"
    }
   },
   "outputs": [],
   "source": [
    "def make_test_list(data_dir):\n",
    "    \n",
    "    test_img_list = list()\n",
    "    \n",
    "    files = os.listdir(data_dir)\n",
    "    \n",
    "    for i in range(10):\n",
    "        img_file = data_dir + \"/\" + files[i]\n",
    "        img = os.listdir(img_file)\n",
    "        for j in range(200):\n",
    "            img_path = data_dir + \"/\" +  files[i] + \"/\" + img[j]\n",
    "            \n",
    "            test_img_list.append(img_path)\n",
    "    return test_img_list"
   ]
  },
  {
   "cell_type": "code",
   "execution_count": 43,
   "id": "161a7a80",
   "metadata": {
    "ExecuteTime": {
     "end_time": "2022-11-08T12:56:25.368388Z",
     "start_time": "2022-11-08T12:56:25.358484Z"
    }
   },
   "outputs": [],
   "source": [
    "img_list = make_test_list(\"../Statistical_Deep_Image_2021/Statistical_Deep_Image\")"
   ]
  },
  {
   "cell_type": "code",
   "execution_count": 56,
   "id": "c1463f3a",
   "metadata": {
    "ExecuteTime": {
     "end_time": "2022-11-08T13:02:37.146505Z",
     "start_time": "2022-11-08T13:02:37.139547Z"
    }
   },
   "outputs": [
    {
     "data": {
      "text/plain": [
       "2000"
      ]
     },
     "execution_count": 56,
     "metadata": {},
     "output_type": "execute_result"
    }
   ],
   "source": [
    "len(img_list)"
   ]
  },
  {
   "cell_type": "code",
   "execution_count": 166,
   "id": "e7fb2024",
   "metadata": {
    "ExecuteTime": {
     "end_time": "2022-11-08T20:20:01.133143Z",
     "start_time": "2022-11-08T20:20:01.125641Z"
    }
   },
   "outputs": [],
   "source": [
    "def make_test_label(label_list):\n",
    "    \n",
    "    test_label_list = list()\n",
    "    \n",
    "    for i in range(10):\n",
    "        for j in range(200):\n",
    "            test_label_list.append(i)\n",
    "        \n",
    "    return test_label_list"
   ]
  },
  {
   "cell_type": "code",
   "execution_count": 167,
   "id": "608682e3",
   "metadata": {
    "ExecuteTime": {
     "end_time": "2022-11-08T20:20:04.412196Z",
     "start_time": "2022-11-08T20:20:04.405580Z"
    }
   },
   "outputs": [],
   "source": [
    "label = os.listdir(\"../Statistical_Deep_Image_2021/Statistical_Deep_Image\")\n",
    "img_label_list = make_test_label(label)"
   ]
  },
  {
   "cell_type": "code",
   "execution_count": 57,
   "id": "5bca69ac",
   "metadata": {
    "ExecuteTime": {
     "end_time": "2022-11-08T13:02:48.216585Z",
     "start_time": "2022-11-08T13:02:48.209633Z"
    }
   },
   "outputs": [
    {
     "data": {
      "text/plain": [
       "2000"
      ]
     },
     "execution_count": 57,
     "metadata": {},
     "output_type": "execute_result"
    }
   ],
   "source": [
    "len(img_label_list)"
   ]
  },
  {
   "cell_type": "code",
   "execution_count": 178,
   "id": "be1ee1e9",
   "metadata": {
    "ExecuteTime": {
     "end_time": "2022-11-08T20:22:14.828825Z",
     "start_time": "2022-11-08T20:22:14.816480Z"
    }
   },
   "outputs": [],
   "source": [
    "class testset(torch.utils.data.Dataset):\n",
    "    def __init__(self, img_list, img_label_list, transform, target_transform):\n",
    "        self.file_list = img_list\n",
    "        self.labels = img_label_list\n",
    "        self.transform = transform\n",
    "        self.target_transform = target_transform\n",
    "        \n",
    "    def __len__(self):\n",
    "        return len(self.file_list)\n",
    "    \n",
    "    def __getitem__(self, index):\n",
    "        img_path = self.file_list[index]\n",
    "        img = Image.open(img_path)\n",
    "        img_transformed = self.transform(img)\n",
    "        return img_transformed, self.labels[index]"
   ]
  },
  {
   "cell_type": "code",
   "execution_count": 179,
   "id": "1ef8eb21",
   "metadata": {
    "ExecuteTime": {
     "end_time": "2022-11-08T20:22:15.251294Z",
     "start_time": "2022-11-08T20:22:15.245917Z"
    }
   },
   "outputs": [],
   "source": [
    "test_set = testset(img_list = img_list,\n",
    "                  img_label_list = img_label_list,\n",
    "                  transform = transform,\n",
    "                  target_transform = target_transform)"
   ]
  },
  {
   "cell_type": "code",
   "execution_count": 180,
   "id": "fab6c5e9",
   "metadata": {
    "ExecuteTime": {
     "end_time": "2022-11-08T20:22:15.788838Z",
     "start_time": "2022-11-08T20:22:15.781901Z"
    }
   },
   "outputs": [],
   "source": [
    "test_loader = torch.utils.data.DataLoader(test_set, batch_size = 200, shuffle=True, num_workers=0)"
   ]
  },
  {
   "cell_type": "code",
   "execution_count": 14,
   "id": "f2e8cff0",
   "metadata": {
    "ExecuteTime": {
     "end_time": "2022-11-08T07:22:41.062012Z",
     "start_time": "2022-11-08T07:22:41.055821Z"
    }
   },
   "outputs": [],
   "source": [
    "classes = ('plane', 'car', 'bird', 'cat', 'deer', 'dog', 'frog', 'horse', 'ship', 'truck')"
   ]
  },
  {
   "cell_type": "markdown",
   "id": "909ec7fb",
   "metadata": {},
   "source": [
    "## Model training"
   ]
  },
  {
   "cell_type": "code",
   "execution_count": 91,
   "id": "25357a67",
   "metadata": {
    "ExecuteTime": {
     "end_time": "2022-11-08T15:29:56.356025Z",
     "start_time": "2022-11-08T15:29:54.631464Z"
    }
   },
   "outputs": [],
   "source": [
    "model = timm.create_model('vgg16', pretrained=False, num_classes=10)"
   ]
  },
  {
   "cell_type": "code",
   "execution_count": 115,
   "id": "688d3d61",
   "metadata": {
    "ExecuteTime": {
     "end_time": "2022-11-08T18:09:06.905414Z",
     "start_time": "2022-11-08T18:09:06.837449Z"
    }
   },
   "outputs": [],
   "source": [
    "criterion = nn.CrossEntropyLoss()\n",
    "optimizer = optim.SGD(model.parameters(), lr=0.001)"
   ]
  },
  {
   "cell_type": "code",
   "execution_count": 117,
   "id": "8a10fa3d",
   "metadata": {
    "ExecuteTime": {
     "end_time": "2022-11-08T19:11:41.822622Z",
     "start_time": "2022-11-08T18:30:21.449302Z"
    }
   },
   "outputs": [
    {
     "name": "stderr",
     "output_type": "stream",
     "text": [
      "  0%|          | 0/2 [00:00<?, ?it/s]\n",
      "0it [00:00, ?it/s]\u001b[A\n",
      "1it [00:04,  4.87s/it]\u001b[A\n",
      "2it [00:09,  4.99s/it]\u001b[A\n",
      "3it [00:15,  5.04s/it]\u001b[A\n",
      "4it [00:19,  4.96s/it]\u001b[A\n",
      "5it [00:24,  5.00s/it]\u001b[A\n",
      "6it [00:29,  4.97s/it]\u001b[A\n",
      "7it [00:34,  4.96s/it]\u001b[A\n",
      "8it [00:39,  4.85s/it]\u001b[A\n",
      "9it [00:44,  4.88s/it]\u001b[A\n",
      "10it [00:49,  4.85s/it]\u001b[A\n",
      "11it [00:54,  4.92s/it]\u001b[A\n",
      "12it [00:59,  4.89s/it]\u001b[A\n",
      "13it [01:03,  4.85s/it]\u001b[A\n",
      "14it [01:08,  4.94s/it]\u001b[A\n",
      "15it [01:14,  4.97s/it]\u001b[A\n",
      "16it [01:19,  5.02s/it]\u001b[A\n",
      "17it [01:24,  5.00s/it]\u001b[A\n",
      "18it [01:28,  4.91s/it]\u001b[A\n",
      "19it [01:33,  4.92s/it]\u001b[A\n",
      "20it [01:38,  4.94s/it]\u001b[A\n",
      "21it [01:43,  4.90s/it]\u001b[A\n",
      "22it [01:48,  4.90s/it]\u001b[A\n",
      "23it [01:53,  4.94s/it]\u001b[A\n",
      "24it [01:58,  4.97s/it]\u001b[A\n",
      "25it [02:03,  4.98s/it]\u001b[A\n",
      "26it [02:08,  4.99s/it]\u001b[A\n",
      "27it [02:13,  4.91s/it]\u001b[A\n",
      "28it [02:18,  4.92s/it]\u001b[A\n",
      "29it [02:23,  4.92s/it]\u001b[A\n",
      "30it [02:28,  4.94s/it]\u001b[A\n",
      "31it [02:33,  4.95s/it]\u001b[A\n",
      "32it [02:38,  4.97s/it]\u001b[A\n",
      "33it [02:43,  4.95s/it]\u001b[A\n",
      "34it [02:47,  4.96s/it]\u001b[A\n",
      "35it [02:52,  4.91s/it]\u001b[A\n",
      "36it [02:57,  4.92s/it]\u001b[A\n",
      "37it [03:02,  5.00s/it]\u001b[A\n",
      "38it [03:07,  4.90s/it]\u001b[A\n",
      "39it [03:12,  4.84s/it]\u001b[A\n",
      "40it [03:17,  4.88s/it]\u001b[A\n",
      "41it [03:22,  4.86s/it]\u001b[A\n",
      "42it [03:29,  5.59s/it]\u001b[A\n",
      "43it [03:34,  5.38s/it]\u001b[A\n",
      "44it [03:39,  5.29s/it]\u001b[A\n",
      "45it [03:44,  5.21s/it]\u001b[A\n",
      "46it [03:49,  5.12s/it]\u001b[A\n",
      "47it [03:54,  5.07s/it]\u001b[A\n",
      "48it [03:59,  5.06s/it]\u001b[A\n",
      "49it [04:03,  4.96s/it]\u001b[A\n",
      "50it [04:08,  4.98s/it]\u001b[A\n",
      "51it [04:14,  5.02s/it]\u001b[A\n",
      "52it [04:19,  4.99s/it]\u001b[A\n",
      "53it [04:23,  4.94s/it]\u001b[A\n",
      "54it [04:28,  4.97s/it]\u001b[A\n",
      "55it [04:33,  4.90s/it]\u001b[A\n",
      "56it [04:38,  4.86s/it]\u001b[A\n",
      "57it [04:43,  4.90s/it]\u001b[A\n",
      "58it [04:48,  4.84s/it]\u001b[A\n",
      "59it [04:53,  4.91s/it]\u001b[A\n",
      "60it [04:58,  4.94s/it]\u001b[A\n",
      "61it [05:03,  4.98s/it]\u001b[A\n",
      "62it [05:07,  4.89s/it]\u001b[A\n",
      "63it [05:12,  4.92s/it]\u001b[A\n",
      "64it [05:17,  4.96s/it]\u001b[A\n",
      "65it [05:23,  4.99s/it]\u001b[A\n",
      "66it [05:28,  5.01s/it]\u001b[A\n",
      "67it [05:33,  4.99s/it]\u001b[A\n",
      "68it [05:38,  5.02s/it]\u001b[A\n",
      "69it [05:42,  4.98s/it]\u001b[A\n",
      "70it [05:47,  4.97s/it]\u001b[A\n",
      "71it [05:52,  4.92s/it]\u001b[A\n",
      "72it [05:57,  4.87s/it]\u001b[A\n",
      "73it [06:02,  4.84s/it]\u001b[A\n",
      "74it [06:07,  4.90s/it]\u001b[A\n",
      "75it [06:12,  4.92s/it]\u001b[A\n",
      "76it [06:17,  4.94s/it]\u001b[A\n",
      "77it [06:22,  4.93s/it]\u001b[A\n",
      "78it [06:26,  4.85s/it]\u001b[A\n",
      "79it [06:31,  4.87s/it]\u001b[A\n",
      "80it [06:36,  4.88s/it]\u001b[A\n",
      "81it [06:41,  4.93s/it]\u001b[A\n",
      "82it [06:46,  4.96s/it]\u001b[A\n",
      "83it [06:51,  4.97s/it]\u001b[A\n",
      "84it [06:56,  5.01s/it]\u001b[A\n",
      "85it [07:01,  5.01s/it]\u001b[A\n",
      "86it [07:06,  4.99s/it]\u001b[A\n",
      "87it [07:11,  4.90s/it]\u001b[A\n",
      "88it [07:16,  4.81s/it]\u001b[A\n",
      "89it [07:20,  4.80s/it]\u001b[A\n",
      "90it [07:25,  4.87s/it]\u001b[A\n",
      "91it [07:30,  4.89s/it]\u001b[A\n",
      "92it [07:35,  4.85s/it]\u001b[A\n",
      "93it [07:40,  4.92s/it]\u001b[A\n",
      "94it [07:45,  4.92s/it]\u001b[A\n",
      "95it [07:50,  4.88s/it]\u001b[A\n",
      "96it [07:55,  4.90s/it]\u001b[A\n",
      "97it [08:00,  4.91s/it]\u001b[A\n",
      "98it [08:05,  4.94s/it]\u001b[A\n",
      "99it [08:10,  4.94s/it]\u001b[A\n",
      "100it [08:15,  4.99s/it]\u001b[A\n",
      "101it [08:20,  5.02s/it]\u001b[A\n",
      "102it [08:25,  5.03s/it]\u001b[A\n",
      "103it [08:30,  5.01s/it]\u001b[A\n",
      "104it [08:37,  5.64s/it]\u001b[A\n",
      "105it [08:42,  5.41s/it]\u001b[A\n",
      "106it [08:47,  5.21s/it]\u001b[A\n",
      "107it [08:52,  5.14s/it]\u001b[A\n",
      "108it [08:57,  5.10s/it]\u001b[A\n",
      "109it [09:02,  5.08s/it]\u001b[A\n",
      "110it [09:07,  5.04s/it]\u001b[A\n",
      "111it [09:12,  5.04s/it]\u001b[A\n",
      "112it [09:16,  4.94s/it]\u001b[A\n",
      "113it [09:21,  4.99s/it]\u001b[A\n",
      "114it [09:26,  4.99s/it]\u001b[A\n",
      "115it [09:31,  4.97s/it]\u001b[A\n",
      "116it [09:36,  4.90s/it]\u001b[A\n",
      "117it [09:41,  4.81s/it]\u001b[A\n",
      "118it [09:46,  4.83s/it]\u001b[A\n",
      "119it [09:51,  4.90s/it]\u001b[A\n",
      "120it [09:56,  4.96s/it]\u001b[A\n",
      "121it [10:01,  5.01s/it]\u001b[A\n",
      "122it [10:06,  5.01s/it]\u001b[A\n",
      "123it [10:11,  5.01s/it]\u001b[A\n",
      "124it [10:15,  4.88s/it]\u001b[A\n",
      "125it [10:20,  4.81s/it]\u001b[A\n",
      "126it [10:25,  4.80s/it]\u001b[A\n",
      "127it [10:30,  4.86s/it]\u001b[A\n",
      "128it [10:35,  4.92s/it]\u001b[A\n",
      "129it [10:40,  4.91s/it]\u001b[A\n",
      "130it [10:45,  4.95s/it]\u001b[A\n",
      "131it [10:50,  4.99s/it]\u001b[A\n",
      "132it [10:55,  5.00s/it]\u001b[A\n",
      "133it [11:00,  5.01s/it]\u001b[A\n",
      "134it [11:05,  5.03s/it]\u001b[A\n",
      "135it [11:10,  5.00s/it]\u001b[A\n",
      "136it [11:15,  4.99s/it]\u001b[A\n",
      "137it [11:20,  4.92s/it]\u001b[A\n",
      "138it [11:25,  4.97s/it]\u001b[A\n",
      "139it [11:30,  5.00s/it]\u001b[A\n",
      "140it [11:35,  5.05s/it]\u001b[A\n",
      "141it [11:40,  5.06s/it]\u001b[A\n",
      "142it [11:45,  5.07s/it]\u001b[A\n",
      "143it [11:50,  5.07s/it]\u001b[A\n",
      "144it [11:55,  5.05s/it]\u001b[A\n",
      "145it [12:00,  5.06s/it]\u001b[A\n",
      "146it [12:05,  5.05s/it]\u001b[A\n",
      "147it [12:10,  5.05s/it]\u001b[A\n",
      "148it [12:16,  5.06s/it]\u001b[A\n",
      "149it [12:21,  5.07s/it]\u001b[A\n",
      "150it [12:26,  5.06s/it]\u001b[A\n",
      "151it [12:31,  5.08s/it]\u001b[A\n",
      "152it [12:36,  5.04s/it]\u001b[A\n",
      "153it [12:41,  5.04s/it]\u001b[A\n",
      "154it [12:46,  5.02s/it]\u001b[A\n",
      "155it [12:51,  4.95s/it]\u001b[A\n",
      "156it [12:55,  4.96s/it]\u001b[A\n",
      "157it [13:01,  5.00s/it]\u001b[A\n",
      "158it [13:06,  5.03s/it]\u001b[A\n",
      "159it [13:11,  5.02s/it]\u001b[A\n",
      "160it [13:15,  4.90s/it]\u001b[A\n",
      "161it [13:20,  4.83s/it]\u001b[A\n",
      "162it [13:25,  4.84s/it]\u001b[A\n",
      "163it [13:30,  4.82s/it]\u001b[A\n",
      "164it [13:35,  4.87s/it]\u001b[A\n",
      "165it [13:40,  4.91s/it]\u001b[A\n",
      "166it [13:46,  5.41s/it]\u001b[A\n",
      "167it [13:51,  5.29s/it]\u001b[A\n",
      "168it [13:56,  5.18s/it]\u001b[A\n",
      "169it [14:01,  5.09s/it]\u001b[A\n",
      "170it [14:06,  5.08s/it]\u001b[A\n",
      "171it [14:11,  5.04s/it]\u001b[A\n",
      "172it [14:16,  5.05s/it]\u001b[A\n",
      "173it [14:21,  5.08s/it]\u001b[A\n",
      "174it [14:26,  5.08s/it]\u001b[A\n",
      "175it [14:31,  5.05s/it]\u001b[A\n",
      "176it [14:36,  4.92s/it]\u001b[A\n",
      "177it [14:41,  4.89s/it]\u001b[A\n",
      "178it [14:46,  4.95s/it]\u001b[A\n",
      "179it [14:51,  4.96s/it]\u001b[A\n",
      "180it [14:56,  5.01s/it]\u001b[A\n",
      "181it [15:01,  4.99s/it]\u001b[A\n",
      "182it [15:06,  5.02s/it]\u001b[A\n",
      "183it [15:11,  5.04s/it]\u001b[A\n",
      "184it [15:16,  5.05s/it]\u001b[A\n",
      "185it [15:21,  5.02s/it]\u001b[A\n",
      "186it [15:26,  4.92s/it]\u001b[A\n",
      "187it [15:31,  4.94s/it]\u001b[A\n",
      "188it [15:36,  4.97s/it]\u001b[A\n",
      "189it [15:41,  4.99s/it]\u001b[A\n",
      "190it [15:46,  5.01s/it]\u001b[A\n",
      "191it [15:51,  5.01s/it]\u001b[A\n",
      "192it [15:56,  5.02s/it]\u001b[A\n",
      "193it [16:01,  5.03s/it]\u001b[A\n",
      "194it [16:06,  4.98s/it]\u001b[A\n",
      "195it [16:11,  4.93s/it]\u001b[A\n",
      "196it [16:16,  4.95s/it]\u001b[A\n",
      "197it [16:21,  5.01s/it]\u001b[A\n",
      "198it [16:26,  5.01s/it]\u001b[A\n",
      "199it [16:31,  4.98s/it]\u001b[A\n",
      "200it [16:35,  4.90s/it]\u001b[A\n",
      "201it [16:40,  4.85s/it]\u001b[A\n",
      "202it [16:45,  4.85s/it]\u001b[A\n",
      "203it [16:50,  4.88s/it]\u001b[A\n",
      "204it [16:55,  4.88s/it]\u001b[A\n",
      "205it [17:00,  4.92s/it]\u001b[A\n",
      "206it [17:05,  4.98s/it]\u001b[A\n",
      "207it [17:10,  5.00s/it]\u001b[A\n",
      "208it [17:15,  4.93s/it]\u001b[A\n",
      "209it [17:19,  4.84s/it]\u001b[A\n",
      "210it [17:24,  4.81s/it]\u001b[A\n",
      "211it [17:29,  4.84s/it]\u001b[A\n",
      "212it [17:34,  4.86s/it]\u001b[A\n",
      "213it [17:39,  4.83s/it]\u001b[A\n",
      "214it [17:43,  4.76s/it]\u001b[A\n",
      "215it [17:48,  4.75s/it]\u001b[A\n",
      "216it [17:53,  4.81s/it]\u001b[A\n",
      "217it [17:58,  4.88s/it]\u001b[A\n",
      "218it [18:03,  4.93s/it]\u001b[A\n",
      "219it [18:08,  4.85s/it]\u001b[A\n",
      "220it [18:12,  4.77s/it]\u001b[A\n",
      "221it [18:17,  4.77s/it]\u001b[A\n",
      "222it [18:22,  4.81s/it]\u001b[A\n",
      "223it [18:27,  4.86s/it]\u001b[A\n",
      "224it [18:32,  4.90s/it]\u001b[A\n",
      "225it [18:37,  4.95s/it]\u001b[A\n",
      "226it [18:42,  4.97s/it]\u001b[A\n",
      "227it [18:47,  5.04s/it]\u001b[A\n",
      "228it [18:54,  5.49s/it]\u001b[A\n",
      "229it [18:59,  5.34s/it]\u001b[A\n",
      "230it [19:04,  5.26s/it]\u001b[A\n",
      "231it [19:09,  5.22s/it]\u001b[A\n",
      "232it [19:14,  5.14s/it]\u001b[A\n",
      "233it [19:19,  5.02s/it]\u001b[A\n",
      "234it [19:23,  4.95s/it]\u001b[A\n",
      "235it [19:28,  4.95s/it]\u001b[A\n",
      "236it [19:33,  4.89s/it]\u001b[A\n",
      "237it [19:38,  4.90s/it]\u001b[A\n",
      "238it [19:43,  4.93s/it]\u001b[A\n",
      "239it [19:48,  4.97s/it]\u001b[A\n",
      "240it [19:53,  4.97s/it]\u001b[A\n",
      "241it [19:58,  4.97s/it]\u001b[A\n",
      "242it [20:03,  4.94s/it]\u001b[A\n",
      "243it [20:08,  4.85s/it]\u001b[A\n",
      "244it [20:12,  4.82s/it]\u001b[A\n",
      "245it [20:17,  4.89s/it]\u001b[A\n",
      "246it [20:22,  4.92s/it]\u001b[A\n",
      "247it [20:27,  4.88s/it]\u001b[A\n",
      "248it [20:32,  4.83s/it]\u001b[A\n",
      "249it [20:37,  4.82s/it]\u001b[A\n",
      "250it [20:42,  4.97s/it]\u001b[A\n",
      " 50%|█████     | 1/2 [20:42<20:42, 1242.06s/it]\n",
      "0it [00:00, ?it/s]\u001b[A"
     ]
    },
    {
     "name": "stdout",
     "output_type": "stream",
     "text": [
      "epoch: 1 loss: 0.681\n"
     ]
    },
    {
     "name": "stderr",
     "output_type": "stream",
     "text": [
      "\n",
      "1it [00:05,  5.10s/it]\u001b[A\n",
      "2it [00:10,  5.13s/it]\u001b[A\n",
      "3it [00:15,  5.07s/it]\u001b[A\n",
      "4it [00:20,  5.05s/it]\u001b[A\n",
      "5it [00:25,  5.02s/it]\u001b[A\n",
      "6it [00:30,  4.97s/it]\u001b[A\n",
      "7it [00:34,  4.89s/it]\u001b[A\n",
      "8it [00:39,  4.87s/it]\u001b[A\n",
      "9it [00:44,  4.87s/it]\u001b[A\n",
      "10it [00:49,  4.90s/it]\u001b[A\n",
      "11it [00:54,  4.98s/it]\u001b[A\n",
      "12it [00:59,  4.99s/it]\u001b[A\n",
      "13it [01:04,  4.93s/it]\u001b[A\n",
      "14it [01:09,  4.92s/it]\u001b[A\n",
      "15it [01:14,  4.94s/it]\u001b[A\n",
      "16it [01:19,  4.99s/it]\u001b[A\n",
      "17it [01:24,  5.02s/it]\u001b[A\n",
      "18it [01:29,  5.00s/it]\u001b[A\n",
      "19it [01:34,  5.02s/it]\u001b[A\n",
      "20it [01:39,  5.04s/it]\u001b[A\n",
      "21it [01:44,  5.00s/it]\u001b[A\n",
      "22it [01:49,  4.95s/it]\u001b[A\n",
      "23it [01:54,  4.99s/it]\u001b[A\n",
      "24it [01:59,  4.98s/it]\u001b[A\n",
      "25it [02:04,  5.03s/it]\u001b[A\n",
      "26it [02:09,  4.98s/it]\u001b[A\n",
      "27it [02:14,  5.00s/it]\u001b[A\n",
      "28it [02:19,  5.00s/it]\u001b[A\n",
      "29it [02:24,  5.03s/it]\u001b[A\n",
      "30it [02:29,  5.03s/it]\u001b[A\n",
      "31it [02:34,  5.00s/it]\u001b[A\n",
      "32it [02:39,  4.94s/it]\u001b[A\n",
      "33it [02:44,  4.96s/it]\u001b[A\n",
      "34it [02:49,  4.98s/it]\u001b[A\n",
      "35it [02:54,  4.97s/it]\u001b[A\n",
      "36it [02:59,  4.99s/it]\u001b[A\n",
      "37it [03:04,  4.93s/it]\u001b[A\n",
      "38it [03:08,  4.86s/it]\u001b[A\n",
      "39it [03:14,  5.18s/it]\u001b[A\n",
      "40it [03:20,  5.20s/it]\u001b[A\n",
      "41it [03:24,  5.10s/it]\u001b[A\n",
      "42it [03:29,  5.07s/it]\u001b[A\n",
      "43it [03:34,  4.97s/it]\u001b[A\n",
      "44it [03:39,  4.95s/it]\u001b[A\n",
      "45it [03:44,  4.97s/it]\u001b[A\n",
      "46it [03:49,  4.98s/it]\u001b[A\n",
      "47it [03:54,  4.90s/it]\u001b[A\n",
      "48it [03:59,  4.92s/it]\u001b[A\n",
      "49it [04:04,  4.96s/it]\u001b[A\n",
      "50it [04:09,  4.99s/it]\u001b[A\n",
      "51it [04:14,  5.03s/it]\u001b[A\n",
      "52it [04:19,  5.04s/it]\u001b[A\n",
      "53it [04:24,  5.06s/it]\u001b[A\n",
      "54it [04:29,  5.00s/it]\u001b[A\n",
      "55it [04:34,  5.01s/it]\u001b[A\n",
      "56it [04:39,  5.00s/it]\u001b[A\n",
      "57it [04:44,  5.02s/it]\u001b[A\n",
      "58it [04:49,  5.03s/it]\u001b[A\n",
      "59it [04:54,  5.00s/it]\u001b[A\n",
      "60it [04:59,  5.01s/it]\u001b[A\n",
      "61it [05:04,  5.01s/it]\u001b[A\n",
      "62it [05:09,  4.95s/it]\u001b[A\n",
      "63it [05:14,  4.86s/it]\u001b[A\n",
      "64it [05:18,  4.82s/it]\u001b[A\n",
      "65it [05:23,  4.90s/it]\u001b[A\n",
      "66it [05:28,  4.92s/it]\u001b[A\n",
      "67it [05:33,  4.93s/it]\u001b[A\n",
      "68it [05:38,  4.99s/it]\u001b[A\n",
      "69it [05:43,  4.97s/it]\u001b[A\n",
      "70it [05:48,  4.94s/it]\u001b[A\n",
      "71it [05:53,  4.93s/it]\u001b[A\n",
      "72it [05:58,  4.95s/it]\u001b[A\n",
      "73it [06:03,  4.96s/it]\u001b[A\n",
      "74it [06:08,  4.99s/it]\u001b[A\n",
      "75it [06:13,  4.97s/it]\u001b[A\n",
      "76it [06:18,  4.93s/it]\u001b[A\n",
      "77it [06:23,  4.96s/it]\u001b[A\n",
      "78it [06:28,  4.99s/it]\u001b[A\n",
      "79it [06:33,  5.01s/it]\u001b[A\n",
      "80it [06:38,  5.02s/it]\u001b[A\n",
      "81it [06:43,  5.00s/it]\u001b[A\n",
      "82it [06:48,  4.95s/it]\u001b[A\n",
      "83it [06:53,  4.86s/it]\u001b[A\n",
      "84it [06:57,  4.80s/it]\u001b[A\n",
      "85it [07:02,  4.76s/it]\u001b[A\n",
      "86it [07:07,  4.82s/it]\u001b[A\n",
      "87it [07:12,  4.84s/it]\u001b[A\n",
      "88it [07:17,  4.92s/it]\u001b[A\n",
      "89it [07:22,  4.90s/it]\u001b[A\n",
      "90it [07:27,  4.90s/it]\u001b[A\n",
      "91it [07:32,  4.94s/it]\u001b[A\n",
      "92it [07:37,  4.98s/it]\u001b[A\n",
      "93it [07:42,  4.97s/it]\u001b[A\n",
      "94it [07:47,  5.00s/it]\u001b[A\n",
      "95it [07:52,  5.01s/it]\u001b[A\n",
      "96it [07:57,  5.00s/it]\u001b[A\n",
      "97it [08:01,  4.88s/it]\u001b[A\n",
      "98it [08:06,  4.84s/it]\u001b[A\n",
      "99it [08:11,  4.85s/it]\u001b[A\n",
      "100it [08:16,  4.88s/it]\u001b[A\n",
      "101it [08:22,  5.26s/it]\u001b[A\n",
      "102it [08:28,  5.34s/it]\u001b[A\n",
      "103it [08:32,  5.20s/it]\u001b[A\n",
      "104it [08:37,  5.05s/it]\u001b[A\n",
      "105it [08:42,  4.92s/it]\u001b[A\n",
      "106it [08:46,  4.85s/it]\u001b[A\n",
      "107it [08:51,  4.91s/it]\u001b[A\n",
      "108it [08:56,  4.92s/it]\u001b[A\n",
      "109it [09:01,  4.91s/it]\u001b[A\n",
      "110it [09:06,  4.85s/it]\u001b[A\n",
      "111it [09:11,  4.91s/it]\u001b[A\n",
      "112it [09:16,  4.97s/it]\u001b[A\n",
      "113it [09:21,  4.89s/it]\u001b[A\n",
      "114it [09:26,  4.83s/it]\u001b[A\n",
      "115it [09:31,  4.90s/it]\u001b[A\n",
      "116it [09:36,  4.92s/it]\u001b[A\n",
      "117it [09:40,  4.91s/it]\u001b[A\n",
      "118it [09:46,  4.94s/it]\u001b[A\n",
      "119it [09:50,  4.92s/it]\u001b[A\n",
      "120it [09:55,  4.88s/it]\u001b[A\n",
      "121it [10:00,  4.90s/it]\u001b[A\n",
      "122it [10:05,  4.91s/it]\u001b[A\n",
      "123it [10:10,  4.97s/it]\u001b[A\n",
      "124it [10:15,  5.01s/it]\u001b[A\n",
      "125it [10:20,  5.02s/it]\u001b[A\n",
      "126it [10:25,  4.91s/it]\u001b[A\n",
      "127it [10:30,  4.84s/it]\u001b[A\n",
      "128it [10:34,  4.82s/it]\u001b[A\n",
      "129it [10:39,  4.89s/it]\u001b[A\n",
      "130it [10:44,  4.92s/it]\u001b[A\n",
      "131it [10:49,  4.83s/it]\u001b[A\n",
      "132it [10:54,  4.83s/it]\u001b[A\n",
      "133it [10:59,  4.86s/it]\u001b[A\n",
      "134it [11:04,  4.92s/it]\u001b[A\n",
      "135it [11:09,  4.94s/it]\u001b[A\n",
      "136it [11:14,  4.98s/it]\u001b[A\n",
      "137it [11:19,  5.02s/it]\u001b[A\n",
      "138it [11:24,  5.04s/it]\u001b[A\n",
      "139it [11:29,  4.99s/it]\u001b[A\n",
      "140it [11:34,  4.98s/it]\u001b[A\n",
      "141it [11:39,  4.99s/it]\u001b[A\n",
      "142it [11:44,  4.98s/it]\u001b[A\n",
      "143it [11:49,  4.99s/it]\u001b[A\n",
      "144it [11:54,  5.01s/it]\u001b[A\n",
      "145it [11:59,  4.99s/it]\u001b[A\n",
      "146it [12:04,  4.99s/it]\u001b[A\n",
      "147it [12:09,  4.90s/it]\u001b[A\n",
      "148it [12:14,  4.93s/it]\u001b[A\n",
      "149it [12:19,  4.98s/it]\u001b[A\n",
      "150it [12:24,  4.96s/it]\u001b[A\n",
      "151it [12:29,  4.96s/it]\u001b[A\n",
      "152it [12:34,  4.95s/it]\u001b[A\n",
      "153it [12:38,  4.90s/it]\u001b[A\n",
      "154it [12:43,  4.94s/it]\u001b[A\n",
      "155it [12:48,  4.94s/it]\u001b[A\n",
      "156it [12:53,  4.85s/it]\u001b[A\n",
      "157it [12:58,  4.85s/it]\u001b[A\n",
      "158it [13:03,  4.83s/it]\u001b[A\n",
      "159it [13:07,  4.86s/it]\u001b[A\n",
      "160it [13:12,  4.87s/it]\u001b[A\n",
      "161it [13:17,  4.91s/it]\u001b[A\n",
      "162it [13:22,  4.92s/it]\u001b[A\n",
      "163it [13:28,  5.16s/it]\u001b[A\n",
      "164it [13:34,  5.30s/it]\u001b[A\n",
      "165it [13:39,  5.22s/it]\u001b[A\n",
      "166it [13:44,  5.16s/it]\u001b[A\n",
      "167it [13:49,  5.10s/it]\u001b[A\n",
      "168it [13:54,  5.04s/it]\u001b[A\n",
      "169it [13:58,  4.94s/it]\u001b[A\n",
      "170it [14:03,  4.94s/it]\u001b[A\n",
      "171it [14:08,  4.87s/it]\u001b[A\n",
      "172it [14:13,  4.90s/it]\u001b[A\n",
      "173it [14:18,  4.87s/it]\u001b[A\n",
      "174it [14:23,  4.87s/it]\u001b[A\n",
      "175it [14:27,  4.85s/it]\u001b[A\n",
      "176it [14:32,  4.87s/it]\u001b[A\n",
      "177it [14:37,  4.91s/it]\u001b[A\n",
      "178it [14:42,  4.96s/it]\u001b[A\n",
      "179it [14:47,  5.00s/it]\u001b[A\n",
      "180it [14:52,  5.00s/it]\u001b[A\n",
      "181it [14:57,  4.88s/it]\u001b[A\n",
      "182it [15:02,  4.81s/it]\u001b[A\n",
      "183it [15:07,  4.85s/it]\u001b[A\n",
      "184it [15:12,  4.88s/it]\u001b[A\n",
      "185it [15:17,  4.94s/it]\u001b[A\n",
      "186it [15:22,  4.93s/it]\u001b[A\n",
      "187it [15:26,  4.88s/it]\u001b[A\n",
      "188it [15:31,  4.90s/it]\u001b[A\n",
      "189it [15:36,  4.94s/it]\u001b[A\n",
      "190it [15:41,  4.95s/it]\u001b[A\n",
      "191it [15:46,  4.92s/it]\u001b[A\n",
      "192it [15:51,  4.95s/it]\u001b[A\n",
      "193it [15:56,  4.95s/it]\u001b[A\n",
      "194it [16:01,  4.93s/it]\u001b[A\n",
      "195it [16:06,  4.96s/it]\u001b[A\n",
      "196it [16:11,  4.97s/it]\u001b[A\n",
      "197it [16:16,  4.91s/it]\u001b[A\n",
      "198it [16:21,  4.93s/it]\u001b[A\n",
      "199it [16:25,  4.84s/it]\u001b[A\n",
      "200it [16:30,  4.79s/it]\u001b[A\n",
      "201it [16:35,  4.79s/it]\u001b[A\n",
      "202it [16:40,  4.86s/it]\u001b[A\n",
      "203it [16:45,  4.90s/it]\u001b[A\n",
      "204it [16:50,  4.95s/it]\u001b[A\n",
      "205it [16:55,  4.97s/it]\u001b[A\n",
      "206it [17:00,  4.97s/it]\u001b[A\n",
      "207it [17:05,  4.96s/it]\u001b[A\n",
      "208it [17:10,  4.86s/it]\u001b[A\n",
      "209it [17:14,  4.83s/it]\u001b[A\n",
      "210it [17:19,  4.89s/it]\u001b[A\n",
      "211it [17:24,  4.86s/it]\u001b[A\n",
      "212it [17:29,  4.82s/it]\u001b[A\n",
      "213it [17:34,  4.90s/it]\u001b[A\n",
      "214it [17:39,  4.94s/it]\u001b[A\n",
      "215it [17:44,  4.95s/it]\u001b[A\n",
      "216it [17:49,  4.97s/it]\u001b[A\n",
      "217it [17:54,  5.01s/it]\u001b[A\n",
      "218it [17:59,  5.01s/it]\u001b[A\n",
      "219it [18:04,  5.02s/it]\u001b[A\n",
      "220it [18:09,  4.97s/it]\u001b[A\n",
      "221it [18:14,  4.92s/it]\u001b[A\n",
      "222it [18:19,  4.90s/it]\u001b[A\n",
      "223it [18:24,  4.93s/it]\u001b[A\n",
      "224it [18:29,  4.95s/it]\u001b[A\n",
      "225it [18:34,  5.01s/it]\u001b[A\n",
      "226it [18:40,  5.41s/it]\u001b[A\n",
      "227it [18:45,  5.25s/it]\u001b[A\n",
      "228it [18:50,  5.05s/it]\u001b[A\n",
      "229it [18:54,  4.97s/it]\u001b[A\n",
      "230it [18:59,  4.97s/it]\u001b[A\n",
      "231it [19:04,  4.97s/it]\u001b[A\n",
      "232it [19:09,  4.89s/it]\u001b[A\n",
      "233it [19:14,  4.90s/it]\u001b[A\n",
      "234it [19:19,  4.92s/it]\u001b[A\n",
      "235it [19:24,  4.94s/it]\u001b[A\n",
      "236it [19:29,  4.99s/it]\u001b[A\n",
      "237it [19:34,  4.98s/it]\u001b[A\n",
      "238it [19:39,  4.98s/it]\u001b[A\n",
      "239it [19:44,  4.97s/it]\u001b[A\n",
      "240it [19:49,  4.98s/it]\u001b[A\n",
      "241it [19:54,  4.89s/it]\u001b[A\n",
      "242it [19:58,  4.85s/it]\u001b[A\n",
      "243it [20:03,  4.93s/it]\u001b[A\n",
      "244it [20:08,  4.98s/it]\u001b[A\n",
      "245it [20:13,  4.97s/it]\u001b[A\n",
      "246it [20:18,  4.92s/it]\u001b[A\n",
      "247it [20:23,  4.96s/it]\u001b[A\n",
      "248it [20:28,  4.91s/it]\u001b[A\n",
      "249it [20:33,  4.92s/it]\u001b[A\n",
      "250it [20:38,  4.95s/it]\u001b[A\n",
      "100%|██████████| 2/2 [41:20<00:00, 1240.18s/it]"
     ]
    },
    {
     "name": "stdout",
     "output_type": "stream",
     "text": [
      "epoch: 2 loss: 0.674\n"
     ]
    },
    {
     "name": "stderr",
     "output_type": "stream",
     "text": [
      "\n"
     ]
    }
   ],
   "source": [
    "for epoch in tqdm(range(2)):\n",
    "    \n",
    "    running_loss = 0.0\n",
    "    \n",
    "    for i, data in tqdm(enumerate(train_loader, 0)) :\n",
    "        inputs, labels = data\n",
    "        \n",
    "        optimizer.zero_grad()\n",
    "        \n",
    "        outputs = model(inputs)\n",
    "        loss = criterion(outputs, labels)\n",
    "        loss.backward()\n",
    "        optimizer.step()\n",
    "        \n",
    "        running_loss += loss.item()\n",
    "        \n",
    "    print(f'epoch: {epoch + 1} loss: {running_loss / 500:.3f}')\n",
    "        "
   ]
  },
  {
   "cell_type": "markdown",
   "id": "ee7601e1",
   "metadata": {},
   "source": [
    "## test"
   ]
  },
  {
   "cell_type": "code",
   "execution_count": 182,
   "id": "9906a30f",
   "metadata": {
    "ExecuteTime": {
     "end_time": "2022-11-08T20:22:31.316701Z",
     "start_time": "2022-11-08T20:22:23.879259Z"
    }
   },
   "outputs": [
    {
     "name": "stderr",
     "output_type": "stream",
     "text": [
      "100%|██████████| 10/10 [00:07<00:00,  1.35it/s]"
     ]
    },
    {
     "name": "stdout",
     "output_type": "stream",
     "text": [
      "Accuracy: 14 %\n"
     ]
    },
    {
     "name": "stderr",
     "output_type": "stream",
     "text": [
      "\n"
     ]
    }
   ],
   "source": [
    "correct = 0\n",
    "total = 0\n",
    "\n",
    "with torch.no_grad():\n",
    "    for data in tqdm(test_loader):\n",
    "        images, labels = data\n",
    "        outputs = model(images)\n",
    "        _, predicted = torch.max(outputs.data, 1)\n",
    "        total += labels.size(0)\n",
    "        correct += (predicted == labels).sum().item()\n",
    "        \n",
    "print('Accuracy: %d %%' % (100 * correct / total))"
   ]
  },
  {
   "cell_type": "code",
   "execution_count": null,
   "id": "fba020fb",
   "metadata": {},
   "outputs": [],
   "source": []
  }
 ],
 "metadata": {
  "kernelspec": {
   "display_name": "Python 3",
   "language": "python",
   "name": "python3"
  },
  "language_info": {
   "codemirror_mode": {
    "name": "ipython",
    "version": 3
   },
   "file_extension": ".py",
   "mimetype": "text/x-python",
   "name": "python",
   "nbconvert_exporter": "python",
   "pygments_lexer": "ipython3",
   "version": "3.6.9"
  },
  "toc": {
   "base_numbering": 1,
   "nav_menu": {},
   "number_sections": true,
   "sideBar": true,
   "skip_h1_title": false,
   "title_cell": "Table of Contents",
   "title_sidebar": "Contents",
   "toc_cell": false,
   "toc_position": {},
   "toc_section_display": true,
   "toc_window_display": false
  }
 },
 "nbformat": 4,
 "nbformat_minor": 5
}
