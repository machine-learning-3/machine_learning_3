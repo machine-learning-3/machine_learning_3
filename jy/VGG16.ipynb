{
 "cells": [
  {
   "cell_type": "markdown",
   "id": "ab9b10b0",
   "metadata": {},
   "source": [
    "## Setting"
   ]
  },
  {
   "cell_type": "code",
   "execution_count": 1,
   "id": "3a4c24bb",
   "metadata": {
    "ExecuteTime": {
     "end_time": "2022-11-10T17:07:22.107366Z",
     "start_time": "2022-11-10T17:07:20.541377Z"
    }
   },
   "outputs": [],
   "source": [
    "from torchvision import datasets as ds\n",
    "from torch.utils.data import DataLoader\n",
    "from torchvision import transforms as ts\n",
    "import torchvision as tv\n",
    "import torch\n",
    "import torch.nn as nn\n",
    "import math\n",
    "import numpy as np\n",
    "from torch.autograd import Variable\n",
    "from torch import optim\n",
    "from matplotlib import pyplot as plt\n",
    "import torch.backends.cudnn as cudnn\n",
    "import timm\n",
    "from PIL import Image\n",
    "from tqdm import tqdm\n",
    "import random\n",
    "import os\n",
    "\n",
    "%config Completer.use_jedi = False"
   ]
  },
  {
   "cell_type": "code",
   "execution_count": 2,
   "id": "e264b987",
   "metadata": {
    "ExecuteTime": {
     "end_time": "2022-11-10T17:07:25.257400Z",
     "start_time": "2022-11-10T17:07:25.248468Z"
    }
   },
   "outputs": [],
   "source": [
    "def setseed(seednum = 20):\n",
    "    torch.manual_seed(20)\n",
    "    torch.cuda.manual_seed(20)\n",
    "    torch.cuda.manual_seed_all(20)\n",
    "    np.random.seed(20)\n",
    "    cudnn.benchmark = False\n",
    "    cudnn.deterministic = True\n",
    "    random.seed(20)"
   ]
  },
  {
   "cell_type": "code",
   "execution_count": 3,
   "id": "0dab43b1",
   "metadata": {
    "ExecuteTime": {
     "end_time": "2022-11-10T17:07:33.332181Z",
     "start_time": "2022-11-10T17:07:33.321870Z"
    }
   },
   "outputs": [],
   "source": [
    "setseed(30)"
   ]
  },
  {
   "cell_type": "code",
   "execution_count": 4,
   "id": "93baf751",
   "metadata": {
    "ExecuteTime": {
     "end_time": "2022-11-10T17:07:38.067565Z",
     "start_time": "2022-11-10T17:07:38.041860Z"
    }
   },
   "outputs": [
    {
     "data": {
      "text/plain": [
       "device(type='cuda')"
      ]
     },
     "execution_count": 4,
     "metadata": {},
     "output_type": "execute_result"
    }
   ],
   "source": [
    "cuda_available = torch.cuda.is_available()\n",
    "device = torch.device(\"cuda\" if cuda_available else \"cpu\")\n",
    "device"
   ]
  },
  {
   "cell_type": "markdown",
   "id": "514a752e",
   "metadata": {},
   "source": [
    "## Dataset"
   ]
  },
  {
   "cell_type": "code",
   "execution_count": 5,
   "id": "672911cb",
   "metadata": {
    "ExecuteTime": {
     "end_time": "2022-11-10T17:07:43.417957Z",
     "start_time": "2022-11-10T17:07:43.410948Z"
    }
   },
   "outputs": [],
   "source": [
    "transform = ts.Compose(\n",
    "    [\n",
    "        ts.ToTensor(),\n",
    "        ts.Normalize((0.5, 0.5, 0.5), (0.5, 0.5, 0.5))\n",
    "    ]\n",
    ")"
   ]
  },
  {
   "cell_type": "code",
   "execution_count": 6,
   "id": "2d138e33",
   "metadata": {
    "ExecuteTime": {
     "end_time": "2022-11-10T17:07:50.341433Z",
     "start_time": "2022-11-10T17:07:48.714195Z"
    }
   },
   "outputs": [
    {
     "name": "stdout",
     "output_type": "stream",
     "text": [
      "Files already downloaded and verified\n",
      "Files already downloaded and verified\n"
     ]
    }
   ],
   "source": [
    "train_set = ds.CIFAR10(root='../data/', train=True, transform=transform, download=True)\n",
    "val_set = tv.datasets.CIFAR10(root='../data/', train=False, download=True, transform=transform)"
   ]
  },
  {
   "cell_type": "code",
   "execution_count": 7,
   "id": "f7d4b670",
   "metadata": {
    "ExecuteTime": {
     "end_time": "2022-11-10T17:07:53.774053Z",
     "start_time": "2022-11-10T17:07:53.764112Z"
    }
   },
   "outputs": [],
   "source": [
    "train_loader = torch.utils.data.DataLoader(train_set, batch_size=100, shuffle=True, num_workers=0)\n",
    "val_loader = torch.utils.data.DataLoader(val_set, batch_size=100, shuffle=False, num_workers=0)"
   ]
  },
  {
   "cell_type": "code",
   "execution_count": 8,
   "id": "9f144b11",
   "metadata": {
    "ExecuteTime": {
     "end_time": "2022-11-10T17:07:59.884335Z",
     "start_time": "2022-11-10T17:07:59.873721Z"
    }
   },
   "outputs": [],
   "source": [
    "def make_test_list(data_dir):\n",
    "    \n",
    "    test_img_list = list()\n",
    "    \n",
    "    files = os.listdir(data_dir)\n",
    "    \n",
    "    for i in range(10):\n",
    "        img_file = data_dir + \"/\" + files[i]\n",
    "        img = os.listdir(img_file)\n",
    "        for j in range(200):\n",
    "            img_path = data_dir + \"/\" +  files[i] + \"/\" + img[j]\n",
    "            \n",
    "            test_img_list.append(img_path)\n",
    "    return test_img_list"
   ]
  },
  {
   "cell_type": "code",
   "execution_count": 9,
   "id": "1972ee01",
   "metadata": {
    "ExecuteTime": {
     "end_time": "2022-11-10T17:08:07.922900Z",
     "start_time": "2022-11-10T17:08:07.912951Z"
    }
   },
   "outputs": [],
   "source": [
    "img_list = make_test_list(\"../Statistical_Deep_Image_2021/Statistical_Deep_Image\")"
   ]
  },
  {
   "cell_type": "code",
   "execution_count": 10,
   "id": "6fad2708",
   "metadata": {
    "ExecuteTime": {
     "end_time": "2022-11-10T17:08:13.122141Z",
     "start_time": "2022-11-10T17:08:13.114670Z"
    }
   },
   "outputs": [],
   "source": [
    "def make_test_label(label_list):\n",
    "    \n",
    "    test_label_list = list()\n",
    "    \n",
    "    for i in range(10):\n",
    "        for j in range(200):\n",
    "            test_label_list.append(i)\n",
    "        \n",
    "    return test_label_list"
   ]
  },
  {
   "cell_type": "code",
   "execution_count": 11,
   "id": "913b4b71",
   "metadata": {
    "ExecuteTime": {
     "end_time": "2022-11-10T17:08:17.278268Z",
     "start_time": "2022-11-10T17:08:17.271534Z"
    }
   },
   "outputs": [],
   "source": [
    "label = os.listdir(\"../Statistical_Deep_Image_2021/Statistical_Deep_Image\")\n",
    "img_label_list = make_test_label(label)"
   ]
  },
  {
   "cell_type": "code",
   "execution_count": 12,
   "id": "cc86a6e8",
   "metadata": {
    "ExecuteTime": {
     "end_time": "2022-11-10T17:08:22.558299Z",
     "start_time": "2022-11-10T17:08:22.546207Z"
    }
   },
   "outputs": [],
   "source": [
    "class testset(torch.utils.data.Dataset):\n",
    "    def __init__(self, img_list, img_label_list, transform):\n",
    "        self.file_list = img_list\n",
    "        self.labels = img_label_list\n",
    "        self.transform = transform\n",
    "        \n",
    "    def __len__(self):\n",
    "        return len(self.file_list)\n",
    "    \n",
    "    def __getitem__(self, index):\n",
    "        img_path = self.file_list[index]\n",
    "        img = Image.open(img_path)\n",
    "        img_transformed = self.transform(img)\n",
    "        label = self.labels[index]\n",
    "        return img_transformed, label"
   ]
  },
  {
   "cell_type": "code",
   "execution_count": 13,
   "id": "7369e5d5",
   "metadata": {
    "ExecuteTime": {
     "end_time": "2022-11-10T17:08:28.782343Z",
     "start_time": "2022-11-10T17:08:28.776653Z"
    }
   },
   "outputs": [],
   "source": [
    "test_set = testset(img_list = img_list,\n",
    "                  img_label_list = img_label_list,\n",
    "                  transform = transform)"
   ]
  },
  {
   "cell_type": "code",
   "execution_count": 14,
   "id": "726d5725",
   "metadata": {
    "ExecuteTime": {
     "end_time": "2022-11-10T17:08:33.583432Z",
     "start_time": "2022-11-10T17:08:33.576150Z"
    }
   },
   "outputs": [],
   "source": [
    "test_loader = torch.utils.data.DataLoader(test_set, batch_size = 100, shuffle=False, num_workers=0)"
   ]
  },
  {
   "cell_type": "code",
   "execution_count": 15,
   "id": "a901ad69",
   "metadata": {
    "ExecuteTime": {
     "end_time": "2022-11-10T17:08:37.648995Z",
     "start_time": "2022-11-10T17:08:37.642641Z"
    }
   },
   "outputs": [],
   "source": [
    "classes = ('plane', 'car', 'bird', 'cat', 'deer', 'dog', 'frog', 'horse', 'ship', 'truck')"
   ]
  },
  {
   "cell_type": "markdown",
   "id": "d5179cbd",
   "metadata": {},
   "source": [
    "## Model"
   ]
  },
  {
   "cell_type": "code",
   "execution_count": 16,
   "id": "052cfe09",
   "metadata": {
    "ExecuteTime": {
     "end_time": "2022-11-10T17:08:44.457757Z",
     "start_time": "2022-11-10T17:08:42.744936Z"
    }
   },
   "outputs": [],
   "source": [
    "model = timm.create_model('vgg16', pretrained=False, num_classes=10)"
   ]
  },
  {
   "cell_type": "code",
   "execution_count": 17,
   "id": "27a7b1f2",
   "metadata": {
    "ExecuteTime": {
     "end_time": "2022-11-10T17:08:51.300333Z",
     "start_time": "2022-11-10T17:08:47.912341Z"
    }
   },
   "outputs": [],
   "source": [
    "model = model.to(device)"
   ]
  },
  {
   "cell_type": "code",
   "execution_count": 21,
   "id": "1c1ecea8",
   "metadata": {
    "ExecuteTime": {
     "end_time": "2022-11-10T17:15:03.325229Z",
     "start_time": "2022-11-10T17:15:03.317656Z"
    }
   },
   "outputs": [],
   "source": [
    "criterion = nn.CrossEntropyLoss()\n",
    "optimizer = optim.SGD(model.parameters(), lr=0.001, momentum=0.9)"
   ]
  },
  {
   "cell_type": "markdown",
   "id": "42fbbb72",
   "metadata": {},
   "source": [
    "## Train"
   ]
  },
  {
   "cell_type": "code",
   "execution_count": 22,
   "id": "c2c4c170",
   "metadata": {
    "ExecuteTime": {
     "end_time": "2022-11-10T17:53:08.870355Z",
     "start_time": "2022-11-10T17:15:05.294430Z"
    }
   },
   "outputs": [
    {
     "name": "stderr",
     "output_type": "stream",
     "text": [
      "  2%|▎         | 1/40 [01:06<43:19, 66.65s/it]"
     ]
    },
    {
     "name": "stdout",
     "output_type": "stream",
     "text": [
      "epoch: 1 loss: 2.054\n"
     ]
    },
    {
     "name": "stderr",
     "output_type": "stream",
     "text": [
      "\r",
      "  5%|▌         | 2/40 [02:13<42:14, 66.69s/it]"
     ]
    },
    {
     "name": "stdout",
     "output_type": "stream",
     "text": [
      "epoch: 2 loss: 1.639\n"
     ]
    },
    {
     "name": "stderr",
     "output_type": "stream",
     "text": [
      "\r",
      "  8%|▊         | 3/40 [03:08<37:56, 61.52s/it]"
     ]
    },
    {
     "name": "stdout",
     "output_type": "stream",
     "text": [
      "epoch: 3 loss: 1.412\n"
     ]
    },
    {
     "name": "stderr",
     "output_type": "stream",
     "text": [
      "\r",
      " 10%|█         | 4/40 [04:03<35:21, 58.93s/it]"
     ]
    },
    {
     "name": "stdout",
     "output_type": "stream",
     "text": [
      "epoch: 4 loss: 1.258\n"
     ]
    },
    {
     "name": "stderr",
     "output_type": "stream",
     "text": [
      "\r",
      " 12%|█▎        | 5/40 [04:58<33:32, 57.50s/it]"
     ]
    },
    {
     "name": "stdout",
     "output_type": "stream",
     "text": [
      "epoch: 5 loss: 1.110\n"
     ]
    },
    {
     "name": "stderr",
     "output_type": "stream",
     "text": [
      "\r",
      " 15%|█▌        | 6/40 [05:53<32:05, 56.63s/it]"
     ]
    },
    {
     "name": "stdout",
     "output_type": "stream",
     "text": [
      "epoch: 6 loss: 0.990\n"
     ]
    },
    {
     "name": "stderr",
     "output_type": "stream",
     "text": [
      "\r",
      " 18%|█▊        | 7/40 [06:48<30:50, 56.09s/it]"
     ]
    },
    {
     "name": "stdout",
     "output_type": "stream",
     "text": [
      "epoch: 7 loss: 0.883\n"
     ]
    },
    {
     "name": "stderr",
     "output_type": "stream",
     "text": [
      "\r",
      " 20%|██        | 8/40 [07:43<29:46, 55.82s/it]"
     ]
    },
    {
     "name": "stdout",
     "output_type": "stream",
     "text": [
      "epoch: 8 loss: 0.781\n"
     ]
    },
    {
     "name": "stderr",
     "output_type": "stream",
     "text": [
      "\r",
      " 22%|██▎       | 9/40 [08:38<28:42, 55.55s/it]"
     ]
    },
    {
     "name": "stdout",
     "output_type": "stream",
     "text": [
      "epoch: 9 loss: 0.698\n"
     ]
    },
    {
     "name": "stderr",
     "output_type": "stream",
     "text": [
      "\r",
      " 25%|██▌       | 10/40 [09:33<27:40, 55.36s/it]"
     ]
    },
    {
     "name": "stdout",
     "output_type": "stream",
     "text": [
      "epoch: 10 loss: 0.609\n"
     ]
    },
    {
     "name": "stderr",
     "output_type": "stream",
     "text": [
      "\r",
      " 28%|██▊       | 11/40 [10:28<26:41, 55.23s/it]"
     ]
    },
    {
     "name": "stdout",
     "output_type": "stream",
     "text": [
      "epoch: 11 loss: 0.547\n"
     ]
    },
    {
     "name": "stderr",
     "output_type": "stream",
     "text": [
      "\r",
      " 30%|███       | 12/40 [11:23<25:44, 55.15s/it]"
     ]
    },
    {
     "name": "stdout",
     "output_type": "stream",
     "text": [
      "epoch: 12 loss: 0.468\n"
     ]
    },
    {
     "name": "stderr",
     "output_type": "stream",
     "text": [
      "\r",
      " 32%|███▎      | 13/40 [12:18<24:47, 55.09s/it]"
     ]
    },
    {
     "name": "stdout",
     "output_type": "stream",
     "text": [
      "epoch: 13 loss: 0.395\n"
     ]
    },
    {
     "name": "stderr",
     "output_type": "stream",
     "text": [
      "\r",
      " 35%|███▌      | 14/40 [13:13<23:53, 55.14s/it]"
     ]
    },
    {
     "name": "stdout",
     "output_type": "stream",
     "text": [
      "epoch: 14 loss: 0.335\n"
     ]
    },
    {
     "name": "stderr",
     "output_type": "stream",
     "text": [
      "\r",
      " 38%|███▊      | 15/40 [14:08<22:56, 55.08s/it]"
     ]
    },
    {
     "name": "stdout",
     "output_type": "stream",
     "text": [
      "epoch: 15 loss: 0.277\n"
     ]
    },
    {
     "name": "stderr",
     "output_type": "stream",
     "text": [
      "\r",
      " 40%|████      | 16/40 [15:03<22:00, 55.04s/it]"
     ]
    },
    {
     "name": "stdout",
     "output_type": "stream",
     "text": [
      "epoch: 16 loss: 0.226\n"
     ]
    },
    {
     "name": "stderr",
     "output_type": "stream",
     "text": [
      "\r",
      " 42%|████▎     | 17/40 [15:58<21:05, 55.01s/it]"
     ]
    },
    {
     "name": "stdout",
     "output_type": "stream",
     "text": [
      "epoch: 17 loss: 0.180\n"
     ]
    },
    {
     "name": "stderr",
     "output_type": "stream",
     "text": [
      "\r",
      " 45%|████▌     | 18/40 [16:53<20:09, 55.00s/it]"
     ]
    },
    {
     "name": "stdout",
     "output_type": "stream",
     "text": [
      "epoch: 18 loss: 0.164\n"
     ]
    },
    {
     "name": "stderr",
     "output_type": "stream",
     "text": [
      "\r",
      " 48%|████▊     | 19/40 [17:48<19:16, 55.07s/it]"
     ]
    },
    {
     "name": "stdout",
     "output_type": "stream",
     "text": [
      "epoch: 19 loss: 0.134\n"
     ]
    },
    {
     "name": "stderr",
     "output_type": "stream",
     "text": [
      "\r",
      " 50%|█████     | 20/40 [18:43<18:20, 55.04s/it]"
     ]
    },
    {
     "name": "stdout",
     "output_type": "stream",
     "text": [
      "epoch: 20 loss: 0.107\n"
     ]
    },
    {
     "name": "stderr",
     "output_type": "stream",
     "text": [
      "\r",
      " 52%|█████▎    | 21/40 [19:38<17:25, 55.01s/it]"
     ]
    },
    {
     "name": "stdout",
     "output_type": "stream",
     "text": [
      "epoch: 21 loss: 0.106\n"
     ]
    },
    {
     "name": "stderr",
     "output_type": "stream",
     "text": [
      "\r",
      " 55%|█████▌    | 22/40 [20:33<16:29, 54.99s/it]"
     ]
    },
    {
     "name": "stdout",
     "output_type": "stream",
     "text": [
      "epoch: 22 loss: 0.087\n"
     ]
    },
    {
     "name": "stderr",
     "output_type": "stream",
     "text": [
      "\r",
      " 57%|█████▊    | 23/40 [21:28<15:34, 54.98s/it]"
     ]
    },
    {
     "name": "stdout",
     "output_type": "stream",
     "text": [
      "epoch: 23 loss: 0.073\n"
     ]
    },
    {
     "name": "stderr",
     "output_type": "stream",
     "text": [
      "\r",
      " 60%|██████    | 24/40 [22:23<14:39, 54.98s/it]"
     ]
    },
    {
     "name": "stdout",
     "output_type": "stream",
     "text": [
      "epoch: 24 loss: 0.066\n"
     ]
    },
    {
     "name": "stderr",
     "output_type": "stream",
     "text": [
      "\r",
      " 62%|██████▎   | 25/40 [23:18<13:45, 55.06s/it]"
     ]
    },
    {
     "name": "stdout",
     "output_type": "stream",
     "text": [
      "epoch: 25 loss: 0.060\n"
     ]
    },
    {
     "name": "stderr",
     "output_type": "stream",
     "text": [
      "\r",
      " 65%|██████▌   | 26/40 [24:13<12:50, 55.03s/it]"
     ]
    },
    {
     "name": "stdout",
     "output_type": "stream",
     "text": [
      "epoch: 26 loss: 0.050\n"
     ]
    },
    {
     "name": "stderr",
     "output_type": "stream",
     "text": [
      "\r",
      " 68%|██████▊   | 27/40 [25:08<11:55, 55.01s/it]"
     ]
    },
    {
     "name": "stdout",
     "output_type": "stream",
     "text": [
      "epoch: 27 loss: 0.044\n"
     ]
    },
    {
     "name": "stderr",
     "output_type": "stream",
     "text": [
      "\r",
      " 70%|███████   | 28/40 [26:03<10:59, 54.99s/it]"
     ]
    },
    {
     "name": "stdout",
     "output_type": "stream",
     "text": [
      "epoch: 28 loss: 0.047\n"
     ]
    },
    {
     "name": "stderr",
     "output_type": "stream",
     "text": [
      "\r",
      " 72%|███████▎  | 29/40 [26:58<10:04, 54.98s/it]"
     ]
    },
    {
     "name": "stdout",
     "output_type": "stream",
     "text": [
      "epoch: 29 loss: 0.043\n"
     ]
    },
    {
     "name": "stderr",
     "output_type": "stream",
     "text": [
      "\r",
      " 75%|███████▌  | 30/40 [27:54<09:10, 55.08s/it]"
     ]
    },
    {
     "name": "stdout",
     "output_type": "stream",
     "text": [
      "epoch: 30 loss: 0.030\n"
     ]
    },
    {
     "name": "stderr",
     "output_type": "stream",
     "text": [
      "\r",
      " 78%|███████▊  | 31/40 [28:48<08:15, 55.04s/it]"
     ]
    },
    {
     "name": "stdout",
     "output_type": "stream",
     "text": [
      "epoch: 31 loss: 0.032\n"
     ]
    },
    {
     "name": "stderr",
     "output_type": "stream",
     "text": [
      "\r",
      " 80%|████████  | 32/40 [29:43<07:20, 55.01s/it]"
     ]
    },
    {
     "name": "stdout",
     "output_type": "stream",
     "text": [
      "epoch: 32 loss: 0.026\n"
     ]
    },
    {
     "name": "stderr",
     "output_type": "stream",
     "text": [
      "\r",
      " 82%|████████▎ | 33/40 [30:38<06:24, 54.99s/it]"
     ]
    },
    {
     "name": "stdout",
     "output_type": "stream",
     "text": [
      "epoch: 33 loss: 0.025\n"
     ]
    },
    {
     "name": "stderr",
     "output_type": "stream",
     "text": [
      "\r",
      " 85%|████████▌ | 34/40 [31:33<05:29, 54.98s/it]"
     ]
    },
    {
     "name": "stdout",
     "output_type": "stream",
     "text": [
      "epoch: 34 loss: 0.029\n"
     ]
    },
    {
     "name": "stderr",
     "output_type": "stream",
     "text": [
      "\r",
      " 88%|████████▊ | 35/40 [32:28<04:34, 54.97s/it]"
     ]
    },
    {
     "name": "stdout",
     "output_type": "stream",
     "text": [
      "epoch: 35 loss: 0.016\n"
     ]
    },
    {
     "name": "stderr",
     "output_type": "stream",
     "text": [
      "\r",
      " 90%|█████████ | 36/40 [33:35<03:54, 58.54s/it]"
     ]
    },
    {
     "name": "stdout",
     "output_type": "stream",
     "text": [
      "epoch: 36 loss: 0.009\n"
     ]
    },
    {
     "name": "stderr",
     "output_type": "stream",
     "text": [
      "\r",
      " 92%|█████████▎| 37/40 [34:42<03:03, 61.08s/it]"
     ]
    },
    {
     "name": "stdout",
     "output_type": "stream",
     "text": [
      "epoch: 37 loss: 0.025\n"
     ]
    },
    {
     "name": "stderr",
     "output_type": "stream",
     "text": [
      "\r",
      " 95%|█████████▌| 38/40 [35:49<02:05, 62.86s/it]"
     ]
    },
    {
     "name": "stdout",
     "output_type": "stream",
     "text": [
      "epoch: 38 loss: 0.021\n"
     ]
    },
    {
     "name": "stderr",
     "output_type": "stream",
     "text": [
      "\r",
      " 98%|█████████▊| 39/40 [36:56<01:04, 64.10s/it]"
     ]
    },
    {
     "name": "stdout",
     "output_type": "stream",
     "text": [
      "epoch: 39 loss: 0.021\n"
     ]
    },
    {
     "name": "stderr",
     "output_type": "stream",
     "text": [
      "100%|██████████| 40/40 [38:03<00:00, 57.09s/it]"
     ]
    },
    {
     "name": "stdout",
     "output_type": "stream",
     "text": [
      "epoch: 40 loss: 0.017\n"
     ]
    },
    {
     "name": "stderr",
     "output_type": "stream",
     "text": [
      "\n"
     ]
    }
   ],
   "source": [
    "for epoch in tqdm(range(40)):\n",
    "    \n",
    "    running_loss = 0.0\n",
    "\n",
    "    for i, data in enumerate(train_loader, 0) :\n",
    "        inputs, labels = data[0].to(device), data[1].to(device)\n",
    "        \n",
    "        optimizer.zero_grad()\n",
    "        \n",
    "        outputs = model(inputs)\n",
    "        loss = criterion(outputs, labels)\n",
    "        loss.backward()\n",
    "        optimizer.step()\n",
    "        \n",
    "        running_loss += loss.item()\n",
    "        \n",
    "    print(f'epoch: {epoch + 1} loss: {running_loss / 500:.3f}')"
   ]
  },
  {
   "cell_type": "code",
   "execution_count": 23,
   "id": "1d450417",
   "metadata": {
    "ExecuteTime": {
     "end_time": "2022-11-10T17:55:02.532361Z",
     "start_time": "2022-11-10T17:55:01.369802Z"
    }
   },
   "outputs": [],
   "source": [
    "# 모델 가중치 저장\n",
    "torch.save(model.state_dict(), 'model_weights.pth')\n",
    "\n",
    "#모델 가중치 불러오기\n",
    "#model.load_state_dict(torch.load('model_weights.pth'))\n",
    "#model.eval()"
   ]
  },
  {
   "cell_type": "markdown",
   "id": "ec68a15e",
   "metadata": {},
   "source": [
    "## Test"
   ]
  },
  {
   "cell_type": "code",
   "execution_count": 24,
   "id": "4e019a91",
   "metadata": {
    "ExecuteTime": {
     "end_time": "2022-11-10T17:55:08.480743Z",
     "start_time": "2022-11-10T17:55:07.369594Z"
    }
   },
   "outputs": [
    {
     "name": "stderr",
     "output_type": "stream",
     "text": [
      "100%|██████████| 20/20 [00:01<00:00, 18.24it/s]"
     ]
    },
    {
     "name": "stdout",
     "output_type": "stream",
     "text": [
      "Accuracy: 36 %\n"
     ]
    },
    {
     "name": "stderr",
     "output_type": "stream",
     "text": [
      "\n"
     ]
    }
   ],
   "source": [
    "correct = 0\n",
    "total = 0\n",
    "\n",
    "with torch.no_grad():\n",
    "    for data in tqdm(test_loader):\n",
    "        images, labels = data[0].to(device), data[1].to(device)\n",
    "        outputs = model(images)\n",
    "        _, predicted = torch.max(outputs.data, 1)\n",
    "        total += labels.size(0)\n",
    "        correct += (predicted == labels).sum().item()\n",
    "        \n",
    "print('Accuracy: %d %%' % (100 * correct / total))"
   ]
  },
  {
   "cell_type": "code",
   "execution_count": null,
   "id": "d05568bb",
   "metadata": {},
   "outputs": [],
   "source": []
  }
 ],
 "metadata": {
  "kernelspec": {
   "display_name": "Python 3",
   "language": "python",
   "name": "python3"
  },
  "language_info": {
   "codemirror_mode": {
    "name": "ipython",
    "version": 3
   },
   "file_extension": ".py",
   "mimetype": "text/x-python",
   "name": "python",
   "nbconvert_exporter": "python",
   "pygments_lexer": "ipython3",
   "version": "3.6.9"
  },
  "toc": {
   "base_numbering": 1,
   "nav_menu": {},
   "number_sections": true,
   "sideBar": true,
   "skip_h1_title": false,
   "title_cell": "Table of Contents",
   "title_sidebar": "Contents",
   "toc_cell": false,
   "toc_position": {},
   "toc_section_display": true,
   "toc_window_display": false
  }
 },
 "nbformat": 4,
 "nbformat_minor": 5
}
