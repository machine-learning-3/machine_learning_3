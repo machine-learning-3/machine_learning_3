{
 "cells": [
  {
   "cell_type": "markdown",
   "id": "ab9b10b0",
   "metadata": {},
   "source": [
    "## Setting"
   ]
  },
  {
   "cell_type": "code",
   "execution_count": 2,
   "id": "3a4c24bb",
   "metadata": {
    "ExecuteTime": {
     "end_time": "2022-11-15T07:06:25.009637Z",
     "start_time": "2022-11-15T07:06:23.566264Z"
    }
   },
   "outputs": [],
   "source": [
    "from torchvision import datasets as ds\n",
    "from torch.utils.data import DataLoader\n",
    "from torchvision import transforms as ts\n",
    "import torchvision as tv\n",
    "import torch\n",
    "import torch.nn as nn\n",
    "import math\n",
    "import numpy as np\n",
    "from torch.autograd import Variable\n",
    "from torch import optim\n",
    "from matplotlib import pyplot as plt\n",
    "import torch.backends.cudnn as cudnn\n",
    "import timm\n",
    "from PIL import Image\n",
    "from tqdm import tqdm\n",
    "import random\n",
    "import os\n",
    "\n",
    "%config Completer.use_jedi = False"
   ]
  },
  {
   "cell_type": "code",
   "execution_count": 4,
   "id": "e264b987",
   "metadata": {
    "ExecuteTime": {
     "end_time": "2022-11-15T07:06:32.805605Z",
     "start_time": "2022-11-15T07:06:32.800552Z"
    }
   },
   "outputs": [],
   "source": [
    "def setseed(seednum = 20):\n",
    "    torch.manual_seed(seednum)\n",
    "    torch.cuda.manual_seed(seednum)\n",
    "    torch.cuda.manual_seed_all(seednum)\n",
    "    np.random.seed(seednum)\n",
    "    cudnn.benchmark = False\n",
    "    cudnn.deterministic = True\n",
    "    random.seed(seednum)"
   ]
  },
  {
   "cell_type": "code",
   "execution_count": 5,
   "id": "0dab43b1",
   "metadata": {
    "ExecuteTime": {
     "end_time": "2022-11-15T07:06:33.166989Z",
     "start_time": "2022-11-15T07:06:33.159949Z"
    }
   },
   "outputs": [],
   "source": [
    "setseed(99)"
   ]
  },
  {
   "cell_type": "code",
   "execution_count": 6,
   "id": "93baf751",
   "metadata": {
    "ExecuteTime": {
     "end_time": "2022-11-15T07:06:33.568992Z",
     "start_time": "2022-11-15T07:06:33.545071Z"
    }
   },
   "outputs": [
    {
     "data": {
      "text/plain": [
       "device(type='cuda')"
      ]
     },
     "execution_count": 6,
     "metadata": {},
     "output_type": "execute_result"
    }
   ],
   "source": [
    "cuda_available = torch.cuda.is_available()\n",
    "device = torch.device(\"cuda\" if cuda_available else \"cpu\")\n",
    "device"
   ]
  },
  {
   "cell_type": "markdown",
   "id": "514a752e",
   "metadata": {},
   "source": [
    "## Dataset"
   ]
  },
  {
   "cell_type": "code",
   "execution_count": 7,
   "id": "672911cb",
   "metadata": {
    "ExecuteTime": {
     "end_time": "2022-11-15T07:06:34.878436Z",
     "start_time": "2022-11-15T07:06:34.873532Z"
    }
   },
   "outputs": [],
   "source": [
    "transform = ts.Compose(\n",
    "    [\n",
    "        ts.ToTensor(),\n",
    "        ts.Normalize((0.5, 0.5, 0.5), (0.5, 0.5, 0.5))\n",
    "    ]\n",
    ")"
   ]
  },
  {
   "cell_type": "code",
   "execution_count": 8,
   "id": "2d138e33",
   "metadata": {
    "ExecuteTime": {
     "end_time": "2022-11-15T07:06:36.902717Z",
     "start_time": "2022-11-15T07:06:35.200940Z"
    }
   },
   "outputs": [
    {
     "name": "stdout",
     "output_type": "stream",
     "text": [
      "Files already downloaded and verified\n",
      "Files already downloaded and verified\n"
     ]
    }
   ],
   "source": [
    "train_set = ds.CIFAR10(root='../data/', train=True, transform=transform, download=True)\n",
    "val_set = tv.datasets.CIFAR10(root='../data/', train=False, download=True, transform=transform)"
   ]
  },
  {
   "cell_type": "code",
   "execution_count": 9,
   "id": "f7d4b670",
   "metadata": {
    "ExecuteTime": {
     "end_time": "2022-11-15T07:06:36.908286Z",
     "start_time": "2022-11-15T07:06:36.904576Z"
    }
   },
   "outputs": [],
   "source": [
    "train_loader = torch.utils.data.DataLoader(train_set, batch_size=64, shuffle=True, num_workers=0)\n",
    "val_loader = torch.utils.data.DataLoader(val_set, batch_size=64, shuffle=False, num_workers=0)"
   ]
  },
  {
   "cell_type": "code",
   "execution_count": 10,
   "id": "9f144b11",
   "metadata": {
    "ExecuteTime": {
     "end_time": "2022-11-15T07:06:36.913556Z",
     "start_time": "2022-11-15T07:06:36.910022Z"
    }
   },
   "outputs": [],
   "source": [
    "def make_test_list(data_dir):\n",
    "    \n",
    "    test_img_list = list()\n",
    "    \n",
    "    files = os.listdir(data_dir)\n",
    "    \n",
    "    for i in range(10):\n",
    "        img_file = data_dir + \"/\" + files[i]\n",
    "        img = os.listdir(img_file)\n",
    "        for j in range(200):\n",
    "            img_path = data_dir + \"/\" +  files[i] + \"/\" + img[j]\n",
    "            \n",
    "            test_img_list.append(img_path)\n",
    "    return test_img_list"
   ]
  },
  {
   "cell_type": "code",
   "execution_count": 11,
   "id": "1972ee01",
   "metadata": {
    "ExecuteTime": {
     "end_time": "2022-11-15T07:06:36.918630Z",
     "start_time": "2022-11-15T07:06:36.915067Z"
    }
   },
   "outputs": [],
   "source": [
    "img_list = make_test_list(\"../Statistical_Deep_Image_2021/Statistical_Deep_Image\")"
   ]
  },
  {
   "cell_type": "code",
   "execution_count": 12,
   "id": "6fad2708",
   "metadata": {
    "ExecuteTime": {
     "end_time": "2022-11-15T07:06:36.922935Z",
     "start_time": "2022-11-15T07:06:36.920030Z"
    }
   },
   "outputs": [],
   "source": [
    "def make_test_label(label_list):\n",
    "    \n",
    "    test_label_list = list()\n",
    "    \n",
    "    for i in [0,2,1,3,4,5,6,7,8,9]:\n",
    "        for j in range(200):\n",
    "            test_label_list.append(i)\n",
    "        \n",
    "    return test_label_list"
   ]
  },
  {
   "cell_type": "code",
   "execution_count": 13,
   "id": "913b4b71",
   "metadata": {
    "ExecuteTime": {
     "end_time": "2022-11-15T07:06:36.926660Z",
     "start_time": "2022-11-15T07:06:36.924183Z"
    }
   },
   "outputs": [],
   "source": [
    "label = os.listdir(\"../Statistical_Deep_Image_2021/Statistical_Deep_Image\")\n",
    "img_label_list = make_test_label(label)"
   ]
  },
  {
   "cell_type": "code",
   "execution_count": 14,
   "id": "cc86a6e8",
   "metadata": {
    "ExecuteTime": {
     "end_time": "2022-11-15T07:06:37.965209Z",
     "start_time": "2022-11-15T07:06:37.954923Z"
    }
   },
   "outputs": [],
   "source": [
    "class testset(torch.utils.data.Dataset):\n",
    "    def __init__(self, img_list, img_label_list, transform):\n",
    "        self.file_list = img_list\n",
    "        self.labels = img_label_list\n",
    "        self.transform = transform\n",
    "        \n",
    "    def __len__(self):\n",
    "        return len(self.file_list)\n",
    "    \n",
    "    def __getitem__(self, index):\n",
    "        img_path = self.file_list[index]\n",
    "        img = Image.open(img_path)\n",
    "        img_transformed = self.transform(img)\n",
    "        label = self.labels[index]\n",
    "        return img_transformed, label"
   ]
  },
  {
   "cell_type": "code",
   "execution_count": 15,
   "id": "7369e5d5",
   "metadata": {
    "ExecuteTime": {
     "end_time": "2022-11-15T07:06:38.279654Z",
     "start_time": "2022-11-15T07:06:38.275602Z"
    }
   },
   "outputs": [],
   "source": [
    "test_set = testset(img_list = img_list,\n",
    "                  img_label_list = img_label_list,\n",
    "                  transform = transform)"
   ]
  },
  {
   "cell_type": "code",
   "execution_count": 16,
   "id": "726d5725",
   "metadata": {
    "ExecuteTime": {
     "end_time": "2022-11-15T07:06:38.644369Z",
     "start_time": "2022-11-15T07:06:38.640273Z"
    }
   },
   "outputs": [],
   "source": [
    "test_loader = torch.utils.data.DataLoader(test_set, batch_size = 64, shuffle=True, num_workers=0)"
   ]
  },
  {
   "cell_type": "code",
   "execution_count": 17,
   "id": "a901ad69",
   "metadata": {
    "ExecuteTime": {
     "end_time": "2022-11-15T07:06:39.538179Z",
     "start_time": "2022-11-15T07:06:39.532541Z"
    }
   },
   "outputs": [],
   "source": [
    "classes = ('plane', 'car', 'bird', 'cat', 'deer', 'dog', 'frog', 'horse', 'ship', 'truck')"
   ]
  },
  {
   "cell_type": "markdown",
   "id": "ee5bf756",
   "metadata": {},
   "source": [
    "### labeling 확인"
   ]
  },
  {
   "cell_type": "code",
   "execution_count": 27,
   "id": "6a85c0c5",
   "metadata": {
    "ExecuteTime": {
     "end_time": "2022-11-14T15:22:30.125708Z",
     "start_time": "2022-11-14T15:22:30.116463Z"
    }
   },
   "outputs": [],
   "source": [
    "import matplotlib.pyplot as plt\n",
    "import numpy as np\n",
    "\n",
    "#이미지 확인하기\n",
    "\n",
    "def imshow(img):\n",
    "    img = img / 2 + 0.5     # 정규화 해제\n",
    "    npimg = img.numpy()\n",
    "    plt.imshow(np.transpose(npimg, (1, 2, 0)))\n",
    "    plt.show()"
   ]
  },
  {
   "cell_type": "code",
   "execution_count": 72,
   "id": "e12dc986",
   "metadata": {
    "ExecuteTime": {
     "end_time": "2022-11-15T06:58:20.645377Z",
     "start_time": "2022-11-15T06:58:20.382409Z"
    },
    "scrolled": true
   },
   "outputs": [
    {
     "data": {
      "image/png": "[encoded data removed]",
      "text/plain": [
       "<Figure size 432x288 with 1 Axes>"
      ]
     },
     "metadata": {
      "needs_background": "light"
     },
     "output_type": "display_data"
    },
    {
     "name": "stdout",
     "output_type": "stream",
     "text": [
      "class :  ship label : 8\n",
      "class :   car label : 1\n",
      "class :  ship label : 8\n",
      "class :   dog label : 5\n",
      "class : truck label : 9\n",
      "class : plane label : 0\n",
      "class : truck label : 9\n",
      "class : truck label : 9\n",
      "class : horse label : 7\n",
      "class :   cat label : 3\n",
      "class :   dog label : 5\n",
      "class :  deer label : 4\n",
      "class : horse label : 7\n",
      "class :   dog label : 5\n",
      "class :   dog label : 5\n",
      "class : truck label : 9\n"
     ]
    }
   ],
   "source": [
    "# 학습용 이미지 뽑기\n",
    "dataiter = iter(train_loader)\n",
    "images, labels = dataiter.next()\n",
    "\n",
    "# 이미지 보여주기\n",
    "imshow(tv.utils.make_grid(images))\n",
    "\n",
    "# 이미지별 라벨 (클래스) 보여주기\n",
    "for i in range(16):\n",
    "    print('class : %5s' % classes[labels[i]], 'label : %d' %labels[i])"
   ]
  },
  {
   "cell_type": "code",
   "execution_count": 1,
   "id": "ffa85897",
   "metadata": {
    "ExecuteTime": {
     "end_time": "2022-11-15T09:21:08.842769Z",
     "start_time": "2022-11-15T09:21:08.790139Z"
    }
   },
   "outputs": [
    {
     "ename": "NameError",
     "evalue": "name 'test_loader' is not defined",
     "output_type": "error",
     "traceback": [
      "\u001b[0;31m---------------------------------------------------------------------------\u001b[0m",
      "\u001b[0;31mNameError\u001b[0m                                 Traceback (most recent call last)",
      "\u001b[0;32m<ipython-input-1-47684b741ae1>\u001b[0m in \u001b[0;36m<module>\u001b[0;34m\u001b[0m\n\u001b[1;32m      1\u001b[0m \u001b[0;31m# 학습용 이미지 뽑기\u001b[0m\u001b[0;34m\u001b[0m\u001b[0;34m\u001b[0m\u001b[0;34m\u001b[0m\u001b[0m\n\u001b[0;32m----> 2\u001b[0;31m \u001b[0mdataiter\u001b[0m \u001b[0;34m=\u001b[0m \u001b[0miter\u001b[0m\u001b[0;34m(\u001b[0m\u001b[0mtest_loader\u001b[0m\u001b[0;34m)\u001b[0m\u001b[0;34m\u001b[0m\u001b[0;34m\u001b[0m\u001b[0m\n\u001b[0m\u001b[1;32m      3\u001b[0m \u001b[0mimages\u001b[0m\u001b[0;34m,\u001b[0m \u001b[0mlabels\u001b[0m \u001b[0;34m=\u001b[0m \u001b[0mdataiter\u001b[0m\u001b[0;34m.\u001b[0m\u001b[0mnext\u001b[0m\u001b[0;34m(\u001b[0m\u001b[0;34m)\u001b[0m\u001b[0;34m\u001b[0m\u001b[0;34m\u001b[0m\u001b[0m\n\u001b[1;32m      4\u001b[0m \u001b[0;34m\u001b[0m\u001b[0m\n\u001b[1;32m      5\u001b[0m \u001b[0;31m# 이미지 보여주기\u001b[0m\u001b[0;34m\u001b[0m\u001b[0;34m\u001b[0m\u001b[0;34m\u001b[0m\u001b[0m\n",
      "\u001b[0;31mNameError\u001b[0m: name 'test_loader' is not defined"
     ]
    }
   ],
   "source": [
    "# 학습용 이미지 뽑기\n",
    "dataiter = iter(test_loader)\n",
    "images, labels = dataiter.next()\n",
    "\n",
    "# 이미지 보여주기\n",
    "imshow(tv.utils.make_grid(images))\n",
    "\n",
    "# 이미지별 라벨 (클래스) 보여주기\n",
    "for i in range(64):\n",
    "    print('class : %5s' % classes[labels[i]], 'label : %d' %labels[i])"
   ]
  },
  {
   "cell_type": "markdown",
   "id": "d5179cbd",
   "metadata": {},
   "source": [
    "## Model"
   ]
  },
  {
   "cell_type": "code",
   "execution_count": 19,
   "id": "052cfe09",
   "metadata": {
    "ExecuteTime": {
     "end_time": "2022-11-15T07:07:10.801748Z",
     "start_time": "2022-11-15T07:07:08.938647Z"
    }
   },
   "outputs": [],
   "source": [
    "model = timm.create_model('vgg16', pretrained=False, num_classes=10)"
   ]
  },
  {
   "cell_type": "code",
   "execution_count": 20,
   "id": "27a7b1f2",
   "metadata": {
    "ExecuteTime": {
     "end_time": "2022-11-15T07:07:12.029086Z",
     "start_time": "2022-11-15T07:07:11.809940Z"
    }
   },
   "outputs": [],
   "source": [
    "model = model.to(device)"
   ]
  },
  {
   "cell_type": "code",
   "execution_count": 21,
   "id": "1c1ecea8",
   "metadata": {
    "ExecuteTime": {
     "end_time": "2022-11-15T07:07:12.333727Z",
     "start_time": "2022-11-15T07:07:12.329347Z"
    }
   },
   "outputs": [],
   "source": [
    "criterion = nn.CrossEntropyLoss()\n",
    "optimizer = optim.SGD(model.parameters(), lr=0.001, momentum=0.9)"
   ]
  },
  {
   "cell_type": "markdown",
   "id": "42fbbb72",
   "metadata": {},
   "source": [
    "## Train"
   ]
  },
  {
   "cell_type": "code",
   "execution_count": 23,
   "id": "c2c4c170",
   "metadata": {
    "ExecuteTime": {
     "end_time": "2022-11-15T07:07:22.087369Z",
     "start_time": "2022-11-15T07:07:22.078217Z"
    }
   },
   "outputs": [],
   "source": [
    "def train(num_epoch):\n",
    "    best_accuracy = 0.0 \n",
    "    \n",
    "    for epoch in tqdm(range(num_epoch)):\n",
    "\n",
    "        running_train_loss = 0.0\n",
    "        running_val_loss = 0.0\n",
    "        true = 0\n",
    "        total = 0\n",
    "\n",
    "        for i, data in enumerate(train_loader, 0) :\n",
    "            inputs, labels = data[0].to(device), data[1].to(device)\n",
    "\n",
    "            optimizer.zero_grad()\n",
    "\n",
    "            outputs = model(inputs)\n",
    "            loss = criterion(outputs, labels)\n",
    "            loss.backward()\n",
    "            optimizer.step()\n",
    "\n",
    "            running_train_loss += loss.item()\n",
    "        \n",
    "        with torch.no_grad():\n",
    "            model.eval()\n",
    "            for i, data in enumerate(val_loader, 0):\n",
    "                inputs, labels = data[0].to(device), data[1].to(device)\n",
    "                predicted_outputs = model(inputs)\n",
    "                val_loss = criterion(predicted_outputs, labels)\n",
    "                \n",
    "                _, predicted = torch.max(predicted_outputs, 1) \n",
    "                \n",
    "                running_val_loss += val_loss.item()\n",
    "                total += labels.size(0)\n",
    "                true += (predicted == labels).sum().item()\n",
    "                \n",
    "        train_loss_per_epoch = running_train_loss / len(train_loader)\n",
    "        val_loss = running_val_loss/len(val_loader)\n",
    "        accuracy = (100 * true / total)     \n",
    "        \n",
    "        if accuracy > best_accuracy:\n",
    "            torch.save(model.state_dict(), 'VGG_weights.pth')\n",
    "            best_accuracy = accuracy\n",
    "            \n",
    "        print('epoch: %d' %(epoch+1), ' train_loss: %.3f' %train_loss_per_epoch, ' val_loss: %.4f' %val_loss, ' Accuracy: %d %%' % (accuracy))"
   ]
  },
  {
   "cell_type": "code",
   "execution_count": 24,
   "id": "b5ec6994",
   "metadata": {
    "ExecuteTime": {
     "end_time": "2022-11-15T07:38:55.667623Z",
     "start_time": "2022-11-15T07:07:29.627340Z"
    },
    "scrolled": true
   },
   "outputs": [
    {
     "name": "stderr",
     "output_type": "stream",
     "text": [
      "  2%|▎         | 1/40 [00:55<35:53, 55.21s/it]"
     ]
    },
    {
     "name": "stdout",
     "output_type": "stream",
     "text": [
      "epoch: 1  train_loss: 2.139  val_loss: 1.7658  Accuracy: 33 %\n"
     ]
    },
    {
     "name": "stderr",
     "output_type": "stream",
     "text": [
      "\r",
      "  5%|▌         | 2/40 [01:51<35:13, 55.62s/it]"
     ]
    },
    {
     "name": "stdout",
     "output_type": "stream",
     "text": [
      "epoch: 2  train_loss: 1.618  val_loss: 1.4135  Accuracy: 46 %\n"
     ]
    },
    {
     "name": "stderr",
     "output_type": "stream",
     "text": [
      "\r",
      "  8%|▊         | 3/40 [02:44<33:47, 54.81s/it]"
     ]
    },
    {
     "name": "stdout",
     "output_type": "stream",
     "text": [
      "epoch: 3  train_loss: 1.341  val_loss: 1.3570  Accuracy: 50 %\n"
     ]
    },
    {
     "name": "stderr",
     "output_type": "stream",
     "text": [
      "\r",
      " 10%|█         | 4/40 [03:38<32:37, 54.37s/it]"
     ]
    },
    {
     "name": "stdout",
     "output_type": "stream",
     "text": [
      "epoch: 4  train_loss: 1.149  val_loss: 1.1453  Accuracy: 58 %\n"
     ]
    },
    {
     "name": "stderr",
     "output_type": "stream",
     "text": [
      "\r",
      " 12%|█▎        | 5/40 [04:32<31:40, 54.31s/it]"
     ]
    },
    {
     "name": "stdout",
     "output_type": "stream",
     "text": [
      "epoch: 5  train_loss: 0.993  val_loss: 1.0620  Accuracy: 62 %\n"
     ]
    },
    {
     "name": "stderr",
     "output_type": "stream",
     "text": [
      "\r",
      " 15%|█▌        | 6/40 [05:27<30:47, 54.33s/it]"
     ]
    },
    {
     "name": "stdout",
     "output_type": "stream",
     "text": [
      "epoch: 6  train_loss: 0.868  val_loss: 0.8593  Accuracy: 69 %\n"
     ]
    },
    {
     "name": "stderr",
     "output_type": "stream",
     "text": [
      "\r",
      " 18%|█▊        | 7/40 [06:22<30:02, 54.63s/it]"
     ]
    },
    {
     "name": "stdout",
     "output_type": "stream",
     "text": [
      "epoch: 7  train_loss: 0.756  val_loss: 0.8642  Accuracy: 70 %\n"
     ]
    },
    {
     "name": "stderr",
     "output_type": "stream",
     "text": [
      "\r",
      " 20%|██        | 8/40 [07:18<29:18, 54.96s/it]"
     ]
    },
    {
     "name": "stdout",
     "output_type": "stream",
     "text": [
      "epoch: 8  train_loss: 0.659  val_loss: 0.8398  Accuracy: 70 %\n"
     ]
    },
    {
     "name": "stderr",
     "output_type": "stream",
     "text": [
      "\r",
      " 22%|██▎       | 9/40 [08:13<28:32, 55.23s/it]"
     ]
    },
    {
     "name": "stdout",
     "output_type": "stream",
     "text": [
      "epoch: 9  train_loss: 0.571  val_loss: 0.8073  Accuracy: 73 %\n"
     ]
    },
    {
     "name": "stderr",
     "output_type": "stream",
     "text": [
      "\r",
      " 25%|██▌       | 10/40 [09:08<27:33, 55.13s/it]"
     ]
    },
    {
     "name": "stdout",
     "output_type": "stream",
     "text": [
      "epoch: 10  train_loss: 0.492  val_loss: 0.7759  Accuracy: 73 %\n"
     ]
    },
    {
     "name": "stderr",
     "output_type": "stream",
     "text": [
      "\r",
      " 28%|██▊       | 11/40 [10:01<26:14, 54.28s/it]"
     ]
    },
    {
     "name": "stdout",
     "output_type": "stream",
     "text": [
      "epoch: 11  train_loss: 0.410  val_loss: 0.8514  Accuracy: 72 %\n"
     ]
    },
    {
     "name": "stderr",
     "output_type": "stream",
     "text": [
      "\r",
      " 30%|███       | 12/40 [10:53<25:02, 53.67s/it]"
     ]
    },
    {
     "name": "stdout",
     "output_type": "stream",
     "text": [
      "epoch: 12  train_loss: 0.344  val_loss: 0.9397  Accuracy: 72 %\n"
     ]
    },
    {
     "name": "stderr",
     "output_type": "stream",
     "text": [
      "\r",
      " 32%|███▎      | 13/40 [11:47<24:15, 53.92s/it]"
     ]
    },
    {
     "name": "stdout",
     "output_type": "stream",
     "text": [
      "epoch: 13  train_loss: 0.284  val_loss: 0.9149  Accuracy: 74 %\n"
     ]
    },
    {
     "name": "stderr",
     "output_type": "stream",
     "text": [
      "\r",
      " 35%|███▌      | 14/40 [12:42<23:25, 54.06s/it]"
     ]
    },
    {
     "name": "stdout",
     "output_type": "stream",
     "text": [
      "epoch: 14  train_loss: 0.249  val_loss: 0.9014  Accuracy: 75 %\n"
     ]
    },
    {
     "name": "stderr",
     "output_type": "stream",
     "text": [
      "\r",
      " 38%|███▊      | 15/40 [13:35<22:23, 53.75s/it]"
     ]
    },
    {
     "name": "stdout",
     "output_type": "stream",
     "text": [
      "epoch: 15  train_loss: 0.187  val_loss: 0.9200  Accuracy: 75 %\n"
     ]
    },
    {
     "name": "stderr",
     "output_type": "stream",
     "text": [
      "\r",
      " 40%|████      | 16/40 [14:28<21:27, 53.67s/it]"
     ]
    },
    {
     "name": "stdout",
     "output_type": "stream",
     "text": [
      "epoch: 16  train_loss: 0.151  val_loss: 1.0717  Accuracy: 73 %\n"
     ]
    },
    {
     "name": "stderr",
     "output_type": "stream",
     "text": [
      "\r",
      " 42%|████▎     | 17/40 [15:22<20:33, 53.64s/it]"
     ]
    },
    {
     "name": "stdout",
     "output_type": "stream",
     "text": [
      "epoch: 17  train_loss: 0.135  val_loss: 1.1641  Accuracy: 75 %\n"
     ]
    },
    {
     "name": "stderr",
     "output_type": "stream",
     "text": [
      "\r",
      " 45%|████▌     | 18/40 [16:15<19:36, 53.48s/it]"
     ]
    },
    {
     "name": "stdout",
     "output_type": "stream",
     "text": [
      "epoch: 18  train_loss: 0.121  val_loss: 1.0144  Accuracy: 74 %\n"
     ]
    },
    {
     "name": "stderr",
     "output_type": "stream",
     "text": [
      "\r",
      " 48%|████▊     | 19/40 [17:07<18:33, 53.00s/it]"
     ]
    },
    {
     "name": "stdout",
     "output_type": "stream",
     "text": [
      "epoch: 19  train_loss: 0.096  val_loss: 1.1849  Accuracy: 75 %\n"
     ]
    },
    {
     "name": "stderr",
     "output_type": "stream",
     "text": [
      "\r",
      " 50%|█████     | 20/40 [18:01<17:44, 53.21s/it]"
     ]
    },
    {
     "name": "stdout",
     "output_type": "stream",
     "text": [
      "epoch: 20  train_loss: 0.088  val_loss: 1.0615  Accuracy: 75 %\n"
     ]
    },
    {
     "name": "stderr",
     "output_type": "stream",
     "text": [
      "\r",
      " 52%|█████▎    | 21/40 [18:54<16:54, 53.38s/it]"
     ]
    },
    {
     "name": "stdout",
     "output_type": "stream",
     "text": [
      "epoch: 21  train_loss: 0.064  val_loss: 1.1783  Accuracy: 76 %\n"
     ]
    },
    {
     "name": "stderr",
     "output_type": "stream",
     "text": [
      "\r",
      " 55%|█████▌    | 22/40 [19:46<15:53, 52.96s/it]"
     ]
    },
    {
     "name": "stdout",
     "output_type": "stream",
     "text": [
      "epoch: 22  train_loss: 0.060  val_loss: 1.3188  Accuracy: 75 %\n"
     ]
    },
    {
     "name": "stderr",
     "output_type": "stream",
     "text": [
      "\r",
      " 57%|█████▊    | 23/40 [20:38<14:54, 52.62s/it]"
     ]
    },
    {
     "name": "stdout",
     "output_type": "stream",
     "text": [
      "epoch: 23  train_loss: 0.059  val_loss: 1.2023  Accuracy: 76 %\n"
     ]
    },
    {
     "name": "stderr",
     "output_type": "stream",
     "text": [
      "\r",
      " 60%|██████    | 24/40 [21:31<14:03, 52.74s/it]"
     ]
    },
    {
     "name": "stdout",
     "output_type": "stream",
     "text": [
      "epoch: 24  train_loss: 0.051  val_loss: 1.2523  Accuracy: 75 %\n"
     ]
    },
    {
     "name": "stderr",
     "output_type": "stream",
     "text": [
      "\r",
      " 62%|██████▎   | 25/40 [22:25<13:13, 52.93s/it]"
     ]
    },
    {
     "name": "stdout",
     "output_type": "stream",
     "text": [
      "epoch: 25  train_loss: 0.044  val_loss: 1.2622  Accuracy: 76 %\n"
     ]
    },
    {
     "name": "stderr",
     "output_type": "stream",
     "text": [
      "\r",
      " 65%|██████▌   | 26/40 [23:20<12:31, 53.68s/it]"
     ]
    },
    {
     "name": "stdout",
     "output_type": "stream",
     "text": [
      "epoch: 26  train_loss: 0.042  val_loss: 1.2809  Accuracy: 77 %\n"
     ]
    },
    {
     "name": "stderr",
     "output_type": "stream",
     "text": [
      "\r",
      " 68%|██████▊   | 27/40 [24:13<11:33, 53.37s/it]"
     ]
    },
    {
     "name": "stdout",
     "output_type": "stream",
     "text": [
      "epoch: 27  train_loss: 0.031  val_loss: 1.4824  Accuracy: 75 %\n"
     ]
    },
    {
     "name": "stderr",
     "output_type": "stream",
     "text": [
      "\r",
      " 70%|███████   | 28/40 [25:04<10:34, 52.90s/it]"
     ]
    },
    {
     "name": "stdout",
     "output_type": "stream",
     "text": [
      "epoch: 28  train_loss: 0.039  val_loss: 1.3863  Accuracy: 76 %\n"
     ]
    },
    {
     "name": "stderr",
     "output_type": "stream",
     "text": [
      "\r",
      " 72%|███████▎  | 29/40 [25:56<09:36, 52.39s/it]"
     ]
    },
    {
     "name": "stdout",
     "output_type": "stream",
     "text": [
      "epoch: 29  train_loss: 0.034  val_loss: 1.3582  Accuracy: 76 %\n"
     ]
    },
    {
     "name": "stderr",
     "output_type": "stream",
     "text": [
      "\r",
      " 75%|███████▌  | 30/40 [26:47<08:42, 52.21s/it]"
     ]
    },
    {
     "name": "stdout",
     "output_type": "stream",
     "text": [
      "epoch: 30  train_loss: 0.022  val_loss: 1.5008  Accuracy: 76 %\n"
     ]
    },
    {
     "name": "stderr",
     "output_type": "stream",
     "text": [
      "\r",
      " 78%|███████▊  | 31/40 [27:39<07:49, 52.13s/it]"
     ]
    },
    {
     "name": "stdout",
     "output_type": "stream",
     "text": [
      "epoch: 31  train_loss: 0.031  val_loss: 1.3711  Accuracy: 76 %\n"
     ]
    },
    {
     "name": "stderr",
     "output_type": "stream",
     "text": [
      "\r",
      " 80%|████████  | 32/40 [28:32<06:58, 52.27s/it]"
     ]
    },
    {
     "name": "stdout",
     "output_type": "stream",
     "text": [
      "epoch: 32  train_loss: 0.032  val_loss: 1.3883  Accuracy: 77 %\n"
     ]
    },
    {
     "name": "stderr",
     "output_type": "stream",
     "text": [
      "\r",
      " 82%|████████▎ | 33/40 [29:25<06:06, 52.34s/it]"
     ]
    },
    {
     "name": "stdout",
     "output_type": "stream",
     "text": [
      "epoch: 33  train_loss: 0.022  val_loss: 1.4721  Accuracy: 77 %\n"
     ]
    },
    {
     "name": "stderr",
     "output_type": "stream",
     "text": [
      "\r",
      " 85%|████████▌ | 34/40 [30:17<05:13, 52.27s/it]"
     ]
    },
    {
     "name": "stdout",
     "output_type": "stream",
     "text": [
      "epoch: 34  train_loss: 0.017  val_loss: 1.5783  Accuracy: 75 %\n"
     ]
    },
    {
     "name": "stderr",
     "output_type": "stream",
     "text": [
      "\r",
      " 88%|████████▊ | 35/40 [31:11<04:24, 52.99s/it]"
     ]
    },
    {
     "name": "stdout",
     "output_type": "stream",
     "text": [
      "epoch: 35  train_loss: 0.026  val_loss: 1.3759  Accuracy: 77 %\n"
     ]
    },
    {
     "name": "stderr",
     "output_type": "stream",
     "text": [
      " 88%|████████▊ | 35/40 [31:26<04:29, 53.89s/it]\n"
     ]
    },
    {
     "ename": "KeyboardInterrupt",
     "evalue": "",
     "output_type": "error",
     "traceback": [
      "\u001b[0;31m---------------------------------------------------------------------------\u001b[0m",
      "\u001b[0;31mKeyboardInterrupt\u001b[0m                         Traceback (most recent call last)",
      "\u001b[0;32m<ipython-input-24-51e78fc46ef8>\u001b[0m in \u001b[0;36m<module>\u001b[0;34m\u001b[0m\n\u001b[0;32m----> 1\u001b[0;31m \u001b[0mtrain\u001b[0m\u001b[0;34m(\u001b[0m\u001b[0;36m40\u001b[0m\u001b[0;34m)\u001b[0m\u001b[0;34m\u001b[0m\u001b[0;34m\u001b[0m\u001b[0m\n\u001b[0m",
      "\u001b[0;32m<ipython-input-23-a2cf2b361869>\u001b[0m in \u001b[0;36mtrain\u001b[0;34m(num_epoch)\u001b[0m\n\u001b[1;32m     16\u001b[0m             \u001b[0moutputs\u001b[0m \u001b[0;34m=\u001b[0m \u001b[0mmodel\u001b[0m\u001b[0;34m(\u001b[0m\u001b[0minputs\u001b[0m\u001b[0;34m)\u001b[0m\u001b[0;34m\u001b[0m\u001b[0;34m\u001b[0m\u001b[0m\n\u001b[1;32m     17\u001b[0m             \u001b[0mloss\u001b[0m \u001b[0;34m=\u001b[0m \u001b[0mcriterion\u001b[0m\u001b[0;34m(\u001b[0m\u001b[0moutputs\u001b[0m\u001b[0;34m,\u001b[0m \u001b[0mlabels\u001b[0m\u001b[0;34m)\u001b[0m\u001b[0;34m\u001b[0m\u001b[0;34m\u001b[0m\u001b[0m\n\u001b[0;32m---> 18\u001b[0;31m             \u001b[0mloss\u001b[0m\u001b[0;34m.\u001b[0m\u001b[0mbackward\u001b[0m\u001b[0;34m(\u001b[0m\u001b[0;34m)\u001b[0m\u001b[0;34m\u001b[0m\u001b[0;34m\u001b[0m\u001b[0m\n\u001b[0m\u001b[1;32m     19\u001b[0m             \u001b[0moptimizer\u001b[0m\u001b[0;34m.\u001b[0m\u001b[0mstep\u001b[0m\u001b[0;34m(\u001b[0m\u001b[0;34m)\u001b[0m\u001b[0;34m\u001b[0m\u001b[0;34m\u001b[0m\u001b[0m\n\u001b[1;32m     20\u001b[0m \u001b[0;34m\u001b[0m\u001b[0m\n",
      "\u001b[0;32m/usr/local/lib/python3.6/dist-packages/torch/_tensor.py\u001b[0m in \u001b[0;36mbackward\u001b[0;34m(self, gradient, retain_graph, create_graph, inputs)\u001b[0m\n\u001b[1;32m    253\u001b[0m                 \u001b[0mcreate_graph\u001b[0m\u001b[0;34m=\u001b[0m\u001b[0mcreate_graph\u001b[0m\u001b[0;34m,\u001b[0m\u001b[0;34m\u001b[0m\u001b[0;34m\u001b[0m\u001b[0m\n\u001b[1;32m    254\u001b[0m                 inputs=inputs)\n\u001b[0;32m--> 255\u001b[0;31m         \u001b[0mtorch\u001b[0m\u001b[0;34m.\u001b[0m\u001b[0mautograd\u001b[0m\u001b[0;34m.\u001b[0m\u001b[0mbackward\u001b[0m\u001b[0;34m(\u001b[0m\u001b[0mself\u001b[0m\u001b[0;34m,\u001b[0m \u001b[0mgradient\u001b[0m\u001b[0;34m,\u001b[0m \u001b[0mretain_graph\u001b[0m\u001b[0;34m,\u001b[0m \u001b[0mcreate_graph\u001b[0m\u001b[0;34m,\u001b[0m \u001b[0minputs\u001b[0m\u001b[0;34m=\u001b[0m\u001b[0minputs\u001b[0m\u001b[0;34m)\u001b[0m\u001b[0;34m\u001b[0m\u001b[0;34m\u001b[0m\u001b[0m\n\u001b[0m\u001b[1;32m    256\u001b[0m \u001b[0;34m\u001b[0m\u001b[0m\n\u001b[1;32m    257\u001b[0m     \u001b[0;32mdef\u001b[0m \u001b[0mregister_hook\u001b[0m\u001b[0;34m(\u001b[0m\u001b[0mself\u001b[0m\u001b[0;34m,\u001b[0m \u001b[0mhook\u001b[0m\u001b[0;34m)\u001b[0m\u001b[0;34m:\u001b[0m\u001b[0;34m\u001b[0m\u001b[0;34m\u001b[0m\u001b[0m\n",
      "\u001b[0;32m/usr/local/lib/python3.6/dist-packages/torch/autograd/__init__.py\u001b[0m in \u001b[0;36mbackward\u001b[0;34m(tensors, grad_tensors, retain_graph, create_graph, grad_variables, inputs)\u001b[0m\n\u001b[1;32m    147\u001b[0m     Variable._execution_engine.run_backward(\n\u001b[1;32m    148\u001b[0m         \u001b[0mtensors\u001b[0m\u001b[0;34m,\u001b[0m \u001b[0mgrad_tensors_\u001b[0m\u001b[0;34m,\u001b[0m \u001b[0mretain_graph\u001b[0m\u001b[0;34m,\u001b[0m \u001b[0mcreate_graph\u001b[0m\u001b[0;34m,\u001b[0m \u001b[0minputs\u001b[0m\u001b[0;34m,\u001b[0m\u001b[0;34m\u001b[0m\u001b[0;34m\u001b[0m\u001b[0m\n\u001b[0;32m--> 149\u001b[0;31m         allow_unreachable=True, accumulate_grad=True)  # allow_unreachable flag\n\u001b[0m\u001b[1;32m    150\u001b[0m \u001b[0;34m\u001b[0m\u001b[0m\n\u001b[1;32m    151\u001b[0m \u001b[0;34m\u001b[0m\u001b[0m\n",
      "\u001b[0;31mKeyboardInterrupt\u001b[0m: "
     ]
    }
   ],
   "source": [
    "train(40)"
   ]
  },
  {
   "cell_type": "code",
   "execution_count": 23,
   "id": "1d450417",
   "metadata": {
    "ExecuteTime": {
     "end_time": "2022-11-10T17:55:02.532361Z",
     "start_time": "2022-11-10T17:55:01.369802Z"
    }
   },
   "outputs": [],
   "source": [
    "# 모델 가중치 저장\n",
    "#torch.save(model.state_dict(), 'model_weights.pth')\n",
    "\n",
    "#모델 가중치 불러오기\n",
    "#model.load_state_dict(torch.load('VGG_weights.pth'))\n",
    "#model.eval()"
   ]
  },
  {
   "cell_type": "markdown",
   "id": "ec68a15e",
   "metadata": {},
   "source": [
    "## Test"
   ]
  },
  {
   "cell_type": "code",
   "execution_count": 25,
   "id": "74d4eb33",
   "metadata": {
    "ExecuteTime": {
     "end_time": "2022-11-15T07:39:03.399596Z",
     "start_time": "2022-11-15T07:39:02.880802Z"
    }
   },
   "outputs": [
    {
     "data": {
      "text/plain": [
       "VGG(\n",
       "  (features): Sequential(\n",
       "    (0): Conv2d(3, 64, kernel_size=(3, 3), stride=(1, 1), padding=(1, 1))\n",
       "    (1): ReLU(inplace=True)\n",
       "    (2): Conv2d(64, 64, kernel_size=(3, 3), stride=(1, 1), padding=(1, 1))\n",
       "    (3): ReLU(inplace=True)\n",
       "    (4): MaxPool2d(kernel_size=2, stride=2, padding=0, dilation=1, ceil_mode=False)\n",
       "    (5): Conv2d(64, 128, kernel_size=(3, 3), stride=(1, 1), padding=(1, 1))\n",
       "    (6): ReLU(inplace=True)\n",
       "    (7): Conv2d(128, 128, kernel_size=(3, 3), stride=(1, 1), padding=(1, 1))\n",
       "    (8): ReLU(inplace=True)\n",
       "    (9): MaxPool2d(kernel_size=2, stride=2, padding=0, dilation=1, ceil_mode=False)\n",
       "    (10): Conv2d(128, 256, kernel_size=(3, 3), stride=(1, 1), padding=(1, 1))\n",
       "    (11): ReLU(inplace=True)\n",
       "    (12): Conv2d(256, 256, kernel_size=(3, 3), stride=(1, 1), padding=(1, 1))\n",
       "    (13): ReLU(inplace=True)\n",
       "    (14): Conv2d(256, 256, kernel_size=(3, 3), stride=(1, 1), padding=(1, 1))\n",
       "    (15): ReLU(inplace=True)\n",
       "    (16): MaxPool2d(kernel_size=2, stride=2, padding=0, dilation=1, ceil_mode=False)\n",
       "    (17): Conv2d(256, 512, kernel_size=(3, 3), stride=(1, 1), padding=(1, 1))\n",
       "    (18): ReLU(inplace=True)\n",
       "    (19): Conv2d(512, 512, kernel_size=(3, 3), stride=(1, 1), padding=(1, 1))\n",
       "    (20): ReLU(inplace=True)\n",
       "    (21): Conv2d(512, 512, kernel_size=(3, 3), stride=(1, 1), padding=(1, 1))\n",
       "    (22): ReLU(inplace=True)\n",
       "    (23): MaxPool2d(kernel_size=2, stride=2, padding=0, dilation=1, ceil_mode=False)\n",
       "    (24): Conv2d(512, 512, kernel_size=(3, 3), stride=(1, 1), padding=(1, 1))\n",
       "    (25): ReLU(inplace=True)\n",
       "    (26): Conv2d(512, 512, kernel_size=(3, 3), stride=(1, 1), padding=(1, 1))\n",
       "    (27): ReLU(inplace=True)\n",
       "    (28): Conv2d(512, 512, kernel_size=(3, 3), stride=(1, 1), padding=(1, 1))\n",
       "    (29): ReLU(inplace=True)\n",
       "    (30): MaxPool2d(kernel_size=2, stride=2, padding=0, dilation=1, ceil_mode=False)\n",
       "  )\n",
       "  (pre_logits): ConvMlp(\n",
       "    (fc1): Conv2d(512, 4096, kernel_size=(7, 7), stride=(1, 1))\n",
       "    (act1): ReLU(inplace=True)\n",
       "    (drop): Dropout(p=0.0, inplace=False)\n",
       "    (fc2): Conv2d(4096, 4096, kernel_size=(1, 1), stride=(1, 1))\n",
       "    (act2): ReLU(inplace=True)\n",
       "  )\n",
       "  (head): ClassifierHead(\n",
       "    (global_pool): SelectAdaptivePool2d (pool_type=avg, flatten=Flatten(start_dim=1, end_dim=-1))\n",
       "    (fc): Linear(in_features=4096, out_features=10, bias=True)\n",
       "    (flatten): Identity()\n",
       "  )\n",
       ")"
      ]
     },
     "execution_count": 25,
     "metadata": {},
     "output_type": "execute_result"
    }
   ],
   "source": [
    "model.load_state_dict(torch.load('VGG_weights.pth'))\n",
    "model.eval()"
   ]
  },
  {
   "cell_type": "code",
   "execution_count": 28,
   "id": "4e019a91",
   "metadata": {
    "ExecuteTime": {
     "end_time": "2022-11-15T08:18:22.071029Z",
     "start_time": "2022-11-15T08:18:21.114391Z"
    }
   },
   "outputs": [
    {
     "name": "stderr",
     "output_type": "stream",
     "text": [
      "100%|██████████| 32/32 [00:00<00:00, 33.64it/s]"
     ]
    },
    {
     "name": "stdout",
     "output_type": "stream",
     "text": [
      "Accuracy: 45 %\n"
     ]
    },
    {
     "name": "stderr",
     "output_type": "stream",
     "text": [
      "\n"
     ]
    }
   ],
   "source": [
    "correct = 0\n",
    "total = 0\n",
    "\n",
    "with torch.no_grad():\n",
    "    for data in tqdm(test_loader):\n",
    "        images, labels = data[0].to(device), data[1].to(device)\n",
    "        outputs = model(images)\n",
    "        _, predicted = torch.max(outputs, 1)\n",
    "        total += labels.size(0)\n",
    "        correct += (predicted == labels).sum().item()\n",
    "        \n",
    "print('Accuracy: %d %%' % (100 * correct / total))"
   ]
  }
 ],
 "metadata": {
  "kernelspec": {
   "display_name": "Python 3",
   "language": "python",
   "name": "python3"
  },
  "language_info": {
   "codemirror_mode": {
    "name": "ipython",
    "version": 3
   },
   "file_extension": ".py",
   "mimetype": "text/x-python",
   "name": "python",
   "nbconvert_exporter": "python",
   "pygments_lexer": "ipython3",
   "version": "3.6.9"
  },
  "toc": {
   "base_numbering": 1,
   "nav_menu": {},
   "number_sections": true,
   "sideBar": true,
   "skip_h1_title": false,
   "title_cell": "Table of Contents",
   "title_sidebar": "Contents",
   "toc_cell": false,
   "toc_position": {
    "height": "calc(100% - 180px)",
    "left": "10px",
    "top": "150px",
    "width": "165px"
   },
   "toc_section_display": true,
   "toc_window_display": true
  }
 },
 "nbformat": 4,
 "nbformat_minor": 5
}
