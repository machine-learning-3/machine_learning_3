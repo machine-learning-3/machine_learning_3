{
  "nbformat": 4,
  "nbformat_minor": 0,
  "metadata": {
    "colab": {
      "provenance": []
    },
    "kernelspec": {
      "name": "python3",
      "display_name": "Python 3"
    },
    "language_info": {
      "name": "python"
    },
    "accelerator": "GPU",
    "gpuClass": "standard"
  },
  "cells": [
    {
      "cell_type": "code",
      "source": [
        "from google.colab import drive\n",
        "drive.mount('/content/drive')"
      ],
      "metadata": {
        "colab": {
          "base_uri": "https://localhost:8080/"
        },
        "id": "3xNqGZVElOzf",
        "outputId": "a5322c36-4234-42fe-d4e3-bf502eb71919"
      },
      "execution_count": 1,
      "outputs": [
        {
          "output_type": "stream",
          "name": "stdout",
          "text": [
            "Mounted at /content/drive\n"
          ]
        }
      ]
    },
    {
      "cell_type": "code",
      "execution_count": 2,
      "metadata": {
        "id": "OuaSulr_kn3L",
        "colab": {
          "base_uri": "https://localhost:8080/"
        },
        "outputId": "cd2b4eb7-374e-48da-dd1a-9fe178582a5f"
      },
      "outputs": [
        {
          "output_type": "stream",
          "name": "stdout",
          "text": [
            "Looking in indexes: https://pypi.org/simple, https://us-python.pkg.dev/colab-wheels/public/simple/\n",
            "Collecting timm\n",
            "  Downloading timm-0.6.11-py3-none-any.whl (548 kB)\n",
            "\u001b[K     |████████████████████████████████| 548 kB 27.4 MB/s \n",
            "\u001b[?25hCollecting huggingface-hub\n",
            "  Downloading huggingface_hub-0.11.0-py3-none-any.whl (182 kB)\n",
            "\u001b[K     |████████████████████████████████| 182 kB 70.7 MB/s \n",
            "\u001b[?25hRequirement already satisfied: torch>=1.7 in /usr/local/lib/python3.7/dist-packages (from timm) (1.12.1+cu113)\n",
            "Requirement already satisfied: pyyaml in /usr/local/lib/python3.7/dist-packages (from timm) (6.0)\n",
            "Requirement already satisfied: torchvision in /usr/local/lib/python3.7/dist-packages (from timm) (0.13.1+cu113)\n",
            "Requirement already satisfied: typing-extensions in /usr/local/lib/python3.7/dist-packages (from torch>=1.7->timm) (4.1.1)\n",
            "Requirement already satisfied: filelock in /usr/local/lib/python3.7/dist-packages (from huggingface-hub->timm) (3.8.0)\n",
            "Requirement already satisfied: tqdm in /usr/local/lib/python3.7/dist-packages (from huggingface-hub->timm) (4.64.1)\n",
            "Requirement already satisfied: importlib-metadata in /usr/local/lib/python3.7/dist-packages (from huggingface-hub->timm) (4.13.0)\n",
            "Requirement already satisfied: requests in /usr/local/lib/python3.7/dist-packages (from huggingface-hub->timm) (2.23.0)\n",
            "Requirement already satisfied: packaging>=20.9 in /usr/local/lib/python3.7/dist-packages (from huggingface-hub->timm) (21.3)\n",
            "Requirement already satisfied: pyparsing!=3.0.5,>=2.0.2 in /usr/local/lib/python3.7/dist-packages (from packaging>=20.9->huggingface-hub->timm) (3.0.9)\n",
            "Requirement already satisfied: zipp>=0.5 in /usr/local/lib/python3.7/dist-packages (from importlib-metadata->huggingface-hub->timm) (3.10.0)\n",
            "Requirement already satisfied: chardet<4,>=3.0.2 in /usr/local/lib/python3.7/dist-packages (from requests->huggingface-hub->timm) (3.0.4)\n",
            "Requirement already satisfied: certifi>=2017.4.17 in /usr/local/lib/python3.7/dist-packages (from requests->huggingface-hub->timm) (2022.9.24)\n",
            "Requirement already satisfied: idna<3,>=2.5 in /usr/local/lib/python3.7/dist-packages (from requests->huggingface-hub->timm) (2.10)\n",
            "Requirement already satisfied: urllib3!=1.25.0,!=1.25.1,<1.26,>=1.21.1 in /usr/local/lib/python3.7/dist-packages (from requests->huggingface-hub->timm) (1.24.3)\n",
            "Requirement already satisfied: pillow!=8.3.*,>=5.3.0 in /usr/local/lib/python3.7/dist-packages (from torchvision->timm) (7.1.2)\n",
            "Requirement already satisfied: numpy in /usr/local/lib/python3.7/dist-packages (from torchvision->timm) (1.21.6)\n",
            "Installing collected packages: huggingface-hub, timm\n",
            "Successfully installed huggingface-hub-0.11.0 timm-0.6.11\n"
          ]
        }
      ],
      "source": [
        "!pip install timm"
      ]
    },
    {
      "cell_type": "code",
      "source": [
        "from torchvision import datasets as ds\n",
        "from torch.utils.data import DataLoader\n",
        "from torchvision import transforms as ts\n",
        "import torchvision as tv\n",
        "import torch\n",
        "import torch.nn.functional as F\n",
        "import torch.nn as nn\n",
        "import math\n",
        "import numpy as np\n",
        "from torch.autograd import Variable\n",
        "from torch import optim\n",
        "from matplotlib import pyplot as plt\n",
        "import torch.backends.cudnn as cudnn\n",
        "import timm\n",
        "from PIL import Image\n",
        "from tqdm import tqdm\n",
        "import random\n",
        "import os\n",
        "\n",
        "%config Completer.use_jedi = False"
      ],
      "metadata": {
        "id": "lVLW9GiPlC41"
      },
      "execution_count": 3,
      "outputs": []
    },
    {
      "cell_type": "code",
      "source": [
        "def setseed(seednum = 20):\n",
        "    torch.manual_seed(seednum)\n",
        "    torch.cuda.manual_seed(seednum)\n",
        "    torch.cuda.manual_seed_all(seednum)\n",
        "    np.random.seed(seednum)\n",
        "    cudnn.benchmark = False\n",
        "    cudnn.deterministic = True\n",
        "    random.seed(seednum)"
      ],
      "metadata": {
        "id": "qe-1xzfKldk9"
      },
      "execution_count": 4,
      "outputs": []
    },
    {
      "cell_type": "code",
      "source": [
        "setseed(35)"
      ],
      "metadata": {
        "id": "Z3BHmA1IlIj9"
      },
      "execution_count": 5,
      "outputs": []
    },
    {
      "cell_type": "code",
      "source": [
        "cuda_available = torch.cuda.is_available()\n",
        "device = torch.device(\"cuda\" if cuda_available else \"cpu\")\n",
        "device"
      ],
      "metadata": {
        "id": "fUETMkHGqB5M",
        "colab": {
          "base_uri": "https://localhost:8080/"
        },
        "outputId": "7e174afd-a2cb-48f3-fa20-016fc8ce6160"
      },
      "execution_count": 6,
      "outputs": [
        {
          "output_type": "execute_result",
          "data": {
            "text/plain": [
              "device(type='cuda')"
            ]
          },
          "metadata": {},
          "execution_count": 6
        }
      ]
    },
    {
      "cell_type": "markdown",
      "source": [
        "# Dataset"
      ],
      "metadata": {
        "id": "vQKOesJFljdN"
      }
    },
    {
      "cell_type": "code",
      "source": [
        "!pip install git+https://github.com/ildoonet/cutmix"
      ],
      "metadata": {
        "colab": {
          "base_uri": "https://localhost:8080/"
        },
        "id": "SHci3l_1ujr4",
        "outputId": "89280183-c44c-4acf-b867-290033b04ec4"
      },
      "execution_count": 7,
      "outputs": [
        {
          "output_type": "stream",
          "name": "stdout",
          "text": [
            "Looking in indexes: https://pypi.org/simple, https://us-python.pkg.dev/colab-wheels/public/simple/\n",
            "Collecting git+https://github.com/ildoonet/cutmix\n",
            "  Cloning https://github.com/ildoonet/cutmix to /tmp/pip-req-build-a48pcxll\n",
            "  Running command git clone -q https://github.com/ildoonet/cutmix /tmp/pip-req-build-a48pcxll\n",
            "Building wheels for collected packages: cutmix\n",
            "  Building wheel for cutmix (setup.py) ... \u001b[?25l\u001b[?25hdone\n",
            "  Created wheel for cutmix: filename=cutmix-0.1-py3-none-any.whl size=3599 sha256=13a71f08345a382c380ed544a47c60372fe2aa5ecf3a6f058ccf3cd94e4dcc5c\n",
            "  Stored in directory: /tmp/pip-ephem-wheel-cache-ym04b42l/wheels/a9/81/a7/d3822499b14d97b1e2ef7e7538b70f15355607cfc7526f7cd5\n",
            "Successfully built cutmix\n",
            "Installing collected packages: cutmix\n",
            "Successfully installed cutmix-0.1\n"
          ]
        }
      ]
    },
    {
      "cell_type": "code",
      "source": [
        "from cutmix.cutmix import CutMix\n",
        "from cutmix.utils import CutMixCrossEntropyLoss"
      ],
      "metadata": {
        "id": "pH3dazMqvEhi"
      },
      "execution_count": 8,
      "outputs": []
    },
    {
      "cell_type": "code",
      "source": [
        "transform = ts.Compose(\n",
        "    [\n",
        "        ts.ToTensor(),\n",
        "        ts.Normalize((0.5, 0.5, 0.5), (0.5, 0.5, 0.5))\n",
        "    ]\n",
        ")"
      ],
      "metadata": {
        "id": "7eeEtKWwljFl"
      },
      "execution_count": 9,
      "outputs": []
    },
    {
      "cell_type": "code",
      "source": [
        "train_set = ds.CIFAR10(root='../data/', train=True, transform=transform, download=True)\n",
        "train_set_origin = ds.CIFAR10(root='../data/', train=True, transform=transform, download=True)\n",
        "train_set = CutMix(train_set, num_class=10, beta=1.0, prob=0.5, num_mix=2)\n",
        "\n",
        "val_set = tv.datasets.CIFAR10(root='../data/', train=False, download=True, transform=transform)"
      ],
      "metadata": {
        "colab": {
          "base_uri": "https://localhost:8080/"
        },
        "id": "6KppqBdllqfF",
        "outputId": "3ae25419-6042-43ac-80f7-57fc8d34b121"
      },
      "execution_count": 47,
      "outputs": [
        {
          "output_type": "stream",
          "name": "stdout",
          "text": [
            "Files already downloaded and verified\n",
            "Files already downloaded and verified\n",
            "Files already downloaded and verified\n"
          ]
        }
      ]
    },
    {
      "cell_type": "code",
      "source": [
        "train_set = train_set + train_set_origin"
      ],
      "metadata": {
        "id": "qO477t0Dgd0A"
      },
      "execution_count": 11,
      "outputs": []
    },
    {
      "cell_type": "code",
      "source": [
        "train_loader = torch.utils.data.DataLoader(train_set, batch_size=64, shuffle=True, num_workers=0)\n",
        "val_loader = torch.utils.data.DataLoader(val_set, batch_size=64, shuffle=False, num_workers=0)"
      ],
      "metadata": {
        "id": "iP9b61uyv-zJ"
      },
      "execution_count": 48,
      "outputs": []
    },
    {
      "cell_type": "code",
      "source": [
        "def make_test_list(data_dir):\n",
        "    \n",
        "    test_img_list = list()\n",
        "    \n",
        "    files = os.listdir(data_dir)\n",
        "    \n",
        "    for i in range(10):\n",
        "        img_file = data_dir + \"/\" + files[i]\n",
        "        img = os.listdir(img_file)\n",
        "        for j in range(200):\n",
        "            img_path = data_dir + \"/\" +  files[i] + \"/\" + img[j]\n",
        "            \n",
        "            test_img_list.append(img_path)\n",
        "    return test_img_list"
      ],
      "metadata": {
        "id": "1A8l7dM-n0il"
      },
      "execution_count": 13,
      "outputs": []
    },
    {
      "cell_type": "code",
      "source": [
        "img_list = make_test_list(\"./drive/MyDrive/Statistical_Deep_Image\")"
      ],
      "metadata": {
        "id": "8JWAnSTmn_0t"
      },
      "execution_count": 14,
      "outputs": []
    },
    {
      "cell_type": "code",
      "source": [
        "def make_test_label(label_list):\n",
        "    \n",
        "    test_label_list = list()\n",
        "    \n",
        "    for i in [0,2,1,3,4,5,6,7,8,9]:\n",
        "        for j in range(200):\n",
        "            test_label_list.append(i)\n",
        "    \n",
        "    return test_label_list"
      ],
      "metadata": {
        "id": "nJwOK2HkoAQ1"
      },
      "execution_count": 15,
      "outputs": []
    },
    {
      "cell_type": "code",
      "source": [
        "label = os.listdir(\"./drive/MyDrive/Statistical_Deep_Image\")\n",
        "img_label_list = make_test_label(label)"
      ],
      "metadata": {
        "id": "6kf-5JusoiOV"
      },
      "execution_count": 16,
      "outputs": []
    },
    {
      "cell_type": "code",
      "source": [
        "class testset(torch.utils.data.Dataset):\n",
        "    def __init__(self, img_list, img_label_list, transform):\n",
        "        self.file_list = img_list\n",
        "        self.labels = img_label_list\n",
        "        self.transform = transform\n",
        "        \n",
        "    def __len__(self):\n",
        "        return len(self.file_list)\n",
        "    \n",
        "    def __getitem__(self, index):\n",
        "        img_path = self.file_list[index]\n",
        "        img = Image.open(img_path)\n",
        "        img_transformed = self.transform(img)\n",
        "        label = self.labels[index]\n",
        "        return img_transformed, label"
      ],
      "metadata": {
        "id": "6xnUPAb-oIvF"
      },
      "execution_count": 17,
      "outputs": []
    },
    {
      "cell_type": "code",
      "source": [
        "test_set = testset(img_list = img_list,\n",
        "                  img_label_list = img_label_list,\n",
        "                  transform = transform)"
      ],
      "metadata": {
        "id": "cUbgrZEBoKw0"
      },
      "execution_count": 18,
      "outputs": []
    },
    {
      "cell_type": "code",
      "source": [
        "test_loader = torch.utils.data.DataLoader(test_set, batch_size = 64, shuffle=False, num_workers=0)"
      ],
      "metadata": {
        "id": "Vy179xKooRSt"
      },
      "execution_count": 19,
      "outputs": []
    },
    {
      "cell_type": "code",
      "source": [
        "classes = ('plane', 'car', 'bird', 'cat', 'deer', 'dog', 'frog', 'horse', 'ship', 'truck')"
      ],
      "metadata": {
        "id": "yv46ZZRpoSqk"
      },
      "execution_count": 20,
      "outputs": []
    },
    {
      "cell_type": "markdown",
      "source": [
        "# Model"
      ],
      "metadata": {
        "id": "Qs5hBBX5wIOH"
      }
    },
    {
      "cell_type": "code",
      "source": [
        "import copy\n",
        "from functools import partial\n",
        "from collections import OrderedDict\n",
        "\n",
        "\n",
        "\n",
        "\n",
        "\n",
        "class ConvBNAct(nn.Sequential):\n",
        "    \"\"\"Convolution-Normalization-Activation Module\"\"\"\n",
        "    def __init__(self, in_channel, out_channel, kernel_size, stride, groups, norm_layer, act, conv_layer=nn.Conv2d):\n",
        "        super(ConvBNAct, self).__init__(\n",
        "            conv_layer(in_channel, out_channel, kernel_size, stride=stride, padding=(kernel_size-1)//2, groups=groups, bias=False),\n",
        "            norm_layer(out_channel),\n",
        "            act()\n",
        "        )\n",
        "\n",
        "\n",
        "class SEUnit(nn.Module):\n",
        "    \"\"\"Squeeze-Excitation Unit\n",
        "    paper: https://openaccess.thecvf.com/content_cvpr_2018/html/Hu_Squeeze-and-Excitation_Networks_CVPR_2018_paper\n",
        "    \"\"\"\n",
        "    def __init__(self, in_channel, reduction_ratio=4, act1=partial(nn.SiLU, inplace=True), act2=nn.Sigmoid):\n",
        "        super(SEUnit, self).__init__()\n",
        "        hidden_dim = in_channel // reduction_ratio\n",
        "        self.avg_pool = nn.AdaptiveAvgPool2d((1, 1))\n",
        "        self.fc1 = nn.Conv2d(in_channel, hidden_dim, (1, 1), bias=True)\n",
        "        self.fc2 = nn.Conv2d(hidden_dim, in_channel, (1, 1), bias=True)\n",
        "        self.act1 = act1()\n",
        "        self.act2 = act2()\n",
        "\n",
        "    def forward(self, x):\n",
        "        return x * self.act2(self.fc2(self.act1(self.fc1(self.avg_pool(x)))))\n",
        "\n",
        "\n",
        "class StochasticDepth(nn.Module):\n",
        "    \"\"\"StochasticDepth\n",
        "    paper: https://link.springer.com/chapter/10.1007/978-3-319-46493-0_39\n",
        "    :arg\n",
        "        - prob: Probability of dying\n",
        "        - mode: \"row\" or \"all\". \"row\" means that each row survives with different probability\n",
        "    \"\"\"\n",
        "    def __init__(self, prob, mode):\n",
        "        super(StochasticDepth, self).__init__()\n",
        "        self.prob = prob\n",
        "        self.survival = 1.0 - prob\n",
        "        self.mode = mode\n",
        "\n",
        "    def forward(self, x):\n",
        "        if self.prob == 0.0 or not self.training:\n",
        "            return x\n",
        "        else:\n",
        "            shape = [x.size(0)] + [1] * (x.ndim - 1) if self.mode == 'row' else [1]\n",
        "            return x * torch.empty(shape).bernoulli_(self.survival).div_(self.survival).to(x.device)\n",
        "\n",
        "\n",
        "class MBConvConfig:\n",
        "    \"\"\"EfficientNet Building block configuration\"\"\"\n",
        "    def __init__(self, expand_ratio: float, kernel: int, stride: int, in_ch: int, out_ch: int, layers: int,\n",
        "                 use_se: bool, fused: bool, act=nn.SiLU, norm_layer=nn.BatchNorm2d):\n",
        "        self.expand_ratio = expand_ratio\n",
        "        self.kernel = kernel\n",
        "        self.stride = stride\n",
        "        self.in_ch = in_ch\n",
        "        self.out_ch = out_ch\n",
        "        self.num_layers = layers\n",
        "        self.act = act\n",
        "        self.norm_layer = norm_layer\n",
        "        self.use_se = use_se\n",
        "        self.fused = fused\n",
        "\n",
        "    @staticmethod\n",
        "    def adjust_channels(channel, factor, divisible=8):\n",
        "        new_channel = channel * factor\n",
        "        divisible_channel = max(divisible, (int(new_channel + divisible / 2) // divisible) * divisible)\n",
        "        divisible_channel += divisible if divisible_channel < 0.9 * new_channel else 0\n",
        "        return divisible_channel\n",
        "\n",
        "\n",
        "class MBConv(nn.Module):\n",
        "    \"\"\"EfficientNet main building blocks\n",
        "    :arg\n",
        "        - c: MBConvConfig instance\n",
        "        - sd_prob: stochastic path probability\n",
        "    \"\"\"\n",
        "    def __init__(self, c, sd_prob=0.0):\n",
        "        super(MBConv, self).__init__()\n",
        "        inter_channel = c.adjust_channels(c.in_ch, c.expand_ratio)\n",
        "        block = []\n",
        "\n",
        "        if c.expand_ratio == 1:\n",
        "            block.append(('fused', ConvBNAct(c.in_ch, inter_channel, c.kernel, c.stride, 1, c.norm_layer, c.act)))\n",
        "        elif c.fused:\n",
        "            block.append(('fused', ConvBNAct(c.in_ch, inter_channel, c.kernel, c.stride, 1, c.norm_layer, c.act)))\n",
        "            block.append(('fused_point_wise', ConvBNAct(inter_channel, c.out_ch, 1, 1, 1, c.norm_layer, nn.Identity)))\n",
        "        else:\n",
        "            block.append(('linear_bottleneck', ConvBNAct(c.in_ch, inter_channel, 1, 1, 1, c.norm_layer, c.act)))\n",
        "            block.append(('depth_wise', ConvBNAct(inter_channel, inter_channel, c.kernel, c.stride, inter_channel, c.norm_layer, c.act)))\n",
        "            block.append(('se', SEUnit(inter_channel, 4 * c.expand_ratio)))\n",
        "            block.append(('point_wise', ConvBNAct(inter_channel, c.out_ch, 1, 1, 1, c.norm_layer, nn.Identity)))\n",
        "\n",
        "        self.block = nn.Sequential(OrderedDict(block))\n",
        "        self.use_skip_connection = c.stride == 1 and c.in_ch == c.out_ch\n",
        "        self.stochastic_path = StochasticDepth(sd_prob, \"row\")\n",
        "\n",
        "    def forward(self, x):\n",
        "        out = self.block(x)\n",
        "        if self.use_skip_connection:\n",
        "            out = x + self.stochastic_path(out)\n",
        "        return out\n",
        "\n",
        "\n",
        "class EfficientNetV2(nn.Module):\n",
        "    def __init__(self, layer_infos, out_channels=1280, nclass=0, dropout=0.2, stochastic_depth=0.0,\n",
        "                 block=MBConv, act_layer=nn.SiLU, norm_layer=nn.BatchNorm2d):\n",
        "        super(EfficientNetV2, self).__init__()\n",
        "        self.layer_infos = layer_infos\n",
        "        self.norm_layer = norm_layer\n",
        "        self.act = act_layer\n",
        "\n",
        "        self.in_channel = layer_infos[0].in_ch\n",
        "        self.final_stage_channel = layer_infos[-1].out_ch\n",
        "        self.out_channels = out_channels\n",
        "\n",
        "        self.cur_block = 0\n",
        "        self.num_block = sum(stage.num_layers for stage in layer_infos)\n",
        "        self.stochastic_depth = stochastic_depth\n",
        "\n",
        "        self.stem = ConvBNAct(3, self.in_channel, 3, 2, 1, self.norm_layer, self.act)\n",
        "        self.blocks = nn.Sequential(*self.make_stages(layer_infos, block))\n",
        "        self.head = nn.Sequential(OrderedDict([\n",
        "            ('bottleneck', ConvBNAct(self.final_stage_channel, out_channels, 1, 1, 1, self.norm_layer, self.act)),\n",
        "            ('avgpool', nn.AdaptiveAvgPool2d((1, 1))),\n",
        "            ('flatten', nn.Flatten()),\n",
        "            ('dropout', nn.Dropout(p=dropout, inplace=True)),\n",
        "            ('classifier', nn.Linear(out_channels, nclass) if nclass else nn.Identity())\n",
        "        ]))\n",
        "\n",
        "    def make_stages(self, layer_infos, block):\n",
        "        return [layer for layer_info in layer_infos for layer in self.make_layers(copy.copy(layer_info), block)]\n",
        "\n",
        "    def make_layers(self, layer_info, block):\n",
        "        layers = []\n",
        "        for i in range(layer_info.num_layers):\n",
        "            layers.append(block(layer_info, sd_prob=self.get_sd_prob()))\n",
        "            layer_info.in_ch = layer_info.out_ch\n",
        "            layer_info.stride = 1\n",
        "        return layers\n",
        "\n",
        "    def get_sd_prob(self):\n",
        "        sd_prob = self.stochastic_depth * (self.cur_block / self.num_block)\n",
        "        self.cur_block += 1\n",
        "        return sd_prob\n",
        "\n",
        "    def forward(self, x):\n",
        "        return self.head(self.blocks(self.stem(x)))\n",
        "\n",
        "    def change_dropout_rate(self, p):\n",
        "        self.head[-2] = nn.Dropout(p=p, inplace=True)\n",
        "\n",
        "\n",
        "def efficientnet_v2_init(model):\n",
        "    for m in model.modules():\n",
        "        if isinstance(m, nn.Conv2d):\n",
        "            nn.init.kaiming_normal_(m.weight, mode='fan_out')\n",
        "            if m.bias is not None:\n",
        "                nn.init.zeros_(m.bias)\n",
        "        elif isinstance(m, (nn.BatchNorm2d, nn.GroupNorm)):\n",
        "            nn.init.ones_(m.weight)\n",
        "            nn.init.zeros_(m.bias)\n",
        "        elif isinstance(m, nn.Linear):\n",
        "            nn.init.normal_(m.weight, mean=0.0, std=0.01)\n",
        "            nn.init.zeros_(m.bias)\n",
        "\n",
        "\n",
        "def get_efficientnet_v2(model_name, nclass=0, dropout=0.1, stochastic_depth=0.2, **kwargs):\n",
        "    residual_config = [MBConvConfig(*layer_config) for layer_config in get_efficientnet_v2_structure(model_name)]\n",
        "    model = EfficientNetV2(residual_config, 1280, nclass, dropout=dropout, stochastic_depth=stochastic_depth, block=MBConv, act_layer=nn.SiLU)\n",
        "    efficientnet_v2_init(model)\n",
        "\n",
        "    return model\n",
        "\n",
        "def get_efficientnet_v2_hyperparam(model_name):\n",
        "    from box import Box\n",
        "    # train_size, eval_size, dropout, randaug, mixup\n",
        "    if 'efficientnet_v2_s' in model_name:\n",
        "        end = 300, 384, 0.2, 10, 0\n",
        "    elif 'efficientnet_v2_m' in model_name:\n",
        "        end = 384, 480, 0.3, 15, 0.2\n",
        "    elif 'efficientnet_v2_l' in model_name:\n",
        "        end = 384, 480, 0.4, 20, 0.5\n",
        "    elif 'efficientnet_v2_xl' in model_name:\n",
        "        end = 384, 512, 0.4, 20, 0.5\n",
        "    return Box({\"init_train_size\": 128, \"init_dropout\": 0.1, \"init_randaug\": 5, \"init_mixup\": 0,\n",
        "             \"end_train_size\": end[0], \"end_dropout\": end[2], \"end_randaug\": end[3], \"end_mixup\": end[4], \"eval_size\": end[1]})\n",
        "\n",
        "\n",
        "def get_efficientnet_v2_structure(model_name):\n",
        "    if 'efficientnet_v2_s' in model_name:\n",
        "        return [\n",
        "            # e k  s  in  out xN  se   fused\n",
        "            (1, 3, 1, 24, 24, 2, False, True),\n",
        "            (4, 3, 2, 24, 48, 4, False, True),\n",
        "            (4, 3, 2, 48, 64, 4, False, True),\n",
        "            (4, 3, 2, 64, 128, 6, True, False),\n",
        "            (6, 3, 1, 128, 160, 9, True, False),\n",
        "            (6, 3, 2, 160, 256, 15, True, False),\n",
        "        ]\n",
        "    elif 'efficientnet_v2_m' in model_name:\n",
        "        return [\n",
        "            # e k  s  in  out xN  se   fused\n",
        "            (1, 3, 1, 24, 24, 3, False, True),\n",
        "            (4, 3, 2, 24, 48, 5, False, True),\n",
        "            (4, 3, 2, 48, 80, 5, False, True),\n",
        "            (4, 3, 2, 80, 160, 7, True, False),\n",
        "            (6, 3, 1, 160, 176, 14, True, False),\n",
        "            (6, 3, 2, 176, 304, 18, True, False),\n",
        "            (6, 3, 1, 304, 512, 5, True, False),\n",
        "        ]\n",
        "    elif 'efficientnet_v2_l' in model_name:\n",
        "        return [\n",
        "            # e k  s  in  out xN  se   fused\n",
        "            (1, 3, 1, 32, 32, 4, False, True),\n",
        "            (4, 3, 2, 32, 64, 7, False, True),\n",
        "            (4, 3, 2, 64, 96, 7, False, True),\n",
        "            (4, 3, 2, 96, 192, 10, True, False),\n",
        "            (6, 3, 1, 192, 224, 19, True, False),\n",
        "            (6, 3, 2, 224, 384, 25, True, False),\n",
        "            (6, 3, 1, 384, 640, 7, True, False),\n",
        "        ]\n",
        "    elif 'efficientnet_v2_xl' in model_name:\n",
        "        return [\n",
        "            # e k  s  in  out xN  se   fused\n",
        "            (1, 3, 1, 32, 32, 4, False, True),\n",
        "            (4, 3, 2, 32, 64, 8, False, True),\n",
        "            (4, 3, 2, 64, 96, 8, False, True),\n",
        "            (4, 3, 2, 96, 192, 16, True, False),\n",
        "            (6, 3, 1, 192, 256, 24, True, False),\n",
        "            (6, 3, 2, 256, 512, 32, True, False),\n",
        "            (6, 3, 1, 512, 640, 8, True, False),\n",
        "        ]"
      ],
      "metadata": {
        "id": "9i7BdeFZkB92"
      },
      "execution_count": 42,
      "outputs": []
    },
    {
      "cell_type": "code",
      "source": [
        "net = get_efficientnet_v2(model_name='efficientnet_v2_s', nclass=10, dropout=0.1, stochastic_depth=0.2).to(device)\n",
        "model = get_efficientnet_v2(model_name='efficientnet_v2_s', nclass=10, dropout=0.1, stochastic_depth=0.2).to(device)"
      ],
      "metadata": {
        "id": "wmeqDm7oozr8"
      },
      "execution_count": 44,
      "outputs": []
    },
    {
      "cell_type": "code",
      "source": [
        "optimizer = optim.Adam(model.parameters(), lr=0.001)\n",
        "criterion = CutMixCrossEntropyLoss(True)"
      ],
      "metadata": {
        "id": "-mxX5qr1wVT5"
      },
      "execution_count": 45,
      "outputs": []
    },
    {
      "cell_type": "markdown",
      "source": [
        "# Train"
      ],
      "metadata": {
        "id": "XrCFGpQ3xZXR"
      }
    },
    {
      "cell_type": "code",
      "source": [
        "def train(num_epoch):\n",
        "    best_accuracy = 0.0 \n",
        "    \n",
        "    for epoch in tqdm(range(num_epoch)):\n",
        "\n",
        "        running_train_loss = 0.0\n",
        "        running_val_loss = 0.0\n",
        "        true = 0\n",
        "        total = 0\n",
        "\n",
        "        for i, data in enumerate(train_loader, 0) :\n",
        "            inputs, labels = data[0].to(device), data[1].to(device)\n",
        "\n",
        "            outputs = model(inputs)\n",
        "            loss = criterion(outputs, labels)\n",
        "\n",
        "            loss.backward()\n",
        "            optimizer.step()\n",
        "            optimizer.zero_grad()\n",
        "\n",
        "            running_train_loss += loss.item()\n",
        "        \n",
        "        with torch.no_grad():\n",
        "            model.eval()\n",
        "            for i, data in enumerate(val_loader, 0):\n",
        "                inputs, labels = data[0].to(device), data[1].to(device)\n",
        "                predicted_outputs = model(inputs)\n",
        "                val_loss = criterion(predicted_outputs, labels)\n",
        "                \n",
        "                _, predicted = torch.max(predicted_outputs, 1) \n",
        "                \n",
        "                running_val_loss += val_loss.item()\n",
        "                total += labels.size(0)\n",
        "                true += (predicted == labels).sum().item()\n",
        "                \n",
        "        train_loss_per_epoch = running_train_loss / len(train_loader)\n",
        "        val_loss = running_val_loss/len(val_loader)\n",
        "        accuracy = (100 * true / total)     \n",
        "        \n",
        "        if accuracy > best_accuracy:\n",
        "            torch.save(model.state_dict(), 'EfficientNet_CutMix_weights.pth')\n",
        "            best_accuracy = accuracy\n",
        "            \n",
        "        print('epoch: %d' %(epoch+1), ' train_loss: %.3f' %train_loss_per_epoch, ' val_loss: %.4f' %val_loss, ' Accuracy: %.2f %%' % (accuracy))"
      ],
      "metadata": {
        "id": "Xpsa2YJhkPzd"
      },
      "execution_count": 50,
      "outputs": []
    },
    {
      "cell_type": "code",
      "source": [
        "train(20)"
      ],
      "metadata": {
        "colab": {
          "base_uri": "https://localhost:8080/"
        },
        "id": "CZ6D_rRFyrax",
        "outputId": "797fb1b9-a044-4d90-cf03-b2f75a003291"
      },
      "execution_count": 51,
      "outputs": [
        {
          "output_type": "stream",
          "name": "stderr",
          "text": [
            "  5%|▌         | 1/20 [02:28<47:05, 148.69s/it]"
          ]
        },
        {
          "output_type": "stream",
          "name": "stdout",
          "text": [
            "epoch: 1  train_loss: 2.079  val_loss: 1.6604  Accuracy: 41.68 %\n"
          ]
        },
        {
          "output_type": "stream",
          "name": "stderr",
          "text": [
            "\r 10%|█         | 2/20 [04:45<42:31, 141.75s/it]"
          ]
        },
        {
          "output_type": "stream",
          "name": "stdout",
          "text": [
            "epoch: 2  train_loss: 1.852  val_loss: 1.3917  Accuracy: 50.37 %\n"
          ]
        },
        {
          "output_type": "stream",
          "name": "stderr",
          "text": [
            "\r 15%|█▌        | 3/20 [07:03<39:39, 139.97s/it]"
          ]
        },
        {
          "output_type": "stream",
          "name": "stdout",
          "text": [
            "epoch: 3  train_loss: 1.742  val_loss: 1.2469  Accuracy: 55.74 %\n"
          ]
        },
        {
          "output_type": "stream",
          "name": "stderr",
          "text": [
            "\r 20%|██        | 4/20 [09:20<37:03, 138.99s/it]"
          ]
        },
        {
          "output_type": "stream",
          "name": "stdout",
          "text": [
            "epoch: 4  train_loss: 1.642  val_loss: 1.1306  Accuracy: 62.47 %\n"
          ]
        },
        {
          "output_type": "stream",
          "name": "stderr",
          "text": [
            "\r 25%|██▌       | 5/20 [11:37<34:33, 138.26s/it]"
          ]
        },
        {
          "output_type": "stream",
          "name": "stdout",
          "text": [
            "epoch: 5  train_loss: 1.552  val_loss: 0.9599  Accuracy: 68.25 %\n"
          ]
        },
        {
          "output_type": "stream",
          "name": "stderr",
          "text": [
            "\r 30%|███       | 6/20 [13:54<32:08, 137.74s/it]"
          ]
        },
        {
          "output_type": "stream",
          "name": "stdout",
          "text": [
            "epoch: 6  train_loss: 1.489  val_loss: 0.9252  Accuracy: 68.95 %\n"
          ]
        },
        {
          "output_type": "stream",
          "name": "stderr",
          "text": [
            "\r 35%|███▌      | 7/20 [16:09<29:37, 136.70s/it]"
          ]
        },
        {
          "output_type": "stream",
          "name": "stdout",
          "text": [
            "epoch: 7  train_loss: 1.431  val_loss: 0.8851  Accuracy: 71.31 %\n"
          ]
        },
        {
          "output_type": "stream",
          "name": "stderr",
          "text": [
            "\r 40%|████      | 8/20 [18:24<27:13, 136.16s/it]"
          ]
        },
        {
          "output_type": "stream",
          "name": "stdout",
          "text": [
            "epoch: 8  train_loss: 1.393  val_loss: 0.8373  Accuracy: 71.92 %\n"
          ]
        },
        {
          "output_type": "stream",
          "name": "stderr",
          "text": [
            "\r 45%|████▌     | 9/20 [20:39<24:53, 135.82s/it]"
          ]
        },
        {
          "output_type": "stream",
          "name": "stdout",
          "text": [
            "epoch: 9  train_loss: 1.357  val_loss: 0.7861  Accuracy: 74.86 %\n"
          ]
        },
        {
          "output_type": "stream",
          "name": "stderr",
          "text": [
            "\r 50%|█████     | 10/20 [22:54<22:35, 135.53s/it]"
          ]
        },
        {
          "output_type": "stream",
          "name": "stdout",
          "text": [
            "epoch: 10  train_loss: 1.315  val_loss: 0.7393  Accuracy: 76.22 %\n"
          ]
        },
        {
          "output_type": "stream",
          "name": "stderr",
          "text": [
            "\r 55%|█████▌    | 11/20 [25:07<20:14, 134.91s/it]"
          ]
        },
        {
          "output_type": "stream",
          "name": "stdout",
          "text": [
            "epoch: 11  train_loss: 1.282  val_loss: 0.7171  Accuracy: 76.79 %\n"
          ]
        },
        {
          "output_type": "stream",
          "name": "stderr",
          "text": [
            "\r 60%|██████    | 12/20 [27:21<17:56, 134.58s/it]"
          ]
        },
        {
          "output_type": "stream",
          "name": "stdout",
          "text": [
            "epoch: 12  train_loss: 1.251  val_loss: 0.6948  Accuracy: 77.64 %\n"
          ]
        },
        {
          "output_type": "stream",
          "name": "stderr",
          "text": [
            "\r 65%|██████▌   | 13/20 [29:36<15:42, 134.64s/it]"
          ]
        },
        {
          "output_type": "stream",
          "name": "stdout",
          "text": [
            "epoch: 13  train_loss: 1.231  val_loss: 0.6690  Accuracy: 78.55 %\n"
          ]
        },
        {
          "output_type": "stream",
          "name": "stderr",
          "text": [
            "\r 70%|███████   | 14/20 [31:50<13:26, 134.47s/it]"
          ]
        },
        {
          "output_type": "stream",
          "name": "stdout",
          "text": [
            "epoch: 14  train_loss: 1.211  val_loss: 0.6586  Accuracy: 78.74 %\n"
          ]
        },
        {
          "output_type": "stream",
          "name": "stderr",
          "text": [
            "\r 75%|███████▌  | 15/20 [34:05<11:13, 134.63s/it]"
          ]
        },
        {
          "output_type": "stream",
          "name": "stdout",
          "text": [
            "epoch: 15  train_loss: 1.180  val_loss: 0.6899  Accuracy: 78.09 %\n"
          ]
        },
        {
          "output_type": "stream",
          "name": "stderr",
          "text": [
            "\r 80%|████████  | 16/20 [36:19<08:57, 134.39s/it]"
          ]
        },
        {
          "output_type": "stream",
          "name": "stdout",
          "text": [
            "epoch: 16  train_loss: 1.167  val_loss: 0.6514  Accuracy: 79.23 %\n"
          ]
        },
        {
          "output_type": "stream",
          "name": "stderr",
          "text": [
            "\r 85%|████████▌ | 17/20 [38:33<06:43, 134.36s/it]"
          ]
        },
        {
          "output_type": "stream",
          "name": "stdout",
          "text": [
            "epoch: 17  train_loss: 1.148  val_loss: 0.6615  Accuracy: 79.03 %\n"
          ]
        },
        {
          "output_type": "stream",
          "name": "stderr",
          "text": [
            "\r 90%|█████████ | 18/20 [40:47<04:28, 134.18s/it]"
          ]
        },
        {
          "output_type": "stream",
          "name": "stdout",
          "text": [
            "epoch: 18  train_loss: 1.140  val_loss: 0.6503  Accuracy: 79.60 %\n"
          ]
        },
        {
          "output_type": "stream",
          "name": "stderr",
          "text": [
            "\r 95%|█████████▌| 19/20 [42:58<02:13, 133.42s/it]"
          ]
        },
        {
          "output_type": "stream",
          "name": "stdout",
          "text": [
            "epoch: 19  train_loss: 1.146  val_loss: 0.6884  Accuracy: 77.95 %\n"
          ]
        },
        {
          "output_type": "stream",
          "name": "stderr",
          "text": [
            "100%|██████████| 20/20 [45:09<00:00, 135.47s/it]"
          ]
        },
        {
          "output_type": "stream",
          "name": "stdout",
          "text": [
            "epoch: 20  train_loss: 1.113  val_loss: 0.6586  Accuracy: 78.70 %\n"
          ]
        },
        {
          "output_type": "stream",
          "name": "stderr",
          "text": [
            "\n"
          ]
        }
      ]
    },
    {
      "cell_type": "markdown",
      "source": [
        "# Test"
      ],
      "metadata": {
        "id": "bX1w0-w5ysNo"
      }
    },
    {
      "cell_type": "code",
      "source": [
        "model.load_state_dict(torch.load('EfficientNet_CutMix_weights.pth'))\n",
        "model.eval()"
      ],
      "metadata": {
        "id": "mzDBFDFgytKp",
        "colab": {
          "base_uri": "https://localhost:8080/"
        },
        "outputId": "2abd918a-f7ce-4d49-97e0-1059fcec4563"
      },
      "execution_count": 52,
      "outputs": [
        {
          "output_type": "execute_result",
          "data": {
            "text/plain": [
              "EfficientNetV2(\n",
              "  (stem): ConvBNAct(\n",
              "    (0): Conv2d(3, 24, kernel_size=(3, 3), stride=(2, 2), padding=(1, 1), bias=False)\n",
              "    (1): BatchNorm2d(24, eps=1e-05, momentum=0.1, affine=True, track_running_stats=True)\n",
              "    (2): SiLU()\n",
              "  )\n",
              "  (blocks): Sequential(\n",
              "    (0): MBConv(\n",
              "      (block): Sequential(\n",
              "        (fused): ConvBNAct(\n",
              "          (0): Conv2d(24, 24, kernel_size=(3, 3), stride=(1, 1), padding=(1, 1), bias=False)\n",
              "          (1): BatchNorm2d(24, eps=1e-05, momentum=0.1, affine=True, track_running_stats=True)\n",
              "          (2): SiLU()\n",
              "        )\n",
              "      )\n",
              "      (stochastic_path): StochasticDepth()\n",
              "    )\n",
              "    (1): MBConv(\n",
              "      (block): Sequential(\n",
              "        (fused): ConvBNAct(\n",
              "          (0): Conv2d(24, 24, kernel_size=(3, 3), stride=(1, 1), padding=(1, 1), bias=False)\n",
              "          (1): BatchNorm2d(24, eps=1e-05, momentum=0.1, affine=True, track_running_stats=True)\n",
              "          (2): SiLU()\n",
              "        )\n",
              "      )\n",
              "      (stochastic_path): StochasticDepth()\n",
              "    )\n",
              "    (2): MBConv(\n",
              "      (block): Sequential(\n",
              "        (fused): ConvBNAct(\n",
              "          (0): Conv2d(24, 96, kernel_size=(3, 3), stride=(2, 2), padding=(1, 1), bias=False)\n",
              "          (1): BatchNorm2d(96, eps=1e-05, momentum=0.1, affine=True, track_running_stats=True)\n",
              "          (2): SiLU()\n",
              "        )\n",
              "        (fused_point_wise): ConvBNAct(\n",
              "          (0): Conv2d(96, 48, kernel_size=(1, 1), stride=(1, 1), bias=False)\n",
              "          (1): BatchNorm2d(48, eps=1e-05, momentum=0.1, affine=True, track_running_stats=True)\n",
              "          (2): Identity()\n",
              "        )\n",
              "      )\n",
              "      (stochastic_path): StochasticDepth()\n",
              "    )\n",
              "    (3): MBConv(\n",
              "      (block): Sequential(\n",
              "        (fused): ConvBNAct(\n",
              "          (0): Conv2d(48, 192, kernel_size=(3, 3), stride=(1, 1), padding=(1, 1), bias=False)\n",
              "          (1): BatchNorm2d(192, eps=1e-05, momentum=0.1, affine=True, track_running_stats=True)\n",
              "          (2): SiLU()\n",
              "        )\n",
              "        (fused_point_wise): ConvBNAct(\n",
              "          (0): Conv2d(192, 48, kernel_size=(1, 1), stride=(1, 1), bias=False)\n",
              "          (1): BatchNorm2d(48, eps=1e-05, momentum=0.1, affine=True, track_running_stats=True)\n",
              "          (2): Identity()\n",
              "        )\n",
              "      )\n",
              "      (stochastic_path): StochasticDepth()\n",
              "    )\n",
              "    (4): MBConv(\n",
              "      (block): Sequential(\n",
              "        (fused): ConvBNAct(\n",
              "          (0): Conv2d(48, 192, kernel_size=(3, 3), stride=(1, 1), padding=(1, 1), bias=False)\n",
              "          (1): BatchNorm2d(192, eps=1e-05, momentum=0.1, affine=True, track_running_stats=True)\n",
              "          (2): SiLU()\n",
              "        )\n",
              "        (fused_point_wise): ConvBNAct(\n",
              "          (0): Conv2d(192, 48, kernel_size=(1, 1), stride=(1, 1), bias=False)\n",
              "          (1): BatchNorm2d(48, eps=1e-05, momentum=0.1, affine=True, track_running_stats=True)\n",
              "          (2): Identity()\n",
              "        )\n",
              "      )\n",
              "      (stochastic_path): StochasticDepth()\n",
              "    )\n",
              "    (5): MBConv(\n",
              "      (block): Sequential(\n",
              "        (fused): ConvBNAct(\n",
              "          (0): Conv2d(48, 192, kernel_size=(3, 3), stride=(1, 1), padding=(1, 1), bias=False)\n",
              "          (1): BatchNorm2d(192, eps=1e-05, momentum=0.1, affine=True, track_running_stats=True)\n",
              "          (2): SiLU()\n",
              "        )\n",
              "        (fused_point_wise): ConvBNAct(\n",
              "          (0): Conv2d(192, 48, kernel_size=(1, 1), stride=(1, 1), bias=False)\n",
              "          (1): BatchNorm2d(48, eps=1e-05, momentum=0.1, affine=True, track_running_stats=True)\n",
              "          (2): Identity()\n",
              "        )\n",
              "      )\n",
              "      (stochastic_path): StochasticDepth()\n",
              "    )\n",
              "    (6): MBConv(\n",
              "      (block): Sequential(\n",
              "        (fused): ConvBNAct(\n",
              "          (0): Conv2d(48, 192, kernel_size=(3, 3), stride=(2, 2), padding=(1, 1), bias=False)\n",
              "          (1): BatchNorm2d(192, eps=1e-05, momentum=0.1, affine=True, track_running_stats=True)\n",
              "          (2): SiLU()\n",
              "        )\n",
              "        (fused_point_wise): ConvBNAct(\n",
              "          (0): Conv2d(192, 64, kernel_size=(1, 1), stride=(1, 1), bias=False)\n",
              "          (1): BatchNorm2d(64, eps=1e-05, momentum=0.1, affine=True, track_running_stats=True)\n",
              "          (2): Identity()\n",
              "        )\n",
              "      )\n",
              "      (stochastic_path): StochasticDepth()\n",
              "    )\n",
              "    (7): MBConv(\n",
              "      (block): Sequential(\n",
              "        (fused): ConvBNAct(\n",
              "          (0): Conv2d(64, 256, kernel_size=(3, 3), stride=(1, 1), padding=(1, 1), bias=False)\n",
              "          (1): BatchNorm2d(256, eps=1e-05, momentum=0.1, affine=True, track_running_stats=True)\n",
              "          (2): SiLU()\n",
              "        )\n",
              "        (fused_point_wise): ConvBNAct(\n",
              "          (0): Conv2d(256, 64, kernel_size=(1, 1), stride=(1, 1), bias=False)\n",
              "          (1): BatchNorm2d(64, eps=1e-05, momentum=0.1, affine=True, track_running_stats=True)\n",
              "          (2): Identity()\n",
              "        )\n",
              "      )\n",
              "      (stochastic_path): StochasticDepth()\n",
              "    )\n",
              "    (8): MBConv(\n",
              "      (block): Sequential(\n",
              "        (fused): ConvBNAct(\n",
              "          (0): Conv2d(64, 256, kernel_size=(3, 3), stride=(1, 1), padding=(1, 1), bias=False)\n",
              "          (1): BatchNorm2d(256, eps=1e-05, momentum=0.1, affine=True, track_running_stats=True)\n",
              "          (2): SiLU()\n",
              "        )\n",
              "        (fused_point_wise): ConvBNAct(\n",
              "          (0): Conv2d(256, 64, kernel_size=(1, 1), stride=(1, 1), bias=False)\n",
              "          (1): BatchNorm2d(64, eps=1e-05, momentum=0.1, affine=True, track_running_stats=True)\n",
              "          (2): Identity()\n",
              "        )\n",
              "      )\n",
              "      (stochastic_path): StochasticDepth()\n",
              "    )\n",
              "    (9): MBConv(\n",
              "      (block): Sequential(\n",
              "        (fused): ConvBNAct(\n",
              "          (0): Conv2d(64, 256, kernel_size=(3, 3), stride=(1, 1), padding=(1, 1), bias=False)\n",
              "          (1): BatchNorm2d(256, eps=1e-05, momentum=0.1, affine=True, track_running_stats=True)\n",
              "          (2): SiLU()\n",
              "        )\n",
              "        (fused_point_wise): ConvBNAct(\n",
              "          (0): Conv2d(256, 64, kernel_size=(1, 1), stride=(1, 1), bias=False)\n",
              "          (1): BatchNorm2d(64, eps=1e-05, momentum=0.1, affine=True, track_running_stats=True)\n",
              "          (2): Identity()\n",
              "        )\n",
              "      )\n",
              "      (stochastic_path): StochasticDepth()\n",
              "    )\n",
              "    (10): MBConv(\n",
              "      (block): Sequential(\n",
              "        (linear_bottleneck): ConvBNAct(\n",
              "          (0): Conv2d(64, 256, kernel_size=(1, 1), stride=(1, 1), bias=False)\n",
              "          (1): BatchNorm2d(256, eps=1e-05, momentum=0.1, affine=True, track_running_stats=True)\n",
              "          (2): SiLU()\n",
              "        )\n",
              "        (depth_wise): ConvBNAct(\n",
              "          (0): Conv2d(256, 256, kernel_size=(3, 3), stride=(2, 2), padding=(1, 1), groups=256, bias=False)\n",
              "          (1): BatchNorm2d(256, eps=1e-05, momentum=0.1, affine=True, track_running_stats=True)\n",
              "          (2): SiLU()\n",
              "        )\n",
              "        (se): SEUnit(\n",
              "          (avg_pool): AdaptiveAvgPool2d(output_size=(1, 1))\n",
              "          (fc1): Conv2d(256, 16, kernel_size=(1, 1), stride=(1, 1))\n",
              "          (fc2): Conv2d(16, 256, kernel_size=(1, 1), stride=(1, 1))\n",
              "          (act1): SiLU(inplace=True)\n",
              "          (act2): Sigmoid()\n",
              "        )\n",
              "        (point_wise): ConvBNAct(\n",
              "          (0): Conv2d(256, 128, kernel_size=(1, 1), stride=(1, 1), bias=False)\n",
              "          (1): BatchNorm2d(128, eps=1e-05, momentum=0.1, affine=True, track_running_stats=True)\n",
              "          (2): Identity()\n",
              "        )\n",
              "      )\n",
              "      (stochastic_path): StochasticDepth()\n",
              "    )\n",
              "    (11): MBConv(\n",
              "      (block): Sequential(\n",
              "        (linear_bottleneck): ConvBNAct(\n",
              "          (0): Conv2d(128, 512, kernel_size=(1, 1), stride=(1, 1), bias=False)\n",
              "          (1): BatchNorm2d(512, eps=1e-05, momentum=0.1, affine=True, track_running_stats=True)\n",
              "          (2): SiLU()\n",
              "        )\n",
              "        (depth_wise): ConvBNAct(\n",
              "          (0): Conv2d(512, 512, kernel_size=(3, 3), stride=(1, 1), padding=(1, 1), groups=512, bias=False)\n",
              "          (1): BatchNorm2d(512, eps=1e-05, momentum=0.1, affine=True, track_running_stats=True)\n",
              "          (2): SiLU()\n",
              "        )\n",
              "        (se): SEUnit(\n",
              "          (avg_pool): AdaptiveAvgPool2d(output_size=(1, 1))\n",
              "          (fc1): Conv2d(512, 32, kernel_size=(1, 1), stride=(1, 1))\n",
              "          (fc2): Conv2d(32, 512, kernel_size=(1, 1), stride=(1, 1))\n",
              "          (act1): SiLU(inplace=True)\n",
              "          (act2): Sigmoid()\n",
              "        )\n",
              "        (point_wise): ConvBNAct(\n",
              "          (0): Conv2d(512, 128, kernel_size=(1, 1), stride=(1, 1), bias=False)\n",
              "          (1): BatchNorm2d(128, eps=1e-05, momentum=0.1, affine=True, track_running_stats=True)\n",
              "          (2): Identity()\n",
              "        )\n",
              "      )\n",
              "      (stochastic_path): StochasticDepth()\n",
              "    )\n",
              "    (12): MBConv(\n",
              "      (block): Sequential(\n",
              "        (linear_bottleneck): ConvBNAct(\n",
              "          (0): Conv2d(128, 512, kernel_size=(1, 1), stride=(1, 1), bias=False)\n",
              "          (1): BatchNorm2d(512, eps=1e-05, momentum=0.1, affine=True, track_running_stats=True)\n",
              "          (2): SiLU()\n",
              "        )\n",
              "        (depth_wise): ConvBNAct(\n",
              "          (0): Conv2d(512, 512, kernel_size=(3, 3), stride=(1, 1), padding=(1, 1), groups=512, bias=False)\n",
              "          (1): BatchNorm2d(512, eps=1e-05, momentum=0.1, affine=True, track_running_stats=True)\n",
              "          (2): SiLU()\n",
              "        )\n",
              "        (se): SEUnit(\n",
              "          (avg_pool): AdaptiveAvgPool2d(output_size=(1, 1))\n",
              "          (fc1): Conv2d(512, 32, kernel_size=(1, 1), stride=(1, 1))\n",
              "          (fc2): Conv2d(32, 512, kernel_size=(1, 1), stride=(1, 1))\n",
              "          (act1): SiLU(inplace=True)\n",
              "          (act2): Sigmoid()\n",
              "        )\n",
              "        (point_wise): ConvBNAct(\n",
              "          (0): Conv2d(512, 128, kernel_size=(1, 1), stride=(1, 1), bias=False)\n",
              "          (1): BatchNorm2d(128, eps=1e-05, momentum=0.1, affine=True, track_running_stats=True)\n",
              "          (2): Identity()\n",
              "        )\n",
              "      )\n",
              "      (stochastic_path): StochasticDepth()\n",
              "    )\n",
              "    (13): MBConv(\n",
              "      (block): Sequential(\n",
              "        (linear_bottleneck): ConvBNAct(\n",
              "          (0): Conv2d(128, 512, kernel_size=(1, 1), stride=(1, 1), bias=False)\n",
              "          (1): BatchNorm2d(512, eps=1e-05, momentum=0.1, affine=True, track_running_stats=True)\n",
              "          (2): SiLU()\n",
              "        )\n",
              "        (depth_wise): ConvBNAct(\n",
              "          (0): Conv2d(512, 512, kernel_size=(3, 3), stride=(1, 1), padding=(1, 1), groups=512, bias=False)\n",
              "          (1): BatchNorm2d(512, eps=1e-05, momentum=0.1, affine=True, track_running_stats=True)\n",
              "          (2): SiLU()\n",
              "        )\n",
              "        (se): SEUnit(\n",
              "          (avg_pool): AdaptiveAvgPool2d(output_size=(1, 1))\n",
              "          (fc1): Conv2d(512, 32, kernel_size=(1, 1), stride=(1, 1))\n",
              "          (fc2): Conv2d(32, 512, kernel_size=(1, 1), stride=(1, 1))\n",
              "          (act1): SiLU(inplace=True)\n",
              "          (act2): Sigmoid()\n",
              "        )\n",
              "        (point_wise): ConvBNAct(\n",
              "          (0): Conv2d(512, 128, kernel_size=(1, 1), stride=(1, 1), bias=False)\n",
              "          (1): BatchNorm2d(128, eps=1e-05, momentum=0.1, affine=True, track_running_stats=True)\n",
              "          (2): Identity()\n",
              "        )\n",
              "      )\n",
              "      (stochastic_path): StochasticDepth()\n",
              "    )\n",
              "    (14): MBConv(\n",
              "      (block): Sequential(\n",
              "        (linear_bottleneck): ConvBNAct(\n",
              "          (0): Conv2d(128, 512, kernel_size=(1, 1), stride=(1, 1), bias=False)\n",
              "          (1): BatchNorm2d(512, eps=1e-05, momentum=0.1, affine=True, track_running_stats=True)\n",
              "          (2): SiLU()\n",
              "        )\n",
              "        (depth_wise): ConvBNAct(\n",
              "          (0): Conv2d(512, 512, kernel_size=(3, 3), stride=(1, 1), padding=(1, 1), groups=512, bias=False)\n",
              "          (1): BatchNorm2d(512, eps=1e-05, momentum=0.1, affine=True, track_running_stats=True)\n",
              "          (2): SiLU()\n",
              "        )\n",
              "        (se): SEUnit(\n",
              "          (avg_pool): AdaptiveAvgPool2d(output_size=(1, 1))\n",
              "          (fc1): Conv2d(512, 32, kernel_size=(1, 1), stride=(1, 1))\n",
              "          (fc2): Conv2d(32, 512, kernel_size=(1, 1), stride=(1, 1))\n",
              "          (act1): SiLU(inplace=True)\n",
              "          (act2): Sigmoid()\n",
              "        )\n",
              "        (point_wise): ConvBNAct(\n",
              "          (0): Conv2d(512, 128, kernel_size=(1, 1), stride=(1, 1), bias=False)\n",
              "          (1): BatchNorm2d(128, eps=1e-05, momentum=0.1, affine=True, track_running_stats=True)\n",
              "          (2): Identity()\n",
              "        )\n",
              "      )\n",
              "      (stochastic_path): StochasticDepth()\n",
              "    )\n",
              "    (15): MBConv(\n",
              "      (block): Sequential(\n",
              "        (linear_bottleneck): ConvBNAct(\n",
              "          (0): Conv2d(128, 512, kernel_size=(1, 1), stride=(1, 1), bias=False)\n",
              "          (1): BatchNorm2d(512, eps=1e-05, momentum=0.1, affine=True, track_running_stats=True)\n",
              "          (2): SiLU()\n",
              "        )\n",
              "        (depth_wise): ConvBNAct(\n",
              "          (0): Conv2d(512, 512, kernel_size=(3, 3), stride=(1, 1), padding=(1, 1), groups=512, bias=False)\n",
              "          (1): BatchNorm2d(512, eps=1e-05, momentum=0.1, affine=True, track_running_stats=True)\n",
              "          (2): SiLU()\n",
              "        )\n",
              "        (se): SEUnit(\n",
              "          (avg_pool): AdaptiveAvgPool2d(output_size=(1, 1))\n",
              "          (fc1): Conv2d(512, 32, kernel_size=(1, 1), stride=(1, 1))\n",
              "          (fc2): Conv2d(32, 512, kernel_size=(1, 1), stride=(1, 1))\n",
              "          (act1): SiLU(inplace=True)\n",
              "          (act2): Sigmoid()\n",
              "        )\n",
              "        (point_wise): ConvBNAct(\n",
              "          (0): Conv2d(512, 128, kernel_size=(1, 1), stride=(1, 1), bias=False)\n",
              "          (1): BatchNorm2d(128, eps=1e-05, momentum=0.1, affine=True, track_running_stats=True)\n",
              "          (2): Identity()\n",
              "        )\n",
              "      )\n",
              "      (stochastic_path): StochasticDepth()\n",
              "    )\n",
              "    (16): MBConv(\n",
              "      (block): Sequential(\n",
              "        (linear_bottleneck): ConvBNAct(\n",
              "          (0): Conv2d(128, 768, kernel_size=(1, 1), stride=(1, 1), bias=False)\n",
              "          (1): BatchNorm2d(768, eps=1e-05, momentum=0.1, affine=True, track_running_stats=True)\n",
              "          (2): SiLU()\n",
              "        )\n",
              "        (depth_wise): ConvBNAct(\n",
              "          (0): Conv2d(768, 768, kernel_size=(3, 3), stride=(1, 1), padding=(1, 1), groups=768, bias=False)\n",
              "          (1): BatchNorm2d(768, eps=1e-05, momentum=0.1, affine=True, track_running_stats=True)\n",
              "          (2): SiLU()\n",
              "        )\n",
              "        (se): SEUnit(\n",
              "          (avg_pool): AdaptiveAvgPool2d(output_size=(1, 1))\n",
              "          (fc1): Conv2d(768, 32, kernel_size=(1, 1), stride=(1, 1))\n",
              "          (fc2): Conv2d(32, 768, kernel_size=(1, 1), stride=(1, 1))\n",
              "          (act1): SiLU(inplace=True)\n",
              "          (act2): Sigmoid()\n",
              "        )\n",
              "        (point_wise): ConvBNAct(\n",
              "          (0): Conv2d(768, 160, kernel_size=(1, 1), stride=(1, 1), bias=False)\n",
              "          (1): BatchNorm2d(160, eps=1e-05, momentum=0.1, affine=True, track_running_stats=True)\n",
              "          (2): Identity()\n",
              "        )\n",
              "      )\n",
              "      (stochastic_path): StochasticDepth()\n",
              "    )\n",
              "    (17): MBConv(\n",
              "      (block): Sequential(\n",
              "        (linear_bottleneck): ConvBNAct(\n",
              "          (0): Conv2d(160, 960, kernel_size=(1, 1), stride=(1, 1), bias=False)\n",
              "          (1): BatchNorm2d(960, eps=1e-05, momentum=0.1, affine=True, track_running_stats=True)\n",
              "          (2): SiLU()\n",
              "        )\n",
              "        (depth_wise): ConvBNAct(\n",
              "          (0): Conv2d(960, 960, kernel_size=(3, 3), stride=(1, 1), padding=(1, 1), groups=960, bias=False)\n",
              "          (1): BatchNorm2d(960, eps=1e-05, momentum=0.1, affine=True, track_running_stats=True)\n",
              "          (2): SiLU()\n",
              "        )\n",
              "        (se): SEUnit(\n",
              "          (avg_pool): AdaptiveAvgPool2d(output_size=(1, 1))\n",
              "          (fc1): Conv2d(960, 40, kernel_size=(1, 1), stride=(1, 1))\n",
              "          (fc2): Conv2d(40, 960, kernel_size=(1, 1), stride=(1, 1))\n",
              "          (act1): SiLU(inplace=True)\n",
              "          (act2): Sigmoid()\n",
              "        )\n",
              "        (point_wise): ConvBNAct(\n",
              "          (0): Conv2d(960, 160, kernel_size=(1, 1), stride=(1, 1), bias=False)\n",
              "          (1): BatchNorm2d(160, eps=1e-05, momentum=0.1, affine=True, track_running_stats=True)\n",
              "          (2): Identity()\n",
              "        )\n",
              "      )\n",
              "      (stochastic_path): StochasticDepth()\n",
              "    )\n",
              "    (18): MBConv(\n",
              "      (block): Sequential(\n",
              "        (linear_bottleneck): ConvBNAct(\n",
              "          (0): Conv2d(160, 960, kernel_size=(1, 1), stride=(1, 1), bias=False)\n",
              "          (1): BatchNorm2d(960, eps=1e-05, momentum=0.1, affine=True, track_running_stats=True)\n",
              "          (2): SiLU()\n",
              "        )\n",
              "        (depth_wise): ConvBNAct(\n",
              "          (0): Conv2d(960, 960, kernel_size=(3, 3), stride=(1, 1), padding=(1, 1), groups=960, bias=False)\n",
              "          (1): BatchNorm2d(960, eps=1e-05, momentum=0.1, affine=True, track_running_stats=True)\n",
              "          (2): SiLU()\n",
              "        )\n",
              "        (se): SEUnit(\n",
              "          (avg_pool): AdaptiveAvgPool2d(output_size=(1, 1))\n",
              "          (fc1): Conv2d(960, 40, kernel_size=(1, 1), stride=(1, 1))\n",
              "          (fc2): Conv2d(40, 960, kernel_size=(1, 1), stride=(1, 1))\n",
              "          (act1): SiLU(inplace=True)\n",
              "          (act2): Sigmoid()\n",
              "        )\n",
              "        (point_wise): ConvBNAct(\n",
              "          (0): Conv2d(960, 160, kernel_size=(1, 1), stride=(1, 1), bias=False)\n",
              "          (1): BatchNorm2d(160, eps=1e-05, momentum=0.1, affine=True, track_running_stats=True)\n",
              "          (2): Identity()\n",
              "        )\n",
              "      )\n",
              "      (stochastic_path): StochasticDepth()\n",
              "    )\n",
              "    (19): MBConv(\n",
              "      (block): Sequential(\n",
              "        (linear_bottleneck): ConvBNAct(\n",
              "          (0): Conv2d(160, 960, kernel_size=(1, 1), stride=(1, 1), bias=False)\n",
              "          (1): BatchNorm2d(960, eps=1e-05, momentum=0.1, affine=True, track_running_stats=True)\n",
              "          (2): SiLU()\n",
              "        )\n",
              "        (depth_wise): ConvBNAct(\n",
              "          (0): Conv2d(960, 960, kernel_size=(3, 3), stride=(1, 1), padding=(1, 1), groups=960, bias=False)\n",
              "          (1): BatchNorm2d(960, eps=1e-05, momentum=0.1, affine=True, track_running_stats=True)\n",
              "          (2): SiLU()\n",
              "        )\n",
              "        (se): SEUnit(\n",
              "          (avg_pool): AdaptiveAvgPool2d(output_size=(1, 1))\n",
              "          (fc1): Conv2d(960, 40, kernel_size=(1, 1), stride=(1, 1))\n",
              "          (fc2): Conv2d(40, 960, kernel_size=(1, 1), stride=(1, 1))\n",
              "          (act1): SiLU(inplace=True)\n",
              "          (act2): Sigmoid()\n",
              "        )\n",
              "        (point_wise): ConvBNAct(\n",
              "          (0): Conv2d(960, 160, kernel_size=(1, 1), stride=(1, 1), bias=False)\n",
              "          (1): BatchNorm2d(160, eps=1e-05, momentum=0.1, affine=True, track_running_stats=True)\n",
              "          (2): Identity()\n",
              "        )\n",
              "      )\n",
              "      (stochastic_path): StochasticDepth()\n",
              "    )\n",
              "    (20): MBConv(\n",
              "      (block): Sequential(\n",
              "        (linear_bottleneck): ConvBNAct(\n",
              "          (0): Conv2d(160, 960, kernel_size=(1, 1), stride=(1, 1), bias=False)\n",
              "          (1): BatchNorm2d(960, eps=1e-05, momentum=0.1, affine=True, track_running_stats=True)\n",
              "          (2): SiLU()\n",
              "        )\n",
              "        (depth_wise): ConvBNAct(\n",
              "          (0): Conv2d(960, 960, kernel_size=(3, 3), stride=(1, 1), padding=(1, 1), groups=960, bias=False)\n",
              "          (1): BatchNorm2d(960, eps=1e-05, momentum=0.1, affine=True, track_running_stats=True)\n",
              "          (2): SiLU()\n",
              "        )\n",
              "        (se): SEUnit(\n",
              "          (avg_pool): AdaptiveAvgPool2d(output_size=(1, 1))\n",
              "          (fc1): Conv2d(960, 40, kernel_size=(1, 1), stride=(1, 1))\n",
              "          (fc2): Conv2d(40, 960, kernel_size=(1, 1), stride=(1, 1))\n",
              "          (act1): SiLU(inplace=True)\n",
              "          (act2): Sigmoid()\n",
              "        )\n",
              "        (point_wise): ConvBNAct(\n",
              "          (0): Conv2d(960, 160, kernel_size=(1, 1), stride=(1, 1), bias=False)\n",
              "          (1): BatchNorm2d(160, eps=1e-05, momentum=0.1, affine=True, track_running_stats=True)\n",
              "          (2): Identity()\n",
              "        )\n",
              "      )\n",
              "      (stochastic_path): StochasticDepth()\n",
              "    )\n",
              "    (21): MBConv(\n",
              "      (block): Sequential(\n",
              "        (linear_bottleneck): ConvBNAct(\n",
              "          (0): Conv2d(160, 960, kernel_size=(1, 1), stride=(1, 1), bias=False)\n",
              "          (1): BatchNorm2d(960, eps=1e-05, momentum=0.1, affine=True, track_running_stats=True)\n",
              "          (2): SiLU()\n",
              "        )\n",
              "        (depth_wise): ConvBNAct(\n",
              "          (0): Conv2d(960, 960, kernel_size=(3, 3), stride=(1, 1), padding=(1, 1), groups=960, bias=False)\n",
              "          (1): BatchNorm2d(960, eps=1e-05, momentum=0.1, affine=True, track_running_stats=True)\n",
              "          (2): SiLU()\n",
              "        )\n",
              "        (se): SEUnit(\n",
              "          (avg_pool): AdaptiveAvgPool2d(output_size=(1, 1))\n",
              "          (fc1): Conv2d(960, 40, kernel_size=(1, 1), stride=(1, 1))\n",
              "          (fc2): Conv2d(40, 960, kernel_size=(1, 1), stride=(1, 1))\n",
              "          (act1): SiLU(inplace=True)\n",
              "          (act2): Sigmoid()\n",
              "        )\n",
              "        (point_wise): ConvBNAct(\n",
              "          (0): Conv2d(960, 160, kernel_size=(1, 1), stride=(1, 1), bias=False)\n",
              "          (1): BatchNorm2d(160, eps=1e-05, momentum=0.1, affine=True, track_running_stats=True)\n",
              "          (2): Identity()\n",
              "        )\n",
              "      )\n",
              "      (stochastic_path): StochasticDepth()\n",
              "    )\n",
              "    (22): MBConv(\n",
              "      (block): Sequential(\n",
              "        (linear_bottleneck): ConvBNAct(\n",
              "          (0): Conv2d(160, 960, kernel_size=(1, 1), stride=(1, 1), bias=False)\n",
              "          (1): BatchNorm2d(960, eps=1e-05, momentum=0.1, affine=True, track_running_stats=True)\n",
              "          (2): SiLU()\n",
              "        )\n",
              "        (depth_wise): ConvBNAct(\n",
              "          (0): Conv2d(960, 960, kernel_size=(3, 3), stride=(1, 1), padding=(1, 1), groups=960, bias=False)\n",
              "          (1): BatchNorm2d(960, eps=1e-05, momentum=0.1, affine=True, track_running_stats=True)\n",
              "          (2): SiLU()\n",
              "        )\n",
              "        (se): SEUnit(\n",
              "          (avg_pool): AdaptiveAvgPool2d(output_size=(1, 1))\n",
              "          (fc1): Conv2d(960, 40, kernel_size=(1, 1), stride=(1, 1))\n",
              "          (fc2): Conv2d(40, 960, kernel_size=(1, 1), stride=(1, 1))\n",
              "          (act1): SiLU(inplace=True)\n",
              "          (act2): Sigmoid()\n",
              "        )\n",
              "        (point_wise): ConvBNAct(\n",
              "          (0): Conv2d(960, 160, kernel_size=(1, 1), stride=(1, 1), bias=False)\n",
              "          (1): BatchNorm2d(160, eps=1e-05, momentum=0.1, affine=True, track_running_stats=True)\n",
              "          (2): Identity()\n",
              "        )\n",
              "      )\n",
              "      (stochastic_path): StochasticDepth()\n",
              "    )\n",
              "    (23): MBConv(\n",
              "      (block): Sequential(\n",
              "        (linear_bottleneck): ConvBNAct(\n",
              "          (0): Conv2d(160, 960, kernel_size=(1, 1), stride=(1, 1), bias=False)\n",
              "          (1): BatchNorm2d(960, eps=1e-05, momentum=0.1, affine=True, track_running_stats=True)\n",
              "          (2): SiLU()\n",
              "        )\n",
              "        (depth_wise): ConvBNAct(\n",
              "          (0): Conv2d(960, 960, kernel_size=(3, 3), stride=(1, 1), padding=(1, 1), groups=960, bias=False)\n",
              "          (1): BatchNorm2d(960, eps=1e-05, momentum=0.1, affine=True, track_running_stats=True)\n",
              "          (2): SiLU()\n",
              "        )\n",
              "        (se): SEUnit(\n",
              "          (avg_pool): AdaptiveAvgPool2d(output_size=(1, 1))\n",
              "          (fc1): Conv2d(960, 40, kernel_size=(1, 1), stride=(1, 1))\n",
              "          (fc2): Conv2d(40, 960, kernel_size=(1, 1), stride=(1, 1))\n",
              "          (act1): SiLU(inplace=True)\n",
              "          (act2): Sigmoid()\n",
              "        )\n",
              "        (point_wise): ConvBNAct(\n",
              "          (0): Conv2d(960, 160, kernel_size=(1, 1), stride=(1, 1), bias=False)\n",
              "          (1): BatchNorm2d(160, eps=1e-05, momentum=0.1, affine=True, track_running_stats=True)\n",
              "          (2): Identity()\n",
              "        )\n",
              "      )\n",
              "      (stochastic_path): StochasticDepth()\n",
              "    )\n",
              "    (24): MBConv(\n",
              "      (block): Sequential(\n",
              "        (linear_bottleneck): ConvBNAct(\n",
              "          (0): Conv2d(160, 960, kernel_size=(1, 1), stride=(1, 1), bias=False)\n",
              "          (1): BatchNorm2d(960, eps=1e-05, momentum=0.1, affine=True, track_running_stats=True)\n",
              "          (2): SiLU()\n",
              "        )\n",
              "        (depth_wise): ConvBNAct(\n",
              "          (0): Conv2d(960, 960, kernel_size=(3, 3), stride=(1, 1), padding=(1, 1), groups=960, bias=False)\n",
              "          (1): BatchNorm2d(960, eps=1e-05, momentum=0.1, affine=True, track_running_stats=True)\n",
              "          (2): SiLU()\n",
              "        )\n",
              "        (se): SEUnit(\n",
              "          (avg_pool): AdaptiveAvgPool2d(output_size=(1, 1))\n",
              "          (fc1): Conv2d(960, 40, kernel_size=(1, 1), stride=(1, 1))\n",
              "          (fc2): Conv2d(40, 960, kernel_size=(1, 1), stride=(1, 1))\n",
              "          (act1): SiLU(inplace=True)\n",
              "          (act2): Sigmoid()\n",
              "        )\n",
              "        (point_wise): ConvBNAct(\n",
              "          (0): Conv2d(960, 160, kernel_size=(1, 1), stride=(1, 1), bias=False)\n",
              "          (1): BatchNorm2d(160, eps=1e-05, momentum=0.1, affine=True, track_running_stats=True)\n",
              "          (2): Identity()\n",
              "        )\n",
              "      )\n",
              "      (stochastic_path): StochasticDepth()\n",
              "    )\n",
              "    (25): MBConv(\n",
              "      (block): Sequential(\n",
              "        (linear_bottleneck): ConvBNAct(\n",
              "          (0): Conv2d(160, 960, kernel_size=(1, 1), stride=(1, 1), bias=False)\n",
              "          (1): BatchNorm2d(960, eps=1e-05, momentum=0.1, affine=True, track_running_stats=True)\n",
              "          (2): SiLU()\n",
              "        )\n",
              "        (depth_wise): ConvBNAct(\n",
              "          (0): Conv2d(960, 960, kernel_size=(3, 3), stride=(2, 2), padding=(1, 1), groups=960, bias=False)\n",
              "          (1): BatchNorm2d(960, eps=1e-05, momentum=0.1, affine=True, track_running_stats=True)\n",
              "          (2): SiLU()\n",
              "        )\n",
              "        (se): SEUnit(\n",
              "          (avg_pool): AdaptiveAvgPool2d(output_size=(1, 1))\n",
              "          (fc1): Conv2d(960, 40, kernel_size=(1, 1), stride=(1, 1))\n",
              "          (fc2): Conv2d(40, 960, kernel_size=(1, 1), stride=(1, 1))\n",
              "          (act1): SiLU(inplace=True)\n",
              "          (act2): Sigmoid()\n",
              "        )\n",
              "        (point_wise): ConvBNAct(\n",
              "          (0): Conv2d(960, 256, kernel_size=(1, 1), stride=(1, 1), bias=False)\n",
              "          (1): BatchNorm2d(256, eps=1e-05, momentum=0.1, affine=True, track_running_stats=True)\n",
              "          (2): Identity()\n",
              "        )\n",
              "      )\n",
              "      (stochastic_path): StochasticDepth()\n",
              "    )\n",
              "    (26): MBConv(\n",
              "      (block): Sequential(\n",
              "        (linear_bottleneck): ConvBNAct(\n",
              "          (0): Conv2d(256, 1536, kernel_size=(1, 1), stride=(1, 1), bias=False)\n",
              "          (1): BatchNorm2d(1536, eps=1e-05, momentum=0.1, affine=True, track_running_stats=True)\n",
              "          (2): SiLU()\n",
              "        )\n",
              "        (depth_wise): ConvBNAct(\n",
              "          (0): Conv2d(1536, 1536, kernel_size=(3, 3), stride=(1, 1), padding=(1, 1), groups=1536, bias=False)\n",
              "          (1): BatchNorm2d(1536, eps=1e-05, momentum=0.1, affine=True, track_running_stats=True)\n",
              "          (2): SiLU()\n",
              "        )\n",
              "        (se): SEUnit(\n",
              "          (avg_pool): AdaptiveAvgPool2d(output_size=(1, 1))\n",
              "          (fc1): Conv2d(1536, 64, kernel_size=(1, 1), stride=(1, 1))\n",
              "          (fc2): Conv2d(64, 1536, kernel_size=(1, 1), stride=(1, 1))\n",
              "          (act1): SiLU(inplace=True)\n",
              "          (act2): Sigmoid()\n",
              "        )\n",
              "        (point_wise): ConvBNAct(\n",
              "          (0): Conv2d(1536, 256, kernel_size=(1, 1), stride=(1, 1), bias=False)\n",
              "          (1): BatchNorm2d(256, eps=1e-05, momentum=0.1, affine=True, track_running_stats=True)\n",
              "          (2): Identity()\n",
              "        )\n",
              "      )\n",
              "      (stochastic_path): StochasticDepth()\n",
              "    )\n",
              "    (27): MBConv(\n",
              "      (block): Sequential(\n",
              "        (linear_bottleneck): ConvBNAct(\n",
              "          (0): Conv2d(256, 1536, kernel_size=(1, 1), stride=(1, 1), bias=False)\n",
              "          (1): BatchNorm2d(1536, eps=1e-05, momentum=0.1, affine=True, track_running_stats=True)\n",
              "          (2): SiLU()\n",
              "        )\n",
              "        (depth_wise): ConvBNAct(\n",
              "          (0): Conv2d(1536, 1536, kernel_size=(3, 3), stride=(1, 1), padding=(1, 1), groups=1536, bias=False)\n",
              "          (1): BatchNorm2d(1536, eps=1e-05, momentum=0.1, affine=True, track_running_stats=True)\n",
              "          (2): SiLU()\n",
              "        )\n",
              "        (se): SEUnit(\n",
              "          (avg_pool): AdaptiveAvgPool2d(output_size=(1, 1))\n",
              "          (fc1): Conv2d(1536, 64, kernel_size=(1, 1), stride=(1, 1))\n",
              "          (fc2): Conv2d(64, 1536, kernel_size=(1, 1), stride=(1, 1))\n",
              "          (act1): SiLU(inplace=True)\n",
              "          (act2): Sigmoid()\n",
              "        )\n",
              "        (point_wise): ConvBNAct(\n",
              "          (0): Conv2d(1536, 256, kernel_size=(1, 1), stride=(1, 1), bias=False)\n",
              "          (1): BatchNorm2d(256, eps=1e-05, momentum=0.1, affine=True, track_running_stats=True)\n",
              "          (2): Identity()\n",
              "        )\n",
              "      )\n",
              "      (stochastic_path): StochasticDepth()\n",
              "    )\n",
              "    (28): MBConv(\n",
              "      (block): Sequential(\n",
              "        (linear_bottleneck): ConvBNAct(\n",
              "          (0): Conv2d(256, 1536, kernel_size=(1, 1), stride=(1, 1), bias=False)\n",
              "          (1): BatchNorm2d(1536, eps=1e-05, momentum=0.1, affine=True, track_running_stats=True)\n",
              "          (2): SiLU()\n",
              "        )\n",
              "        (depth_wise): ConvBNAct(\n",
              "          (0): Conv2d(1536, 1536, kernel_size=(3, 3), stride=(1, 1), padding=(1, 1), groups=1536, bias=False)\n",
              "          (1): BatchNorm2d(1536, eps=1e-05, momentum=0.1, affine=True, track_running_stats=True)\n",
              "          (2): SiLU()\n",
              "        )\n",
              "        (se): SEUnit(\n",
              "          (avg_pool): AdaptiveAvgPool2d(output_size=(1, 1))\n",
              "          (fc1): Conv2d(1536, 64, kernel_size=(1, 1), stride=(1, 1))\n",
              "          (fc2): Conv2d(64, 1536, kernel_size=(1, 1), stride=(1, 1))\n",
              "          (act1): SiLU(inplace=True)\n",
              "          (act2): Sigmoid()\n",
              "        )\n",
              "        (point_wise): ConvBNAct(\n",
              "          (0): Conv2d(1536, 256, kernel_size=(1, 1), stride=(1, 1), bias=False)\n",
              "          (1): BatchNorm2d(256, eps=1e-05, momentum=0.1, affine=True, track_running_stats=True)\n",
              "          (2): Identity()\n",
              "        )\n",
              "      )\n",
              "      (stochastic_path): StochasticDepth()\n",
              "    )\n",
              "    (29): MBConv(\n",
              "      (block): Sequential(\n",
              "        (linear_bottleneck): ConvBNAct(\n",
              "          (0): Conv2d(256, 1536, kernel_size=(1, 1), stride=(1, 1), bias=False)\n",
              "          (1): BatchNorm2d(1536, eps=1e-05, momentum=0.1, affine=True, track_running_stats=True)\n",
              "          (2): SiLU()\n",
              "        )\n",
              "        (depth_wise): ConvBNAct(\n",
              "          (0): Conv2d(1536, 1536, kernel_size=(3, 3), stride=(1, 1), padding=(1, 1), groups=1536, bias=False)\n",
              "          (1): BatchNorm2d(1536, eps=1e-05, momentum=0.1, affine=True, track_running_stats=True)\n",
              "          (2): SiLU()\n",
              "        )\n",
              "        (se): SEUnit(\n",
              "          (avg_pool): AdaptiveAvgPool2d(output_size=(1, 1))\n",
              "          (fc1): Conv2d(1536, 64, kernel_size=(1, 1), stride=(1, 1))\n",
              "          (fc2): Conv2d(64, 1536, kernel_size=(1, 1), stride=(1, 1))\n",
              "          (act1): SiLU(inplace=True)\n",
              "          (act2): Sigmoid()\n",
              "        )\n",
              "        (point_wise): ConvBNAct(\n",
              "          (0): Conv2d(1536, 256, kernel_size=(1, 1), stride=(1, 1), bias=False)\n",
              "          (1): BatchNorm2d(256, eps=1e-05, momentum=0.1, affine=True, track_running_stats=True)\n",
              "          (2): Identity()\n",
              "        )\n",
              "      )\n",
              "      (stochastic_path): StochasticDepth()\n",
              "    )\n",
              "    (30): MBConv(\n",
              "      (block): Sequential(\n",
              "        (linear_bottleneck): ConvBNAct(\n",
              "          (0): Conv2d(256, 1536, kernel_size=(1, 1), stride=(1, 1), bias=False)\n",
              "          (1): BatchNorm2d(1536, eps=1e-05, momentum=0.1, affine=True, track_running_stats=True)\n",
              "          (2): SiLU()\n",
              "        )\n",
              "        (depth_wise): ConvBNAct(\n",
              "          (0): Conv2d(1536, 1536, kernel_size=(3, 3), stride=(1, 1), padding=(1, 1), groups=1536, bias=False)\n",
              "          (1): BatchNorm2d(1536, eps=1e-05, momentum=0.1, affine=True, track_running_stats=True)\n",
              "          (2): SiLU()\n",
              "        )\n",
              "        (se): SEUnit(\n",
              "          (avg_pool): AdaptiveAvgPool2d(output_size=(1, 1))\n",
              "          (fc1): Conv2d(1536, 64, kernel_size=(1, 1), stride=(1, 1))\n",
              "          (fc2): Conv2d(64, 1536, kernel_size=(1, 1), stride=(1, 1))\n",
              "          (act1): SiLU(inplace=True)\n",
              "          (act2): Sigmoid()\n",
              "        )\n",
              "        (point_wise): ConvBNAct(\n",
              "          (0): Conv2d(1536, 256, kernel_size=(1, 1), stride=(1, 1), bias=False)\n",
              "          (1): BatchNorm2d(256, eps=1e-05, momentum=0.1, affine=True, track_running_stats=True)\n",
              "          (2): Identity()\n",
              "        )\n",
              "      )\n",
              "      (stochastic_path): StochasticDepth()\n",
              "    )\n",
              "    (31): MBConv(\n",
              "      (block): Sequential(\n",
              "        (linear_bottleneck): ConvBNAct(\n",
              "          (0): Conv2d(256, 1536, kernel_size=(1, 1), stride=(1, 1), bias=False)\n",
              "          (1): BatchNorm2d(1536, eps=1e-05, momentum=0.1, affine=True, track_running_stats=True)\n",
              "          (2): SiLU()\n",
              "        )\n",
              "        (depth_wise): ConvBNAct(\n",
              "          (0): Conv2d(1536, 1536, kernel_size=(3, 3), stride=(1, 1), padding=(1, 1), groups=1536, bias=False)\n",
              "          (1): BatchNorm2d(1536, eps=1e-05, momentum=0.1, affine=True, track_running_stats=True)\n",
              "          (2): SiLU()\n",
              "        )\n",
              "        (se): SEUnit(\n",
              "          (avg_pool): AdaptiveAvgPool2d(output_size=(1, 1))\n",
              "          (fc1): Conv2d(1536, 64, kernel_size=(1, 1), stride=(1, 1))\n",
              "          (fc2): Conv2d(64, 1536, kernel_size=(1, 1), stride=(1, 1))\n",
              "          (act1): SiLU(inplace=True)\n",
              "          (act2): Sigmoid()\n",
              "        )\n",
              "        (point_wise): ConvBNAct(\n",
              "          (0): Conv2d(1536, 256, kernel_size=(1, 1), stride=(1, 1), bias=False)\n",
              "          (1): BatchNorm2d(256, eps=1e-05, momentum=0.1, affine=True, track_running_stats=True)\n",
              "          (2): Identity()\n",
              "        )\n",
              "      )\n",
              "      (stochastic_path): StochasticDepth()\n",
              "    )\n",
              "    (32): MBConv(\n",
              "      (block): Sequential(\n",
              "        (linear_bottleneck): ConvBNAct(\n",
              "          (0): Conv2d(256, 1536, kernel_size=(1, 1), stride=(1, 1), bias=False)\n",
              "          (1): BatchNorm2d(1536, eps=1e-05, momentum=0.1, affine=True, track_running_stats=True)\n",
              "          (2): SiLU()\n",
              "        )\n",
              "        (depth_wise): ConvBNAct(\n",
              "          (0): Conv2d(1536, 1536, kernel_size=(3, 3), stride=(1, 1), padding=(1, 1), groups=1536, bias=False)\n",
              "          (1): BatchNorm2d(1536, eps=1e-05, momentum=0.1, affine=True, track_running_stats=True)\n",
              "          (2): SiLU()\n",
              "        )\n",
              "        (se): SEUnit(\n",
              "          (avg_pool): AdaptiveAvgPool2d(output_size=(1, 1))\n",
              "          (fc1): Conv2d(1536, 64, kernel_size=(1, 1), stride=(1, 1))\n",
              "          (fc2): Conv2d(64, 1536, kernel_size=(1, 1), stride=(1, 1))\n",
              "          (act1): SiLU(inplace=True)\n",
              "          (act2): Sigmoid()\n",
              "        )\n",
              "        (point_wise): ConvBNAct(\n",
              "          (0): Conv2d(1536, 256, kernel_size=(1, 1), stride=(1, 1), bias=False)\n",
              "          (1): BatchNorm2d(256, eps=1e-05, momentum=0.1, affine=True, track_running_stats=True)\n",
              "          (2): Identity()\n",
              "        )\n",
              "      )\n",
              "      (stochastic_path): StochasticDepth()\n",
              "    )\n",
              "    (33): MBConv(\n",
              "      (block): Sequential(\n",
              "        (linear_bottleneck): ConvBNAct(\n",
              "          (0): Conv2d(256, 1536, kernel_size=(1, 1), stride=(1, 1), bias=False)\n",
              "          (1): BatchNorm2d(1536, eps=1e-05, momentum=0.1, affine=True, track_running_stats=True)\n",
              "          (2): SiLU()\n",
              "        )\n",
              "        (depth_wise): ConvBNAct(\n",
              "          (0): Conv2d(1536, 1536, kernel_size=(3, 3), stride=(1, 1), padding=(1, 1), groups=1536, bias=False)\n",
              "          (1): BatchNorm2d(1536, eps=1e-05, momentum=0.1, affine=True, track_running_stats=True)\n",
              "          (2): SiLU()\n",
              "        )\n",
              "        (se): SEUnit(\n",
              "          (avg_pool): AdaptiveAvgPool2d(output_size=(1, 1))\n",
              "          (fc1): Conv2d(1536, 64, kernel_size=(1, 1), stride=(1, 1))\n",
              "          (fc2): Conv2d(64, 1536, kernel_size=(1, 1), stride=(1, 1))\n",
              "          (act1): SiLU(inplace=True)\n",
              "          (act2): Sigmoid()\n",
              "        )\n",
              "        (point_wise): ConvBNAct(\n",
              "          (0): Conv2d(1536, 256, kernel_size=(1, 1), stride=(1, 1), bias=False)\n",
              "          (1): BatchNorm2d(256, eps=1e-05, momentum=0.1, affine=True, track_running_stats=True)\n",
              "          (2): Identity()\n",
              "        )\n",
              "      )\n",
              "      (stochastic_path): StochasticDepth()\n",
              "    )\n",
              "    (34): MBConv(\n",
              "      (block): Sequential(\n",
              "        (linear_bottleneck): ConvBNAct(\n",
              "          (0): Conv2d(256, 1536, kernel_size=(1, 1), stride=(1, 1), bias=False)\n",
              "          (1): BatchNorm2d(1536, eps=1e-05, momentum=0.1, affine=True, track_running_stats=True)\n",
              "          (2): SiLU()\n",
              "        )\n",
              "        (depth_wise): ConvBNAct(\n",
              "          (0): Conv2d(1536, 1536, kernel_size=(3, 3), stride=(1, 1), padding=(1, 1), groups=1536, bias=False)\n",
              "          (1): BatchNorm2d(1536, eps=1e-05, momentum=0.1, affine=True, track_running_stats=True)\n",
              "          (2): SiLU()\n",
              "        )\n",
              "        (se): SEUnit(\n",
              "          (avg_pool): AdaptiveAvgPool2d(output_size=(1, 1))\n",
              "          (fc1): Conv2d(1536, 64, kernel_size=(1, 1), stride=(1, 1))\n",
              "          (fc2): Conv2d(64, 1536, kernel_size=(1, 1), stride=(1, 1))\n",
              "          (act1): SiLU(inplace=True)\n",
              "          (act2): Sigmoid()\n",
              "        )\n",
              "        (point_wise): ConvBNAct(\n",
              "          (0): Conv2d(1536, 256, kernel_size=(1, 1), stride=(1, 1), bias=False)\n",
              "          (1): BatchNorm2d(256, eps=1e-05, momentum=0.1, affine=True, track_running_stats=True)\n",
              "          (2): Identity()\n",
              "        )\n",
              "      )\n",
              "      (stochastic_path): StochasticDepth()\n",
              "    )\n",
              "    (35): MBConv(\n",
              "      (block): Sequential(\n",
              "        (linear_bottleneck): ConvBNAct(\n",
              "          (0): Conv2d(256, 1536, kernel_size=(1, 1), stride=(1, 1), bias=False)\n",
              "          (1): BatchNorm2d(1536, eps=1e-05, momentum=0.1, affine=True, track_running_stats=True)\n",
              "          (2): SiLU()\n",
              "        )\n",
              "        (depth_wise): ConvBNAct(\n",
              "          (0): Conv2d(1536, 1536, kernel_size=(3, 3), stride=(1, 1), padding=(1, 1), groups=1536, bias=False)\n",
              "          (1): BatchNorm2d(1536, eps=1e-05, momentum=0.1, affine=True, track_running_stats=True)\n",
              "          (2): SiLU()\n",
              "        )\n",
              "        (se): SEUnit(\n",
              "          (avg_pool): AdaptiveAvgPool2d(output_size=(1, 1))\n",
              "          (fc1): Conv2d(1536, 64, kernel_size=(1, 1), stride=(1, 1))\n",
              "          (fc2): Conv2d(64, 1536, kernel_size=(1, 1), stride=(1, 1))\n",
              "          (act1): SiLU(inplace=True)\n",
              "          (act2): Sigmoid()\n",
              "        )\n",
              "        (point_wise): ConvBNAct(\n",
              "          (0): Conv2d(1536, 256, kernel_size=(1, 1), stride=(1, 1), bias=False)\n",
              "          (1): BatchNorm2d(256, eps=1e-05, momentum=0.1, affine=True, track_running_stats=True)\n",
              "          (2): Identity()\n",
              "        )\n",
              "      )\n",
              "      (stochastic_path): StochasticDepth()\n",
              "    )\n",
              "    (36): MBConv(\n",
              "      (block): Sequential(\n",
              "        (linear_bottleneck): ConvBNAct(\n",
              "          (0): Conv2d(256, 1536, kernel_size=(1, 1), stride=(1, 1), bias=False)\n",
              "          (1): BatchNorm2d(1536, eps=1e-05, momentum=0.1, affine=True, track_running_stats=True)\n",
              "          (2): SiLU()\n",
              "        )\n",
              "        (depth_wise): ConvBNAct(\n",
              "          (0): Conv2d(1536, 1536, kernel_size=(3, 3), stride=(1, 1), padding=(1, 1), groups=1536, bias=False)\n",
              "          (1): BatchNorm2d(1536, eps=1e-05, momentum=0.1, affine=True, track_running_stats=True)\n",
              "          (2): SiLU()\n",
              "        )\n",
              "        (se): SEUnit(\n",
              "          (avg_pool): AdaptiveAvgPool2d(output_size=(1, 1))\n",
              "          (fc1): Conv2d(1536, 64, kernel_size=(1, 1), stride=(1, 1))\n",
              "          (fc2): Conv2d(64, 1536, kernel_size=(1, 1), stride=(1, 1))\n",
              "          (act1): SiLU(inplace=True)\n",
              "          (act2): Sigmoid()\n",
              "        )\n",
              "        (point_wise): ConvBNAct(\n",
              "          (0): Conv2d(1536, 256, kernel_size=(1, 1), stride=(1, 1), bias=False)\n",
              "          (1): BatchNorm2d(256, eps=1e-05, momentum=0.1, affine=True, track_running_stats=True)\n",
              "          (2): Identity()\n",
              "        )\n",
              "      )\n",
              "      (stochastic_path): StochasticDepth()\n",
              "    )\n",
              "    (37): MBConv(\n",
              "      (block): Sequential(\n",
              "        (linear_bottleneck): ConvBNAct(\n",
              "          (0): Conv2d(256, 1536, kernel_size=(1, 1), stride=(1, 1), bias=False)\n",
              "          (1): BatchNorm2d(1536, eps=1e-05, momentum=0.1, affine=True, track_running_stats=True)\n",
              "          (2): SiLU()\n",
              "        )\n",
              "        (depth_wise): ConvBNAct(\n",
              "          (0): Conv2d(1536, 1536, kernel_size=(3, 3), stride=(1, 1), padding=(1, 1), groups=1536, bias=False)\n",
              "          (1): BatchNorm2d(1536, eps=1e-05, momentum=0.1, affine=True, track_running_stats=True)\n",
              "          (2): SiLU()\n",
              "        )\n",
              "        (se): SEUnit(\n",
              "          (avg_pool): AdaptiveAvgPool2d(output_size=(1, 1))\n",
              "          (fc1): Conv2d(1536, 64, kernel_size=(1, 1), stride=(1, 1))\n",
              "          (fc2): Conv2d(64, 1536, kernel_size=(1, 1), stride=(1, 1))\n",
              "          (act1): SiLU(inplace=True)\n",
              "          (act2): Sigmoid()\n",
              "        )\n",
              "        (point_wise): ConvBNAct(\n",
              "          (0): Conv2d(1536, 256, kernel_size=(1, 1), stride=(1, 1), bias=False)\n",
              "          (1): BatchNorm2d(256, eps=1e-05, momentum=0.1, affine=True, track_running_stats=True)\n",
              "          (2): Identity()\n",
              "        )\n",
              "      )\n",
              "      (stochastic_path): StochasticDepth()\n",
              "    )\n",
              "    (38): MBConv(\n",
              "      (block): Sequential(\n",
              "        (linear_bottleneck): ConvBNAct(\n",
              "          (0): Conv2d(256, 1536, kernel_size=(1, 1), stride=(1, 1), bias=False)\n",
              "          (1): BatchNorm2d(1536, eps=1e-05, momentum=0.1, affine=True, track_running_stats=True)\n",
              "          (2): SiLU()\n",
              "        )\n",
              "        (depth_wise): ConvBNAct(\n",
              "          (0): Conv2d(1536, 1536, kernel_size=(3, 3), stride=(1, 1), padding=(1, 1), groups=1536, bias=False)\n",
              "          (1): BatchNorm2d(1536, eps=1e-05, momentum=0.1, affine=True, track_running_stats=True)\n",
              "          (2): SiLU()\n",
              "        )\n",
              "        (se): SEUnit(\n",
              "          (avg_pool): AdaptiveAvgPool2d(output_size=(1, 1))\n",
              "          (fc1): Conv2d(1536, 64, kernel_size=(1, 1), stride=(1, 1))\n",
              "          (fc2): Conv2d(64, 1536, kernel_size=(1, 1), stride=(1, 1))\n",
              "          (act1): SiLU(inplace=True)\n",
              "          (act2): Sigmoid()\n",
              "        )\n",
              "        (point_wise): ConvBNAct(\n",
              "          (0): Conv2d(1536, 256, kernel_size=(1, 1), stride=(1, 1), bias=False)\n",
              "          (1): BatchNorm2d(256, eps=1e-05, momentum=0.1, affine=True, track_running_stats=True)\n",
              "          (2): Identity()\n",
              "        )\n",
              "      )\n",
              "      (stochastic_path): StochasticDepth()\n",
              "    )\n",
              "    (39): MBConv(\n",
              "      (block): Sequential(\n",
              "        (linear_bottleneck): ConvBNAct(\n",
              "          (0): Conv2d(256, 1536, kernel_size=(1, 1), stride=(1, 1), bias=False)\n",
              "          (1): BatchNorm2d(1536, eps=1e-05, momentum=0.1, affine=True, track_running_stats=True)\n",
              "          (2): SiLU()\n",
              "        )\n",
              "        (depth_wise): ConvBNAct(\n",
              "          (0): Conv2d(1536, 1536, kernel_size=(3, 3), stride=(1, 1), padding=(1, 1), groups=1536, bias=False)\n",
              "          (1): BatchNorm2d(1536, eps=1e-05, momentum=0.1, affine=True, track_running_stats=True)\n",
              "          (2): SiLU()\n",
              "        )\n",
              "        (se): SEUnit(\n",
              "          (avg_pool): AdaptiveAvgPool2d(output_size=(1, 1))\n",
              "          (fc1): Conv2d(1536, 64, kernel_size=(1, 1), stride=(1, 1))\n",
              "          (fc2): Conv2d(64, 1536, kernel_size=(1, 1), stride=(1, 1))\n",
              "          (act1): SiLU(inplace=True)\n",
              "          (act2): Sigmoid()\n",
              "        )\n",
              "        (point_wise): ConvBNAct(\n",
              "          (0): Conv2d(1536, 256, kernel_size=(1, 1), stride=(1, 1), bias=False)\n",
              "          (1): BatchNorm2d(256, eps=1e-05, momentum=0.1, affine=True, track_running_stats=True)\n",
              "          (2): Identity()\n",
              "        )\n",
              "      )\n",
              "      (stochastic_path): StochasticDepth()\n",
              "    )\n",
              "  )\n",
              "  (head): Sequential(\n",
              "    (bottleneck): ConvBNAct(\n",
              "      (0): Conv2d(256, 1280, kernel_size=(1, 1), stride=(1, 1), bias=False)\n",
              "      (1): BatchNorm2d(1280, eps=1e-05, momentum=0.1, affine=True, track_running_stats=True)\n",
              "      (2): SiLU()\n",
              "    )\n",
              "    (avgpool): AdaptiveAvgPool2d(output_size=(1, 1))\n",
              "    (flatten): Flatten(start_dim=1, end_dim=-1)\n",
              "    (dropout): Dropout(p=0.1, inplace=True)\n",
              "    (classifier): Linear(in_features=1280, out_features=10, bias=True)\n",
              "  )\n",
              ")"
            ]
          },
          "metadata": {},
          "execution_count": 52
        }
      ]
    },
    {
      "cell_type": "code",
      "source": [
        "correct = 0\n",
        "total = 0\n",
        "\n",
        "with torch.no_grad():\n",
        "    for data in tqdm(test_loader):\n",
        "        images, labels = data[0].to(device), data[1].to(device)\n",
        "        outputs = model(images)\n",
        "        _, predicted = torch.max(outputs, 1)\n",
        "        total += labels.size(0)\n",
        "        correct += (predicted == labels).sum().item()\n",
        "        \n",
        "print('Accuracy: %d %%' % (100 * correct / total))"
      ],
      "metadata": {
        "id": "k9iScxmuyudB",
        "colab": {
          "base_uri": "https://localhost:8080/"
        },
        "outputId": "1d6be06f-8000-4bec-9d06-b667754037c4"
      },
      "execution_count": 53,
      "outputs": [
        {
          "output_type": "stream",
          "name": "stderr",
          "text": [
            "100%|██████████| 32/32 [23:07<00:00, 43.35s/it]"
          ]
        },
        {
          "output_type": "stream",
          "name": "stdout",
          "text": [
            "Accuracy: 9 %\n"
          ]
        },
        {
          "output_type": "stream",
          "name": "stderr",
          "text": [
            "\n"
          ]
        }
      ]
    }
  ]
}